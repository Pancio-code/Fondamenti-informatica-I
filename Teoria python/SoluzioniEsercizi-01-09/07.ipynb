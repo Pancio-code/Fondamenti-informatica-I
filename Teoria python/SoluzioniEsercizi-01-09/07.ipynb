{
 "cells": [
  {
   "cell_type": "markdown",
   "metadata": {
    "slideshow": {
     "slide_type": "slide"
    }
   },
   "source": [
    "#### Autori: Domenico Lembo, Giuseppe Santucci and Marco Schaerf\n",
    "\n",
    "[Dipartimento di Ingegneria informatica, automatica e gestionale](https://www.diag.uniroma1.it)\n",
    "\n",
    "<img src=\"https://mirrors.creativecommons.org/presskit/buttons/88x31/png/by-nc-sa.eu.png\"\n",
    "     alt=\"License\"\n",
    "     style=\"float: left;\"\n",
    "     height=\"40\" width=\"100\" />\n",
    "This notebook is distributed with license Creative Commons *CC BY-NC-SA*"
   ]
  },
  {
   "cell_type": "markdown",
   "metadata": {},
   "source": [
    "### Soluzioni degli esercizi della sezione 07Break_e_Continue"
   ]
  },
  {
   "cell_type": "markdown",
   "metadata": {},
   "source": [
    "### Esercizio 1: \n",
    "Scrivete un programma (usando il break per efficienza) che legge in input una stringa s ed un numero intero n e stampa il primo carattere di s il cui codice Unicode sia un multiplo di n."
   ]
  },
  {
   "cell_type": "code",
   "execution_count": null,
   "metadata": {
    "scrolled": true
   },
   "outputs": [],
   "source": [
    "s = input('Inserisci una stringa: ')\n",
    "n = int(input('Inserisci un numero intero: '))\n",
    "\n",
    "for c in s:\n",
    "    if ord(c)%n == 0:\n",
    "        print(c,ord(c))\n",
    "        break\n",
    "if c==s[-1] and ord(c)%n != 0:\n",
    "    print('non ci sono in ', s, 'caratteri con codice Unicode multiplo di', n)"
   ]
  },
  {
   "cell_type": "markdown",
   "metadata": {},
   "source": [
    "### Esercizio 2:\n",
    "Scrivete un programma (usando il break) che legge in input due interi positivi calcola il loro massimo comun divisore e lo stampa a schermo."
   ]
  },
  {
   "cell_type": "code",
   "execution_count": null,
   "metadata": {
    "scrolled": true
   },
   "outputs": [],
   "source": [
    "m = int(input(\"Primo numero: \"))  \n",
    "n = int(input(\"Secondo numero: \"))\n",
    "if m < n :\n",
    "    start = m\n",
    "else :\n",
    "    start = n   \n",
    "for mcd in range(start,0,-1) :\n",
    "    if m % mcd == 0 and n % mcd == 0  :\n",
    "        break\n",
    "print (\"Il MCD di\", m, \"e\", n, \"e'\", mcd) "
   ]
  },
  {
   "cell_type": "markdown",
   "metadata": {},
   "source": [
    "### Esercizio 3:\n",
    "Scrivere un programma (usando il break ed il for) che legge in input una stringa e verifica se ci sia una doppia, cioè due lettere allfabetiche uguali consecutive. In caso positivo stampa 'SI', in caso negativo 'NO'"
   ]
  },
  {
   "cell_type": "code",
   "execution_count": null,
   "metadata": {},
   "outputs": [],
   "source": [
    "s = input('Inserisci la stringa da verificare: ')\n",
    "\n",
    "for i in range(len(s)-1):\n",
    "    if s[i].isalpha() and s[i] == s[i+1]:\n",
    "        print('SI')\n",
    "        break\n",
    "if s[i] != s[i+1]: #Vuol dire che sono arrivato in fondo senza trovare la doppia\n",
    "    print('NO')"
   ]
  }
 ],
 "metadata": {
  "kernelspec": {
   "display_name": "Python 3",
   "language": "python",
   "name": "python3"
  },
  "language_info": {
   "codemirror_mode": {
    "name": "ipython",
    "version": 3
   },
   "file_extension": ".py",
   "mimetype": "text/x-python",
   "name": "python",
   "nbconvert_exporter": "python",
   "pygments_lexer": "ipython3",
   "version": "3.7.4"
  }
 },
 "nbformat": 4,
 "nbformat_minor": 4
}
