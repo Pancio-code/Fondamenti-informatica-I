{
 "cells": [
  {
   "cell_type": "markdown",
   "metadata": {
    "slideshow": {
     "slide_type": "slide"
    }
   },
   "source": [
    "#### Autori: Domenico Lembo, Giuseppe Santucci and Marco Schaerf\n",
    "\n",
    "[Dipartimento di Ingegneria informatica, automatica e gestionale](https://www.diag.uniroma1.it)\n",
    "\n",
    "<img src=\"https://mirrors.creativecommons.org/presskit/buttons/88x31/png/by-nc-sa.eu.png\"\n",
    "     alt=\"License\"\n",
    "     style=\"float: left;\"\n",
    "     height=\"40\" width=\"100\" />\n",
    "This notebook is distributed with license Creative Commons *CC BY-NC-SA*"
   ]
  },
  {
   "cell_type": "markdown",
   "metadata": {},
   "source": [
    "### Soluzioni degli esercizi della sezione 06For"
   ]
  },
  {
   "cell_type": "markdown",
   "metadata": {},
   "source": [
    "### Esercizio 1: \n",
    "Scrivere un programma che la somma dei primi m termini della serie armonica, per un dato valore di m letto da input. Si ricorda che la serie armonica ha la seguente formula $\\displaystyle\\sum_{k}^m 1/k$"
   ]
  },
  {
   "cell_type": "code",
   "execution_count": null,
   "metadata": {
    "scrolled": true
   },
   "outputs": [],
   "source": [
    "m = int(input(\"Numero di termini della serie armonica: \"))\n",
    "serie = 0\n",
    "for k in range(1,m+1):\n",
    "    serie = serie + 1 / k \n",
    "print (\"Somma dei primi\", m, \" termini: \", serie)"
   ]
  },
  {
   "cell_type": "markdown",
   "metadata": {},
   "source": [
    "### Esercizio 2:\n",
    "Scrivere un programma Python che stampa a schermo la tabellina di un numero compreso fra 1 e 10 inserito in input dall'utente. Ad esempio, se il numero inserito è 4, il programma deve stampare\n",
    "\n",
    "4 x 1 = 4<br>\n",
    "4 x 2 = 8<br>\n",
    "4 x 3 = 12<br>\n",
    "..."
   ]
  },
  {
   "cell_type": "code",
   "execution_count": null,
   "metadata": {
    "scrolled": true
   },
   "outputs": [],
   "source": [
    "y = int(input(\"Introduci un intero da 1 a 10: \"))\n",
    "for cont in range(1,11):\n",
    "      print(y, \"x\", cont,\" = \", (cont)*y)"
   ]
  },
  {
   "cell_type": "markdown",
   "metadata": {},
   "source": [
    "### Esercizio 3:\n",
    "Scrivere un programma che calcoli il valore di un polinomio di grado qualsiasi, $a_nx^n + a_{n-1}x^{n−1} + . . . + a_1 x + a_0$, per un dato valore della variabile $x$. Il programma legge da tastiera il grado del polinomio, il valore di $x$, e i valori dei coefficienti, richiesti all'utente uno alla volta.\n",
    "\n",
    "*Suggerimento*: scrivere un ciclo che chiede un coefficiente alla volta a partire dal termine di grado inferiore ($a_0$) e calcola il risultato parziale del valore del polinomio, accumulandolo in una variabile (che viene incrementata ad ogni iterazione). "
   ]
  },
  {
   "cell_type": "code",
   "execution_count": null,
   "metadata": {},
   "outputs": [],
   "source": [
    "n = int(input(\"Grado del polinomio: \"))\n",
    "x = int(input(\"Valore della variabile: \"))\n",
    "polinomio = 0\n",
    "potenza_x = 1\n",
    "for k in range(n+1):\n",
    "    print (\"Inserire il coefficiente di grado \", k)\n",
    "    a = int(input())\n",
    "    polinomio = polinomio + a * potenza_x\n",
    "    potenza_x = potenza_x * x\n",
    "print (\"Il valore del polinomio è\", polinomio)"
   ]
  },
  {
   "cell_type": "markdown",
   "metadata": {},
   "source": [
    "### Esercizio 4:\n",
    "Scrivere un programma che legge da tastiera un numero in base 2, lo converte in base 8 e stampa a schermo il risultato"
   ]
  },
  {
   "cell_type": "code",
   "execution_count": null,
   "metadata": {},
   "outputs": [],
   "source": [
    "# Si ricorda che per convertire un numero n da base 2 a base 8 \n",
    "# si divide n in gruppi da 3 cifre e si converte ogni gruppo\n",
    "# separatemente. Se in numero non ha un numero di cifre divisibile per 3\n",
    "# si aggiungono degli 0 iniziali, fino ad arrivare ad un numero \n",
    "# di cifre divisibile per 3\n",
    "\n",
    "numeroBase2 = input('inserisci un numero binario: ')\n",
    "\n",
    "#inserisco zeri iniziali se necessario\n",
    "resto=len(numeroBase2)%3\n",
    "if resto==1:\n",
    "    numeroBase2='00'+numeroBase2\n",
    "elif resto==2:\n",
    "    numeroBase2='0'+numeroBase2\n",
    "\n",
    "# 'accumulo' le cifre del numerale\n",
    "# in base 8 una alla volta convertendo\n",
    "# il numero binario 3 cifre alla volta\n",
    "numeroBase8=''\n",
    "for i in range(0,len(numeroBase2),3):\n",
    "    s=numeroBase2[i:i+3]\n",
    "    #converto in binario (è semplice: ci sono sempre 3 cifre)\n",
    "    valore=int(s[0])*2**2+int(s[1])*2+int(s[1])\n",
    "    #concateno in coda \n",
    "    numeroBase8+=str(valore)\n",
    "print(numeroBase8)"
   ]
  },
  {
   "cell_type": "markdown",
   "metadata": {},
   "source": [
    "### Esercizio 5:\n",
    "Scrivere un programma che legge una stringa e trova il carattere della stringa il cui codice Unicode sia minimo e lo stampa a schermo. Fornire una soluzione sia con ciclo sui caratteri che sulle posizioni"
   ]
  },
  {
   "cell_type": "code",
   "execution_count": null,
   "metadata": {
    "scrolled": true
   },
   "outputs": [],
   "source": [
    "\n",
    "#soluzione tramite acceso diretto agli elementi della stringa\n",
    "#ovvero la stringa è una \"sequenza\" di caratteri\n",
    "s=input(\"Inserisci una stringa: \")\n",
    "\n",
    "cMin=s[0]\n",
    "for c in s[1:]:\n",
    "    if c<cMin:\n",
    "        cMin=c\n",
    "        \n",
    "print(\"cMin=\",cMin)\n",
    "\n"
   ]
  },
  {
   "cell_type": "code",
   "execution_count": null,
   "metadata": {},
   "outputs": [],
   "source": [
    "#soluzione con scansione di una stringa tramite indice \n",
    "\n",
    "s=input(\"Inserisci una stringa: \")\n",
    "\n",
    "iMin=0\n",
    "for i in range(1,len(s)):\n",
    "    if s[i]<s[iMin]:\n",
    "        iMin=i\n",
    "print(\"cMin=\",s[iMin])  \n",
    "\n",
    "#Notate come, con la seconda versione della soluzione avremmo potuto stampare \n",
    "#sia il carattere della stringa con codice Unicode minimo, sia la sua posizione \n",
    "#nella stringa (la prima posizione, se occorre più volte). Nella prima soluzione \n",
    "#proposta invece l'accesso alla posizione del carattere nella stringa non è nota \n",
    "#e non è stampabile"
   ]
  },
  {
   "cell_type": "markdown",
   "metadata": {},
   "source": [
    "### Esercizio 6:\n",
    "Scrivere un programma che stampa di seguito più quadrati, ognuno con la sua dimensione letta da input. Il programma deve terminare quando viene inserito come dimensione il valore 0 (in altri termini, il programma acquisisce ripetutamente da input la dimensione n e stampa il quadrato di dimensione n. Se n=0, il programma termina)"
   ]
  },
  {
   "cell_type": "code",
   "execution_count": null,
   "metadata": {},
   "outputs": [],
   "source": [
    "l=int(input(\"inserisci lato del quadrato (0 per terminare): \"))\n",
    "while l != 0:\n",
    "    #stampa quadrato\n",
    "    for i in range(l):\n",
    "        for j in range(l):\n",
    "            print(\"*\",end='') \n",
    "        print() \n",
    "    l=int(input(\"inserisci lato del quadrato (0 per terminare): \"))\n",
    "\n"
   ]
  }
 ],
 "metadata": {
  "kernelspec": {
   "display_name": "Python 3",
   "language": "python",
   "name": "python3"
  },
  "language_info": {
   "codemirror_mode": {
    "name": "ipython",
    "version": 3
   },
   "file_extension": ".py",
   "mimetype": "text/x-python",
   "name": "python",
   "nbconvert_exporter": "python",
   "pygments_lexer": "ipython3",
   "version": "3.6.5"
  }
 },
 "nbformat": 4,
 "nbformat_minor": 4
}
