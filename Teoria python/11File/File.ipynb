{
 "cells": [
  {
   "cell_type": "markdown",
   "metadata": {
    "slideshow": {
     "slide_type": "slide"
    }
   },
   "source": [
    "#### Autori: Domenico Lembo, Giuseppe Santucci and Marco Schaerf\n",
    "\n",
    "[Dipartimento di Ingegneria informatica, automatica e gestionale](https://www.diag.uniroma1.it)\n",
    "\n",
    "<img src=\"https://mirrors.creativecommons.org/presskit/buttons/88x31/png/by-nc-sa.eu.png\"\n",
    "     alt=\"License\"\n",
    "     style=\"float: left;\"\n",
    "     height=\"40\" width=\"100\" />\n",
    "This notebook is distributed with license Creative Commons *CC BY-NC-SA*"
   ]
  },
  {
   "cell_type": "markdown",
   "metadata": {},
   "source": [
    "# Files di testo in Python\n",
    "1. Gestione dei file\n",
    "2. Lettura di files in Python\n",
    "3. Apertura files in cartelle diverse\n",
    "4. Esempio: funzione `stampa()`\n",
    "5. Esercizi su File\n",
    "5. Funzione split() un (quasi) perfetto separatore di parole\n",
    "6. Esercizio: Crea liste parole (senza ripetizioni) contenute in un file\n",
    "7. Esercizio: Crea liste parole (*pulite* e senza ripetizioni) contenute in un file\n",
    "1. Scrittura su file \n",
    "2. Copia con filtro\n",
    "3. Formato dei files CSV\n",
    "4. Esercizio: Analizzare il file Partite3.csv e stampare le partite vinte, perse e pareggiate per ogni giocatore\n",
    "5. Esercizio: Calcolare paghe ricevute da un dipendente"
   ]
  },
  {
   "cell_type": "markdown",
   "metadata": {},
   "source": [
    "### Gestione dei file\n",
    "Vedremo come sia possibile leggere e scrivere da file. Per il nostro corso ci concentreremo solo sui file di testo, cioè file composti da una sequenza di caratteri UNICODE. I file di testo sono composti da righe, terminate dal carattere '\\n' e sono memorizzati usando uno specifico *encoding* dei caratteri UNICODE. L'encoding più comunemente utilizzato, e quello che useremo noi nel corso, è 'UTF-8'. Per i primi esempi useremo il file [Esempio.txt](Esempio.txt) qui riportato:\n",
    "\n",
    "```\n",
    "Questo è un esempio di un file di testo.\n",
    "Occupa quattro righe\n",
    "\n",
    "Riga 4\n",
    "```"
   ]
  },
  {
   "cell_type": "markdown",
   "metadata": {},
   "source": [
    "### Lettura di files in Python\n",
    "Per leggere i files di testo in Python dobbiamo prima *aprirli*. Per aprirli in Python usiamo la funzione `open()` che apre il file e restituisce un oggetto di tipo *file*. La funzione `open()` richiede un parametro obbligatorio, cioè il nome del file sul computer, e poi alcuni parametri opzionali che vedremo man mano. Per specificare il tipo di encoding dei caratteri usato nel file bisogna specificare il parametro opzionale *encoding* ed assegnargli un valore, che per noi di regola sarà \"UTF-8\".\n",
    "\n",
    "I files aperti, appena finito di usarli, devono essere **chiusi**. Per chiudere un file *f* si usa il metodo dei files `close()`.\n",
    "\n",
    "Abbiamo a disposizione vari modi per leggere il contenuto di un file di testo. Quelli fondamentali sono:\n",
    "1. `read()`      : è un metodo che legge tutto il file e restituisce una stringa (con i `\\n`)\n",
    "2. `readlines()` : è un metodo che legge tutte le righe del file e restituisce una lista di stringhe (righe con i `\\n`)\n",
    "3. `readline()`  : è un metodo che legge una riga del file alla volta (incluso il `\\n` finale)\n",
    "4. `for riga in` : legge una riga del file alla volta (incluso il `\\n` finale)\n",
    "Vediamo un esempio per ogni modalità di lettura del contenuto di un file di testo."
   ]
  },
  {
   "cell_type": "code",
   "execution_count": null,
   "metadata": {},
   "outputs": [],
   "source": [
    "#read() --> tutto il file in una stringa\n",
    "f=open(\"Esempio.txt\",encoding=\"UTF-8\") # Apre il file dando il nome e specificando il tipo di encoding\n",
    "s=f.read() # Legge tutto il file e lo salva in una variabile di tipo stringa\n",
    "f.close() # Chiude il file\n",
    "print(s) # Stampa la stringa contenente tutto il testo del file"
   ]
  },
  {
   "cell_type": "code",
   "execution_count": null,
   "metadata": {},
   "outputs": [],
   "source": [
    "#readlines() --> tutto il file in una lista di righe \n",
    "f=open(\"Esempio.txt\",encoding=\"UTF-8\") # Apre il file dando il nome e specificando il tipo di encoding\n",
    "l=f.readlines() # Legge tutto il file e lo salva in una variabile di tipo lista (di stringhe)\n",
    "f.close() # Chiude il file\n",
    "print(\"l=\",l) # Stampa la lista di stringhe contenente tutto il testo del file"
   ]
  },
  {
   "cell_type": "code",
   "execution_count": null,
   "metadata": {},
   "outputs": [],
   "source": [
    "#readline() --> legge una riga alla volta \n",
    "f=open(\"Esempio.txt\",encoding=\"UTF-8\") # Apre il file dando il nome e specificando il tipo di encoding\n",
    "riga=f.readline() # Legge la prima riga del file e la salva in una variabile di tipo stringa\n",
    "while len(riga)>0: # Se la riga non è vuota (succede solo se siamo alla fine del file)\n",
    "    print(riga,end='') # Stampa la riga. Notate che riga CONTIENE un \\n alla fine,\n",
    "                       # per questo ridefiniamo il parametro end a stringa vuota ('')\n",
    "    riga=f.readline()  # Legge la prossima riga. Notate che Python tiene sempre in memoria\n",
    "                       # a quale riga è posizionato\n",
    "f.close() #Chiude il file"
   ]
  },
  {
   "cell_type": "code",
   "execution_count": null,
   "metadata": {
    "scrolled": true
   },
   "outputs": [],
   "source": [
    "#scansione del file per elementi (righe)\n",
    "f=open(\"Esempio.txt\",encoding=\"UTF-8\") # Apre il file dando il nome e specificando il tipo di encoding\n",
    "for elem in f: # Ciclo sulle RIGHE del file. La variabile elem prenderà come valori (uno per volta)\n",
    "               # tutte le righe del file\n",
    "    print(len(elem), elem,end='') #Stampa la lunghezza della riga, seguita dalla riga (incluso il \\n finale)\n",
    "f.close() #Chiude il file"
   ]
  },
  {
   "cell_type": "markdown",
   "metadata": {},
   "source": [
    "#### Nota\n",
    "\n",
    "Qualunque sia il modo scelto per leggere un file, non sarà possibile leggerlo nuovamente a meno di non chiuderlo e riaprirlo. Intuitivamente, l'oggetto file restituito dalla funzione `open()` gestisce un cursore che indica la posizione fino a cui il file è stato letto. All'apertura di un file il cursore è all'inizio del file, ma a seguito di chiamate dei metodi `read()`, `readlines()`, `readline()`, oppure della scansione del file per righe framite un ciclo `for elem in f`, il cursore avanza, fino a raggiungere la fine del file, e non è possibile \"riportarlo indietro\". Più precisamente, dato un oggetto `f` di tipo file (cioè `f = open(...)` )\n",
    "\n",
    "1. `f.read()`      : La prima chiamata di `read()` dopo l’apertura di un file ne acquisisce sempre l’intero contenuto sottoforma di un'unica stringa. Questo significa che dopo aver chiuso e riaperto uno stesso file sarà possibile riacquisirne il contenuto con una nuova chiamata di `read()`. Se invece si eseguono due o più chiamate di `read()` mentre un file è aperto (senza chiuderlo e riaprirlo prima di ognuna di tali chiamate), ogni chiamata successiva alla prima restituirà una stringa vuota, poiché l’intero contenuto del file è già stato acquisito.\n",
    "\n",
    "2. `f.readlines()` : analogamente al caso precedente, la prima chiamata di `readlines()` dopo l’apertura di un file ne acquisisce sempre l’intero contenuto sottoforma di una lista di stringhe, dove ogni stringa è una riga del file. Se si eseguono due o più chiamate di `readlines()` sullo stesso file (senza chiuderlo e riaprirlo prima di ognuna di tali chiamate), ogni chiamata successiva alla prima restituirà una lista vuota.\n",
    "\n",
    "3. `f.readline()`  : La prima chiamata di `readline()` dopo l’apertura di un file acquisisce sempre la prima riga. Ogni eventuale altra chiamata di `readline()` prima che il file venga chiuso acquisisce la riga successiva a quella acquisita dalla chiamata precedente. Dopo che tutte le righe di un file siano state acquisite da una sequenza di chiamate di `readline()`, ogni chiamata successiva restituirà una stringa vuota.\n",
    "\n",
    "4. `for riga in f` : Il primo ciclo for dopo l'apertura di un file legge una riga del file alla volta. Una volta terminato il ciclo, un eventuale secondo ciclo for analogo al precedente non ha alcun effetto, perchè il file è stato già acquisito, ed il cursore di `f` si trova alla fine del file. Ovviamente se chiudiamo e riapriamo il file sarà possibile una nuova scansione del file per righe (o in uno dei metodi precedenti).\n",
    "\n",
    "Si noti che è anche possibile \"mischiare\" i vari modi di leggere un file, e ad esempio  chiamare la funzione `read()` dopo una o più chiamate di `readline()`. In questo caso `read()` acquisirà il contenuto del file a partire dalla riga successiva all’ultima acquisita tramite `readline()`, e fino al termine del file.\n",
    "\n",
    "In altre parole, per ogni operazione di lettura valgono le seguenti regole generali:\n",
    "* l’acquisizione inizia dal punto in cui si era fermata l’operazione precedente\n",
    "* se l’intero contenuto del file è già stato acquisito dalle operazioni precedenti, viene restituita una stringa vuota (o lista vuota, nel caso di `f.readlines()` )"
   ]
  },
  {
   "cell_type": "markdown",
   "metadata": {},
   "source": [
    "### Apertura files in cartelle diverse\n",
    "Se il file che si vuole aprire si trova nella stessa cartella del programma che lo usa, allora basta specificarne il nome (come negli esempi precedenti), se invece si trova in un'altra cartella, bisogna specificarne il path (cioè la posizione del file all'interno del computer) sia in modalità relativa che assoluta. Vediamo degli esempi:\n",
    "1. `open(\"prova.txt\",encoding=\"UTF-8\")`: Apre in lettura il file 'prova.txt' che si trova nella stessa cartella del programma\n",
    "2. `open(\"dati/prova.txt\",encoding=\"UTF-8\")`: Apre in lettura il file 'prova.text' che si trova nella cartella 'dati' all'interno della cartella del programma. Questo si chiama **path relativo**, perché dipende dalla posizione del programma all'interno del computer.\n",
    "3. `open(\"/Users/user/Desktop/dati/prova.txt\",encoding=\"UTF-8\")`: Apre in lettura il file 'prova.text' che si trova nella cartella 'dati' sul Desktop dell'utente 'user'. Questo è un **path assoluto** perché NON dipende dalla posizione del programma. Si distinguono perchè i path assoluti iniziano con il simbolo '/' oppure con l'indicazione del nome del disco (ad esempio, 'C:')\n",
    "\n",
    "**Nota bene** Python per specificare un cammino (path) può usare sia la sbarra '/' tipica di Unix-Linux-MacOS che la sbarra '\\' tipica di Windows, *ma in questo caso bisogna raddoppiarla*. Ad esempio, \"/Users/user/Desktop/dati/prova.txt\" è equivalente a \"\\\\\\Users\\\\\\user\\\\\\Desktop\\\\\\dati\\\\\\prova.txt\" "
   ]
  },
  {
   "cell_type": "markdown",
   "metadata": {},
   "source": [
    "### Esempio: funzione `stampa()`\n",
    "Vediamo come esempio una funzione `stampa()`, che ammette come parametro tanti tipi diversi, e stampa gli elementi uno per volta."
   ]
  },
  {
   "cell_type": "code",
   "execution_count": null,
   "metadata": {},
   "outputs": [],
   "source": [
    "def stampa(x):\n",
    "    for elem in x:\n",
    "        print(elem)\n",
    "\n",
    "s = 'abcdefg'\n",
    "stampa(s)\n",
    "\n",
    "l = [1,3,5,7,'abc']\n",
    "stampa(l)\n",
    "\n",
    "f=open(\"Esempio.txt\",'r',encoding ='UTF-8')\n",
    "stampa(f)\n",
    "f.close()\n",
    "\n",
    "r = range(1,10,2)\n",
    "stampa(r)"
   ]
  },
  {
   "cell_type": "markdown",
   "metadata": {},
   "source": [
    "### Esercizi su File\n",
    "Vediamo ora alcuni esercizi sui file. Per questo esempio ed i successivi useremo una versione completa ( [I_Malavoglia.txt](I_Malavoglia.txt) ) ed una ridotta ai primi 50 paragrafi ( [I_Malavoglia_50.txt](I_Malavoglia_50.txt) ) del romanzo di Giovanni Verga \"I Malavoglia\", scaricato da [WikiSource](https://it.wikisource.org/wiki/I_Malavoglia). \n",
    "\n",
    "Nel primo esempio vogliamo scrivere una funzione che conta il numero di volte che un particolare carattere `c` compare in un file. Nel secondo esempio vogliamo contare il numero di volte che un particolare carattere `c` compare maiuscolo e minuscolo nel file. **Notate che la seconda funzione restituisce due risultati** (cf. uso delle tuple in Python per scrivere funzioni che restituiscono più valori)."
   ]
  },
  {
   "cell_type": "code",
   "execution_count": null,
   "metadata": {},
   "outputs": [],
   "source": [
    "def contaCarattere(file,c):\n",
    "    f=open(file,encoding=\"UTF-8\")\n",
    "    s=f.read()\n",
    "    f.close()\n",
    "    return s.count(c)\n",
    "\n",
    "numeroA=contaCarattere(\"I_Malavoglia_50.txt\",'a')\n",
    "print(\"numero di 'a' =\",numeroA)\n",
    "\n",
    "for c in 'aeiou':\n",
    "    print(c,contaCarattere(\"I_Malavoglia_50.txt\",c))\n",
    "\n",
    "\n",
    "#Nota: per conoscere il numero totale di caratteri nel file, una volta aperto il file ed effettuata, ad esempio, una read, basta calcolare la lunghezza della stringa letta\n",
    "# \n",
    "#f=open(file,encoding=\"UTF-8\")\n",
    "#s=f.read()\n",
    "#print(\"numero di caratteri del file:\",len(s))    "
   ]
  },
  {
   "cell_type": "code",
   "execution_count": null,
   "metadata": {},
   "outputs": [],
   "source": [
    "def contaCarattereMinMaiu(file,c):\n",
    "    f=open(file,encoding=\"UTF-8\")\n",
    "    s=f.read()\n",
    "    minuscolo = c.lower()\n",
    "    maiuscolo = c.upper()\n",
    "    f.close()\n",
    "    return s.count(minuscolo),s.count(maiuscolo)\n",
    "\n",
    "lettere = 'abcdefghijklmnopqrstuvwxyzàèéìòù'\n",
    "for car in lettere:\n",
    "    m,M=contaCarattereMinMaiu(\"I_Malavoglia.txt\",car)\n",
    "    print(\"numero di\",car,\"minuscolo =\",m,\"maiuscolo =\",M)"
   ]
  },
  {
   "cell_type": "markdown",
   "metadata": {},
   "source": [
    "### Funzione `split()` un (quasi) perfetto separatore di parole\n",
    "Se il file contiene un lungo testo in linguaggio naturale e vogliamo dividerlo in parole, la funzione adatta in Python è `split()`. La funzione `split()` si applica alle stringhe, non ha parametri obbligatori, e spezza la stringa in una lista di sottostringhe in concomitanza con i caratteri spazio (`' '`), tabulazione (`'\\t'`) e riga nuova (`'\\n'`). Notate che **non genera stringhe vuote**, quindi se ci sono due caratteri di seguito su cui splittare (ad esempio due spazi) li tratta come fossero uno solo, e se ci sono caratteri su cui splittare all'inizio od alla fine della stringa li ignora. Vediamo un esempio"
   ]
  },
  {
   "cell_type": "code",
   "execution_count": null,
   "metadata": {},
   "outputs": [],
   "source": [
    "' pallone    palla\\tpippo\\npelle\\n'.split()"
   ]
  },
  {
   "cell_type": "markdown",
   "metadata": {},
   "source": [
    "### Esercizio: Crea liste parole (senza ripetizioni) contenute in un file\n",
    "Scrivere una funzione che prende in input il nome di un file e restituisce la lista ordinata e senza ripetizioni di tutte le parole contenute nel file."
   ]
  },
  {
   "cell_type": "code",
   "execution_count": null,
   "metadata": {},
   "outputs": [],
   "source": [
    "def creaListaParoleNoDoppioni(file):\n",
    "    f=open(file,encoding=\"UTF-8\")\n",
    "    s=f.read()\n",
    "    f.close()\n",
    "    sv=s.split()\n",
    "    ris=[]\n",
    "    for elem in sv:\n",
    "        if elem not in ris:\n",
    "            ris.append(elem)\n",
    "    ris.sort()      \n",
    "    return ris\n",
    "\n",
    "lp=creaListaParoleNoDoppioni(\"I_Malavoglia_50.txt\")\n",
    "print(\"Ci sono\",len(lp),\"parole distinte\")\n",
    "print(lp)"
   ]
  },
  {
   "cell_type": "markdown",
   "metadata": {},
   "source": [
    "### Esercizio: Crea liste parole (*pulite* e senza ripetizioni) contenute in un file\n",
    "Come abbiamo visto nell'esempio precedente, nel dividere in parole sono rimasti alcuni caratteri speciali (punteggiatura, apostrofi, parentesi e simili). Vogliamo toglierli dal file prima di estrarre le parole. Per fare questo, definiamo un elenco di caratteri che vogliamo considerare *corretti* e sostituiamo tutti i caratteri *non corretti* prima di spezzare in parole. *Notate che il numero di parole diverse scenderà rispetto a prima*"
   ]
  },
  {
   "cell_type": "code",
   "execution_count": null,
   "metadata": {
    "scrolled": true
   },
   "outputs": [],
   "source": [
    "# Funzione che cerca tutti i caratteri in s che NON appartengono all'insieme\n",
    "# dei caratteri 'utili'. Serve per capire quali caratteri dobbiamo togliere\n",
    "# da s per 'pulire' la stringa prima di fare lo split\n",
    "\n",
    "def inutili(s,insieme):\n",
    "    ris = ''\n",
    "    for c in s:\n",
    "        c = c.lower()\n",
    "        if c not in insieme and c not in ris:\n",
    "            ris = ris + c\n",
    "    return ris\n",
    "\n",
    "def creaListaParoleNoDoppioni(file):\n",
    "    f=open(file,encoding=\"UTF-8\")\n",
    "    s=f.read()\n",
    "    f.close()\n",
    "    insieme = 'abcdefghijklmnopqrstuvwxyzàèéìòù \\n0123456789'\n",
    "    # insieme dei caratteri che vogliamo CONSERVARE\n",
    "    togli = inutili(s,insieme)\n",
    "    # insieme dei caratteri da sostituire per 'pulire' la stringa s\n",
    "    print('I caratteri che verranno eliminati sono:',togli)\n",
    "    for c in togli:\n",
    "        s = s.replace(c,' ') # rimpiazzo tutti i caratteri in togli con spazio ' '\n",
    "    sv=s.split()\n",
    "    ris=[]\n",
    "    for elem in sv:\n",
    "        if elem not in ris:\n",
    "            ris.append(elem)\n",
    "    ris.sort()      \n",
    "    return ris\n",
    "\n",
    "\n",
    "lp=creaListaParoleNoDoppioni(\"I_Malavoglia_50.txt\")\n",
    "print(\"Ci sono\",len(lp),\"parole distinte\")\n",
    "print(lp)"
   ]
  },
  {
   "cell_type": "markdown",
   "metadata": {},
   "source": [
    "### Lettura da un file di N caratteri alla volta\n",
    "I file possono anche essere letti per gruppi di caratteri, non solo riga per riga. Nell'esempio seguente leggiamo il file a gruppi di N caratteri (N=5 nel nostro caso)"
   ]
  },
  {
   "cell_type": "code",
   "execution_count": null,
   "metadata": {},
   "outputs": [],
   "source": [
    "# legge un file N caratteri alla volta e lo stampa\n",
    "def stampaCaratteri(file_in,N):\n",
    "    fin=open(file_in,\"r\",encoding=\"UTF-8\")\n",
    "    c=fin.read(N)\n",
    "    while c!=\"\":\n",
    "        print(c)\n",
    "        c=fin.read(N)\n",
    "\n",
    "stampaCaratteri(\"I_Malavoglia_50.txt\",5)"
   ]
  },
  {
   "cell_type": "markdown",
   "metadata": {},
   "source": [
    "### Scrittura su file \n",
    "Finora abbiamo visto come si possa leggere da un file di testo, ora vediamo come sia possibile scrivere in un file di testo. Innanzitutto, il file va aperto *in scrittura* e per specificarlo bisogna mettere un secondo parametro (opzionale, con valore di default 'r', cioè lettura) alla funzione `open()`. Ad esempio, l'istruzione `open(\"prova.txt\",'w',encoding=\"UTF-8\")` apre in *scrittura* ('w' = write) il file 'prova.txt', su cui si scriverà usando l'encoding 'UTF-8'.\n",
    "\n",
    "Ci sono alcune precisazioni da fare sugli effetti dell'apertura di un file in scrittura:\n",
    "1. Se il file **non esiste** l'apertura in scrittura comporta la sua creazione (ovviamente vuoto all'inizio). Al contrario, l'apertura in lettura di un file non esistente provoca un errore.\n",
    "2. Se il file esiste, l'apertura in modalità scrittura comporta la cancellazione di tutto il contenuto del file che diventa vuoto.\n",
    "3. Quando un file viene aperto in scrittura, il file su disco diventa non accessibile e non leggibile fino a che non viene chiuso.\n",
    "4. La scrittura **su disco** di un file in scrittura avviene soltanto al momento della chiusura (esecuzione dell'istruzione `close()`). Prima in realtà il file viene scritto solo in memoria. Per questo motivo **è indispensabile ricordarsi di chiudere un file in scrittura**, altrimenti il file rimane in uno stato illeggibile.\n",
    "\n",
    "Se invece di scrivere un nuovo file si vuole agggiungere ad un file già esistente, la modalità corretta di apertura del file è *append* ('a'). In questa modalità, se il file non esiste viene creato, e se esiste viene aperto e ci si posiziona alla fine del file per continuare a scrivere.\n",
    "\n",
    "Ci sono 2 metodi fondamentali per scrivere una stringa 's' in un file 'fout' aperto in scrittura e questi sono:\n",
    "1. `fout.write(s)`\n",
    "2. `print(s,end='',file=fout)`\n",
    "\n",
    "L'effetto delle due istruzioni è lo stesso, ma notate che nel caso usiate una `print()` dovete definire la `end` come stringa vuota, altrimenti la `print()` oltre alla stringa `s` scrive anche il carattere `\\n`.\n",
    "\n",
    "Vediamo alcuni esempi con copia (lettura e scrittura) di files:"
   ]
  },
  {
   "cell_type": "code",
   "execution_count": null,
   "metadata": {},
   "outputs": [],
   "source": [
    "#lettura scrittura di un file per elementi (righe) in modalità write\n",
    "fin=open(\"Esempio.txt\",\"r\",encoding=\"UTF-8\")\n",
    "fout=open(\"Copia_Esempio.txt\",\"w\",encoding=\"UTF-8\")\n",
    "\n",
    "#lettura e scrittura in un solo colpo\n",
    "s = fin.read()\n",
    "fout.write(s)\n",
    "fin.close()\n",
    "\n",
    "#lettura riga per riga\n",
    "fin=open(\"Esempio.txt\",\"r\",encoding=\"UTF-8\")\n",
    "print(file=fout) #aggiunge una riga\n",
    "for riga in fin:\n",
    "    print(riga,end=\"\",file=fout) # con l'istruzione print\n",
    "    #fout.write(riga) # con la write (otteniamo un effetto analogo all'istruzione precedente)\n",
    "fin.close()\n",
    "fout.close()"
   ]
  },
  {
   "cell_type": "code",
   "execution_count": null,
   "metadata": {},
   "outputs": [],
   "source": [
    "#lettura scrittura di un file per elementi (righe) in modalità append\n",
    "fin=open(\"Esempio.txt\",\"r\",encoding=\"UTF-8\")\n",
    "fout=open(\"Copia_Esempio.txt\",\"a\",encoding=\"UTF-8\")\n",
    "\n",
    "print(file=fout) #aggiunge una riga\n",
    "\n",
    "#lettura e scrittura in un solo colpo\n",
    "#s = fin.read()\n",
    "#fout.write(s)\n",
    "\n",
    "for riga in fin:\n",
    "    print(riga,end=\"\",file=fout)\n",
    "    #fout.write(riga) # con la write\n",
    "fin.close()\n",
    "fout.close()"
   ]
  },
  {
   "cell_type": "markdown",
   "metadata": {},
   "source": [
    "### Copia con filtro\n",
    "Vediamo ora alcuni esempi di come si possano estrarre dati da un file e riscrivere, solo quelli interessanti rispetto ad un certo criterio, in un altro file. Prima di procedere con questi esempi, notiamo che una funzione spesso molto utile per eliminare caratteri non necessari è il metodo `strip()` delle stringhe. Il metodo `strip()` applicato ad una stringa 's' restituisce una nuova stringa ottenuta da 's' togliendo spazi bianchi (' '), tabulazioni ('\\t') e riga nuova ('\\n') all'inizio ed alla fine della stringa. Notate però che eventuali spazi bianchi, tabulazioni o ritorni a capo nel mezzo della stringa **non vengono eliminati**."
   ]
  },
  {
   "cell_type": "code",
   "execution_count": null,
   "metadata": {},
   "outputs": [],
   "source": [
    "print(' \\n\\tprova  \\n'.strip())\n",
    "print(' \\n\\tprova  \\n \\n\\tprova  \\n'.strip())"
   ]
  },
  {
   "cell_type": "markdown",
   "metadata": {},
   "source": [
    "#### Verifiche sulle righe\n",
    "In molte applicazioni si procede in questo modo: si apre un file di testo, lo si legge una riga per volta, si verifica se la riga appena letta debba essere considerata o meno. Per verificare se una riga contiene informazioni utili possiamo, ad esempio, usare un controllo tipo `len(riga.strip())>0` che verifica se ci sono caratteri rimasti in una riga *dopo* aver aplicato il metodo `strip()`. "
   ]
  },
  {
   "cell_type": "code",
   "execution_count": null,
   "metadata": {},
   "outputs": [],
   "source": [
    "#lettura scrittura parziale di un file per elementi (righe)\n",
    "fin=open(\"Esempio.txt\",\"r\",encoding=\"UTF-8\")\n",
    "fout=open(\"Copia_Esempio_righe_piene.txt\",\"w\",encoding=\"UTF-8\")\n",
    "\n",
    "for riga in fin:\n",
    "   #copio solo righe con dati\n",
    "   if len(riga.strip())>0:\n",
    "        print(riga,end=\"\",file=fout)\n",
    "fin.close()\n",
    "fout.close()"
   ]
  },
  {
   "cell_type": "code",
   "execution_count": null,
   "metadata": {},
   "outputs": [],
   "source": [
    "#lettura scrittura parziale di un file per elementi (righe)\n",
    "\n",
    "def filtra(file_in,file_out,parola):\n",
    "    fin=open(file_in,  \"r\",encoding=\"UTF-8\")\n",
    "    fout=open(file_out,\"w\",encoding=\"UTF-8\")\n",
    "\n",
    "    for riga in fin:\n",
    "      #copio solo righe che contengono la parola\n",
    "      if parola in riga:\n",
    "        print(riga,file=fout)\n",
    "    fin.close()\n",
    "    fout.close()\n",
    "\n",
    "filtra (\"I_Malavoglia.txt\",\"frasi.txt\",\"violino\")"
   ]
  },
  {
   "cell_type": "markdown",
   "metadata": {},
   "source": [
    "#### Estrazione parole\n",
    "Vediamo ora come possiamo estrarre meglio le parole da un file di testo, eliminando i caratteri che non vogliamo che rimangano nelle parole. In questo caso, elenchiamo esplicitamente i caratteri che vogliamo togliere e, prima di fare lo split, li sostituiamo (replace) con la stringa vuota."
   ]
  },
  {
   "cell_type": "code",
   "execution_count": null,
   "metadata": {},
   "outputs": [],
   "source": [
    "f=open(\"I_Malavoglia_50.txt\",encoding=\"utf-8\")\n",
    "s=f.read()\n",
    "\n",
    "#s=open(\"I_Malavoglia_50.txt\",encoding=\"utf-8\").read() #Apre e legge in un'unica istruzione\n",
    "f.close() \n",
    "\n",
    "for elem in '.,;:!?<>\"-«»()\\'': #rimuove tutti i simboli non voluti da s\n",
    "    print('rimuovo ',elem)\n",
    "    s=s.replace(elem,\" \")\n",
    "\n",
    "l=s.split()\n",
    "\n",
    "parole=[]\n",
    "\n",
    "for elem in l:\n",
    "    if elem not in parole:\n",
    "        parole.append(elem)\n",
    "\n",
    "parole.sort()      \n",
    "\n",
    "fout=open('parole.txt','w',encoding='utf-8')\n",
    "\n",
    "for elem in parole:\n",
    "    numero = l.count(elem)\n",
    "    #numero = s.count(elem) Così contiamo anche quando una stringa è sottostring di un'altra\n",
    "    #numero = parole.count(elem) in questo caso ogni parola si conta una volta sola\n",
    "    print(elem,numero,file=fout)\n",
    "fout.close()"
   ]
  },
  {
   "cell_type": "markdown",
   "metadata": {},
   "source": [
    "#### Esempio: aggiungere parole ad un file "
   ]
  },
  {
   "cell_type": "code",
   "execution_count": null,
   "metadata": {},
   "outputs": [],
   "source": [
    "def aggiungiParoleFile(file_out, s):\n",
    "    fout=open(file_out,\"a\",encoding=\"UTF-8\")\n",
    "    parole=s.split() \n",
    "    for parola in parole:\n",
    "         print(parola,file=fout) \n",
    "    fout.close()\n",
    "\n",
    "aggiungiParoleFile(\"parole2.txt\", \"nel mezzo\")\n",
    "aggiungiParoleFile(\"parole2.txt\", \"pippo pluto \")"
   ]
  },
  {
   "cell_type": "markdown",
   "metadata": {},
   "source": [
    "### Formato dei files CSV\n",
    "I file di testo non contengono soltanto del testo in linguaggio naturale (o di programmazione), ma possono anche contenere dati in formato strutturato. Il formato più semplice per memorizzare dati in un file di testo è il formato CSV. Il nome CSV sta per Comma Separated Values, cioè valori separati da virgola. In realtà, ora si usa per denotare file di dati separati da un qualunque separatore. La struttura di un dato csv è di regola la seguente:\n",
    "```\n",
    "riga di intestazione (opzionale) con i nomi delle colonne separate dal separatore e terminata da '\\n'\n",
    "riga 1 contenente il primo gruppo di dati, separati dal separatore e terminati da '\\n'\n",
    ".\n",
    ".\n",
    ".\n",
    "riga n contenente l'ultimo gruppo di dati, separati dal separatore e terminati da '\\n'\n",
    "\n",
    "```\n",
    "Un esempio di file csv è il file [Partite.csv](Partite.csv) che contiene i risultati di tutte le partite svolte tra due giocatori con i punti vinti da ognuno. Qui vediamo una parte del file:\n",
    "```\n",
    "Paolo,Mario\n",
    "5,7\n",
    "9,7\n",
    "5,11\n",
    "12,10\n",
    "5,9\n",
    "4,2\n",
    "9,6\n",
    "6,4\n",
    "5,10\n",
    "8,5\n",
    "2,11\n",
    "```\n",
    "\n",
    "La lettura di un file csv avviene di regola con un ciclo for che legge dal file una riga per volta. Poiché ogni riga contiene vari dati, il modo più semplice di separare i vari dati è attraverso il metodo `split()` in cui si specifica come parametro il separatore usato nel file."
   ]
  },
  {
   "cell_type": "code",
   "execution_count": null,
   "metadata": {
    "scrolled": true
   },
   "outputs": [],
   "source": [
    "def creaListaDati(file):\n",
    "    f=open(file,encoding=\"UTF-8\")\n",
    "    sv=[]\n",
    "    for elem in f:\n",
    "        elem=elem.strip().split(\",\")\n",
    "        sv.append(elem)\n",
    "    return sv\n",
    "\n",
    "l=creaListaDati(\"Partite.csv\")\n",
    "print(l)\n",
    "g1=0\n",
    "g2=0\n",
    "for i in range(1,len(l)):\n",
    "    if int(l[i][0])>int(l[i][1]):\n",
    "        g1+=1\n",
    "    if int(l[i][1])>int(l[i][0]):\n",
    "        g2+=1\n",
    "\n",
    "print(\"vittorie\",l[0][0],\":\",g1)\n",
    "print(\"vittorie\",l[0][1],\":\",g2)\n",
    "\n",
    "if g1>g2:\n",
    "    print(l[0][0], \"è il vincitore\")\n",
    "elif g2>g1:\n",
    "    print(l[0][1], \"è il vincitore\")\n",
    "else:\n",
    "    print(\"pareggio\")"
   ]
  },
  {
   "cell_type": "markdown",
   "metadata": {},
   "source": [
    "### Esercizio: Analizzare il file Partite3.csv e stampare le partite vinte, perse e pareggiate per ogni giocatore\n",
    "Il file [Partite3.csv](Partite3.csv) contiene le informazioni su un insieme di partite giocate tra un gruppo di 3 persone. Per ogni giocatore, dobbiamo calcolare il numero di partite vinte (in cui il giocatore ha ottenuto un punteggio maggiore uguale a quello di tutti gli altri), pareggiate (in cui tutti i giocatori hanno ottenuto lo stesso punteggio) e perse (in cui il giocatore ha ottenuto un punteggio minore uguale a quello di tutti gli altri)"
   ]
  },
  {
   "cell_type": "code",
   "execution_count": null,
   "metadata": {},
   "outputs": [],
   "source": [
    "def statistichePartite(file_in,giocatore):   \n",
    "    fin=open(file_in,\"r\",encoding=\"UTF-8\")\n",
    "\n",
    "    riga=fin.readline().strip().split(\",\")    #consuma la prima riga (nomi)e la mette in una lista\n",
    "    nome=riga[giocatore]\n",
    "   \n",
    "    riga=fin.readline().strip().split(\",\")    #legge la seconda riga (dati) e la mette in una lista\n",
    "    partite=0\n",
    "    primo=0\n",
    "    ultimo=0\n",
    "    pareggiate=0\n",
    "    while len(riga)==3:             #c'è una riga da analizzare\n",
    "        partite+=1\n",
    "        for i in range(len(riga)):\n",
    "            riga[i]=int(riga[i])         #riga ora è una lista di interi\n",
    "         \n",
    "        if min(riga)== max(riga):       #tutti punteggi uguali\n",
    "            pareggiate+=1\n",
    "        elif riga[giocatore]==min(riga): #è tra gli ultimi\n",
    "            ultimo+=1\n",
    "        elif riga[giocatore]==max(riga): #è tra i primi\n",
    "            primo+=1\n",
    "        riga=fin.readline().strip().split(\",\")\n",
    "      \n",
    "    fin.close()\n",
    "    return nome,partite,primo,ultimo,pareggiate\n",
    "\n",
    "print(\"Nome NumPartite Primo Ultimo Pareggiate\")\n",
    "print(statistichePartite(\"Partite3.csv\",0))\n",
    "print(statistichePartite(\"Partite3.csv\",1))\n",
    "print(statistichePartite(\"Partite3.csv\",2))"
   ]
  },
  {
   "cell_type": "markdown",
   "metadata": {},
   "source": [
    "#### Versione parametrica con i nomi\n",
    "In questa versione vogliamo calcolare le statitstiche per tutti i giocatori, non uno specifico "
   ]
  },
  {
   "cell_type": "code",
   "execution_count": null,
   "metadata": {},
   "outputs": [],
   "source": [
    "def statistichePartite(file_in):   \n",
    "    fin=open(file_in,\"r\",encoding=\"UTF-8\")\n",
    "    nomi=fin.readline().strip().split(\",\")    #consuma la prima riga (nomi)e la mette in una lista\n",
    "    partite=0\n",
    "    giocatori=len(nomi)\n",
    "    risultati=[[] for i in range(giocatori)] # equivale a [[]] * giocatori\n",
    "    for giocatore in range(giocatori):\n",
    "        nome=nomi[giocatore]\n",
    "        primo=0\n",
    "        ultimo=0\n",
    "        pareggiate=0\n",
    "        fin=open(file_in,\"r\",encoding=\"UTF-8\")\n",
    "        fin.readline()\n",
    "        riga=fin.readline().strip().split(\",\")\n",
    "        while len(riga)==giocatori:         #c'e' qualcosa nel primo campo\n",
    "            partite+=1\n",
    "            for i in range(len(riga)):\n",
    "                riga[i]=int(riga[i])         #riga ora è una lista di interi\n",
    "            \n",
    "            if min(riga)== max(riga):       #tutti punteggi uguali\n",
    "                pareggiate+=1\n",
    "            elif riga[giocatore]==min(riga): #è tra gli ultimi\n",
    "                ultimo+=1\n",
    "            elif riga[giocatore]==max(riga): #è tra i primi\n",
    "                primo+=1\n",
    "            riga=fin.readline().strip().split(\",\")\n",
    "        risultati[giocatore]=[nome,primo,ultimo,pareggiate]       \n",
    "        fin.close()\n",
    "    # quanto segue serve per ottenere in uscita anche il massimo numero di vittorie\n",
    "    vittorie=[]\n",
    "    #ultimi=[]\n",
    "    #pareggi=[]\n",
    "\n",
    "    for elem in risultati:\n",
    "        vittorie.append(elem[1])\n",
    "        #ultimi.append(elem[2])\n",
    "        #pareggi.append(elem[3])\n",
    "    vmax=max(vittorie)\n",
    "      \n",
    "    return risultati,vmax\n",
    "\n",
    "ris=statistichePartite(\"Partite3.csv\")\n",
    "print(ris)"
   ]
  },
  {
   "cell_type": "markdown",
   "metadata": {},
   "source": [
    "### Esercizio: Calcolare paghe ricevute da un dipendente\n",
    "In questo esercizio vogliamo leggere un file csv [Paghe.txt](Paghe.txt) che contiene dati in questo formato:\n",
    "```\n",
    "Paolo,Anna,Giulia\n",
    "10,20,15\n",
    "5,9,0\n",
    "7,11,13\n",
    "```\n",
    "Con le righe che contengono la paga ricevuta ad ogni mese dal dipendente il cui nome è nella prima riga. Lo scopo è calcolare la paga totale ricevuta da un dipendente"
   ]
  },
  {
   "cell_type": "code",
   "execution_count": null,
   "metadata": {},
   "outputs": [],
   "source": [
    "def sommaPaghe(file,nome):\n",
    "    f = open(file,'r')\n",
    "    nomi = f.readline().strip().split(',')\n",
    "    numero = len(nomi) #calcola il numero di nomi, usato poi come controllo\n",
    "    for i in range(len(nomi)):\n",
    "        if nomi[i] == nome:\n",
    "            pos = i #calcola la posizione del nome nella lista\n",
    "    totale = 0\n",
    "    for riga in f:\n",
    "        stipendio = riga.strip().split(',')\n",
    "        if len(stipendio) == numero: #ignora righe di lunghezza sbagliata\n",
    "            totale = totale + int(stipendio[pos])\n",
    "    return totale\n",
    "\n",
    "print(sommaPaghe('Paghe.txt','Anna'))"
   ]
  },
  {
   "cell_type": "markdown",
   "metadata": {},
   "source": [
    "### Esercizi\n",
    "Completate questi esercizi prima di cominciare il prossimo argomento"
   ]
  },
  {
   "cell_type": "markdown",
   "metadata": {},
   "source": [
    "### Esercizio 1: \n",
    "Scrivere una funzione Python che riceve il nome di un file di testo ed una lista di stringhe e restituisce la stringa della lista che compare più volte nel file. Se ci sono più stringhe che compaiono lo stesso numero di volte, restituite la prima in ordine alfabetico. NON DOVETE distinguere tra maiuscolo e minuscolo, vanno considerati equivalenti"
   ]
  },
  {
   "cell_type": "code",
   "execution_count": 3,
   "metadata": {
    "scrolled": true
   },
   "outputs": [
    {
     "name": "stdout",
     "output_type": "stream",
     "text": [
      "Test funzione: stringaMaxFreq \n",
      "\n",
      "Input funzione: 'I_Malavoglia_50.txt', ['casa', 'roba', 'Trezza'] \n",
      "\n",
      "Output atteso:\n",
      " casa \n",
      "\n",
      "Output ottenuto:\n",
      " casa \n",
      "\n",
      "Risultato Test: POSITIVO\n",
      "\n",
      "******************************\n",
      "\n",
      "Test funzione: stringaMaxFreq \n",
      "\n",
      "Input funzione: 'I_Malavoglia_50.txt', ['ciao', 'saluti', 'io'] \n",
      "\n",
      "Output atteso:\n",
      " io \n",
      "\n",
      "Output ottenuto:\n",
      " io \n",
      "\n",
      "Risultato Test: POSITIVO\n",
      "\n",
      "******************************\n",
      "\n",
      "Test funzione: stringaMaxFreq \n",
      "\n",
      "Input funzione: 'I_Malavoglia.txt', ['mario', 'maria', 'marco'] \n",
      "\n",
      "Output atteso:\n",
      " maria \n",
      "\n",
      "Output ottenuto:\n",
      " maria \n",
      "\n",
      "Risultato Test: POSITIVO\n",
      "\n",
      "******************************\n",
      "\n",
      "Test funzione: stringaMaxFreq \n",
      "\n",
      "Input funzione: 'I_Malavoglia.txt', ['a', 'b', 'c'] \n",
      "\n",
      "Output atteso:\n",
      " a \n",
      "\n",
      "Output ottenuto:\n",
      " a \n",
      "\n",
      "Risultato Test: POSITIVO\n",
      "\n",
      "******************************\n",
      "\n",
      "Test funzione: stringaMaxFreq \n",
      "\n",
      "Input funzione: 'I_Malavoglia.txt', ['abitazione', 'costa'] \n",
      "\n",
      "Output atteso:\n",
      " costa \n",
      "\n",
      "Output ottenuto:\n",
      " costa \n",
      "\n",
      "Risultato Test: POSITIVO\n",
      "\n",
      "******************************\n",
      "\n"
     ]
    },
    {
     "data": {
      "text/plain": [
       "1"
      ]
     },
     "execution_count": 3,
     "metadata": {},
     "output_type": "execute_result"
    }
   ],
   "source": [
    "from tester import tester_fun\n",
    "\n",
    "def stringaMaxFreq(file,l):\n",
    "    parola=''\n",
    "    cont=0\n",
    "    testo=open(file,'r',encoding='UTF-8')\n",
    "    lett=testo.read().lower().split()\n",
    "    for i in l:\n",
    "        if i in lett:\n",
    "            a=lett.count(i)\n",
    "            if a==cont:\n",
    "                if i<parola:\n",
    "                    parola=i\n",
    "            if a>cont:\n",
    "                cont=a\n",
    "                parola=i\n",
    "\n",
    "            \n",
    "            \n",
    "    testo.close()\n",
    "    return parola\n",
    "tester_fun(stringaMaxFreq,['I_Malavoglia_50.txt',['casa','roba', 'Trezza']],'casa')\n",
    "tester_fun(stringaMaxFreq,['I_Malavoglia_50.txt',['ciao','saluti','io']],'io')\n",
    "tester_fun(stringaMaxFreq,['I_Malavoglia.txt',['mario','maria','marco']],'maria')\n",
    "tester_fun(stringaMaxFreq,['I_Malavoglia.txt',['a','b','c']],'a')\n",
    "tester_fun(stringaMaxFreq,['I_Malavoglia.txt',['abitazione','costa']],'costa')\n",
    "\n"
   ]
  },
  {
   "cell_type": "markdown",
   "metadata": {},
   "source": [
    "### Esercizio 2:\n",
    "Scrivere una funzione Python che riceve il nome di un file di testo **file_in** in input, il nome di un file di testo **file_out** in output ed una lista di stringhe **l** e copia in **file_out** tutte le righe di **file_in** che contengono almeno 2 delle stringhe contenute in **l**. Non dovete fare differenza tra maiuscole e minuscole.\n",
    "\n",
    "Per verificare questo esercizio non è possibile usare il tester, vi forniamo comunque alcuni esempi da eseguire, dovete poi verificare voi la correttezza della soluzione confrontando i files generati (Test*n*.txt) con quelli corretti (Test*n*_sol.txt)."
   ]
  },
  {
   "cell_type": "code",
   "execution_count": 2,
   "metadata": {},
   "outputs": [
    {
     "data": {
      "text/plain": [
       "<_io.TextIOWrapper name='Test5.txt' mode='w' encoding='UTF-8'>"
      ]
     },
     "execution_count": 2,
     "metadata": {},
     "output_type": "execute_result"
    }
   ],
   "source": [
    "\n",
    "def copiaRigheFiltro(file_in,file_out,l):\n",
    "    f1=open(file_in,mode='r',encoding='UTF-8')\n",
    "    f2=open(file_out,'w',encoding='UTF-8')\n",
    "    for riga in f1:\n",
    "        cont=0\n",
    "        for t in l:\n",
    "            if riga.lower().split().count(t.lower())>0:\n",
    "                cont=cont+1\n",
    "            if cont>1:\n",
    "                print(riga,end=\"\",file=f2)\n",
    "                break\n",
    "    f1.close()\n",
    "    f2.close()\n",
    "    return f2\n",
    "\n",
    "copiaRigheFiltro('I_Malavoglia_50.txt','Test1.txt',['casa','roba','Aci','zio'])\n",
    "copiaRigheFiltro('I_Malavoglia_50.txt','Test2.txt',['bisogni','roba','probabilmente'])\n",
    "copiaRigheFiltro('I_Malavoglia_50.txt','Test3.txt',['casolare','disegno','coteste'])\n",
    "copiaRigheFiltro('I_Malavoglia.txt','Test4.txt',['Roma','roba','Aci','zio'])\n",
    "copiaRigheFiltro('I_Malavoglia.txt','Test5.txt',['educazione','Castello'])"
   ]
  },
  {
   "cell_type": "markdown",
   "metadata": {},
   "source": [
    "### Esercizio 3:\n",
    "Scrivere una funzione che prende in input il nome **f** di un file (ad esempio, \"I_Malavoglia_50.txt\"), un numero intero **n** ed un carattere **c**, e restituisce la lista dei numeri di riga del file **f** in cui il carattere **c** compare almeno **n** volte. Assumete che la prima riga del file sia la riga numero 1 (NON 0)."
   ]
  },
  {
   "cell_type": "code",
   "execution_count": 1,
   "metadata": {},
   "outputs": [
    {
     "name": "stdout",
     "output_type": "stream",
     "text": [
      "Test funzione: creaListaRighe \n",
      "\n",
      "Input funzione: 'I_Malavoglia_50.txt', 'a', 25 \n",
      "\n",
      "Output atteso:\n",
      " [95, 97, 99, 101, 114, 116, 120, 122, 124, 128, 130, 132, 134, 136, 140, 142] \n",
      "\n",
      "Output ottenuto:\n",
      " [95, 97, 99, 101, 114, 116, 120, 122, 124, 128, 130, 132, 134, 136, 140, 142] \n",
      "\n",
      "Risultato Test: POSITIVO\n",
      "\n",
      "******************************\n",
      "\n",
      "Test funzione: creaListaRighe \n",
      "\n",
      "Input funzione: 'I_Malavoglia_50.txt', 'v', 12 \n",
      "\n",
      "Output atteso:\n",
      " [97, 99, 101, 114, 120, 128, 130, 134, 140] \n",
      "\n",
      "Output ottenuto:\n",
      " [97, 99, 101, 114, 120, 128, 130, 134, 140] \n",
      "\n",
      "Risultato Test: POSITIVO\n",
      "\n",
      "******************************\n",
      "\n",
      "Test funzione: creaListaRighe \n",
      "\n",
      "Input funzione: 'I_Malavoglia_50.txt', 'z', 8 \n",
      "\n",
      "Output atteso:\n",
      " [97, 101, 114, 128] \n",
      "\n",
      "Output ottenuto:\n",
      " [97, 101, 114, 128] \n",
      "\n",
      "Risultato Test: POSITIVO\n",
      "\n",
      "******************************\n",
      "\n",
      "Test funzione: creaListaRighe \n",
      "\n",
      "Input funzione: 'I_Malavoglia.txt', 's', 60 \n",
      "\n",
      "Output atteso:\n",
      " [97, 99, 129, 269, 559, 1079, 1343, 1583, 1749, 2273, 2277, 2367, 2421, 2537, 2541, 2595, 2631, 2687, 2989, 3009, 3053, 3069, 3109, 3127] \n",
      "\n",
      "Output ottenuto:\n",
      " [97, 99, 129, 269, 559, 1079, 1343, 1583, 1749, 2273, 2277, 2367, 2421, 2537, 2541, 2595, 2631, 2687, 2989, 3009, 3053, 3069, 3109, 3127] \n",
      "\n",
      "Risultato Test: POSITIVO\n",
      "\n",
      "******************************\n",
      "\n",
      "Test funzione: creaListaRighe \n",
      "\n",
      "Input funzione: 'I_Malavoglia.txt', 't', 65 \n",
      "\n",
      "Output atteso:\n",
      " [97, 99, 129, 269, 559, 1133, 1493, 1583, 1749, 2247, 2269, 2273, 2277, 2367, 2369, 2421, 2537, 2595, 2629, 2631, 2687, 2987, 2989, 3069] \n",
      "\n",
      "Output ottenuto:\n",
      " [97, 99, 129, 269, 559, 1133, 1493, 1583, 1749, 2247, 2269, 2273, 2277, 2367, 2369, 2421, 2537, 2595, 2629, 2631, 2687, 2987, 2989, 3069] \n",
      "\n",
      "Risultato Test: POSITIVO\n",
      "\n",
      "******************************\n",
      "\n"
     ]
    },
    {
     "data": {
      "text/plain": [
       "1"
      ]
     },
     "execution_count": 1,
     "metadata": {},
     "output_type": "execute_result"
    }
   ],
   "source": [
    "from tester import tester_fun\n",
    "\n",
    "def creaListaRighe(f,c,n):\n",
    "    s=[]\n",
    "    f1=open(f,encoding='UTF-8')\n",
    "    f2=f1.readlines()\n",
    "    for r in range(len(f2)):\n",
    "        if f2[r].count(c)>=n:\n",
    "            s.append(1+r)\n",
    "    f1.close()\n",
    "        \n",
    "    return s\n",
    "\n",
    "tester_fun(creaListaRighe,[\"I_Malavoglia_50.txt\",'a',25],[95, 97, 99, 101, 114, 116, 120, 122, 124, 128, 130, 132, 134, 136, 140, 142])\n",
    "tester_fun(creaListaRighe,[\"I_Malavoglia_50.txt\",'v',12],[97, 99, 101, 114, 120, 128, 130, 134, 140])\n",
    "tester_fun(creaListaRighe,[\"I_Malavoglia_50.txt\",'z',8],[97, 101, 114, 128])\n",
    "tester_fun(creaListaRighe,[\"I_Malavoglia.txt\",'s',60], [97, 99, 129, 269, 559, 1079, 1343, 1583, 1749, 2273, 2277, 2367, 2421, 2537, 2541, 2595, 2631, 2687, 2989, 3009, 3053, 3069, 3109, 3127])\n",
    "tester_fun(creaListaRighe,[\"I_Malavoglia.txt\",'t',65],[97, 99, 129, 269, 559, 1133, 1493, 1583, 1749, 2247, 2269, 2273, 2277, 2367, 2369, 2421, 2537, 2595, 2629, 2631, 2687, 2987, 2989, 3069])"
   ]
  },
  {
   "cell_type": "markdown",
   "metadata": {},
   "source": [
    "### Esercizio 4:\n",
    "Scrivere una funzione che prende in input il nome **f** di un file (composto solo da caratteri alfabetici, spazi bianchi e caratteri '\\n') ed un carattere **c** e restituisce la lista ordinata alfabeticamente delle parole (ottenute usando il comando *split()*) che iniziano e finiscono per il carattere **c**."
   ]
  },
  {
   "cell_type": "code",
   "execution_count": 5,
   "metadata": {},
   "outputs": [
    {
     "name": "stdout",
     "output_type": "stream",
     "text": [
      "Test funzione: creaListaParole \n",
      "\n",
      "Input funzione: 'testo.txt', 'a' \n",
      "\n",
      "Output atteso:\n",
      " ['a', 'abbia', 'acqua', 'alla', 'allora', 'altra', 'amara', 'ammarrata', 'ancora', 'andava', 'anzianita', 'avea', 'aveva'] \n",
      "\n",
      "Output ottenuto:\n",
      " ['a', 'abbia', 'acqua', 'alla', 'allora', 'altra', 'amara', 'ammarrata', 'ancora', 'andava', 'anzianita', 'avea', 'aveva'] \n",
      "\n",
      "Risultato Test: POSITIVO\n",
      "\n",
      "******************************\n",
      "\n",
      "Test funzione: creaListaParole \n",
      "\n",
      "Input funzione: 'testo.txt', 'e' \n",
      "\n",
      "Output atteso:\n",
      " ['e', 'ebbe', 'essere'] \n",
      "\n",
      "Output ottenuto:\n",
      " ['e', 'ebbe', 'essere'] \n",
      "\n",
      "Risultato Test: POSITIVO\n",
      "\n",
      "******************************\n",
      "\n",
      "Test funzione: creaListaParole \n",
      "\n",
      "Input funzione: 'testo.txt', 'i' \n",
      "\n",
      "Output atteso:\n",
      " ['i'] \n",
      "\n",
      "Output ottenuto:\n",
      " ['i'] \n",
      "\n",
      "Risultato Test: POSITIVO\n",
      "\n",
      "******************************\n",
      "\n",
      "Test funzione: creaListaParole \n",
      "\n",
      "Input funzione: 'testo.txt', 'o' \n",
      "\n",
      "Output atteso:\n",
      " ['o', 'opposto', 'orto'] \n",
      "\n",
      "Output ottenuto:\n",
      " ['o', 'opposto', 'orto'] \n",
      "\n",
      "Risultato Test: POSITIVO\n",
      "\n",
      "******************************\n",
      "\n",
      "Test funzione: creaListaParole \n",
      "\n",
      "Input funzione: 'testo.txt', 'u' \n",
      "\n",
      "Output atteso:\n",
      " [] \n",
      "\n",
      "Output ottenuto:\n",
      " [] \n",
      "\n",
      "Risultato Test: POSITIVO\n",
      "\n",
      "******************************\n",
      "\n"
     ]
    },
    {
     "data": {
      "text/plain": [
       "1"
      ]
     },
     "execution_count": 5,
     "metadata": {},
     "output_type": "execute_result"
    }
   ],
   "source": [
    "from tester import tester_fun\n",
    "\n",
    "def creaListaParole(f,c):\n",
    "    f1=open(f,'r',encoding='UTF-8')\n",
    "    f2=f1.read().strip().split()\n",
    "    f2.sort()\n",
    "    s=[]\n",
    "    for i in f2:\n",
    "        if i[0]==c and i[len(i)-1]==c and i not in s:\n",
    "            s.append(i)\n",
    "    f1.close()\n",
    "    return s\n",
    "\n",
    "tester_fun(creaListaParole,[\"testo.txt\",'a'],['a', 'abbia', 'acqua', 'alla', 'allora', 'altra', 'amara', 'ammarrata', 'ancora', 'andava', 'anzianita', 'avea', 'aveva'])\n",
    "tester_fun(creaListaParole,[\"testo.txt\",'e'],['e', 'ebbe', 'essere'])\n",
    "tester_fun(creaListaParole,[\"testo.txt\",'i'],['i'])\n",
    "tester_fun(creaListaParole,[\"testo.txt\",'o'],['o', 'opposto', 'orto'])\n",
    "tester_fun(creaListaParole,[\"testo.txt\",'u'],[])"
   ]
  },
  {
   "cell_type": "code",
   "execution_count": null,
   "metadata": {},
   "outputs": [],
   "source": []
  }
 ],
 "metadata": {
  "kernelspec": {
   "display_name": "Python 3",
   "language": "python",
   "name": "python3"
  },
  "language_info": {
   "codemirror_mode": {
    "name": "ipython",
    "version": 3
   },
   "file_extension": ".py",
   "mimetype": "text/x-python",
   "name": "python",
   "nbconvert_exporter": "python",
   "pygments_lexer": "ipython3",
   "version": "3.7.4"
  }
 },
 "nbformat": 4,
 "nbformat_minor": 4
}
