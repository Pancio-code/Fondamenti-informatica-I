{
 "cells": [
  {
   "cell_type": "markdown",
   "metadata": {
    "slideshow": {
     "slide_type": "slide"
    }
   },
   "source": [
    "#### Autori: Domenico Lembo, Giuseppe Santucci and Marco Schaerf\n",
    "\n",
    "[Dipartimento di Ingegneria informatica, automatica e gestionale](https://www.diag.uniroma1.it)\n",
    "\n",
    "<img src=\"https://mirrors.creativecommons.org/presskit/buttons/88x31/png/by-nc-sa.eu.png\"\n",
    "     alt=\"License\"\n",
    "     style=\"float: left;\"\n",
    "     height=\"40\" width=\"100\" />\n",
    "This notebook is distributed with license Creative Commons *CC BY-NC-SA*"
   ]
  },
  {
   "cell_type": "markdown",
   "metadata": {},
   "source": [
    "# Ciclo While\n",
    "\n",
    "1. Iterazioni (numero di ripetizioni noto o ignoto)\n",
    "  + 1.1 Istruzione while\n",
    "  + 1.2 Esempio: stringa casuale che termina per \"o\"\n",
    "  + 1.3 Esempio: ciclo di controllo su interi negativi e positivi\n",
    "2. Ciclo while controllato da \"sentinella\"\n",
    "3. Cicli con accumulatori \n",
    "  + 3.1 Esempio: somma interi da tastiera con sentinella\n",
    "  + 3.2 Esempio: somma interi da tastiera fino al superamento di una soglia\n",
    "4. Ricerca di valori caratteristici in una sequenza o insieme\n",
    "  + 4.1 Esempio: trovare il minimo in una sequenza di interi\n",
    "4. Cicli che analizzano elementi adiacenti di una sequenza\n",
    "5. Cicli definiti ed indefiniti \n",
    "6. Trova gli errori e correggi\n",
    "7. Esempio uso del While per ripetere programma\n",
    "8. Esercizi"
   ]
  },
  {
   "cell_type": "markdown",
   "metadata": {},
   "source": [
    "### Iterazioni (numero di ripetizioni noto o ignoto)\n",
    "In molte situazioni alcune istruzioni devono essere ripetute più volte, come ad esempio leggere una sequenza di numeri e calcolarne la somma. Se sappiamo quanti sono i numeri da leggere potremmo, in teoria, creare abbastanza variabili, leggere tutti i numeri, memorizzare ciascun numero in una variabile e poi sommare tutte le variabili. Questo è molto inefficiente se il numero di input è alto, ma diventa addirittura impossibile se non sappiamo in precedenza quanti numeri dovremo sommare.\n",
    "\n",
    "Per risolvere questi problemi useremo le istruzioni di ciclo di Python, oggi introduciamo l'istruzione `while`"
   ]
  },
  {
   "cell_type": "markdown",
   "metadata": {},
   "source": [
    "#### Istruzione while\n",
    "L'istruzione `while` in Python ha il seguente formato:\n",
    "\n",
    "```python\n",
    "while condizione:\n",
    "    istruzione1\n",
    "    istruzione2\n",
    "    ....\n",
    "    istruzionen\n",
    "```\n",
    "\n",
    "L'istruzione `while` dell'esempio sopra va letta nel seguente modo:\n",
    "*Finché la condizione è vera, esegui le istruzioni da 1 a n*.\n",
    "La condizione è un'espressione booleana il cui valore può essere `True` o `False`.\n",
    "L'esecuzione dell'istruzione `while` avviene nel seguente modo:\n",
    "1. Si verifica se la condizione è `True`\n",
    "  * In caso positivo, vengono eseguite le istruzioni e si torna al punto 1\n",
    "  * In caso negativo, il ciclo termina e si esegue la prima istruzione FUORI dal ciclo While\n",
    "  \n",
    "\n",
    "Di seguito un semplice diagramma di flusso che rappresenta graficamente una generica istruzione `while`.\n",
    "\n",
    "<img src=\"./immagini/FlussoWhileS.png\" alt=\"drawing\" style=\"width:300px;\" align=\"middle\"/>"
   ]
  },
  {
   "cell_type": "code",
   "execution_count": null,
   "metadata": {},
   "outputs": [],
   "source": [
    "#Esempio\n",
    "\n",
    "s = input('Inserisci una stringa: ')\n",
    "\n",
    "i = 0\n",
    "while i < len(s):\n",
    "    print(s[i])\n",
    "    i += 1"
   ]
  },
  {
   "cell_type": "markdown",
   "metadata": {},
   "source": [
    "Già da questo semplice esempio si vedono alcuni degli elementi principali che costituiscono un ciclo: \n",
    "\n",
    "(a) inizializzazione della variabile `i`, chiamata variabile di controllo del ciclo (`i = 0`); \n",
    "\n",
    "(b) specifica della condizione, che deve essere vera perchè si esegua il ciclo (`i < len(s)`); \n",
    "\n",
    "(c) definizione dell'operazione da eseguire (`print(s[i])`); \n",
    "\n",
    "(d) incremento della variabile di controllo (`i += 1` )\n",
    "\n",
    "Quanto appena detto costituisce uno schema di base che, come vedremo, può avere diverse varianti. "
   ]
  },
  {
   "cell_type": "markdown",
   "metadata": {},
   "source": [
    "#### Esempio: stringa casuale che termina per \"o\"\n",
    "scrivere un programma che stampa una stringa casuale che termina per il carattere 'o'"
   ]
  },
  {
   "cell_type": "code",
   "execution_count": null,
   "metadata": {},
   "outputs": [],
   "source": [
    "# Soluzione\n",
    "import random\n",
    "c=333  #qualunque intero diverso da ord('o')\n",
    "\n",
    "while chr(c)!=\"o\":\n",
    "    c=random.randint(ord(\"a\"),ord(\"z\"))\n",
    "    print(chr(c)) # se usiamo print(chr(c),end='') la stringa è stampata in una sola riga.\n",
    "    \n",
    "# in questo caso la variabile di controllo è la variabile c"
   ]
  },
  {
   "cell_type": "markdown",
   "metadata": {},
   "source": [
    "#### Esempio: ciclo di controllo su interi negativi e positivi\n",
    "una stringa s è convertibile in un intero se e solo se:\n",
    "* contiene almeno un carattere (len(s)>0) *and*\n",
    "* (è composta da tutti caratteri numerici (s.isdecimal()) *or*\n",
    "  * (comincia per + o - (s[0] in \"+-\") *and* \n",
    "  * tutto il resto è composto da caratteri numerici (s[1:].isdecimal())))\n",
    "  \n",
    "Il seguente programma chiede ripetutamente all'utente di inserire un intero e termina stampando l'intero inserito solo quando l'utente ha immesso come input al programma una stringa convertibile in un intero (cioè è una stringa contenente solo cifre, eventualmente preceduta dai simboli `+` o `-`)."
   ]
  },
  {
   "cell_type": "code",
   "execution_count": null,
   "metadata": {},
   "outputs": [],
   "source": [
    "convertibile=False\n",
    "while not convertibile:\n",
    "    s=input(\"Inserisci un intero: \")\n",
    "    s=s.strip() #toglie gli spazi bianchi all'inizio e fine della stringa\n",
    "    convertibile= len(s) > 0 and (s.isdecimal() or (s[0] in \"+-\" and s[1:].isdecimal())) \n",
    "    # se la stringa s è vuota, s.isdecimal() restituisce False, per cui il controllo len(s)>0 si può anche eliminare\n",
    "    \n",
    "print(int(s))"
   ]
  },
  {
   "cell_type": "markdown",
   "metadata": {},
   "source": [
    "**Nota:** il metodo `strip()` restituisce una copia della stringa in cui vengono rimossi i caratteri di spaziatura iniziali e finali. I caratteri di spaziatura non sono solo gli spazi, ma includono anche caratteri come le andate a capo `\\n` e le tabulazioni `\\t`. La variante `str.strip(substring)` opera come `strip()`, ma invece dei caratteri di spaziatura elimina tutte le occorrenze dei caratteri in `substring` (fino a che non trova in str un carattere non contenuto in `substring`)"
   ]
  },
  {
   "cell_type": "markdown",
   "metadata": {},
   "source": [
    "### Ciclo while controllato da \"sentinella\"\n",
    "\n",
    "La condizione del `while` è in questo caso dipendente dai valori inseriti iterativamente in input dall'utente, ed il ciclo termina quando l'utente inserisce un valore speciale, detto *valore sentinella*. Questo valore in genere non è significativo per la computazione che il ciclo deve effettuare ed ha come unico scopo quello di comunicare al programma che il ciclo deve interrompersi. \n",
    "\n",
    "Se vogliamo leggere una sequenza di n elementi terminata da un valore *sentinella*, abbiamo\n",
    "tre operazioni da svolgere (non necessariamente nell'ordine): \n",
    "- leggere un elemento\n",
    "- valutare la condizione\n",
    "- elaborare l'elemento letto\n",
    "\n",
    "In particolare possiamo usare uno schema che prevede la *lettura solo nel ciclo*, oppure *lettura prima e dentro il ciclo* (interessanti vantaggi)"
   ]
  },
  {
   "cell_type": "code",
   "execution_count": null,
   "metadata": {},
   "outputs": [],
   "source": [
    "# gestione sequenza di n>=0 interi con LETTURA SOLO DENTRO IL CICLO\n",
    "# inizializzazione variabile di controllo del ciclo prima del ciclo stesso.\n",
    "# Nel while: prima leggo e poi, if i!=sentinella, elaboro\n",
    "\n",
    "i=\"0\" # la variabile di controllo è inizializzata ad un valore che forza l'esecuzione del ciclo (prima iterazione) \n",
    "while i!=\"*\":  # * è il valore \"sentinella\"\n",
    "    i=input(\"inserici un intero  (* per terminare): \")\n",
    "    if i!='*':\n",
    "        print(\"Hai inserito:\",int(i))\n",
    "    \n",
    "    \n",
    "# il ciclo while viene eseguito n+1 volte \n",
    "# (per chiarezza: n+1 è il numero di volte che viene \n",
    "# eseguito il blocco di istruzioni contenuto nel ciclo;\n",
    "# l'ultima volta è per l'inserimento della sentinella).\n",
    "# La condizione del while (i!=\"*\") viene verificata \n",
    "# una volta in più, quella in cui fallisce e si esce \n",
    "# dal ciclo. Questo è sempre vero quando si usa il while"
   ]
  },
  {
   "cell_type": "markdown",
   "metadata": {},
   "source": [
    "Quando si decide di avere letture solo nel ciclo è importante ricordarsi di: \n",
    "- (a) inizializzare la variabile di controllo ad un valore che forzi l'esecuzione del ciclo almeno una volta \n",
    "- (b) evitare di processare il dato quando viene inserita la \"sentinella\" (input speciale che indica la terminazione della sequenza)."
   ]
  },
  {
   "cell_type": "code",
   "execution_count": null,
   "metadata": {},
   "outputs": [],
   "source": [
    "# gestione sequenza di n>=0 interi con LETTURA FUORI DAL CICLO\n",
    "# leggo una sola volta fuori ciclo\n",
    "# nel while: elaboro, leggo (senza if)\n",
    "\n",
    "i=input(\"inserici un intero  (* per terminare): \")\n",
    "while i!=\"*\":\n",
    "    print(\"Hai inserito:\",int(i))\n",
    "    i=input(\"inserici un intero  (* per terminare): \")\n",
    "    \n",
    "# il ciclo while viene eseguito n volte\n",
    "# (ma le letture sono sempre n+1)"
   ]
  },
  {
   "cell_type": "markdown",
   "metadata": {},
   "source": [
    "Di seguito proponiamo una variante dello schema con lettura solo dentro il ciclo, in cui si utilizza una variabile di controllo Booleana."
   ]
  },
  {
   "cell_type": "code",
   "execution_count": null,
   "metadata": {},
   "outputs": [],
   "source": [
    "# gestione sequenza di n>=0 interi con LETTURA SOLO DENTRO IL CICLO\n",
    "# e variabile di controllo del ciclo booleana.\n",
    "# Occorre eseguire la prima parte del ciclo per vedere se il ciclo è terminato\n",
    "\n",
    "finito=False\n",
    "\n",
    "while not finito:\n",
    "    i=input(\"inserici un intero  (* per terminare): \")\n",
    "    if i==\"*\":\n",
    "        finito=True\n",
    "    else:\n",
    "        print(\"Hai inserito:\",int(i))\n",
    "\n",
    "# il ciclo while viene eseguito n+1 volte"
   ]
  },
  {
   "cell_type": "markdown",
   "metadata": {},
   "source": [
    "### Cicli con accumulatori\n",
    "\n",
    "Spesso in un ciclo si ha la necessità di *accumulare* i valori di una sequenza o insieme usando una variabile, chiamata appunto accumulatore. Il significato di accumulare dipende dall'obiettivo della computazione che il ciclo deve effettuare. Ad esempio, può significare effettuare una somma, o una moltiplicazione, o una concatenazione di stringhe, ecc. Alla fine del ciclo la variabile usata come accumulatore contiene il valore finale che si intendeva calcolare attraverso il ciclo. In genere si accumula *fino alla scansione completa di una sequenza*, o *fino al raggiungimento di una certo valore* per l'accumulatore (vedi esempi successiv)\n",
    "\n",
    "L'accumulatore deve essere inizializzato prima di entrare nel ciclo. In genere è inizializzato ad un valore neutro rispetto all'operazione utilizzata per accumulare dati. Se ad esempio vogliamo accumulare numeri (interi o frazionari) eseguendo selle somme, l'accumulatore dovrà essere inizializzato a `0`. Similmente, se l'operazione di accumulazione fosse una moltiplicazione di numeri, si dovrebbe inizializzare l'accumulatore al valore `1`."
   ]
  },
  {
   "cell_type": "markdown",
   "metadata": {},
   "source": [
    "#### Esempio: somma interi da tastiera con sentinella\n",
    "Scrivere un programma che somma una serie di interi letti da tastiera e si ferma quando si introduce un asterisco $*$. Il programma può ricevere in input anche stringhe non intepretabili come numeri interi. In questo caso deve semplicemente chiedere l'inserimento di un nuovo intero."
   ]
  },
  {
   "cell_type": "code",
   "execution_count": null,
   "metadata": {},
   "outputs": [],
   "source": [
    "# 1: versione con LETTURA SOLO DENTRO IL CICLO (almeno una esecuzione del ciclo)\n",
    "\n",
    "s=\"c\"  #qualunque carattere diverso da '*'\n",
    "somma=0 # somma è l'accumulatore\n",
    "while s!=\"*\":\n",
    "    s=input(\"Inserisci un intero  (* per terminare) \")\n",
    "    if len(s)>0 and (s.isdecimal() or (s[0] in \"+-\" and s[1:].isdecimal())):\n",
    "        somma=somma+int(s)\n",
    "    print(\"somma parziale= \",somma)    \n",
    "        \n",
    "print(\"totale = \",somma)        "
   ]
  },
  {
   "cell_type": "code",
   "execution_count": null,
   "metadata": {},
   "outputs": [],
   "source": [
    "# 2: versione con LETTURA SOLO DENTRO IL CICLO (almeno una esecuzione del ciclo) e messaggio di errore\n",
    "s=\"c\"  #qualunque carattere diverso da '*'\n",
    "somma=0\n",
    "while s!=\"*\":\n",
    "    s=input(\"Inserisci un intero  (* per terminare) \")\n",
    "    if len(s)>0 and (s.isdecimal() or (s[0] in \"+-\" and s[1:].isdecimal())):\n",
    "        somma=somma+int(s)\n",
    "    elif s!='*': # cosa succede se sostituiamo elif s!='*' con else, o con if ?\n",
    "         print('Il valore ',s,' non è ammissibile in questo programma')       \n",
    "print(\"totale = \",somma)        "
   ]
  },
  {
   "cell_type": "code",
   "execution_count": null,
   "metadata": {},
   "outputs": [],
   "source": [
    "# 3: versione con prima LETTURA FUORI DAL CICLO (è possibile che il ciclo non venga mai eseguito)\n",
    "s=input(\"Inserisci un intero  (* per terminare) \")\n",
    "somma=0\n",
    "\n",
    "while s!=\"*\":\n",
    "    if len(s)>0 and (s.isdecimal() or (s[0] in \"+-\" and s[1:].isdecimal())):\n",
    "        somma=somma+int(s)\n",
    "    s=input(\"Inserisci un intero  (* per terminare) \")\n",
    "\n",
    "print(\"totale = \",somma)"
   ]
  },
  {
   "cell_type": "code",
   "execution_count": null,
   "metadata": {},
   "outputs": [],
   "source": [
    "# Soluzione 4: versione con prima LETTURA FUORI DAL CICLO e messaggio di errore\n",
    "s=input(\"Inserisci un intero  (* per terminare) \")\n",
    "somma=0\n",
    "\n",
    "while s!=\"*\":\n",
    "    if len(s)>0 and (s.isdecimal() or (s[0] in \"+-\" and s[1:].isdecimal())):\n",
    "        somma=somma+int(s)\n",
    "    else:\n",
    "         print('Il valore ',s,' non è ammissibile in questo programma')       \n",
    "    s=input(\"Inserisci un intero  (* per terminare) \")\n",
    "\n",
    "print(\"totale = \",somma)"
   ]
  },
  {
   "cell_type": "markdown",
   "metadata": {},
   "source": [
    "Un altro esempio semplice di ciclo con accumulatore che accumula fino al completamento della lettura di una sequenza è quello di un ciclo che conta gli elementi della sequenza (vedi esercizi alla fine della sezione)."
   ]
  },
  {
   "cell_type": "markdown",
   "metadata": {},
   "source": [
    "#### Esempio: somma interi da tastiera fino al superamento di una soglia\n",
    "Si consideri il seguente programma che legge una sequenza di n>=0 interi e li somma sino al raggiungimento di un obbiettivo: somma >100"
   ]
  },
  {
   "cell_type": "code",
   "execution_count": null,
   "metadata": {},
   "outputs": [],
   "source": [
    "somma=0\n",
    "while somma<100:   \n",
    "    i=input(\"inserisci un intero : \")\n",
    "    somma=somma+int(i)\n",
    "\n",
    "print(\"La somma vale: \",somma)"
   ]
  },
  {
   "cell_type": "markdown",
   "metadata": {},
   "source": [
    "#### Esempio: accumulatore con le stringhe: cancellazione carattere da stringa\n",
    "Il seguente programma legge da tastiera una stringa `s` ed un carattere `c` e stampa a schermo una nuova stringa uguale ad `s` ma senza la prima occorrenza del carattere `c`: 'casa','a'->> 'csa'\n",
    "Se il carattere `c` non compare in `s` il programma stampa la stringa `s`"
   ]
  },
  {
   "cell_type": "code",
   "execution_count": null,
   "metadata": {},
   "outputs": [],
   "source": [
    "s = input('immetti una stringa: ')\n",
    "c = input('immetti un carattere: ')\n",
    "\n",
    "i=0\n",
    "s1=''\n",
    "while(i<len(s)):\n",
    "    if s[i]!=c:\n",
    "        s1=s1+s[i]\n",
    "    i=i+1\n",
    "print(s1)"
   ]
  },
  {
   "cell_type": "markdown",
   "metadata": {},
   "source": [
    "**Esercizio**: fornite una soluzione che non fa uso del ciclo `while` (vedi Esercizio 3 alla fine della sezione)"
   ]
  },
  {
   "cell_type": "markdown",
   "metadata": {},
   "source": [
    "### Ricerca di valori caratteristici di una sequenza o insieme\n",
    "\n",
    "In questo caso il ciclo è usato per determina un valore caratteristico tra i valori in una sequenza o insieme "
   ]
  },
  {
   "cell_type": "markdown",
   "metadata": {},
   "source": [
    "#### Esempio Trovare il minimo in una sequenza di interi\n",
    "Scrivere un programma che legge una sequenza di interi (letta da input e terminata dall'introduzione di un asterisco) e ne calcola il minimo"
   ]
  },
  {
   "cell_type": "code",
   "execution_count": null,
   "metadata": {},
   "outputs": [],
   "source": [
    "s=input(\"inserisci un intero  (* per terminare) \")\n",
    "\n",
    "if s != '*':\n",
    "    n = int(s) \n",
    "    minimo = n # per ora il minimo è il primo letto\n",
    "while s != '*':\n",
    "    n = int(s)\n",
    "    if n < minimo:\n",
    "        minimo = n\n",
    "    s=input(\"inserisci un intero  (* per terminare) \")\n",
    "print(minimo)"
   ]
  },
  {
   "cell_type": "markdown",
   "metadata": {},
   "source": [
    "**Nota:**\n",
    "Nel programma precedente abbiamo inizializzato la variabile minimo al primo valore letto. NON possiamo inizializzarlo ad un numero diverso, anche se molto alto, perchè non esiste in Python un intero che è sicuramente più grande di tutti gli altri numeri interi. Notate che se esistesse questo numero potremmo usarlo per inizializzare minimo, perchè i numeri inseriti sarebbero tutti minori o uguali di tale numero, e quindi il programma sarebbe corretto.\n"
   ]
  },
  {
   "cell_type": "markdown",
   "metadata": {},
   "source": [
    "**Nota2:** Cosa succede nell'esercizio precedente se inseriamo `'*'` come primo carattere della sequenza? Come potete risolvere il problema che si verifica in questo caso?"
   ]
  },
  {
   "cell_type": "markdown",
   "metadata": {},
   "source": [
    "### Cicli che analizzano elementi adiacenti di una sequenza\n",
    "\n",
    "In questo caso, ad ogni iterazione si devono confrontare elementi fra loro (almeno) due elementi della sequenza in input. \n",
    "\n",
    "Ad esempio, consideriamo il seguente programma il cui scopo è contare quante volte vengono inserite consecutivamente da input due stringhe uguali. Più precisamente, il programma legge una sequenza di stringhe (terminate da stringa vuota '') e conta quante volte 2 stringhe consecutive sono uguali. \n",
    "\n",
    "*Nota bene*: bisogna memorizzare la penultima stringa letta. Per dare in input una stringa vuota basta digitare invio."
   ]
  },
  {
   "cell_type": "code",
   "execution_count": null,
   "metadata": {},
   "outputs": [],
   "source": [
    "s=input(\"inserisci una stringa (stringa vuota per terminare): \")\n",
    "\n",
    "conta = 0 # per ora non ho ancora trovato coppie di stringhe uguali adiacenti\n",
    "precedente = s\n",
    "while s != '':\n",
    "    s=input(\"inserisci una stringa (stringa vuota per terminare): \")\n",
    "    if s==precedente:\n",
    "        conta += 1\n",
    "    precedente = s\n",
    "print(conta)"
   ]
  },
  {
   "cell_type": "markdown",
   "metadata": {},
   "source": [
    "### Cicli definiti ed indefiniti \n",
    "\n",
    "Il programma che conta gli elementi di una sequenza fino all'inserimento di una sentinella contiene un ciclo *indefinito* perchè il numero delle iterazioni che verranno eseguite *non* è prevedibile analizzando il contenuto delle variabili all'inizio del ciclo. \n",
    "\n",
    "Nei casi in cui questo numero di iterazioni è invece prevedibile sulla base del valore delle variabili all'inizio del ciclo, si parla di cicli *definiti*. Di seguito riportiamo due esempi di cicli definiti (un altro esempio è dato dal primo ciclo `while` contenuto in questa sezione). "
   ]
  },
  {
   "cell_type": "code",
   "execution_count": null,
   "metadata": {},
   "outputs": [],
   "source": [
    "## programma che stampa per n volte la parola CIAO, con n acquisito da tastiera\n",
    "\n",
    "n = int(input(\"inserisci il numero di volte che vuoi stampare la parola 'CIAO'\"))\n",
    "i=1\n",
    "while i <=n:\n",
    "    print('CIAO')\n",
    "    i+=1"
   ]
  },
  {
   "cell_type": "code",
   "execution_count": null,
   "metadata": {},
   "outputs": [],
   "source": [
    "## Programma che acquisisce un numero intero e stampa \n",
    "## in ordine decrescente, a partire da questo, i numeri \n",
    "## interi fino allo zero incluso\n",
    " \n",
    "\n",
    "n = int(input(\"Inserire un numero intero non negativo: \"))\n",
    "\n",
    "while n >= 0: \n",
    "    print(n)  \n",
    "    n = n-1\n"
   ]
  },
  {
   "cell_type": "markdown",
   "metadata": {},
   "source": [
    "### Esercizio: trova gli errori e correggi\n",
    "Il seguente programma dovrebbe calcolare la moltiplicazione di una serie di interi letti da tastiera fermandosi quando si introduce un asterisco $*$, ma contiene diversi errori. Correggili ed eseguilo sulla sequenza di input `3 1 10 1 2 *`. Il risultato che devi ottenere è 60"
   ]
  },
  {
   "cell_type": "code",
   "execution_count": null,
   "metadata": {},
   "outputs": [],
   "source": [
    "#versione con prima lettura esterna al ciclo (è possibile che il ciclo non venga mai eseguito)\n",
    "s=input(\"Inserisci un intero  (* per terminare) \")\n",
    "s=int(s)\n",
    "m=0\n",
    "\n",
    "while s!=\"*\":\n",
    "   if len(s)>0 and (s.isdecimal() or (s[0] in \"+-\" and s[1:].isdecimal()):\n",
    "      s=int(s)\n",
    "     m=m*int(s)\n",
    "    s=input(\"Inserisci un intero  (* per terminare) \")\n",
    "\n",
    "print(\"totale = \",M)"
   ]
  },
  {
   "cell_type": "markdown",
   "metadata": {},
   "source": [
    "### Esempio uso del while per ripetere programma\n"
   ]
  },
  {
   "cell_type": "code",
   "execution_count": null,
   "metadata": {},
   "outputs": [],
   "source": [
    "#ripetizione programma\n",
    "\n",
    "finito=False\n",
    "while not finito:\n",
    "    \n",
    "    #--Inizio programma\n",
    "    n=int(input(\"inserisci un intero positivo: \"))\n",
    "    print(\"il carattere corrispondente a\", n, \"è\", chr(n))\n",
    "    #--Fine programma\n",
    "    \n",
    "    s1=input(\"----Finisco (si/no)? \")\n",
    "    if s1.lower()==\"si\":\n",
    "        finito=True"
   ]
  },
  {
   "cell_type": "markdown",
   "metadata": {},
   "source": [
    "### Esercizi\n",
    "Completate questi esercizi prima di cominciare il prossimo argomento"
   ]
  },
  {
   "cell_type": "markdown",
   "metadata": {},
   "source": [
    "### Esercizio 1: \n",
    "Scrivere un programma che legge una sequenza di stringhe inserite da input (una alla volta) e termina all'inserimento di una stringa vuota (solo invio) stampando a schermo il numero di stringhe non vuote inserite.\n",
    "\n",
    "*Fornite due soluzioni, una con prima lettura fuori dal ciclo ed una soluzione con lettura solo nel ciclo*"
   ]
  },
  {
   "cell_type": "code",
   "execution_count": null,
   "metadata": {},
   "outputs": [],
   "source": [
    "#Esercizio: conta stringhe (con prima lettura fuori dal ciclo)\n"
   ]
  },
  {
   "cell_type": "code",
   "execution_count": null,
   "metadata": {
    "scrolled": true
   },
   "outputs": [],
   "source": [
    "#Esercizio: conta stringhe (con lettura solo nel ciclo)\n"
   ]
  },
  {
   "cell_type": "markdown",
   "metadata": {},
   "source": [
    "### Esercizio 2:\n",
    "Scrivere un programma che legge una sequenza di n>0 interi (letta da input e terminata dall'introduzione di un asterisco), ne calcola il massimo e lo stampa a schermo."
   ]
  },
  {
   "cell_type": "code",
   "execution_count": null,
   "metadata": {},
   "outputs": [],
   "source": [
    "#max di una sequenza di n>0 interi \n"
   ]
  },
  {
   "cell_type": "markdown",
   "metadata": {},
   "source": [
    "### Esercizio 3:\n",
    "Scrivere un programma che legge da tastiera una stringa `s` ed un carattere `c` e stampa a schermo una nuova stringa uguale ad `s` ma senza la prima occorrenza del carattere `c`: 'casa','a'->> 'csa'.<br>Se il carattere `c` non compare in `s` il programma stampa la stringa `s`.\n",
    "\n",
    "*FORNIRE UNA SOLUZIONE CHE NON FA USO DEL while*"
   ]
  },
  {
   "cell_type": "code",
   "execution_count": null,
   "metadata": {},
   "outputs": [],
   "source": []
  },
  {
   "cell_type": "markdown",
   "metadata": {},
   "source": [
    "### Esercizio 4:\n",
    "Scrivere un programma che calcola la media di una sequenza di n>=0 interi (letta da input e terminata dall'introduzione di un asterisco) e la stampa a schermo. Nel caso n=0, stampare un messaggio che avvisa che non sono stati immessi valori."
   ]
  },
  {
   "cell_type": "code",
   "execution_count": null,
   "metadata": {},
   "outputs": [],
   "source": [
    "#Scrivere un programma che calcola la media di una sequenza di n>=0 interi\n",
    "#media di una sequenza di n>=0 interi con lettura fuori ciclo\n"
   ]
  },
  {
   "cell_type": "markdown",
   "metadata": {},
   "source": [
    "### Esercizio 5: \n",
    "Scrivere un programma che legge una sequenza di n>=0 interi (letta da input e terminata dall'introduzione di un asterisco), e stampa a schermo il numero di interi negativi inseriti."
   ]
  },
  {
   "cell_type": "code",
   "execution_count": null,
   "metadata": {},
   "outputs": [],
   "source": []
  },
  {
   "cell_type": "markdown",
   "metadata": {},
   "source": [
    "### Esercizio 6:\n",
    "Scrivere un programma che legge da tastiera una stringa `s` e ed un intero n>0 che rappresenta il passo e stampa a schermo, uno per riga, i caratteri di `s` separati da una distanza pari al passo `p`. Ad esempio, se `s=armadio` e`p=2`, il programma stampa<br>\n",
    "`carattere 0 = a`<br>\n",
    "`carattere 2 = m`<br>\n",
    "`carattere 4 = d`<br>\n",
    "`carattere 6 = o`<br>"
   ]
  },
  {
   "cell_type": "code",
   "execution_count": null,
   "metadata": {},
   "outputs": [],
   "source": [
    "#stampa i singoli caratteri di una stringa distanziati di passo :\n",
    "# s[0], s[passo], s[2*passo], etc...\n"
   ]
  }
 ],
 "metadata": {
  "kernelspec": {
   "display_name": "Python 3",
   "language": "python",
   "name": "python3"
  },
  "language_info": {
   "codemirror_mode": {
    "name": "ipython",
    "version": 3
   },
   "file_extension": ".py",
   "mimetype": "text/x-python",
   "name": "python",
   "nbconvert_exporter": "python",
   "pygments_lexer": "ipython3",
   "version": "3.7.4"
  }
 },
 "nbformat": 4,
 "nbformat_minor": 4
}
