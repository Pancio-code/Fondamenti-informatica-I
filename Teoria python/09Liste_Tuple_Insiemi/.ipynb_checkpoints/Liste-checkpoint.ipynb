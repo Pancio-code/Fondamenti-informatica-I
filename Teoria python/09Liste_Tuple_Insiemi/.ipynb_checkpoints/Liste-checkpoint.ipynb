{
 "cells": [
  {
   "cell_type": "markdown",
   "metadata": {
    "slideshow": {
     "slide_type": "slide"
    }
   },
   "source": [
    "#### Autori: Domenico Lembo, Giuseppe Santucci and Marco Schaerf\n",
    "\n",
    "[Dipartimento di Ingegneria informatica, automatica e gestionale](https://www.diag.uniroma1.it)\n",
    "\n",
    "<img src=\"https://mirrors.creativecommons.org/presskit/buttons/88x31/png/by-nc-sa.eu.png\"\n",
    "     alt=\"License\"\n",
    "     style=\"float: left;\"\n",
    "     height=\"40\" width=\"100\" />\n",
    "This notebook is distributed with license Creative Commons *CC BY-NC-SA*"
   ]
  },
  {
   "cell_type": "markdown",
   "metadata": {},
   "source": [
    "# Liste, tuple ed insiemi\n",
    "1. Liste\n",
    "2. Accesso e modifica degli elementi, slicing\n",
    "3. Variabili di tipo lista, copia superficiale e profonda\n",
    "2. Metodi per le liste\n",
    "3. Istruzione split() delle stringhe ed operatore in\n",
    "4. Esercizio: crea lista dei caratteri DISTINTI di una stringa presa in input\n",
    "11. Tuple\n",
    "12. Assegnazioni multiple\n",
    "13. Funzioni che restituiscono più valori\n",
    "14. Funzioni con un numero variabile di argomenti\n",
    "15. Insiemi"
   ]
  },
  {
   "cell_type": "markdown",
   "metadata": {},
   "source": [
    "### Liste\n",
    "In Python le liste servono per raccogliere, in modo ordinato e sequenziale, elementi di qualunque tipo, anche disomogenei tra di loro. Le caratteristiche fondamentali delle liste sono:\n",
    "  * possono contenere elementi eterogenei\n",
    "  * sono oggetti mutabili\n",
    "  * sono ordinabili (se composte da elementi compatibili per l'ordinamento)\n",
    "  * la loro copia può essere superficiale o profonda\n",
    "\n",
    "Come per le stringhe, ogni elemento di una lista ha una sua posizione, sempre a partire dalla posizione 0. Vediamo ora alcuni esempi:"
   ]
  },
  {
   "cell_type": "code",
   "execution_count": 1,
   "metadata": {},
   "outputs": [
    {
     "name": "stdout",
     "output_type": "stream",
     "text": [
      "4\n",
      "casa\n",
      "-7.5\n",
      "a\n",
      "33\n",
      "0 casa\n",
      "1 -7.5\n",
      "2 a\n",
      "3 33\n"
     ]
    }
   ],
   "source": [
    "# Primi esempi di liste e loro uso\n",
    "L1 = [2, 4, 6, 7] #Lista di numeri interi.\n",
    "# Tutti gli elementi sono dello stesso tipo (omogenea)\n",
    "\n",
    "L2 = ['casa', 'palla', 'strada'] #Lista di stringhe.\n",
    "# Tutti gli elementi sono dello stesso tipo (omogenea)\n",
    "\n",
    "L3 = ['casa', -7.5, 'a', 33] #Lista di elementi di tipo diverso.\n",
    "# NON tutti gli elementi sono dello stesso tipo (disomogenea)\n",
    "# Python ammette l'uso di liste disomogenee\n",
    "\n",
    "print(len(L3)) #stampa la lunghezza della lista (numero di elementi)\n",
    "\n",
    "for elem in L3: #ciclo sugli elementi\n",
    "    print(elem) \n",
    "\n",
    "    \n",
    "for i in range(len(L3)): #ciclo sulle posizioni\n",
    "    print(i,L3[i]) "
   ]
  },
  {
   "cell_type": "code",
   "execution_count": 2,
   "metadata": {},
   "outputs": [
    {
     "name": "stdout",
     "output_type": "stream",
     "text": [
      "[2, 26, False]\n"
     ]
    }
   ],
   "source": [
    "x = 2\n",
    "y = -5\n",
    "L = [x, y**2 + 1, x == 3] #Lista contenente espressioni e variabili.\n",
    "print(L)    "
   ]
  },
  {
   "cell_type": "markdown",
   "metadata": {},
   "source": [
    "### Operatori sulle liste\n",
    "\n",
    "Di seguito riportiamo un elenco dei pricipali operatori definiti per liste\n",
    "\n",
    "sintassi | descrizione\n",
    "--- | ---\n",
    "lista1 == lista2  | confronto (\"uguale a\")\n",
    "lista1 != lista2  | confronto (\"diverso da\")\n",
    "espressione in lista | verifica la presenza di un valore (calcolato da una espressione) nella lista\n",
    "espressione not in lista | verifica l'assenza di un valore dalla lista\n",
    "lista1 + lista2| crera una nuova lista attraverso la concatenazione degli elementi di lista1 e lista2\n",
    "lista * num | crea una nuova lista replicando per num volte gli elementi di lista\n",
    "lista[i] | indicizzazione:accesso all'elemento di posizione i\n",
    "lista[i:j] | slicing: accesso alla sottolista identificata dagli indici i (incluso) e j (escluso)\n",
    "\n",
    "\n",
    "Semantica degli operatori `==` e `!=`: due liste sono considerate uguali se sono composte dallo stesso numero di elementi, e se ogni elemento è uguale all’elemento che si trova nella stessa posizione nell’altra lista. In altri termini, le due liste L1 ed L2 sono uguali se `len(L1)==len(L2)`, e per ogni `0 <= i < len(L1)` abbiamo che `L1[i]==L2[i]`. Se una delle precedenti condizioni non è vera allora L1 ed L2 sono diverse."
   ]
  },
  {
   "cell_type": "code",
   "execution_count": 8,
   "metadata": {},
   "outputs": [
    {
     "name": "stdout",
     "output_type": "stream",
     "text": [
      "le due liste [1, 2, 'pippo'] e [1, 2, 'pippo'] sono uguali? True\n",
      "le due liste [1, 2, 'pippo'] e [1, 2, 'pippo'] sono uguali? True\n",
      "le due liste [1, 2, 'pippo'] e [1.1, 2, 'pippo'] sono uguali? False\n",
      "le due liste [1, 2, 'pippo'] e ['1', 2, 'pippo'] sono uguali? False\n",
      "concateno [1, 2, 'pippo'] e ['1', 2, 'pippo'] \n",
      " [1, 2, 'pippo', '1', 2, 'pippo']\n"
     ]
    }
   ],
   "source": [
    "LL1 = [1,2,'pippo']\n",
    "\n",
    "LL2 = [1,2,'pippo']\n",
    "\n",
    "print('le due liste', LL1, 'e' ,LL2, 'sono uguali?', LL1==LL2)\n",
    "\n",
    "LL2 = [1,1+1,'pippo']\n",
    "\n",
    "print('le due liste', LL1, 'e' ,LL2, 'sono uguali?', LL1==LL2)\n",
    "\n",
    "LL2 = [1.1,2,'pippo']\n",
    "\n",
    "print('le due liste', LL1, 'e' ,LL2, 'sono uguali?', LL1==LL2)\n",
    "\n",
    "LL2 = ['1',2,'pippo']\n",
    "\n",
    "print('le due liste', LL1, 'e' ,LL2, 'sono uguali?', LL1==LL2)\n",
    "\n",
    "print('concateno', LL1, 'e' ,LL2, '\\n',LL1+LL2)"
   ]
  },
  {
   "cell_type": "markdown",
   "metadata": {},
   "source": [
    "### Accesso e modifica degli elementi, slicing\n",
    "Come per le stringhe, si può accedere ai singoli elementi di una lista usando la notazione con le parentesi quadre '[' e ']'. *A differenza delle stringhe*, le liste sono **mutabili** e quindi è possibile cambiare il valore di una posizione. \n",
    "\n",
    "Come per le stringhe, è possibile selezionare una parte di una lista usando lo *slicing* con la stessa notazione delle stringhe. Vediamo degli esempi:"
   ]
  },
  {
   "cell_type": "code",
   "execution_count": 9,
   "metadata": {
    "scrolled": true
   },
   "outputs": [
    {
     "ename": "NameError",
     "evalue": "name 'L1' is not defined",
     "output_type": "error",
     "traceback": [
      "\u001b[1;31m---------------------------------------------------------------------------\u001b[0m",
      "\u001b[1;31mNameError\u001b[0m                                 Traceback (most recent call last)",
      "\u001b[1;32m<ipython-input-9-62b2851c87c3>\u001b[0m in \u001b[0;36m<module>\u001b[1;34m\u001b[0m\n\u001b[0;32m      3\u001b[0m \u001b[1;33m\u001b[0m\u001b[0m\n\u001b[0;32m      4\u001b[0m \u001b[1;31m# Accesso ad un elemento della lista\u001b[0m\u001b[1;33m\u001b[0m\u001b[1;33m\u001b[0m\u001b[1;33m\u001b[0m\u001b[0m\n\u001b[1;32m----> 5\u001b[1;33m \u001b[0mprint\u001b[0m\u001b[1;33m(\u001b[0m\u001b[0mL1\u001b[0m\u001b[1;33m[\u001b[0m\u001b[1;36m0\u001b[0m\u001b[1;33m]\u001b[0m\u001b[1;33m)\u001b[0m\u001b[1;33m\u001b[0m\u001b[1;33m\u001b[0m\u001b[0m\n\u001b[0m\u001b[0;32m      6\u001b[0m \u001b[1;33m\u001b[0m\u001b[0m\n\u001b[0;32m      7\u001b[0m \u001b[0mL3\u001b[0m \u001b[1;33m=\u001b[0m \u001b[1;33m[\u001b[0m\u001b[1;34m'casa'\u001b[0m\u001b[1;33m,\u001b[0m \u001b[1;33m-\u001b[0m\u001b[1;36m7.5\u001b[0m\u001b[1;33m,\u001b[0m \u001b[1;34m'a'\u001b[0m\u001b[1;33m,\u001b[0m\u001b[1;36m33\u001b[0m\u001b[1;33m]\u001b[0m\u001b[1;33m\u001b[0m\u001b[1;33m\u001b[0m\u001b[0m\n",
      "\u001b[1;31mNameError\u001b[0m: name 'L1' is not defined"
     ]
    }
   ],
   "source": [
    "# Ogni elemento della lista ha una posizione (indice)\n",
    "# come per le stringhe. Operazioni su liste\n",
    "\n",
    "# Accesso ad un elemento della lista\n",
    "print(L1[0])\n",
    "\n",
    "L3 = ['casa', -7.5, 'a',33] \n",
    "\n",
    "# Slicing della lista\n",
    "print(L3[1:3])\n",
    "\n",
    "# Calcolo della lunghezza (numero di elementi) della lista\n",
    "print(len(L3))\n",
    "\n",
    "# Le liste sono oggetti MUTABILI a differenza delle stringhe,\n",
    "# quindi è ammissibile cambiare il valore di un elemento:\n",
    "print(L3)\n",
    "L3[1] = 'pino'\n",
    "print(L3)"
   ]
  },
  {
   "cell_type": "markdown",
   "metadata": {},
   "source": [
    "### Variabili di tipo lista, copia superficiale e profonda\n",
    "Una variabile di tipo lista è un *riferimento* ad una zona di memoria in cui è contenuta la lista. Se scrivo `l4 = l3` **non sto creando una nuova lista**, ma solo un nuovo riferimento alla **stessa zona di memoria**. Quindi se poi modifico la lista `l3` (o `l4`, non fa differenza) anche l'altra variabile viene modificata. Questa si chiama una *copia superficiale* della lista, perché in realtà ha copiato solo il riferimento, non la lista. Se voglio creare una *vera copia* (detta *copia profonda*) della lista `l3` devo usare il metodo `copy()`, che usa una *nuova zona di memoria* in cui copia il contenuto della lista. Vediamo alcuni esempi:"
   ]
  },
  {
   "cell_type": "code",
   "execution_count": 3,
   "metadata": {},
   "outputs": [
    {
     "ename": "NameError",
     "evalue": "name 'L3' is not defined",
     "output_type": "error",
     "traceback": [
      "\u001b[1;31m---------------------------------------------------------------------------\u001b[0m",
      "\u001b[1;31mNameError\u001b[0m                                 Traceback (most recent call last)",
      "\u001b[1;32m<ipython-input-3-f6a6c967010d>\u001b[0m in \u001b[0;36m<module>\u001b[1;34m\u001b[0m\n\u001b[0;32m      1\u001b[0m \u001b[1;31m# La variabile che denota una lista è solo un nome (riferimento)\u001b[0m\u001b[1;33m\u001b[0m\u001b[1;33m\u001b[0m\u001b[1;33m\u001b[0m\u001b[0m\n\u001b[0;32m      2\u001b[0m \u001b[1;31m# Se faccio:\u001b[0m\u001b[1;33m\u001b[0m\u001b[1;33m\u001b[0m\u001b[1;33m\u001b[0m\u001b[0m\n\u001b[1;32m----> 3\u001b[1;33m \u001b[0mL4\u001b[0m \u001b[1;33m=\u001b[0m \u001b[0mL3\u001b[0m\u001b[1;33m\u001b[0m\u001b[1;33m\u001b[0m\u001b[0m\n\u001b[0m\u001b[0;32m      4\u001b[0m \u001b[1;31m# NON HO CREATO UNA NUOVA LISTA, ma solo un nuovo nome della STESSA lista\u001b[0m\u001b[1;33m\u001b[0m\u001b[1;33m\u001b[0m\u001b[1;33m\u001b[0m\u001b[0m\n\u001b[0;32m      5\u001b[0m \u001b[0mL4\u001b[0m\u001b[1;33m[\u001b[0m\u001b[1;36m2\u001b[0m\u001b[1;33m]\u001b[0m \u001b[1;33m=\u001b[0m \u001b[1;34m'alfa'\u001b[0m\u001b[1;33m\u001b[0m\u001b[1;33m\u001b[0m\u001b[0m\n",
      "\u001b[1;31mNameError\u001b[0m: name 'L3' is not defined"
     ]
    }
   ],
   "source": [
    "# La variabile che denota una lista è solo un nome (riferimento)\n",
    "# Se faccio:\n",
    "L4 = L3\n",
    "# NON HO CREATO UNA NUOVA LISTA, ma solo un nuovo nome della STESSA lista\n",
    "L4[2] = 'alfa'\n",
    "print('L4 vale:',L4)\n",
    "print('L3 vale:',L3)\n",
    "# Ho modificato sia L4 che L3, poichè L4 è solo un altro nome per L3.\n",
    "\n",
    "# Per fare vera copia di L3 devo usare la funzione copy():\n",
    "L4 = L3.copy()\n",
    "L4[2] = 'beta'\n",
    "print('L4 vale:',L4)\n",
    "print('L3 vale:',L3)\n",
    "# Ora L4 ed L3 sono diverse"
   ]
  },
  {
   "cell_type": "markdown",
   "metadata": {},
   "source": [
    "### Alcune funzioni predefinite su Liste\n",
    "\n",
    "Di seguito si riporta una lista di funzioni predefinite per liste\n",
    "\n",
    "nome | descrizione\n",
    "--- | ---\n",
    "len(lista) | restituisce la lunghezza della lista\n",
    "min(lista) | restituisce l'elemento più piccolo su una lista di elementi su<br>cui è definito un ordinamento (solo numeri, solo stringhe, ecc.).<br>Se l'ordinamento non è definito si ottiene un errore\n",
    "max(lista) | restituisce l'elemento più grande su una lista di elementi<br>su cui è definito un ordinamento. Se l'ordinamento non è<br>definito si ottiene un errore\n",
    "sum(lista) | restituisce la somma degli elementi della lista, se questi<br>sono numeri (int o float). Se la lista in input non è di soli<br>numeri, si ottiene un errore.\n",
    "\n",
    "\n"
   ]
  },
  {
   "cell_type": "markdown",
   "metadata": {},
   "source": [
    "\n",
    "### Metodi per le liste\n",
    "Le liste hanno molti metodi predefiniti che permettono di calcolare proprietà e modificare il contenuto delle liste. Vediamo i principali metodi:\n",
    "  * append\n",
    "  * clear\n",
    "  * copy\n",
    "  * count\n",
    "  * extend\n",
    "  * index\n",
    "  * insert\n",
    "  * pop\n",
    "  * remove\n",
    "  * reverse\n",
    "  * sort"
   ]
  },
  {
   "cell_type": "code",
   "execution_count": 6,
   "metadata": {},
   "outputs": [
    {
     "ename": "NameError",
     "evalue": "name 'L4' is not defined",
     "output_type": "error",
     "traceback": [
      "\u001b[1;31m---------------------------------------------------------------------------\u001b[0m",
      "\u001b[1;31mNameError\u001b[0m                                 Traceback (most recent call last)",
      "\u001b[1;32m<ipython-input-6-6638c0c807e3>\u001b[0m in \u001b[0;36m<module>\u001b[1;34m\u001b[0m\n\u001b[0;32m      1\u001b[0m \u001b[1;31m# append(elem)    serve per aggiungere un elemento\u001b[0m\u001b[1;33m\u001b[0m\u001b[1;33m\u001b[0m\u001b[1;33m\u001b[0m\u001b[0m\n\u001b[0;32m      2\u001b[0m \u001b[1;31m#                 IN FONDO alla lista. MODIFICA LA LISTA\u001b[0m\u001b[1;33m\u001b[0m\u001b[1;33m\u001b[0m\u001b[1;33m\u001b[0m\u001b[0m\n\u001b[1;32m----> 3\u001b[1;33m \u001b[0mprint\u001b[0m\u001b[1;33m(\u001b[0m\u001b[0mL4\u001b[0m\u001b[1;33m)\u001b[0m\u001b[1;33m\u001b[0m\u001b[1;33m\u001b[0m\u001b[0m\n\u001b[0m\u001b[0;32m      4\u001b[0m \u001b[0mL4\u001b[0m\u001b[1;33m.\u001b[0m\u001b[0mappend\u001b[0m\u001b[1;33m(\u001b[0m\u001b[1;33m-\u001b[0m\u001b[1;36m3.14\u001b[0m\u001b[1;33m)\u001b[0m \u001b[1;31m# ad L4 viene aggiunto in fondo l'elemento -3.14\u001b[0m\u001b[1;33m\u001b[0m\u001b[1;33m\u001b[0m\u001b[0m\n\u001b[0;32m      5\u001b[0m \u001b[0mprint\u001b[0m\u001b[1;33m(\u001b[0m\u001b[0mL4\u001b[0m\u001b[1;33m)\u001b[0m\u001b[1;33m\u001b[0m\u001b[1;33m\u001b[0m\u001b[0m\n",
      "\u001b[1;31mNameError\u001b[0m: name 'L4' is not defined"
     ]
    }
   ],
   "source": [
    "# append(elem)    serve per aggiungere un elemento\n",
    "#                 IN FONDO alla lista. MODIFICA LA LISTA\n",
    "print(L4)\n",
    "L4.append(-3.14) # ad L4 viene aggiunto in fondo l'elemento -3.14\n",
    "print(L4)"
   ]
  },
  {
   "cell_type": "code",
   "execution_count": null,
   "metadata": {},
   "outputs": [],
   "source": [
    "# clear()     serve per inizializzare la lista alla lista vuota.\n",
    "#             MODIFICA LA LISTA, se conteneva elementi vengono cancellati\n",
    "print(L4)\n",
    "L4.clear() # L4 diventa la lista vuota []\n",
    "print(L4)"
   ]
  },
  {
   "cell_type": "code",
   "execution_count": null,
   "metadata": {},
   "outputs": [],
   "source": [
    "# count(elem)     conta quante vole un elemento compare nella lista.\n",
    "#                 NON MODIFICA LA LISTA\n",
    "#                 prende sempre un solo argomento (diversamente dal metodo analogo per le stringhe)\n",
    "L5 = [7, 5, 11, 5, 9, 9, 0, 9]\n",
    "print(L5.count(9)) # restituisce 3\n",
    "print(L5.count(7)) # restituisce 1\n",
    "print(L5.count('alfa')) # restituisce 0\n",
    "print(L5) # L5 non è cambiata"
   ]
  },
  {
   "cell_type": "code",
   "execution_count": null,
   "metadata": {},
   "outputs": [],
   "source": [
    "# extend(lista)    aggiunge alla lista una nuova lista.\n",
    "#                  MODIFICA LA LISTA\n",
    "\n",
    "\n",
    "L2 = ['casa', 'palla', 'strada'] \n",
    "\n",
    "L4 = ['casa', -7.5, 'a',33] \n",
    "\n",
    "print(L4) # lista originaria\n",
    "L4.extend(L2) # Tutti gli elementi di L2 sono aggiunti (in fondo) a L4\n",
    "print(L4) # L4 è cambiata\n",
    "print(L2) # L2 NON è cambiata"
   ]
  },
  {
   "cell_type": "code",
   "execution_count": null,
   "metadata": {},
   "outputs": [],
   "source": [
    "# index(elem)    trova la (prima) posizione dell'elemento nella lista.\n",
    "#                Se l'elemento NON è presente va in ERRORE\n",
    "#                NON MODIFICA LA LISTA\n",
    "L6 = [7, 5, 11, 5, 9, 9, 0, 9]\n",
    "print(L6.index(9)) # restituisce 4, prima posizione in cui c'è un 9\n",
    "print(L6.index(7)) # restituisce 0\n",
    "print(L6.index('alfa')) # va in errore (ValueError: 'alfa' is not in list)"
   ]
  },
  {
   "cell_type": "code",
   "execution_count": null,
   "metadata": {},
   "outputs": [],
   "source": [
    "# insert(indice,elem)    inserisce l'elemento nella lista nella posizione indice\n",
    "#                        sposta gli altri elementi a destra. MODIFICA LA LISTA\n",
    "L7 = [7, 5, 11, 5, 9, 9, 0, 9]\n",
    "print(len(L7)) # la lista L7 ha 8 elementi\n",
    "L7.insert(2,'alfa') # inserisce l'elemento 'alfa' in posizione 2\n",
    "print(L7) # ora la lista L7 ha 9 elementi"
   ]
  },
  {
   "cell_type": "code",
   "execution_count": null,
   "metadata": {},
   "outputs": [],
   "source": [
    "# pop()    elimina l'ultimo elemento della lista e lo restituisce\n",
    "#          come risultato. MODIFICA LA LISTA\n",
    "L8 = [7, 5, 11, 5, 'a', 0, 9]\n",
    "print(len(L8)) # la lista L8 ha 7 elementi\n",
    "el = L8.pop() # elimina l'ultimo elemento (9) e lo restituisce come risultato\n",
    "print(len(L8),L8) # ora la lista L8 ha 6 elementi\n",
    "print(el) # la variabile el ha il valore dell'elemento eliminato (9)"
   ]
  },
  {
   "cell_type": "code",
   "execution_count": null,
   "metadata": {},
   "outputs": [],
   "source": [
    "# remove(elem)  elimina la prima occorrenza dell'elemento elem\n",
    "#               dalla lista. MODIFICA LA LISTA\n",
    "L8 = [7, 5, 11, 5, 'a', 0, 'a']\n",
    "print(len(L8)) # la lista L8 ha 7 elementi\n",
    "\n",
    "L8.remove('a') # elimina la prima 'a' dalla lista\n",
    "\n",
    "print(len(L8),L8) # ora la lista L8 ha 6 elementi\n",
    "\n",
    "L8.remove('b') # VA IN ERRORE"
   ]
  },
  {
   "cell_type": "code",
   "execution_count": null,
   "metadata": {},
   "outputs": [],
   "source": [
    "# reverse()  rovescia la lista, mettendo gli elementi in ordine inverso.\n",
    "#            MODIFICA LA LISTA\n",
    "L8 = [7, 5, 11, 5, 'a', 0, 'a']\n",
    "L8.reverse() # rovescia la lista\n",
    "print(L8)\n",
    "L8.reverse() # rovescia nuovamente la lista riottenendo quella originale\n",
    "print(L8)"
   ]
  },
  {
   "cell_type": "code",
   "execution_count": 10,
   "metadata": {},
   "outputs": [
    {
     "name": "stdout",
     "output_type": "stream",
     "text": [
      "['alfa', 'alta', 'beta', 'gamma']\n"
     ]
    },
    {
     "ename": "NameError",
     "evalue": "name 'L8' is not defined",
     "output_type": "error",
     "traceback": [
      "\u001b[1;31m---------------------------------------------------------------------------\u001b[0m",
      "\u001b[1;31mNameError\u001b[0m                                 Traceback (most recent call last)",
      "\u001b[1;32m<ipython-input-10-5d0680c95c7b>\u001b[0m in \u001b[0;36m<module>\u001b[1;34m\u001b[0m\n\u001b[0;32m      5\u001b[0m \u001b[0mL9\u001b[0m\u001b[1;33m.\u001b[0m\u001b[0msort\u001b[0m\u001b[1;33m(\u001b[0m\u001b[1;33m)\u001b[0m \u001b[1;31m# ordina in ordine alfabetico la lista\u001b[0m\u001b[1;33m\u001b[0m\u001b[1;33m\u001b[0m\u001b[0m\n\u001b[0;32m      6\u001b[0m \u001b[0mprint\u001b[0m\u001b[1;33m(\u001b[0m\u001b[0mL9\u001b[0m\u001b[1;33m)\u001b[0m\u001b[1;33m\u001b[0m\u001b[1;33m\u001b[0m\u001b[0m\n\u001b[1;32m----> 7\u001b[1;33m \u001b[0mL8\u001b[0m\u001b[1;33m.\u001b[0m\u001b[0msort\u001b[0m\u001b[1;33m(\u001b[0m\u001b[1;33m)\u001b[0m \u001b[1;31m# va in ERRORE perché non può confrontare stringhe e numeri\u001b[0m\u001b[1;33m\u001b[0m\u001b[1;33m\u001b[0m\u001b[0m\n\u001b[0m",
      "\u001b[1;31mNameError\u001b[0m: name 'L8' is not defined"
     ]
    }
   ],
   "source": [
    "# sort()  ordina la lista, mettendo gli elementi in ordine crescente\n",
    "#         SE GLI ELEMENTI SONO OMOGENEI, altrimenti va in errore\n",
    "#         MODIFICA LA LISTA\n",
    "L9 = ['alfa', 'gamma', 'beta', 'alta']\n",
    "L9.sort() # ordina in ordine alfabetico la lista\n",
    "print(L9)\n",
    "L8.sort() # va in ERRORE perché non può confrontare stringhe e numeri"
   ]
  },
  {
   "cell_type": "code",
   "execution_count": null,
   "metadata": {},
   "outputs": [],
   "source": [
    "# sort(reverse=True)  ordina la lista, mettendo gli elementi in ordine DECRESCENTE\n",
    "#         SE GLI ELEMENTI SONO OMOGENEI, altrimenti va in errore\n",
    "#         MODIFICA LA LISTA\n",
    "L9 = ['alfa', 'gamma', 'beta', 'alta']\n",
    "L8 = [7, 5, 11, 5, 'a', 0, 'a']\n",
    "L9.sort(reverse=True) # ordina in ordine alfabetico DECRESCENTE la lista\n",
    "\n",
    "print(L9)\n",
    "\n",
    "L8.sort(reverse=True) # va in ERRORE perché non può confrontare stringhe e numeri"
   ]
  },
  {
   "cell_type": "markdown",
   "metadata": {},
   "source": [
    "### Operatore in\n",
    "Un operatore delle stringhe che si può usare anche per le liste è l'operatore booleano `in`, che restituisce `True` se l'elemento appartiene alla lista. Ad esempio, l'espressione `2 in [4,7,'alfa',2,5]` restituisce `True`, mentre `2 in [4,7,'alfa','beta',5]` restituisce `False`.\n",
    "\n",
    "Vediamo degli esempi:"
   ]
  },
  {
   "cell_type": "code",
   "execution_count": 11,
   "metadata": {},
   "outputs": [
    {
     "name": "stdout",
     "output_type": "stream",
     "text": [
      "'gatta' compare in ['tanto', 'va', 'la', 'gatta'] vale: True\n",
      "'tanto ' compare in ['tanto', 'va', 'la', 'gatta'] vale: False\n"
     ]
    }
   ],
   "source": [
    "l1 = ['tanto', 'va', 'la','gatta']\n",
    "print(\"'gatta' compare in\",l1,'vale:','gatta' in l1)\n",
    "print(\"'tanto ' compare in\",l1,'vale:','tanto ' in l1)\n",
    "#notate che l'elemento deve comparire IDENTICO nella lista (attenzione allo spazio in 'tanto ')"
   ]
  },
  {
   "cell_type": "markdown",
   "metadata": {},
   "source": [
    "### Esercizio: crea lista dei caratteri DISTINTI di una stringa presa in input\n",
    "Scriviamo una *funzione* che prende in ingresso una stringa e restituisce la lista dei caratteri **distinti** della stringa nell'ordine in cui compaiono nella stringa."
   ]
  },
  {
   "cell_type": "code",
   "execution_count": 12,
   "metadata": {},
   "outputs": [
    {
     "name": "stdout",
     "output_type": "stream",
     "text": [
      "Test funzione: creaListaCD \n",
      "\n",
      "Input funzione: 'paperopoli' \n",
      "\n",
      "Output atteso:\n",
      " ['p', 'a', 'e', 'r', 'o', 'l', 'i'] \n",
      "\n",
      "Output ottenuto:\n",
      " ['p', 'a', 'e', 'r', 'o', 'l', 'i'] \n",
      "\n",
      "Risultato Test: POSITIVO\n",
      "\n",
      "******************************\n",
      "\n",
      "Test funzione: creaListaCD \n",
      "\n",
      "Input funzione: 'casa bella' \n",
      "\n",
      "Output atteso:\n",
      " ['c', 'a', 's', ' ', 'b', 'e', 'l'] \n",
      "\n",
      "Output ottenuto:\n",
      " ['c', 'a', 's', ' ', 'b', 'e', 'l'] \n",
      "\n",
      "Risultato Test: POSITIVO\n",
      "\n",
      "******************************\n",
      "\n"
     ]
    },
    {
     "data": {
      "text/plain": [
       "1"
      ]
     },
     "execution_count": 12,
     "metadata": {},
     "output_type": "execute_result"
    }
   ],
   "source": [
    "# carico la mia funzione di test\n",
    "from tester import tester_fun\n",
    "\n",
    "# crea una lista con i caratteri distinti di una stringa\n",
    "def creaListaCD(s):\n",
    "    lista=[]\n",
    "    for c in s:\n",
    "        if c not in lista:\n",
    "            lista.append(c)\n",
    "    return lista\n",
    "\n",
    "tester_fun(creaListaCD,[\"paperopoli\"],['p', 'a', 'e', 'r', 'o', 'l', 'i'])\n",
    "tester_fun(creaListaCD,[\"casa bella\"],['c', 'a', 's', ' ', 'b', 'e', 'l'])"
   ]
  },
  {
   "cell_type": "markdown",
   "metadata": {},
   "source": [
    "### Tuple\n",
    "\n",
    "Le tuple consentono di rappresentare **sequenze immutabili** di qualsiasi tipo di dato. Sono quindi del tutto simili alle liste, ma non possono essere modificate (come le stringhe, che però sono sequenze immutabili di soli caratteri). Sintatticamente sono simili alle liste, ma al posto delle parentesi quadre `[` e `]` si usano le parentesi tonde `(` e `)`.\n",
    "\n",
    "In realtà è *possibile anche non usare le parentesi*. "
   ]
  },
  {
   "cell_type": "code",
   "execution_count": null,
   "metadata": {},
   "outputs": [],
   "source": [
    "# Alla variabile coordinatePunto è assegnata una tupla\n",
    "coordinatePunto = (10, -3, 4)\n",
    "print(coordinatePunto)\n",
    "coordinatePunto = 20, 1, 12\n",
    "print(coordinatePunto)\n",
    "\n",
    "# La tupla è immutabile\n",
    "coordinatePunto[0] = 25 # genera un errore"
   ]
  },
  {
   "cell_type": "markdown",
   "metadata": {},
   "source": [
    "\n",
    "Molti degli **operatori** e delle **funzioni** che abbiamo introdotto fino ad ora per le liste posso essere usati anche sulle tuple: `+`, `==`, `!=`, `in`, `not in`, `tupla[indice]`, `tupla[indice1:indice2]`, `len`, `min`, `max`, `sum…`\n",
    "\n",
    "Esiste inoltre la funzione `tuple()` che trasforma in tuple un valore \"iterabile\" (ad esempio, una lista, un range, una stringa). Se invocata senza argomenti, questa funzione restituisce la tupla vuota `()`. Questa funzione è l'analogo per le tuple della funzione `list()` vista in una precedente lezione, che converte in lista un valore \"iterabile\" (ad esempio, una stringa, un range, una tupla). \n",
    "\n",
    "**Metodi** sulle tuple: Essendo le tuple immutabili, non esistono metodi che modificano la tupla (come quelli visti sulle liste). Gli unici due metodi disponibili sono `count` e `index`, che si comportano come su valori di tipo lista."
   ]
  },
  {
   "cell_type": "code",
   "execution_count": 21,
   "metadata": {},
   "outputs": [
    {
     "name": "stdout",
     "output_type": "stream",
     "text": [
      "4\n",
      "10\n",
      "('a', 10)\n",
      "('a', 10, 'b', 20, 'a', 20, 'b', 40)\n",
      "2\n"
     ]
    }
   ],
   "source": [
    "# Ulteriori esempi di uso di tuple\n",
    "\n",
    "t1 = ('a', 10, 'b', 20)\n",
    "print(len(t1))\n",
    "print(t1[1])\n",
    "print(t1[:2])\n",
    "\n",
    "l  = ['a', 20, 'b', 40]\n",
    "t2 = tuple(l)\n",
    "print(t1+t2)\n",
    "x=(t1+t2).count('a')\n",
    "print(x)"
   ]
  },
  {
   "cell_type": "markdown",
   "metadata": {},
   "source": [
    "#### Tuple di dimensione 1\n",
    "\n",
    "Per evitare ambiguità, una tupla di dimensione 1 deve essere scritta con una virgola dopo il primo (ed unico) elemento (senza la virgola, infatti, il comando viene considerato come una espressione fra parentesi) "
   ]
  },
  {
   "cell_type": "code",
   "execution_count": null,
   "metadata": {},
   "outputs": [],
   "source": [
    "t = (1,) # assegna a t la tupla con il solo elemento 1\n",
    "print(len(t))\n",
    "t = (1) # assegna a t il valore 1\n",
    "print(len(t))"
   ]
  },
  {
   "cell_type": "markdown",
   "metadata": {},
   "source": [
    "### Assegnazioni multiple\n",
    "\n",
    "In Python si possono assegnare diversi valori a più variabili usando un unico enunciato. Si tratta in effetti di una assegnazione ad una tupla (che, ricordiamo, si può scrivere anche senza parentesi), in cui a sinistra dell'`=` si usa una variabile per ogni componente della tupla. Tali variabili possono poi essere richiamate ed usate singolarmente."
   ]
  },
  {
   "cell_type": "code",
   "execution_count": 22,
   "metadata": {},
   "outputs": [
    {
     "name": "stdout",
     "output_type": "stream",
     "text": [
      "(19.95, 12)\n",
      "19.95\n"
     ]
    }
   ],
   "source": [
    "prezzo, quantita = 19.95, 12 # analogo a scrivere \n",
    "                             # (prezzo, quantita) = (19.95, 12)\n",
    "\n",
    "print((prezzo, quantita))\n",
    "print(prezzo)\n",
    "\n",
    "# Da notare che questo non aggiunge potere espressivo \n",
    "# al linguaggio. (prezzo, quantita) = (19.95, 12) è del tutto \n",
    "# equivalente a scrivere\n",
    "# prezzo = 19.95\n",
    "# quantita = 12"
   ]
  },
  {
   "cell_type": "markdown",
   "metadata": {},
   "source": [
    "### Funzioni che restituiscono più valori \n",
    "\n",
    "Ovviamente una tupla può essere restituita anche da una funzione, esattamente come avviene per una lista.\n",
    "\n",
    "Come visto in precedenza, possiamo poi assegnare la tupla restituita a più variabili, una per ciascuna delle sue componenti."
   ]
  },
  {
   "cell_type": "code",
   "execution_count": 23,
   "metadata": {},
   "outputs": [
    {
     "name": "stdout",
     "output_type": "stream",
     "text": [
      "Inserisci una data\n",
      "inserisci il giorno: 20\n",
      "inserisci il mese: 10\n",
      "inserisci l'anno: 19\n",
      "Inserisci una data\n",
      "inserisci il giorno: 20\n",
      "inserisci il mese: 01\n",
      "inserisci l'anno: 21\n",
      "(20, 10, 19)\n",
      "1\n",
      "10\n"
     ]
    }
   ],
   "source": [
    "def leggiData() :\n",
    "    print(\"Inserisci una data\")\n",
    "    giorno = int(input(\"inserisci il giorno: \"))\n",
    "    mese = int(input(\"inserisci il mese: \"))\n",
    "    anno = int(input(\"inserisci l'anno: \"))\n",
    "    return giorno, mese, anno # è come scrivere (giorno, mese, anno)\n",
    "\n",
    "data = leggiData()\n",
    "g,m,a = leggiData()\n",
    "print(data)\n",
    "print(m)\n",
    "print(data[1])\n"
   ]
  },
  {
   "cell_type": "markdown",
   "metadata": {},
   "source": [
    "### Funzioni con un numero variabile di argomenti.\n",
    "\n",
    "In Python è possibile definire funzioni con funzioni con un numero variabile di argomenti (come ad esempio la funzioni built-in `print()`)."
   ]
  },
  {
   "cell_type": "code",
   "execution_count": null,
   "metadata": {},
   "outputs": [],
   "source": [
    "# Esempio di funzione con numero arbitrario di argomenti\n",
    "\n",
    "def somma (*valori) :\n",
    "    totale = 0\n",
    "    for elemento in valori :\n",
    "        totale = totale + elemento\n",
    "\n",
    "    return totale\n",
    "\n",
    "tester_fun(somma,[1,2,3],6)\n",
    "tester_fun(somma,[5,6],11)"
   ]
  },
  {
   "cell_type": "markdown",
   "metadata": {},
   "source": [
    "L’asterisco prima del parametro `valori` indica che la funzione può ricevere un numero di argomenti qualsiasi. **Il parametro `valori` è in effetti una tupla** che contiene tutti gli argomenti che vengono passati alla funzione (se non vengono passati argomenti è la tupla vuota `()`)."
   ]
  },
  {
   "cell_type": "markdown",
   "metadata": {},
   "source": [
    "### Insiemi\n",
    "In Python è anche definito il tipo di dato insieme `set`, che ha molte delle caratteristiche delle liste ma non permette che ci siano più copie dello stesso elemento all'interno dello stesso set. Gli insiemi sono oggetti mutabili. Vediamo di seguito come si definiscono gli insiemi e quali sono gli operatori principali."
   ]
  },
  {
   "cell_type": "markdown",
   "metadata": {},
   "source": [
    "#### Creazione di insiemi\n",
    "Gli insiemi possono essere creati sia direttamente, elencando gli elementi all'interno delle parentesi graffe '{' e '}', che usando la funzione `set()`. In questo caso, se non inserite alcun valore tra le parentesi, viene restituito un insieme vuoto, se inserite una stringa, viene restituito l'insieme dei caratteri che compaiono nella stringa (senza ripetizioni), se inserite una lista, viene restituito l'insieme degli elementi della lista (sempre senza ripetizioni). Notate che l'ordine degli elementi *non è fissato* negli insiemi e che *NON è possibile accedere direttamente ai singoli elementi di un insieme*."
   ]
  },
  {
   "cell_type": "code",
   "execution_count": null,
   "metadata": {},
   "outputs": [],
   "source": [
    "insieme1 = {1,2,'palla'}\n",
    "insieme2 = set()\n",
    "insieme3 = set('casa')\n",
    "insieme4 = set([1, 2, 3, 3, 2])\n",
    "print(insieme1,insieme2,insieme3,insieme4)\n",
    "print({1,2,3} == {3,1,2}) #l'ordine non è rilevante negli insiemi. Restituisce True\n",
    "insieme1[1] # gli elementi non sono associati ad un indice che ne individua la posizione"
   ]
  },
  {
   "cell_type": "markdown",
   "metadata": {},
   "source": [
    "#### Modificare gli insiemi\n",
    "Per aggiungere un elemento ad un insieme si può usare il metodo `add`, che aggiunge un elemento all'insieme (ma solo se non è già presente). Il metodo complementare per eliminare un elemento è `discard`. Per scandire gli elementi di un insieme si può usare il `for` e per verificare se un elemento appartiene ad un insieme si applica l'operatore `in`. Vediamo degli esempi: "
   ]
  },
  {
   "cell_type": "code",
   "execution_count": null,
   "metadata": {},
   "outputs": [],
   "source": [
    "print(insieme1,insieme3)\n",
    "insieme1.add(7) #aggiunge l'elemento 7\n",
    "insieme1.add('palla') #NON aggiunge l'elemento 'palla', perché già presente\n",
    "insieme3.discard('a') #elimina l'elemento 'a'\n",
    "insieme3.discard('x') #NON elimina l'elemento 'x' perché non presente\n",
    "print(insieme1,insieme3)\n",
    "\n",
    "for e in insieme1: #stampa tutti gli elementi dell'insieme. Non è definito in che ordine\n",
    "    print(e)\n",
    "    \n",
    "print('a' in insieme1) #Verifica se l'elemento 'a' appartiene all'insieme (False)\n",
    "print(7 in insieme1) #Verifica se l'elemento 7 appartiene all'insieme (True)"
   ]
  },
  {
   "cell_type": "markdown",
   "metadata": {},
   "source": [
    "#### Operatori su insiemi\n",
    "Sugli insiemi sono definiti molti operatori, tra cui:\n",
    "\n",
    "espressione | effetto\n",
    "--- | ---\n",
    "A <code>&#124;</code> B | restituisce l'insieme unione di A e B\n",
    "A <code>&#124;=</code> B | assegna all'insieme A l'unione di A e B\n",
    "A & B | restituisce l'insieme intersezione di A e B\n",
    "A &= B | assegna all'insieme A l'intersezione di A e B\n",
    "A - B | restituisce l'insieme intersezione differenza di A e B\n",
    "A -= B | assegna all'insieme A differenza di A e B\n",
    "A ^ B | restituisce l'insieme differenza simmetrica di A e B\n",
    "A ^= B | assegna all'insieme A differenza simmetrica di A e B\n",
    "A <= B | restituisce True se l'insieme A è contenuto (anche non strettamente) nell'insieme B\n",
    "A >= B | restituisce True se l'insieme A contiene (anche non strettamente) l'insieme B\n",
    "\n",
    "Vediamo alcuni esempi:"
   ]
  },
  {
   "cell_type": "code",
   "execution_count": null,
   "metadata": {},
   "outputs": [],
   "source": [
    "insieme1 = {1,2,3}\n",
    "insieme2 = {3,'a','b'}\n",
    "print('Unione:',insieme1 | insieme2)\n",
    "print('Intersezione:',insieme1 & insieme2)\n",
    "print('Differenza:',insieme1 - insieme2)\n",
    "print('Differenza simmetrica:',insieme1 ^ insieme2)\n",
    "print('Contenimento ?:',insieme1 <= insieme2)"
   ]
  },
  {
   "cell_type": "markdown",
   "metadata": {},
   "source": [
    "### Esercizio: crea lista dei caratteri DISTINTI di una stringa presa in input, usando gli insiemi\n",
    "Scriviamo una *funzione* che prende in ingresso una stringa e restituisce la lista dei caratteri **distinti** della stringa ordinata alfabeticamente."
   ]
  },
  {
   "cell_type": "code",
   "execution_count": null,
   "metadata": {},
   "outputs": [],
   "source": [
    "# carico la mia funzione di test\n",
    "from tester import tester_fun\n",
    "\n",
    "# crea una lista con i caratteri distinti di una stringa\n",
    "def creaInsieme(s):\n",
    "    insieme=set(s) #crea l'insieme delle lettere\n",
    "    lista = list(insieme) # trasforma l'insieme in una lista\n",
    "    lista.sort() #ordina le lettere della lista\n",
    "    return lista #restituisce la lista ordinata\n",
    "\n",
    "# NOTATE che non rispetta l'ordine in cui compaiono, ma l'ordine alfabetico\n",
    "#l'uso degli insiemi ha fatto perdere l'informazione sull'ordine\n",
    "#all'interno della stringa, che non si può più ricostruire (vedi esercizio analogo precedente che usa le liste)\n",
    "\n",
    "tester_fun(creaInsieme,[\"paperopoli\"], ['a', 'e', 'i', 'l', 'o', 'p', 'r'])\n",
    "tester_fun(creaInsieme,[\"casa bella\"], [' ', 'a', 'b', 'c', 'e', 'l', 's'])"
   ]
  },
  {
   "cell_type": "markdown",
   "metadata": {},
   "source": [
    "### Esercizi\n",
    "Completate questi esercizi prima di cominciare il prossimo argomento"
   ]
  },
  {
   "cell_type": "markdown",
   "metadata": {},
   "source": [
    "### Esercizio 1: \n",
    "Scrivere una funzione che prende in ingresso una lista l e restituisce l'elemento più frequente. Se più elementi compaiono lo stesso numero di volte, restituire quello che compare più all'inizio della lista. Assumete che la lista non sia vuota."
   ]
  },
  {
   "cell_type": "code",
   "execution_count": 7,
   "metadata": {},
   "outputs": [
    {
     "name": "stdout",
     "output_type": "stream",
     "text": [
      "Test funzione: maxfrequenza \n",
      "\n",
      "Input funzione: [1, 2, 3, 4, 2, 3, 2] \n",
      "\n",
      "Output atteso:\n",
      " 2 \n",
      "\n",
      "Output ottenuto:\n",
      " 2 \n",
      "\n",
      "Risultato Test: POSITIVO\n",
      "\n",
      "******************************\n",
      "\n",
      "Test funzione: maxfrequenza \n",
      "\n",
      "Input funzione: [1, 2, 3, 4, 2, 3, 2, 'alfa', 1, 1, 1] \n",
      "\n",
      "Output atteso:\n",
      " 1 \n",
      "\n",
      "Output ottenuto:\n",
      " 1 \n",
      "\n",
      "Risultato Test: POSITIVO\n",
      "\n",
      "******************************\n",
      "\n",
      "Test funzione: maxfrequenza \n",
      "\n",
      "Input funzione: [1, 2, 3, 4, 2, 3, 'alfa', 'a', 'a', 1, 'a'] \n",
      "\n",
      "Output atteso:\n",
      " a \n",
      "\n",
      "Output ottenuto:\n",
      " a \n",
      "\n",
      "Risultato Test: POSITIVO\n",
      "\n",
      "******************************\n",
      "\n",
      "Test funzione: maxfrequenza \n",
      "\n",
      "Input funzione: ['a', 1] \n",
      "\n",
      "Output atteso:\n",
      " a \n",
      "\n",
      "Output ottenuto:\n",
      " a \n",
      "\n",
      "Risultato Test: POSITIVO\n",
      "\n",
      "******************************\n",
      "\n",
      "Test funzione: maxfrequenza \n",
      "\n",
      "Input funzione: [1] \n",
      "\n",
      "Output atteso:\n",
      " 1 \n",
      "\n",
      "Output ottenuto:\n",
      " 1 \n",
      "\n",
      "Risultato Test: POSITIVO\n",
      "\n",
      "******************************\n",
      "\n"
     ]
    },
    {
     "data": {
      "text/plain": [
       "1"
      ]
     },
     "execution_count": 7,
     "metadata": {},
     "output_type": "execute_result"
    }
   ],
   "source": [
    "from tester import tester_fun\n",
    "\n",
    "def maxfrequenza(L):\n",
    "    if L!=[]:\n",
    "        c=0\n",
    "        elem=L[c]\n",
    "        for i in range(1,len(L)):\n",
    "            if L.count(L[i])>L.count(L[c]):\n",
    "                c=i\n",
    "                elem=L[c]\n",
    "                \n",
    "    return elem\n",
    "\n",
    "tester_fun(maxfrequenza,[[1,2,3,4,2,3,2]],2)\n",
    "tester_fun(maxfrequenza,[[1,2,3,4,2,3,2,'alfa',1,1,1]],1)\n",
    "tester_fun(maxfrequenza,[[1,2,3,4,2,3,'alfa','a','a',1,'a']],'a')\n",
    "tester_fun(maxfrequenza,[['a',1]],'a')\n",
    "tester_fun(maxfrequenza,[[1]],1)"
   ]
  },
  {
   "cell_type": "markdown",
   "metadata": {},
   "source": [
    "### Esercizio 2:\n",
    "Scrivere una funzione che prende in ingresso una lista l di stringhe ed una stringa s e restituisce la lista composta dagli elementi di l che contengono s, in ordine alfabetico."
   ]
  },
  {
   "cell_type": "code",
   "execution_count": 17,
   "metadata": {},
   "outputs": [
    {
     "name": "stdout",
     "output_type": "stream",
     "text": [
      "Test funzione: listaContiene \n",
      "\n",
      "Input funzione: ['casa', 'sala', 'pasta', 'prosciutto'], 'sa' \n",
      "\n",
      "Output atteso:\n",
      " ['casa', 'sala'] \n",
      "\n",
      "Output ottenuto:\n",
      " ['casa', 'sala'] \n",
      "\n",
      "Risultato Test: POSITIVO\n",
      "\n",
      "******************************\n",
      "\n",
      "Test funzione: listaContiene \n",
      "\n",
      "Input funzione: ['casa', 'sala', 'pasta', 'prosciutto'], 'a' \n",
      "\n",
      "Output atteso:\n",
      " ['casa', 'pasta', 'sala'] \n",
      "\n",
      "Output ottenuto:\n",
      " ['casa', 'pasta', 'sala'] \n",
      "\n",
      "Risultato Test: POSITIVO\n",
      "\n",
      "******************************\n",
      "\n",
      "Test funzione: listaContiene \n",
      "\n",
      "Input funzione: ['casa', 'saluti', 'sala', 'pasta', 'prosciutto'], 'sa' \n",
      "\n",
      "Output atteso:\n",
      " ['casa', 'sala', 'saluti'] \n",
      "\n",
      "Output ottenuto:\n",
      " ['casa', 'sala', 'saluti'] \n",
      "\n",
      "Risultato Test: POSITIVO\n",
      "\n",
      "******************************\n",
      "\n",
      "Test funzione: listaContiene \n",
      "\n",
      "Input funzione: ['casa', 'sala', 'pasta', 'prosciutto'], 'se' \n",
      "\n",
      "Output atteso:\n",
      " [] \n",
      "\n",
      "Output ottenuto:\n",
      " [] \n",
      "\n",
      "Risultato Test: POSITIVO\n",
      "\n",
      "******************************\n",
      "\n",
      "Test funzione: listaContiene \n",
      "\n",
      "Input funzione: ['salto', 'casa', 'sala', 'pasta', 'prosciutto'], 'sa' \n",
      "\n",
      "Output atteso:\n",
      " ['casa', 'sala', 'salto'] \n",
      "\n",
      "Output ottenuto:\n",
      " ['casa', 'sala', 'salto'] \n",
      "\n",
      "Risultato Test: POSITIVO\n",
      "\n",
      "******************************\n",
      "\n"
     ]
    },
    {
     "data": {
      "text/plain": [
       "1"
      ]
     },
     "execution_count": 17,
     "metadata": {},
     "output_type": "execute_result"
    }
   ],
   "source": [
    "from tester import tester_fun\n",
    "\n",
    "def listaContiene(l,s):\n",
    "    l1=[]\n",
    "    for i in range(len(l)):\n",
    "        if s in l[i]:\n",
    "            l1.append(l[i])\n",
    "            l1.sort()\n",
    "            \n",
    "    return l1\n",
    "\n",
    "tester_fun(listaContiene,[['casa', 'sala', 'pasta','prosciutto'],'sa'],['casa', 'sala'])\n",
    "tester_fun(listaContiene,[['casa', 'sala', 'pasta','prosciutto'],'a'],['casa', 'pasta', 'sala'])\n",
    "tester_fun(listaContiene,[['casa','saluti', 'sala', 'pasta','prosciutto'],'sa'],['casa', 'sala','saluti'])\n",
    "tester_fun(listaContiene,[['casa', 'sala', 'pasta','prosciutto'],'se'],[])\n",
    "tester_fun(listaContiene,[['salto','casa', 'sala', 'pasta','prosciutto'],'sa'],['casa', 'sala', 'salto'])"
   ]
  },
  {
   "cell_type": "markdown",
   "metadata": {},
   "source": [
    "### Esercizio 3:\n",
    "Scrivere una funzione che prende in input una lista ls di stringhe ed una lista ln di numeri e restituisce una nuova lista contenente le stringhe di ls che si trovano nelle posizioni corrispondenti ai numeri di ln, nell'ordine di ln. Se il numero presente in ln non corrisponde ad una posizione di ls allora va ignorato. Notate che i numeri di ln possono anche essere negativi, ma devono corrispondere a posizioni di ls"
   ]
  },
  {
   "cell_type": "code",
   "execution_count": 20,
   "metadata": {},
   "outputs": [
    {
     "name": "stdout",
     "output_type": "stream",
     "text": [
      "Test funzione: listaSelezioni \n",
      "\n",
      "Input funzione: ['casa', 'sala', 'pasta', 'prosciutto'], [2, 3, 0] \n",
      "\n",
      "Output atteso:\n",
      " ['pasta', 'prosciutto', 'casa'] \n",
      "\n",
      "Output ottenuto:\n",
      " ['pasta', 'prosciutto', 'casa'] \n",
      "\n",
      "Risultato Test: POSITIVO\n",
      "\n",
      "******************************\n",
      "\n",
      "Test funzione: listaSelezioni \n",
      "\n",
      "Input funzione: ['casa', 'sala', 'pasta', 'prosciutto'], [2, 7, -1] \n",
      "\n",
      "Output atteso:\n",
      " ['pasta', 'prosciutto'] \n",
      "\n",
      "Output ottenuto:\n",
      " ['pasta', 'prosciutto'] \n",
      "\n",
      "Risultato Test: POSITIVO\n",
      "\n",
      "******************************\n",
      "\n",
      "Test funzione: listaSelezioni \n",
      "\n",
      "Input funzione: ['casa', 'saluti', 'sala', 'pasta', 'prosciutto'], [2, -3, 0, 6] \n",
      "\n",
      "Output atteso:\n",
      " ['sala', 'sala', 'casa'] \n",
      "\n",
      "Output ottenuto:\n",
      " ['sala', 'sala', 'casa'] \n",
      "\n",
      "Risultato Test: POSITIVO\n",
      "\n",
      "******************************\n",
      "\n",
      "Test funzione: listaSelezioni \n",
      "\n",
      "Input funzione: ['casa', 'sala', 'pasta', 'prosciutto'], [0, -5, -4, 0] \n",
      "\n",
      "Output atteso:\n",
      " ['casa', 'casa', 'casa'] \n",
      "\n",
      "Output ottenuto:\n",
      " ['casa', 'casa', 'casa'] \n",
      "\n",
      "Risultato Test: POSITIVO\n",
      "\n",
      "******************************\n",
      "\n",
      "Test funzione: listaSelezioni \n",
      "\n",
      "Input funzione: ['salto', 'casa', 'sala', 'pasta', 'prosciutto'], [-1, 3, 3, -7] \n",
      "\n",
      "Output atteso:\n",
      " ['prosciutto', 'pasta', 'pasta'] \n",
      "\n",
      "Output ottenuto:\n",
      " ['prosciutto', 'pasta', 'pasta'] \n",
      "\n",
      "Risultato Test: POSITIVO\n",
      "\n",
      "******************************\n",
      "\n"
     ]
    },
    {
     "data": {
      "text/plain": [
       "1"
      ]
     },
     "execution_count": 20,
     "metadata": {},
     "output_type": "execute_result"
    }
   ],
   "source": [
    "from tester import tester_fun\n",
    "\n",
    "def listaSelezioni(ls,ln):\n",
    "    l1=[]\n",
    "    for i in range(len(ln)):\n",
    "        if ln[i]<len(ls) and ln[i]>=(-len(ls)):\n",
    "            l1.append(ls[ln[i]])\n",
    "    return l1\n",
    "\n",
    "tester_fun(listaSelezioni,[['casa', 'sala', 'pasta','prosciutto'],[2,3,0]],['pasta', 'prosciutto', 'casa'])\n",
    "tester_fun(listaSelezioni,[['casa', 'sala', 'pasta','prosciutto'],[2,7,-1]],['pasta', 'prosciutto'])\n",
    "tester_fun(listaSelezioni,[['casa','saluti', 'sala', 'pasta','prosciutto'],[2,-3,0,6]],['sala', 'sala', 'casa'])\n",
    "tester_fun(listaSelezioni,[['casa', 'sala', 'pasta','prosciutto'],[0,-5,-4,0]],['casa', 'casa', 'casa'])\n",
    "tester_fun(listaSelezioni,[['salto','casa', 'sala', 'pasta','prosciutto'],[-1,3,3,-7]],['prosciutto', 'pasta', 'pasta'])"
   ]
  },
  {
   "cell_type": "markdown",
   "metadata": {},
   "source": [
    "### Esercizio 4:\n",
    "Scrivere una funzione che prende in input 2 liste di stringhe l1 e l2 e restituisce il numero di volte che le stringhe nella stessa posizione  nelle 2 liste iniziano per lo stesso carattere."
   ]
  },
  {
   "cell_type": "code",
   "execution_count": 35,
   "metadata": {},
   "outputs": [
    {
     "name": "stdout",
     "output_type": "stream",
     "text": [
      "Test funzione: contaIniziali \n",
      "\n",
      "Input funzione: ['casa', 'sala', 'pasta', 'prosciutto'], ['sala', 'pasta', 'prosciutto', 'casa', 'saluti'] \n",
      "\n",
      "Output atteso:\n",
      " 1 \n",
      "\n",
      "Output ottenuto:\n",
      " 1 \n",
      "\n",
      "Risultato Test: POSITIVO\n",
      "\n",
      "******************************\n",
      "\n",
      "Test funzione: contaIniziali \n",
      "\n",
      "Input funzione: ['casa', 'sala', 'pasta', 'prosciutto'], ['pasta', 'palla', 'prosciutto'] \n",
      "\n",
      "Output atteso:\n",
      " 1 \n",
      "\n",
      "Output ottenuto:\n",
      " 1 \n",
      "\n",
      "Risultato Test: POSITIVO\n",
      "\n",
      "******************************\n",
      "\n",
      "Test funzione: contaIniziali \n",
      "\n",
      "Input funzione: ['casa', 'saluti', 'sala', 'pasta', 'prosciutto'], ['casa', 'sala', 'pasta', 'prosciutto'] \n",
      "\n",
      "Output atteso:\n",
      " 3 \n",
      "\n",
      "Output ottenuto:\n",
      " 3 \n",
      "\n",
      "Risultato Test: POSITIVO\n",
      "\n",
      "******************************\n",
      "\n",
      "Test funzione: contaIniziali \n",
      "\n",
      "Input funzione: ['sala', 'pasta', 'prosciutto'], ['casa', 'casa', 'casa'] \n",
      "\n",
      "Output atteso:\n",
      " 0 \n",
      "\n",
      "Output ottenuto:\n",
      " 0 \n",
      "\n",
      "Risultato Test: POSITIVO\n",
      "\n",
      "******************************\n",
      "\n",
      "Test funzione: contaIniziali \n",
      "\n",
      "Input funzione: ['salto', 'casa', 'sala', 'pasta', 'prosciutto'], ['casa', '', 'sala', 'pasta', 'prosciutto'] \n",
      "\n",
      "Output atteso:\n",
      " 3 \n",
      "\n",
      "Output ottenuto:\n",
      " 3 \n",
      "\n",
      "Risultato Test: POSITIVO\n",
      "\n",
      "******************************\n",
      "\n"
     ]
    },
    {
     "data": {
      "text/plain": [
       "1"
      ]
     },
     "execution_count": 35,
     "metadata": {},
     "output_type": "execute_result"
    }
   ],
   "source": [
    "from tester import tester_fun\n",
    "\n",
    "def contaIniziali(l1,l2):\n",
    "    contatore=0\n",
    "    a=len(l1)\n",
    "    b=len(l2)\n",
    "    c=min(a,b)\n",
    "    for i in range(c):\n",
    "        s=l1[i]\n",
    "        s1=l2[i]\n",
    "        if s and s1!='':\n",
    "            if s[0]==s1[0]:\n",
    "                contatore=contatore+1\n",
    "        elif s =='' and s1=='':\n",
    "            contatore=contatore+1\n",
    "            \n",
    "            \n",
    "                \n",
    "    return contatore\n",
    "\n",
    "tester_fun(contaIniziali,[['casa', 'sala', 'pasta','prosciutto'],['sala', 'pasta','prosciutto', 'casa','saluti']],1)\n",
    "tester_fun(contaIniziali,[['casa', 'sala', 'pasta','prosciutto'],['pasta', 'palla', 'prosciutto']],1)\n",
    "tester_fun(contaIniziali,[['casa','saluti', 'sala', 'pasta','prosciutto'],['casa', 'sala', 'pasta','prosciutto']],3)\n",
    "tester_fun(contaIniziali,[['sala', 'pasta','prosciutto'],['casa', 'casa', 'casa']],0)\n",
    "tester_fun(contaIniziali,[['salto','casa', 'sala', 'pasta','prosciutto'],['casa', '', 'sala', 'pasta','prosciutto']],3)"
   ]
  },
  {
   "cell_type": "markdown",
   "metadata": {},
   "source": [
    "### Esercizio 5:\n",
    "Scrivere una funzione che riceve in ingresso due liste di stringhe l1 ed l2 e restituisce una nuova lista di lunghezza uguale al minimo tra le lunghezze di l1 ed l2 in cui ogni elemento è una tupla composta dai valori corrispondenti in l1 e l2."
   ]
  },
  {
   "cell_type": "code",
   "execution_count": 42,
   "metadata": {},
   "outputs": [
    {
     "name": "stdout",
     "output_type": "stream",
     "text": [
      "Test funzione: unisci \n",
      "\n",
      "Input funzione: ['casa', 'sala', 'pasta', 'prosciutto'], ['sala', 'pasta', 'prosciutto', 'casa', 'saluti'] \n",
      "\n",
      "Output atteso:\n",
      " [('casa', 'sala'), ('sala', 'pasta'), ('pasta', 'prosciutto'), ('prosciutto', 'casa')] \n",
      "\n",
      "Output ottenuto:\n",
      " [('casa', 'sala'), ('sala', 'pasta'), ('pasta', 'prosciutto'), ('prosciutto', 'casa')] \n",
      "\n",
      "Risultato Test: POSITIVO\n",
      "\n",
      "******************************\n",
      "\n",
      "Test funzione: unisci \n",
      "\n",
      "Input funzione: ['casa', 'sala', 'pasta', 'prosciutto'], ['pasta', 'palla', 'prosciutto'] \n",
      "\n",
      "Output atteso:\n",
      " [('casa', 'pasta'), ('sala', 'palla'), ('pasta', 'prosciutto')] \n",
      "\n",
      "Output ottenuto:\n",
      " [('casa', 'pasta'), ('sala', 'palla'), ('pasta', 'prosciutto')] \n",
      "\n",
      "Risultato Test: POSITIVO\n",
      "\n",
      "******************************\n",
      "\n",
      "Test funzione: unisci \n",
      "\n",
      "Input funzione: ['casa', 'saluti', 'sala', 'pasta', 'prosciutto'], ['casa', 'sala', 'pasta', 'prosciutto'] \n",
      "\n",
      "Output atteso:\n",
      " [('casa', 'casa'), ('saluti', 'sala'), ('sala', 'pasta'), ('pasta', 'prosciutto')] \n",
      "\n",
      "Output ottenuto:\n",
      " [('casa', 'casa'), ('saluti', 'sala'), ('sala', 'pasta'), ('pasta', 'prosciutto')] \n",
      "\n",
      "Risultato Test: POSITIVO\n",
      "\n",
      "******************************\n",
      "\n",
      "Test funzione: unisci \n",
      "\n",
      "Input funzione: ['sala', 'pasta', 'prosciutto'], ['casa', 'casa', 'casa'] \n",
      "\n",
      "Output atteso:\n",
      " [('sala', 'casa'), ('pasta', 'casa'), ('prosciutto', 'casa')] \n",
      "\n",
      "Output ottenuto:\n",
      " [('sala', 'casa'), ('pasta', 'casa'), ('prosciutto', 'casa')] \n",
      "\n",
      "Risultato Test: POSITIVO\n",
      "\n",
      "******************************\n",
      "\n",
      "Test funzione: unisci \n",
      "\n",
      "Input funzione: ['salto', 'casa', 'sala', 'pasta', 'prosciutto'], [] \n",
      "\n",
      "Output atteso:\n",
      " [] \n",
      "\n",
      "Output ottenuto:\n",
      " [] \n",
      "\n",
      "Risultato Test: POSITIVO\n",
      "\n",
      "******************************\n",
      "\n"
     ]
    },
    {
     "data": {
      "text/plain": [
       "1"
      ]
     },
     "execution_count": 42,
     "metadata": {},
     "output_type": "execute_result"
    }
   ],
   "source": [
    "from tester import tester_fun\n",
    "\n",
    "def unisci(l1,l2):\n",
    "    l3=[]\n",
    "    for i in range(min(len(l1),len(l2))):\n",
    "        l3.append((l1[i],)+(l2[i],))\n",
    "    return l3\n",
    "\n",
    "tester_fun(unisci,[['casa', 'sala', 'pasta','prosciutto'],['sala', 'pasta','prosciutto', 'casa','saluti']],[('casa', 'sala'), ('sala', 'pasta'), ('pasta', 'prosciutto'), ('prosciutto', 'casa')])\n",
    "tester_fun(unisci,[['casa', 'sala', 'pasta','prosciutto'],['pasta', 'palla', 'prosciutto']],[('casa', 'pasta'), ('sala', 'palla'), ('pasta', 'prosciutto')])\n",
    "tester_fun(unisci,[['casa','saluti', 'sala', 'pasta','prosciutto'],['casa', 'sala', 'pasta','prosciutto']],[('casa', 'casa'), ('saluti', 'sala'), ('sala', 'pasta'), ('pasta', 'prosciutto')])\n",
    "tester_fun(unisci,[['sala', 'pasta','prosciutto'],['casa', 'casa', 'casa']],[('sala', 'casa'), ('pasta', 'casa'), ('prosciutto', 'casa')])\n",
    "tester_fun(unisci,[['salto','casa', 'sala', 'pasta','prosciutto'],[]],[])"
   ]
  },
  {
   "cell_type": "markdown",
   "metadata": {},
   "source": [
    "### Esercizio 6:\n",
    "Scrivere una funzione che prende in ingresso una lista di numeri interi l e restituisce l'insieme dei numeri che sono divisori di TUTTI i numeri della lista."
   ]
  },
  {
   "cell_type": "code",
   "execution_count": 50,
   "metadata": {},
   "outputs": [
    {
     "name": "stdout",
     "output_type": "stream",
     "text": [
      "Test funzione: divisoriComuni \n",
      "\n",
      "Input funzione: [2, 4] \n",
      "\n",
      "Output atteso:\n",
      " {1, 2} \n",
      "\n",
      "Output ottenuto:\n",
      " {1, 2} \n",
      "\n",
      "Risultato Test: POSITIVO\n",
      "\n",
      "******************************\n",
      "\n",
      "Test funzione: divisoriComuni \n",
      "\n",
      "Input funzione: [4, 6, 8] \n",
      "\n",
      "Output atteso:\n",
      " {1, 2} \n",
      "\n",
      "Output ottenuto:\n",
      " {1, 2} \n",
      "\n",
      "Risultato Test: POSITIVO\n",
      "\n",
      "******************************\n",
      "\n",
      "Test funzione: divisoriComuni \n",
      "\n",
      "Input funzione: [3, 6, 12] \n",
      "\n",
      "Output atteso:\n",
      " {1, 3} \n",
      "\n",
      "Output ottenuto:\n",
      " {1, 3} \n",
      "\n",
      "Risultato Test: POSITIVO\n",
      "\n",
      "******************************\n",
      "\n",
      "Test funzione: divisoriComuni \n",
      "\n",
      "Input funzione: [25, 5, 15] \n",
      "\n",
      "Output atteso:\n",
      " {1, 5} \n",
      "\n",
      "Output ottenuto:\n",
      " {1, 5} \n",
      "\n",
      "Risultato Test: POSITIVO\n",
      "\n",
      "******************************\n",
      "\n",
      "Test funzione: divisoriComuni \n",
      "\n",
      "Input funzione: [2, 3] \n",
      "\n",
      "Output atteso:\n",
      " {1} \n",
      "\n",
      "Output ottenuto:\n",
      " {1} \n",
      "\n",
      "Risultato Test: POSITIVO\n",
      "\n",
      "******************************\n",
      "\n"
     ]
    },
    {
     "data": {
      "text/plain": [
       "1"
      ]
     },
     "execution_count": 50,
     "metadata": {},
     "output_type": "execute_result"
    }
   ],
   "source": [
    "from tester import tester_fun\n",
    "\n",
    "def divisoriComuni(l):\n",
    "    m=min(l)\n",
    "    ins=set()\n",
    "    for i in range(1,m+1):\n",
    "        t=True\n",
    "        for c in range(len(l)):\n",
    "            if l[c] % i != 0:\n",
    "                t=False\n",
    "        if t==True:\n",
    "            ins.add(i)\n",
    "            \n",
    "            \n",
    "    return ins\n",
    "\n",
    "tester_fun(divisoriComuni,[[2,4]],{1,2})\n",
    "tester_fun(divisoriComuni,[[4,6,8]],{1, 2})\n",
    "tester_fun(divisoriComuni,[[3,6,12]],{1, 3})\n",
    "tester_fun(divisoriComuni,[[25,5,15]], {1, 5} )\n",
    "tester_fun(divisoriComuni,[[2,3]],{1})"
   ]
  },
  {
   "cell_type": "code",
   "execution_count": null,
   "metadata": {},
   "outputs": [],
   "source": []
  }
 ],
 "metadata": {
  "kernelspec": {
   "display_name": "Python 3",
   "language": "python",
   "name": "python3"
  },
  "language_info": {
   "codemirror_mode": {
    "name": "ipython",
    "version": 3
   },
   "file_extension": ".py",
   "mimetype": "text/x-python",
   "name": "python",
   "nbconvert_exporter": "python",
   "pygments_lexer": "ipython3",
   "version": "3.7.4"
  }
 },
 "nbformat": 4,
 "nbformat_minor": 4
}
