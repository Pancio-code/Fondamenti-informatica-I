{
 "cells": [
  {
   "cell_type": "markdown",
   "metadata": {
    "slideshow": {
     "slide_type": "slide"
    }
   },
   "source": [
    "#### Autori: Domenico Lembo, Giuseppe Santucci and Marco Schaerf\n",
    "\n",
    "[Dipartimento di Ingegneria informatica, automatica e gestionale](https://www.diag.uniroma1.it)\n",
    "\n",
    "<img src=\"https://mirrors.creativecommons.org/presskit/buttons/88x31/png/by-nc-sa.eu.png\"\n",
    "     alt=\"License\"\n",
    "     style=\"float: left;\"\n",
    "     height=\"40\" width=\"100\" />\n",
    "This notebook is distributed with license Creative Commons *CC BY-NC-SA*"
   ]
  },
  {
   "cell_type": "markdown",
   "metadata": {},
   "source": [
    "## Soluzioni Esercizi\n",
    "Questo Notebook contiene l'indice delle soluzioni degli esercizi proposti alla fine di ogni argomento trattato nel corso, contenuti in un file per ogni argomento\n",
    "- [01Introduzione](01.ipynb)\n",
    "- [02Variabili,input_output](02.ipynb)\n",
    "- [03Stringhe](03.ipynb)\n",
    "- [04Condizioni_e_Istruzione_if](04.ipynb)\n",
    "- [05While](05.ipynb)\n",
    "- [06For](06.ipynb)\n",
    "- [07Break_e_Continue](07.ipynb)\n",
    "- [08Funzioni](08.ipynb)\n",
    "- [09Liste_Tuple](09.ipynb)\n",
    "- [10Gestione_Memoria](10.ipynb)\n",
    "- [11File](11.ipynb)\n",
    "- [12Dizionari](12.ipynb)\n",
    "- [13EspressioniRegolari](13.ipynb)\n",
    "- [14Matrici](14.ipynb)\n",
    "- [16Progetto](Progetto.ipynb)"
   ]
  },
  {
   "cell_type": "code",
   "execution_count": null,
   "metadata": {},
   "outputs": [],
   "source": []
  }
 ],
 "metadata": {
  "kernelspec": {
   "display_name": "Python 3",
   "language": "python",
   "name": "python3"
  },
  "language_info": {
   "codemirror_mode": {
    "name": "ipython",
    "version": 3
   },
   "file_extension": ".py",
   "mimetype": "text/x-python",
   "name": "python",
   "nbconvert_exporter": "python",
   "pygments_lexer": "ipython3",
   "version": "3.7.4"
  }
 },
 "nbformat": 4,
 "nbformat_minor": 4
}
