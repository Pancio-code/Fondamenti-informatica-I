{
 "cells": [
  {
   "cell_type": "markdown",
   "metadata": {
    "slideshow": {
     "slide_type": "slide"
    }
   },
   "source": [
    "#### Autori: Domenico Lembo, Giuseppe Santucci and Marco Schaerf\n",
    "\n",
    "[Dipartimento di Ingegneria informatica, automatica e gestionale](https://www.diag.uniroma1.it)\n",
    "\n",
    "<img src=\"https://mirrors.creativecommons.org/presskit/buttons/88x31/png/by-nc-sa.eu.png\"\n",
    "     alt=\"License\"\n",
    "     style=\"float: left;\"\n",
    "     height=\"40\" width=\"100\" />\n",
    "This notebook is distributed with license Creative Commons *CC BY-NC-SA*"
   ]
  },
  {
   "cell_type": "markdown",
   "metadata": {},
   "source": [
    "### Soluzioni degli esercizi della sezione 03Stringhe"
   ]
  },
  {
   "cell_type": "markdown",
   "metadata": {},
   "source": [
    "#### Esercizio 1: \n",
    "Scrivete le istruzioni Python che chiedono a un utente una stringa `s` ed un carattere `x` e stampa:\n",
    "\n",
    "- la posizione della prima occorrenza di `x` in `s`\n",
    "- il numero di volte in cui `x` appare in `s`\n",
    "- la stringa ottenuta sostituendo `x` in `s` con la stringa '!!!'"
   ]
  },
  {
   "cell_type": "code",
   "execution_count": 1,
   "metadata": {},
   "outputs": [
    {
     "name": "stdin",
     "output_type": "stream",
     "text": [
      "Inserisci una stringa:  cavallo\n",
      "Inserisci un carattere:  a\n"
     ]
    },
    {
     "name": "stdout",
     "output_type": "stream",
     "text": [
      "La prima occorrenza di: a in: cavallo è in posizione: (-1 se non compare) 1\n",
      "Il numero di occorrenze di: a in: cavallo è: 2\n",
      "La stringa ottenuta sostituendo a in: cavallo è: c!!!v!!!llo\n"
     ]
    }
   ],
   "source": [
    "s = input('Inserisci una stringa: ')\n",
    "x = input('Inserisci un carattere: ')\n",
    "\n",
    "print('La prima occorrenza di:', x, 'in:', s, 'è in posizione:',s.find(x))\n",
    "print('Il numero di occorrenze di:', x, 'in:', s, 'è:',s.count(x))\n",
    "print('La stringa ottenuta sostituendo', x, 'in:', s, 'è:',s.replace(x,'!!!'))"
   ]
  },
  {
   "cell_type": "markdown",
   "metadata": {},
   "source": [
    "#### Esercizio 2: \n",
    "Scrivete le istruzioni Python che chiedono a un utente di inserire una stringa `s` e due caratteri `x` e `y` e stampa:\n",
    "\n",
    "- la stringa ottenuta sostituendo `x` con `y` in `s`\n",
    "- il numero di volte in cui la stringa `xy` appare in `s`"
   ]
  },
  {
   "cell_type": "code",
   "execution_count": 2,
   "metadata": {},
   "outputs": [
    {
     "name": "stdin",
     "output_type": "stream",
     "text": [
      "Inserisci una stringa:  cavallo\n",
      "Inserisci il primo carattere:  a\n",
      "Inserisci il secondo carattere:  l\n"
     ]
    },
    {
     "name": "stdout",
     "output_type": "stream",
     "text": [
      "La stringa ottenuta sostituendo a con: l in: cavallo è: clvlllo\n",
      "Il numero di occorrenze di: al in: cavallo è: 1\n"
     ]
    }
   ],
   "source": [
    "s = input('Inserisci una stringa: ')\n",
    "x = input('Inserisci il primo carattere: ')\n",
    "y = input('Inserisci il secondo carattere: ')\n",
    "\n",
    "print('La stringa ottenuta sostituendo', x, 'con:',y,'in:', s, 'è:',s.replace(x,y))\n",
    "print('Il numero di occorrenze di:', x+y, 'in:', s, 'è:',s.count(x+y))"
   ]
  },
  {
   "cell_type": "markdown",
   "metadata": {},
   "source": [
    "#### Esercizio 3:\n",
    "Scrivete le istruzioni Python che chiedono a un utente di inserire una stringa `s`, un carattere `x` ed un'altra stringa `s1` e stampa:\n",
    "\n",
    "- la stringa ottenuta sostituendo `x` in `s` con la stringa '!!!'\n",
    "- il numero di volte in cui `s1` appare in `s`\n",
    "- la stringa ottenuta sostituendo `s1` in `s` con `x`"
   ]
  },
  {
   "cell_type": "code",
   "execution_count": 3,
   "metadata": {},
   "outputs": [
    {
     "name": "stdin",
     "output_type": "stream",
     "text": [
      "Inserisci la prima stringa:  cavallo\n",
      "Inserisci il carattere:  a\n",
      "Inserisci la seconda stringa:  lo\n"
     ]
    },
    {
     "name": "stdout",
     "output_type": "stream",
     "text": [
      "La stringa ottenuta sostituendo a in: cavallo con ''!!!' è: c!!!v!!!llo\n",
      "Il numero di occorrenze di: lo in: cavallo è: 1\n",
      "La stringa ottenuta sostituendo lo in: cavallo con: a è: cavala\n"
     ]
    }
   ],
   "source": [
    "s = input('Inserisci la prima stringa: ')\n",
    "x = input('Inserisci il carattere: ')\n",
    "s1 = input('Inserisci la seconda stringa: ')\n",
    "\n",
    "print('La stringa ottenuta sostituendo', x, 'in:', s, \"con ''!!!' è:\",s.replace(x,'!!!'))\n",
    "print('Il numero di occorrenze di:', s1, 'in:', s, 'è:',s.count(s1))\n",
    "print('La stringa ottenuta sostituendo', s1, 'in:', s, \"con:\", x, 'è:',s.replace(s1,x))"
   ]
  },
  {
   "cell_type": "markdown",
   "metadata": {},
   "source": [
    "#### Esercizio 4:\n",
    "Scrivete le istruzioni Python che chiedono ad un utente di inserire una stringa `s` ed un passo `n` e stampa i caratteri di `s` uno ogni `n`. Ad esempio, se vengono inseriti 'linguaggio di programmazione' e 4, dovete stampare 'luiiomi'"
   ]
  },
  {
   "cell_type": "code",
   "execution_count": 4,
   "metadata": {},
   "outputs": [
    {
     "name": "stdin",
     "output_type": "stream",
     "text": [
      "Inserisci una stringa:  linguaggio di programmazione\n",
      "Inserisci il passo:  4\n"
     ]
    },
    {
     "name": "stdout",
     "output_type": "stream",
     "text": [
      "luiiomi\n"
     ]
    }
   ],
   "source": [
    "s = input('Inserisci una stringa: ')\n",
    "n = int(input('Inserisci il passo: '))\n",
    "\n",
    "print(s[0:len(s):n])"
   ]
  }
 ],
 "metadata": {
  "kernelspec": {
   "display_name": "Python 3",
   "language": "python",
   "name": "python3"
  },
  "language_info": {
   "codemirror_mode": {
    "name": "ipython",
    "version": 3
   },
   "file_extension": ".py",
   "mimetype": "text/x-python",
   "name": "python",
   "nbconvert_exporter": "python",
   "pygments_lexer": "ipython3",
   "version": "3.7.4"
  }
 },
 "nbformat": 4,
 "nbformat_minor": 4
}
