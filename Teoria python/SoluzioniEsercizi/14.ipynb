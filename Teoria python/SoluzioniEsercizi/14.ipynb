{
 "cells": [
  {
   "cell_type": "markdown",
   "metadata": {
    "slideshow": {
     "slide_type": "slide"
    }
   },
   "source": [
    "#### Autori: Domenico Lembo, Giuseppe Santucci and Marco Schaerf\n",
    "\n",
    "[Dipartimento di Ingegneria informatica, automatica e gestionale](https://www.diag.uniroma1.it)\n",
    "\n",
    "<img src=\"https://mirrors.creativecommons.org/presskit/buttons/88x31/png/by-nc-sa.eu.png\"\n",
    "     alt=\"License\"\n",
    "     style=\"float: left;\"\n",
    "     height=\"40\" width=\"100\" />\n",
    "This notebook is distributed with license Creative Commons *CC BY-NC-SA*"
   ]
  },
  {
   "cell_type": "markdown",
   "metadata": {},
   "source": [
    "### Soluzioni degli esercizi della sezione 14Matrici"
   ]
  },
  {
   "cell_type": "markdown",
   "metadata": {},
   "source": [
    "#### Esercizio 1: \n",
    "Scrivere un programma che prende in ingresso una matrice m di numeri interi rappresentata come lista di liste e calcola quante colonne hanno la somma maggiore o uguale a 0. Ad esempio, se m vale \\[\\[2,-3,-4\\],\\[1,1,2\\],\\[-2,0,-1\\]\\], allora la funzione deve restituire 1, poichè solo la colonna di indice 0 ha somma >= 0."
   ]
  },
  {
   "cell_type": "code",
   "execution_count": 7,
   "metadata": {
    "scrolled": true
   },
   "outputs": [
    {
     "name": "stdout",
     "output_type": "stream",
     "text": [
      "Test funzione: contaColPos \n",
      "\n",
      "Input funzione: [[2, -3, -4], [1, 1, 2], [-2, 0, -1]] \n",
      "\n",
      "Output atteso:\n",
      " 1 \n",
      "\n",
      "----- print interne funzione -----\n",
      "\n",
      "----------------------------------\n",
      "\n",
      "Output ottenuto:\n",
      " 1 \n",
      "\n",
      "Risultato Test: POSITIVO\n",
      "\n",
      "******************************\n",
      "\n",
      "Test funzione: contaColPos \n",
      "\n",
      "Input funzione: [[2, -3, -4, 0], [1, 1, 2, 0], [-2, 0, -1, 0]] \n",
      "\n",
      "Output atteso:\n",
      " 2 \n",
      "\n",
      "----- print interne funzione -----\n",
      "\n",
      "----------------------------------\n",
      "\n",
      "Output ottenuto:\n",
      " 2 \n",
      "\n",
      "Risultato Test: POSITIVO\n",
      "\n",
      "******************************\n",
      "\n",
      "Test funzione: contaColPos \n",
      "\n",
      "Input funzione: [[2, -3, -4], [1, 1, 2], [-2, 0, -1], [-2, 3, -1]] \n",
      "\n",
      "Output atteso:\n",
      " 1 \n",
      "\n",
      "----- print interne funzione -----\n",
      "\n",
      "----------------------------------\n",
      "\n",
      "Output ottenuto:\n",
      " 1 \n",
      "\n",
      "Risultato Test: POSITIVO\n",
      "\n",
      "******************************\n",
      "\n",
      "Test funzione: contaColPos \n",
      "\n",
      "Input funzione: [[2, -3, -4], [1, 1, 2], [-2, 0, -1], [-2, 1, 1]] \n",
      "\n",
      "Output atteso:\n",
      " 0 \n",
      "\n",
      "----- print interne funzione -----\n",
      "\n",
      "----------------------------------\n",
      "\n",
      "Output ottenuto:\n",
      " 0 \n",
      "\n",
      "Risultato Test: POSITIVO\n",
      "\n",
      "******************************\n",
      "\n",
      "Test funzione: contaColPos \n",
      "\n",
      "Input funzione: [[2, -3, -4], [1, 1, 2], [-2, 0, -1], [-1, 2, 3]] \n",
      "\n",
      "Output atteso:\n",
      " 3 \n",
      "\n",
      "----- print interne funzione -----\n",
      "\n",
      "----------------------------------\n",
      "\n",
      "Output ottenuto:\n",
      " 3 \n",
      "\n",
      "Risultato Test: POSITIVO\n",
      "\n",
      "******************************\n",
      "\n"
     ]
    },
    {
     "data": {
      "text/plain": [
       "1"
      ]
     },
     "execution_count": 7,
     "metadata": {},
     "output_type": "execute_result"
    }
   ],
   "source": [
    "from tester import tester_fun\n",
    "\n",
    "def contaColPos(m):\n",
    "    ris = 0\n",
    "    righe = len(m)\n",
    "    colonne = len(m[0])\n",
    "    for j in range(colonne):\n",
    "        somma = 0\n",
    "        for i in range(righe):\n",
    "            somma += m[i][j]\n",
    "        if somma >= 0:\n",
    "            ris += 1\n",
    "    return ris\n",
    "    \n",
    "tester_fun(contaColPos,[[[2,-3,-4],[1,1,2],[-2,0,-1]]],1)\n",
    "tester_fun(contaColPos,[[[2,-3,-4,0],[1,1,2,0],[-2,0,-1,0]]],2)\n",
    "tester_fun(contaColPos,[[[2,-3,-4],[1,1,2],[-2,0,-1],[-2,3,-1]]],1)\n",
    "tester_fun(contaColPos,[[[2,-3,-4],[1,1,2],[-2,0,-1],[-2,1,1]]],0)\n",
    "tester_fun(contaColPos,[[[2,-3,-4],[1,1,2],[-2,0,-1],[-1,2,3]]],3)"
   ]
  },
  {
   "cell_type": "markdown",
   "metadata": {},
   "source": [
    "### Esercizio 2\n",
    "Scrivere un programma che prende in ingresso una matrice m di caratteri ed una stringa s e conta quante volte la stringa s compare orizzontalmente (da sinistra a destra e da destra a sinistra) nella matrice di caratteri. Ad esempio, se m vale \\[\\['r','c','a','s','a','p'\\],\\['r','c','o','s','a','p'\\],\\['r','f','a','s','a','c'\\]\\] e s vale 'casa', allora la funzione deve restituire 2, poiché 'casa' compare nella riga 0 da sinistra a destra e nella riga 2 da destra a sinistra."
   ]
  },
  {
   "cell_type": "code",
   "execution_count": 15,
   "metadata": {},
   "outputs": [
    {
     "name": "stdout",
     "output_type": "stream",
     "text": [
      "Test funzione: contaParoleO \n",
      "\n",
      "Input funzione: [['r', 'c', 'a', 's', 'a', 'p'], ['r', 'c', 'o', 's', 'a', 'p'], ['r', 'f', 'a', 's', 'a', 'c']], 'casa' \n",
      "\n",
      "Output atteso:\n",
      " 2 \n",
      "\n",
      "----- print interne funzione -----\n",
      "\n",
      "----------------------------------\n",
      "\n",
      "Output ottenuto:\n",
      " 2 \n",
      "\n",
      "Risultato Test: POSITIVO\n",
      "\n",
      "******************************\n",
      "\n",
      "Test funzione: contaParoleO \n",
      "\n",
      "Input funzione: [['r', 'c', 'a', 's', 'a', 'p'], ['r', 'c', 'o', 's', 'a', 'p'], ['r', 'f', 'a', 's', 'a', 'c'], ['c', 'a', 's', 'a', 'c', 'f']], 'casa' \n",
      "\n",
      "Output atteso:\n",
      " 3 \n",
      "\n",
      "----- print interne funzione -----\n",
      "\n",
      "----------------------------------\n",
      "\n",
      "Output ottenuto:\n",
      " 3 \n",
      "\n",
      "Risultato Test: POSITIVO\n",
      "\n",
      "******************************\n",
      "\n"
     ]
    },
    {
     "data": {
      "text/plain": [
       "1"
      ]
     },
     "execution_count": 15,
     "metadata": {},
     "output_type": "execute_result"
    }
   ],
   "source": [
    "from tester import tester_fun\n",
    "\n",
    "def contaParoleO(m,s):\n",
    "    conta = 0\n",
    "    righe = len(m)\n",
    "    colonne = len(m[0])\n",
    "    for i in range(righe):\n",
    "        riga = ''\n",
    "        for j in range(colonne):\n",
    "            riga += m[i][j]\n",
    "        if s in riga or s[::-1] in riga:\n",
    "            conta += 1\n",
    "    return conta\n",
    "\n",
    "tester_fun(contaParoleO,[[['r','c','a','s','a','p'],['r','c','o','s','a','p'],['r','f','a','s','a','c']],'casa'],2)\n",
    "tester_fun(contaParoleO,[[['r','c','a','s','a','p'],['r','c','o','s','a','p'],['r','f','a','s','a','c'],['c','a','s','a','c','f']],'casa'],3)"
   ]
  },
  {
   "cell_type": "markdown",
   "metadata": {},
   "source": [
    "### Esercizio 3:\n",
    "Scrivere un programma che prende in ingresso una matrice m di caratteri ed una stringa s e conta quante volte la stringa s compare verticalmente (dall'alto verso il basso e dal basso verso l'alto) nella matrice di caratteri. Ad esempio, se m vale \\[\\['r','c','a','s','a','p'\\],\\['r','a','o','s','a','p'\\],\\['r','s','a','s','a','c'\\],\\['r','a','a','s','a','c'\\]\\]\n",
    "e s vale 'casa', allora la funzione deve restituire 1, poiché 'casa' compare solo nella colonna 1."
   ]
  },
  {
   "cell_type": "code",
   "execution_count": 19,
   "metadata": {
    "scrolled": true
   },
   "outputs": [
    {
     "name": "stdout",
     "output_type": "stream",
     "text": [
      "Test funzione: contaParoleV \n",
      "\n",
      "Input funzione: [['r', 'c', 'a', 's', 'a', 'p'], ['r', 'a', 'o', 's', 'a', 'p'], ['r', 's', 'a', 's', 'a', 'c'], ['r', 'a', 'a', 's', 'a', 'c']], 'casa' \n",
      "\n",
      "Output atteso:\n",
      " 1 \n",
      "\n",
      "----- print interne funzione -----\n",
      "\n",
      "----------------------------------\n",
      "\n",
      "Output ottenuto:\n",
      " 1 \n",
      "\n",
      "Risultato Test: POSITIVO\n",
      "\n",
      "******************************\n",
      "\n",
      "Test funzione: contaParoleV \n",
      "\n",
      "Input funzione: [['r', 'c', 'a', 's', 'a', 'p'], ['r', 'a', 'o', 's', 's', 'p'], ['r', 's', 'a', 's', 'a', 'c'], ['c', 'a', 's', 'a', 'c', 'f']], 'casa' \n",
      "\n",
      "Output atteso:\n",
      " 2 \n",
      "\n",
      "----- print interne funzione -----\n",
      "\n",
      "----------------------------------\n",
      "\n",
      "Output ottenuto:\n",
      " 2 \n",
      "\n",
      "Risultato Test: POSITIVO\n",
      "\n",
      "******************************\n",
      "\n"
     ]
    },
    {
     "data": {
      "text/plain": [
       "1"
      ]
     },
     "execution_count": 19,
     "metadata": {},
     "output_type": "execute_result"
    }
   ],
   "source": [
    "from tester import tester_fun\n",
    "\n",
    "def contaParoleV(m,s):\n",
    "    conta = 0\n",
    "    righe = len(m)\n",
    "    colonne = len(m[0])\n",
    "    for j in range(colonne):\n",
    "        colonna = ''\n",
    "        for i in range(righe):\n",
    "            colonna += m[i][j]\n",
    "        if s in colonna or s[::-1] in colonna:\n",
    "            conta += 1\n",
    "    return conta\n",
    "\n",
    "tester_fun(contaParoleV,[[['r','c','a','s','a','p'],['r','a','o','s','a','p'],['r','s','a','s','a','c'],['r','a','a','s','a','c']],'casa'],1)\n",
    "tester_fun(contaParoleV,[[['r','c','a','s','a','p'],['r','a','o','s','s','p'],['r','s','a','s','a','c'],['c','a','s','a','c','f']],'casa'],2)"
   ]
  },
  {
   "cell_type": "markdown",
   "metadata": {},
   "source": [
    "### Esercizio 4: \n",
    "Scrivere un programma che prende in ingresso una matrice m di stringhe e conta quante righe hanno la proprietà che tutte le stringhe della riga hanno almeno un carattere in comune. Ad esempio, se m vale \\[\\['casa','collo','paese'\\],\\['ramo','ancora','orto'\\],\\['remo','sella','palco'\\]\\] allora la funzione deve restituire 1, poiché solo la riga 1 ha almeno un carattere comune, cioè la 'o'.\n",
    "**Suggerimento:** possono essere molto comodi gli insiemi e le loro operazioni."
   ]
  },
  {
   "cell_type": "code",
   "execution_count": 21,
   "metadata": {},
   "outputs": [
    {
     "name": "stdout",
     "output_type": "stream",
     "text": [
      "Test funzione: contaRigheCom \n",
      "\n",
      "Input funzione: [['casa', 'collo', 'paese'], ['ramo', 'ancora', 'orto'], ['remo', 'sella', 'palco']] \n",
      "\n",
      "Output atteso:\n",
      " 1 \n",
      "\n",
      "----- print interne funzione -----\n",
      "\n",
      "----------------------------------\n",
      "\n",
      "Output ottenuto:\n",
      " 1 \n",
      "\n",
      "Risultato Test: POSITIVO\n",
      "\n",
      "******************************\n",
      "\n",
      "Test funzione: contaRigheCom \n",
      "\n",
      "Input funzione: [['casa', 'collo', 'paese'], ['ramo', 'ancora', 'orto'], ['remo', 'sella', 'palco'], ['palla', 'sella', 'pollo']] \n",
      "\n",
      "Output atteso:\n",
      " 2 \n",
      "\n",
      "----- print interne funzione -----\n",
      "\n",
      "----------------------------------\n",
      "\n",
      "Output ottenuto:\n",
      " 2 \n",
      "\n",
      "Risultato Test: POSITIVO\n",
      "\n",
      "******************************\n",
      "\n"
     ]
    },
    {
     "data": {
      "text/plain": [
       "1"
      ]
     },
     "execution_count": 21,
     "metadata": {},
     "output_type": "execute_result"
    }
   ],
   "source": [
    "from tester import tester_fun\n",
    "\n",
    "def contaRigheCom(m):\n",
    "    righe = len(m)\n",
    "    colonne = len(m[0])\n",
    "    conta = 0\n",
    "    for i in range(righe):\n",
    "        lettereComuni = set(m[i][0]) #inizializzo l'insieme dei caratteri comuni alla riga\n",
    "                                     #con i caratteri della prima stringa\n",
    "        for j in range(1,colonne): # salto la prima colonna già considerata\n",
    "            lettereComuni &= set(m[i][j])\n",
    "        if len(lettereComuni) > 0:\n",
    "            conta += 1\n",
    "    return conta\n",
    "        \n",
    "\n",
    "tester_fun(contaRigheCom,[[['casa','collo','paese'],['ramo','ancora','orto'],['remo','sella','palco']]],1)\n",
    "tester_fun(contaRigheCom,[[['casa','collo','paese'],['ramo','ancora','orto'],['remo','sella','palco'],['palla','sella','pollo']]],2)"
   ]
  }
 ],
 "metadata": {
  "kernelspec": {
   "display_name": "Python 3",
   "language": "python",
   "name": "python3"
  },
  "language_info": {
   "codemirror_mode": {
    "name": "ipython",
    "version": 3
   },
   "file_extension": ".py",
   "mimetype": "text/x-python",
   "name": "python",
   "nbconvert_exporter": "python",
   "pygments_lexer": "ipython3",
   "version": "3.7.4"
  }
 },
 "nbformat": 4,
 "nbformat_minor": 4
}
