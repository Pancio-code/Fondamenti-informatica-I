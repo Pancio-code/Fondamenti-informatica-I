{
 "cells": [
  {
   "cell_type": "markdown",
   "metadata": {
    "slideshow": {
     "slide_type": "slide"
    }
   },
   "source": [
    "#### Autori: Domenico Lembo, Giuseppe Santucci and Marco Schaerf\n",
    "\n",
    "[Dipartimento di Ingegneria informatica, automatica e gestionale](https://www.diag.uniroma1.it)\n",
    "\n",
    "<img src=\"https://mirrors.creativecommons.org/presskit/buttons/88x31/png/by-nc-sa.eu.png\"\n",
    "     alt=\"License\"\n",
    "     style=\"float: left;\"\n",
    "     height=\"40\" width=\"100\" />\n",
    "This notebook is distributed with license Creative Commons *CC BY-NC-SA*"
   ]
  },
  {
   "cell_type": "markdown",
   "metadata": {},
   "source": [
    "### Soluzioni degli esercizi della sezione 10Gestione_in_memoria_oggetti_mutabili"
   ]
  },
  {
   "cell_type": "markdown",
   "metadata": {},
   "source": [
    "### Esercizio 1: \n",
    "Scrivere una funzione Python che riceve in input una lista di stringhe e restituisce la lunghezza della stringa più lunga. "
   ]
  },
  {
   "cell_type": "code",
   "execution_count": null,
   "metadata": {
    "scrolled": true
   },
   "outputs": [],
   "source": [
    "from tester import tester_fun\n",
    "\n",
    "def stringaMax(l):\n",
    "    lMax=0\n",
    "    for elem in l:\n",
    "        if len(elem)>lMax:\n",
    "            lMax=len(elem)\n",
    "    return lMax      \n",
    "\n",
    "tester_fun(stringaMax,[['casa','pippo', 'paperopoli']],10)\n",
    "tester_fun(stringaMax,[['ciao','a', '','io']],4)\n",
    "tester_fun(stringaMax,[['mario','maria','mario']],5)\n",
    "tester_fun(stringaMax,[['a','b','c']],1)\n",
    "tester_fun(stringaMax,[['abracadabra']],11)"
   ]
  },
  {
   "cell_type": "markdown",
   "metadata": {},
   "source": [
    "### Esercizio 2:\n",
    "Scrivere una funzione Python che riceve in input una lista di interi e restituisce la posizione dell'ultimo elemento positivo (>= 0). Se nessun elemento è positivo deve restituire -1"
   ]
  },
  {
   "cell_type": "code",
   "execution_count": null,
   "metadata": {
    "scrolled": true
   },
   "outputs": [],
   "source": [
    "from tester import tester_fun\n",
    "\n",
    "def ultimoPos(l):\n",
    "    if len(l)==0:\n",
    "        return 'errore vuota'\n",
    "    max = -1\n",
    "    for i in range(len(l)):\n",
    "        if l[i] >= 0: # Trovato elemento >=0, lo memorizzo ma continuo per cercarne altri\n",
    "            max = i\n",
    "    return max   \n",
    "\n",
    "\n",
    "# Soluzione leggermente più efficiente. Ciclo dall'ultima posizione\n",
    "def ultimoPos(l):\n",
    "    if len(l)==0:\n",
    "        return 'errore vuota'\n",
    "    max = -1\n",
    "    for i in range(len(l)-1,-1,-1):\n",
    "        if l[i] >= 0: # Appena trova valore >= 0 può fare return\n",
    "            return i\n",
    "    return max\n",
    "\n",
    "tester_fun(ultimoPos,[[5, 6, 9, 0, -2]],3)\n",
    "tester_fun(ultimoPos,[[-5, -6, -9, -2]],-1)\n",
    "tester_fun(ultimoPos,[[-10, 6, 9, 0, 2]],4)\n",
    "tester_fun(ultimoPos,[[-5, 3]],1)\n",
    "tester_fun(ultimoPos,[[5, -6, 9, 0, 2, -12, 13]],6)"
   ]
  },
  {
   "cell_type": "markdown",
   "metadata": {},
   "source": [
    "### Esercizio 3:\n",
    "scrivere una funzione python che ricevendo in ingresso una lista `l` e una stringa `s` inserisce la stringa `s` in `l` in modo da mantenere le stringhe ordinate per lunghezza"
   ]
  },
  {
   "cell_type": "code",
   "execution_count": null,
   "metadata": {},
   "outputs": [],
   "source": [
    "from tester import tester_fun\n",
    "\n",
    "#inserisce una stringa in una lista mantenendo l'ordinamento sulla\n",
    "#lunghezza delle stringhe\n",
    "\n",
    "def inserisciStringa(l,s):\n",
    "    for i in range(len(l)):\n",
    "        if len(l[i])>len(s):\n",
    "            l.insert(i,s)\n",
    "            return l\n",
    "    \n",
    "    l.append(s)\n",
    "    return l\n",
    "\n",
    "tester_fun(inserisciStringa,[['nel','mezzo','cammino'],'casa'],['nel','casa','mezzo','cammino'])\n",
    "tester_fun(inserisciStringa,[['nel','casa','mezzo','cammino'],'casa'],['nel','casa','casa','mezzo','cammino'])\n",
    "tester_fun(inserisciStringa,[['nel','casa','casa','mezzo','cammino'],'vita'],['nel','casa','casa','vita','mezzo','cammino'])\n",
    "tester_fun(inserisciStringa,[['nel','casa','casa','mezzo','cammino'],'nostra'],['nel','casa','casa','mezzo','nostra','cammino'])\n",
    "tester_fun(inserisciStringa,[['nel','casa','mezzo','nostra','cammino'],'mi'],['mi','nel','casa','mezzo','nostra','cammino'])"
   ]
  },
  {
   "cell_type": "markdown",
   "metadata": {},
   "source": [
    "### Esercizio 4:\n",
    "Scrivere una funzione che prende in ingresso una lista `l` di elementi disomogenei e calcola la somma di tutti gli elementi interi."
   ]
  },
  {
   "cell_type": "code",
   "execution_count": null,
   "metadata": {},
   "outputs": [],
   "source": [
    "from tester import tester_fun\n",
    "\n",
    "def somma(l):\n",
    "    tot = 0\n",
    "    for el in l:\n",
    "       # print(el,type(el)) #stampa l'elemento ed il suo tipo\n",
    "        if type(el) == int: #se il tipo dell'elemento è int\n",
    "            tot = tot + el  # allora lo sommo\n",
    "    return tot\n",
    "\n",
    "tester_fun(somma,[[3, 5, 6.1, -1, 'casa',  11]],18)\n",
    "tester_fun(somma,[[3, 'ciao', 6.1, -1, 'casa',  11]],13)\n",
    "tester_fun(somma,[[3, 'ciao', 'roma', -1, 'casa',  11]],13)\n",
    "tester_fun(somma,[[3, -1, 11]],13)\n",
    "tester_fun(somma,[[5, 'ciao', -1, 'casa',  13]],17)"
   ]
  },
  {
   "cell_type": "markdown",
   "metadata": {},
   "source": [
    "### Esercizio 5:\n",
    "Scrivere una funzione che prende in input una lista di stringhe `l` ed un intero `i` ed elimina da `l` tutte le stringhe che hanno lunghezza maggiore di `i `"
   ]
  },
  {
   "cell_type": "code",
   "execution_count": null,
   "metadata": {},
   "outputs": [],
   "source": [
    "from tester import tester_fun\n",
    "\n",
    "def eliminaStringhe(l,i) :\n",
    "    k = 0 \n",
    "    while k < len(l) :\n",
    "        if len(l[k]) > i :\n",
    "            l.remove(l[k])\n",
    "        else :\n",
    "            k = k + 1\n",
    "    return l\n",
    "\n",
    "tester_fun(eliminaStringhe,[[\"mamma\",\"sì\",\"ciao\",\"pippo\"],2],[\"sì\"])\n",
    "tester_fun(eliminaStringhe,[[\"mamma\",\"sì\",\"ciao\",\"pippo\"],4],[\"sì\", \"ciao\"])\n",
    "tester_fun(eliminaStringhe,[[\"mamma\",\"sì\",\"ciao\",\"pippo\"],5],[\"mamma\",\"sì\",\"ciao\",\"pippo\"])\n",
    "tester_fun(eliminaStringhe,[[\"mamma\",\"sì\",\"ciao\",\"pippo\"],0],[])\n",
    "tester_fun(eliminaStringhe,[[\"assolo\",\"io\"],4],[\"io\"])"
   ]
  },
  {
   "cell_type": "markdown",
   "metadata": {},
   "source": [
    "### Esercizio 6:\n",
    "Scrivere un funzione che prende in input 2 liste di stringhe ordinate per lunghezza e crea una nuova lista dalla fusione (merge) delle 2 liste preservando l'ordinamento per lunghezza. Nel caso di stringhe della stessa lunghezza, scegliere prima le stringhe della lista `l2`."
   ]
  },
  {
   "cell_type": "code",
   "execution_count": null,
   "metadata": {},
   "outputs": [],
   "source": [
    "from tester import tester_fun\n",
    "    \n",
    "def merge(l1,l2):\n",
    "    #in caso di stringhe di ugual lunghezza inserire prima la stringa in l2\n",
    "    ris = [] # inizializza il risultato\n",
    "    i1 = 0 #indice sulla posizione nella prima lista\n",
    "    i2 = 0 #indice sulla posizione nella seconda lista\n",
    "    while i1 < len(l1) and i2 < len(l2): #finché non siamo arrivati in fondo ad una lista\n",
    "        if len(l1[i1]) < len(l2[i2]): #se l'elemento della prima lista è più corto di quelllo della seconda\n",
    "            ris.append(l1[i1]) #inseriscilo nel risultato e\n",
    "            i1 += 1 #sposta la posizione dell'indice nella prima lista\n",
    "        else:\n",
    "            ris.append(l2[i2])\n",
    "            i2 += 1\n",
    "    for i in range(i1,len(l1)): #Se la prima lista non è stata tutta analizzata,\n",
    "        ris.append(l1[i]) # i suoi elementi vanno inseriti nel risultato\n",
    "    for i in range(i2,len(l2)): #Se la seconda lista non è stata tutta analizzata,\n",
    "        ris.append(l2[i]) # i suoi elementi vanno inseriti nel risultato\n",
    "    return ris\n",
    "\n",
    "tester_fun(merge,[['a', 'b','abc','abbcc'],['','aa','bb','cccc','ccccccc']],['','a','b','aa','bb','abc','cccc','abbcc','ccccccc'])\n",
    "tester_fun(merge,[['aa','bb'],['cccc','ccccccc']],['aa','bb','cccc','ccccccc'])\n",
    "tester_fun(merge,[[\"sì\",\"ciao\",\"mamma\",\"pippo\"],[\"io\",\"assolo\"]],[\"io\",\"sì\",\"ciao\",\"mamma\",\"pippo\",\"assolo\"])\n",
    "tester_fun(merge,[['', 'a','c'],['dd']],['', 'a','c','dd'])\n",
    "tester_fun(merge,[['alfa','omega'],['beta','gamma']],['beta','alfa','gamma','omega']) "
   ]
  }
 ],
 "metadata": {
  "kernelspec": {
   "display_name": "Python 3",
   "language": "python",
   "name": "python3"
  },
  "language_info": {
   "codemirror_mode": {
    "name": "ipython",
    "version": 3
   },
   "file_extension": ".py",
   "mimetype": "text/x-python",
   "name": "python",
   "nbconvert_exporter": "python",
   "pygments_lexer": "ipython3",
   "version": "3.6.5"
  }
 },
 "nbformat": 4,
 "nbformat_minor": 4
}
