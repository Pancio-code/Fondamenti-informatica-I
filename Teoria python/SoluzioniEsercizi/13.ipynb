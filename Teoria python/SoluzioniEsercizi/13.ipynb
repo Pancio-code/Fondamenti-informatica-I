{
 "cells": [
  {
   "cell_type": "markdown",
   "metadata": {
    "slideshow": {
     "slide_type": "slide"
    }
   },
   "source": [
    "#### Autori: Domenico Lembo, Giuseppe Santucci and Marco Schaerf\n",
    "\n",
    "[Dipartimento di Ingegneria informatica, automatica e gestionale](https://www.diag.uniroma1.it)\n",
    "\n",
    "<img src=\"https://mirrors.creativecommons.org/presskit/buttons/88x31/png/by-nc-sa.eu.png\"\n",
    "     alt=\"License\"\n",
    "     style=\"float: left;\"\n",
    "     height=\"40\" width=\"100\" />\n",
    "This notebook is distributed with license Creative Commons *CC BY-NC-SA*"
   ]
  },
  {
   "cell_type": "markdown",
   "metadata": {},
   "source": [
    "### Soluzioni degli esercizi della sezione 13EspressioniRegolari"
   ]
  },
  {
   "cell_type": "markdown",
   "metadata": {},
   "source": [
    "### Esercizio 1:\n",
    "Scrivere un programma che prende in ingresso il nome di un file e restituisce la lista (ordinata alfabeticamente e senza ripetizioni) delle parole che contengono al loro interno almeno 3 doppie, cioè 3 coppie di lettere uguali consecutive come ad esempio 'arrabbattarsi'. Non fate differenza tra maiuscole e minuscole."
   ]
  },
  {
   "cell_type": "code",
   "execution_count": null,
   "metadata": {
    "scrolled": true
   },
   "outputs": [],
   "source": [
    "from tester import tester_fun\n",
    "\n",
    "import re\n",
    "\n",
    "def trovaParole(file):\n",
    "    testo = open(file,'r',encoding='UTF-8').read().lower()\n",
    "    pattern = r'[a-z]*([a-z])\\1[a-z]*([a-z])\\2[a-z]*([a-z])\\3[a-z]*'\n",
    "    i = re.finditer(pattern,testo)\n",
    "    parole = []\n",
    "    for m in i:\n",
    "        parola = m.group(0)\n",
    "        if parola not in parole:\n",
    "            parole.append(parola)\n",
    "    parole.sort()\n",
    "    return parole\n",
    "    \n",
    "tester_fun(trovaParole,['I_Malavoglia_50.txt'],['scappellotto'])\n",
    "tester_fun(trovaParole,['I_Malavoglia.txt'],['abboccherebbero', 'ammazzeranno', 'arrabbattarsi', 'azzuffassero', 'cappellaccio', 'cappelletta', 'cappellette', 'scappellotto', 'uccellaccio'])"
   ]
  },
  {
   "cell_type": "markdown",
   "metadata": {},
   "source": [
    "### Esercizio 2\n",
    "Generalizzare l'esercizio 1 mettendo il numero di doppie come parametro, cioè scrivere una funzione che prende come parametro il nome di un file ed il numero (minimo) n di doppie che le parole devono contenere e la lista (ordinata alfabeticamente e senza ripetizioni) delle parole che contengono al loro interno almeno n doppie, cioè n coppie di lettere uguali consecutive. Non fate differenza tra maiuscole e minuscole."
   ]
  },
  {
   "cell_type": "code",
   "execution_count": 1,
   "metadata": {},
   "outputs": [
    {
     "name": "stdout",
     "output_type": "stream",
     "text": [
      "Test funzione: trovaParole2 \n",
      "\n",
      "Input funzione: 'I_Malavoglia_50.txt', 3 \n",
      "\n",
      "Output atteso:\n",
      " ['scappellotto'] \n",
      "\n",
      "----- print interne funzione -----\n",
      "\n",
      "[a-z]*([a-z])\\1[a-z]*([a-z])\\2[a-z]*([a-z])\\3[a-z]*\n",
      "----------------------------------\n",
      "\n",
      "Output ottenuto:\n",
      " ['scappellotto'] \n",
      "\n",
      "Risultato Test: POSITIVO\n",
      "\n",
      "******************************\n",
      "\n",
      "Test funzione: trovaParole2 \n",
      "\n",
      "Input funzione: 'I_Malavoglia_50.txt', 2 \n",
      "\n",
      "Output atteso:\n",
      " ['scappellotto'] \n",
      "\n",
      "----- print interne funzione -----\n",
      "\n",
      "[a-z]*([a-z])\\1[a-z]*([a-z])\\2[a-z]*\n",
      "----------------------------------\n",
      "\n",
      "Output ottenuto:\n",
      " ['addii', 'affrettati', 'ammarrata', 'apparecchiare', 'arricchirsi', 'arricchisci', 'arricchito', 'donnicciuole', 'fazzoletto', 'gruzzoletto', 'parommella', 'parrocchia', 'ricchezze', 'scappellotto', 'soddisfatti', 'soggetto', 'villaggio', 'vorrebbe', 'zuppidda'] \n",
      "\n",
      "Risultato Test: NEGATIVO\n",
      "\n",
      "******************************\n",
      "\n",
      "Test funzione: trovaParole2 \n",
      "\n",
      "Input funzione: 'I_Malavoglia.txt', 3 \n",
      "\n",
      "Output atteso:\n",
      " ['abboccherebbero', 'ammazzeranno', 'arrabbattarsi', 'azzuffassero', 'cappellaccio', 'cappelletta', 'cappellette', 'scappellotto', 'uccellaccio'] \n",
      "\n",
      "----- print interne funzione -----\n",
      "\n",
      "[a-z]*([a-z])\\1[a-z]*([a-z])\\2[a-z]*([a-z])\\3[a-z]*\n",
      "----------------------------------\n",
      "\n",
      "Output ottenuto:\n",
      " ['abboccherebbero', 'ammazzeranno', 'arrabbattarsi', 'azzuffassero', 'cappellaccio', 'cappelletta', 'cappellette', 'scappellotto', 'uccellaccio'] \n",
      "\n",
      "Risultato Test: POSITIVO\n",
      "\n",
      "******************************\n",
      "\n"
     ]
    },
    {
     "data": {
      "text/plain": [
       "1"
      ]
     },
     "execution_count": 1,
     "metadata": {},
     "output_type": "execute_result"
    }
   ],
   "source": [
    "from tester import tester_fun\n",
    "\n",
    "import re\n",
    "\n",
    "def trovaParole2(file,n):\n",
    "    testo = open(file,'r',encoding='UTF-8').read().lower()\n",
    "    pattern = '[a-z]*'\n",
    "    for i in range(1,n+1):\n",
    "        pattern += '([a-z])\\\\' + str(i) + '[a-z]*'\n",
    "    print(pattern)\n",
    "    i = re.finditer(pattern,testo)\n",
    "    parole = []\n",
    "    for m in i:\n",
    "        parola = m.group(0)\n",
    "        if parola not in parole:\n",
    "            parole.append(parola)\n",
    "    parole.sort()\n",
    "    return parole\n",
    "    \n",
    "tester_fun(trovaParole2,['I_Malavoglia_50.txt',3],['scappellotto'])\n",
    "tester_fun(trovaParole2,['I_Malavoglia_50.txt',2],['addii', 'affrettati', 'ammarrata', 'apparecchiare', 'arricchirsi', 'arricchisci', 'arricchito', 'donnicciuole', 'fazzoletto', 'gruzzoletto', 'parommella', 'parrocchia', 'ricchezze', 'scappellotto', 'soddisfatti', 'soggetto', 'villaggio', 'vorrebbe', 'zuppidda'])\n",
    "tester_fun(trovaParole2,['I_Malavoglia.txt',3],['abboccherebbero', 'ammazzeranno', 'arrabbattarsi', 'azzuffassero', 'cappellaccio', 'cappelletta', 'cappellette', 'scappellotto', 'uccellaccio'])"
   ]
  },
  {
   "cell_type": "markdown",
   "metadata": {},
   "source": [
    "### Esercizio 3:\n",
    "Calcolare quante volte in un file compare una sequenza di 3 parole consecutive con la seguente proprietà: la lettera finale della prima parola è uguale a quella iniziale della seconda e quella finale della seconda è uguale a quella iniziale della terza.\n",
    "**Nota:** Si assuma che la seconda parola di ciascuna sequenza contenga almeno due lettere e non si considerino sequenze sovrapposte (ad esempio, nella stringa 'a ab ba ac c' c'è comunque una sola sequenza, perchè ba deve essere considerato parte di una sola sequenza)"
   ]
  },
  {
   "cell_type": "code",
   "execution_count": null,
   "metadata": {
    "scrolled": true
   },
   "outputs": [],
   "source": [
    "from tester import tester_fun\n",
    "\n",
    "import re\n",
    "\n",
    "def conta(file):\n",
    "    testo=open(file,\"r\",encoding=\"UTF-8\").read()\n",
    "    regex = r'[a-z]*([a-z])[^a-z]+\\1[a-z]*([a-z])[^a-z]+\\2[a-z]*'\n",
    "    ris = re.findall(regex,testo,re.IGNORECASE)\n",
    "    return len(ris)\n",
    "\n",
    "#nota: se assumiamo che tutte le parole contengono \n",
    "#almeno due caratteri, eliminando [a-z]* all'inizio \n",
    "#ed alla fine dalla regex contiamo eventuali sequenze \n",
    "#sovrapposte, perchè in realtà ciascun match coinvolge solo \n",
    "#la lettera finale della prima parola, la seconda \n",
    "#parola e la lettera iniziale della terza parola.\n",
    "\n",
    "tester_fun(counter_test_positivi = 0\n",
    "\n",
    "counter_test_positivi += tester_fun(conta,['file1.txt'],2)\n",
    "counter_test_positivi += tester_fun(conta,['file2.txt'],3)\n",
    "counter_test_positivi += tester_fun(conta,['file3.txt'],4)\n",
    "\n",
    "print('La funzione',conta.__name__,'ha superato',counter_test_positivi,'test')\n"
   ]
  },
  {
   "cell_type": "markdown",
   "metadata": {},
   "source": [
    "### Esercizio 4: \n",
    "Il programma che abbiamo visto per l'estrazione dei codici fiscali risolve il problema, ma non è completamente preciso. Per essere precisi, bisognerebbe verificare che il numero sia coerente con il mese (Aprile, Giugno, Settembre e Novembre) hanno 30 giorni e Febbraio ne ha 28 (o 29). Provate a completare quell'esercizio introducendo questi controlli addizionali. Assumete che un anno sia bisestile se è un multiplo di 4."
   ]
  },
  {
   "cell_type": "code",
   "execution_count": 3,
   "metadata": {},
   "outputs": [
    {
     "name": "stdout",
     "output_type": "stream",
     "text": [
      "Test funzione: trovaCF2 \n",
      "\n",
      "Input funzione: 'testoDateCF.txt' \n",
      "\n",
      "Output atteso:\n",
      " (['CCCMRC17A11H501W', 'CCDMRC55P13H501W'], ['CCCMRC00M57H501W', 'CCCMRC96E41H501W']) \n",
      "\n",
      "----- print interne funzione -----\n",
      "\n",
      "----------------------------------\n",
      "\n",
      "Output ottenuto:\n",
      " (['CCCMRC17A11H501W', 'CCDMRC55P13H501W'], ['CCCMRC00M57H501W', 'CCCMRC96E41H501W']) \n",
      "\n",
      "Risultato Test: POSITIVO\n",
      "\n",
      "******************************\n",
      "\n",
      "Test funzione: trovaCF2 \n",
      "\n",
      "Input funzione: 'testoDateCF2.txt' \n",
      "\n",
      "Output atteso:\n",
      " (['CCDMRC80B29H501W'], ['CCCMRC71T57H501W', 'CCCSRC74D51H501W']) \n",
      "\n",
      "----- print interne funzione -----\n",
      "\n",
      "----------------------------------\n",
      "\n",
      "Output ottenuto:\n",
      " (['CCDMRC80B29H501W'], ['CCCMRC71T57H501W', 'CCCSRC74D51H501W']) \n",
      "\n",
      "Risultato Test: POSITIVO\n",
      "\n",
      "******************************\n",
      "\n",
      "Test funzione: trovaCF2 \n",
      "\n",
      "Input funzione: 'testoDateCF3.txt' \n",
      "\n",
      "Output atteso:\n",
      " (['CCCMRC57D30H501W', 'CCDMRC80B29H501W'], ['CCCSRC57T51H501W']) \n",
      "\n",
      "----- print interne funzione -----\n",
      "\n",
      "----------------------------------\n",
      "\n",
      "Output ottenuto:\n",
      " (['CCCMRC57D30H501W', 'CCDMRC80B29H501W'], ['CCCSRC57T51H501W']) \n",
      "\n",
      "Risultato Test: POSITIVO\n",
      "\n",
      "******************************\n",
      "\n"
     ]
    },
    {
     "data": {
      "text/plain": [
       "1"
      ]
     },
     "execution_count": 3,
     "metadata": {},
     "output_type": "execute_result"
    }
   ],
   "source": [
    "from tester import tester_fun\n",
    "\n",
    "import re\n",
    "\n",
    "def dataCorretta(giorno,mese,anno):\n",
    "    if giorno <= 0 or giorno > 31:\n",
    "        return False\n",
    "    if giorno > 30 and mese in 'DHPS': #aprile, giugno, settembre o novembre\n",
    "        return False\n",
    "    if mese == 'B' and giorno > 29: #febbraio, mai più di 29\n",
    "        return False\n",
    "    if mese == 'B' and giorno > 28 and anno % 4 != 0: #febbraio mai più di 28 se non bisestile\n",
    "        return False\n",
    "    return True\n",
    "\n",
    "def trovaCF2(file):\n",
    "    pattern='[A-Z]{3} ?[A-Z]{3} ?([0-9]{2})([A-Z])([0-9]{2}) ?[A-Z][0-9]{3}[A-Z]'\n",
    "    s = open(file).read()\n",
    "    i = re.finditer(pattern, s)\n",
    "    l_u = []\n",
    "    l_d = []\n",
    "    mesi = 'ABCDEHLMPRST'\n",
    "    for m in i:\n",
    "        cf = m.group(0)\n",
    "        giorno = int(m.group(3))\n",
    "        mese = m.group(2)\n",
    "        anno = int(m.group(1))\n",
    "        if giorno >= 40: #calcolo il vero giorno di nascita togliendo 40 alle donne\n",
    "            verogiorno = giorno - 40\n",
    "        else:\n",
    "            verogiorno = giorno\n",
    "        if mese in mesi and dataCorretta(verogiorno,mese,anno): #verifico che la data sia corretta\n",
    "            if giorno <= 31: # è il codice fiscale di un uomo\n",
    "                l_u.append(cf)\n",
    "            else:\n",
    "                l_d.append(cf)\n",
    "    l_u.sort()\n",
    "    l_d.sort()\n",
    "    return l_u,l_d    \n",
    "\n",
    "tester_fun(trovaCF2, ['testoDateCF.txt'],(['CCCMRC17A11H501W', 'CCDMRC55P13H501W'], ['CCCMRC00M57H501W', 'CCCMRC96E41H501W']))\n",
    "tester_fun(trovaCF2, ['testoDateCF2.txt'],(['CCDMRC80B29H501W'], ['CCCMRC71T57H501W', 'CCCSRC74D51H501W']))\n",
    "tester_fun(trovaCF2, ['testoDateCF3.txt'],(['CCCMRC57D30H501W', 'CCDMRC80B29H501W'], ['CCCSRC57T51H501W']))\n"
   ]
  },
  {
   "cell_type": "code",
   "execution_count": null,
   "metadata": {},
   "outputs": [],
   "source": []
  }
 ],
 "metadata": {
  "kernelspec": {
   "display_name": "Python 3",
   "language": "python",
   "name": "python3"
  },
  "language_info": {
   "codemirror_mode": {
    "name": "ipython",
    "version": 3
   },
   "file_extension": ".py",
   "mimetype": "text/x-python",
   "name": "python",
   "nbconvert_exporter": "python",
   "pygments_lexer": "ipython3",
   "version": "3.8.0"
  }
 },
 "nbformat": 4,
 "nbformat_minor": 4
}
