{
 "cells": [
  {
   "cell_type": "markdown",
   "metadata": {
    "slideshow": {
     "slide_type": "slide"
    }
   },
   "source": [
    "#### Autori: Domenico Lembo, Giuseppe Santucci and Marco Schaerf\n",
    "\n",
    "[Dipartimento di Ingegneria informatica, automatica e gestionale](https://www.diag.uniroma1.it)\n",
    "\n",
    "<img src=\"https://mirrors.creativecommons.org/presskit/buttons/88x31/png/by-nc-sa.eu.png\"\n",
    "     alt=\"License\"\n",
    "     style=\"float: left;\"\n",
    "     height=\"40\" width=\"100\" />\n",
    "This notebook is distributed with license Creative Commons *CC BY-NC-SA*"
   ]
  },
  {
   "cell_type": "markdown",
   "metadata": {},
   "source": [
    "### Soluzioni degli esercizi della sezione 04Condizioni_e_Istruzione_if"
   ]
  },
  {
   "cell_type": "markdown",
   "metadata": {},
   "source": [
    "### Esercizio 1: \n",
    "Scrivere un programma che prende in ingresso due stringhe s1 ed s2 e stampa una prima riga con le stringhe in ordine alfabetico ed una seconda con le stringhe in ordine di lunghezza"
   ]
  },
  {
   "cell_type": "code",
   "execution_count": 1,
   "metadata": {},
   "outputs": [
    {
     "name": "stdin",
     "output_type": "stream",
     "text": [
      "Inserisci la prima stringa:  paolo\n",
      "Inserisci la seconda stringa:  carlotta\n"
     ]
    },
    {
     "name": "stdout",
     "output_type": "stream",
     "text": [
      "carlotta paolo\n",
      "paolo carlotta\n"
     ]
    }
   ],
   "source": [
    "s1 = input('Inserisci la prima stringa: ')\n",
    "s2 = input('Inserisci la seconda stringa: ')\n",
    "\n",
    "if s1 < s2: #stampa in ordine alfabetico\n",
    "    print(s1,s2)\n",
    "else:\n",
    "    print(s2,s1)\n",
    "\n",
    "if len(s1) < len(s2): #stampa in ordine di lunghezza\n",
    "    print(s1,s2)\n",
    "else:\n",
    "    print(s2,s1)"
   ]
  },
  {
   "cell_type": "markdown",
   "metadata": {},
   "source": [
    "### Esercizio 2:\n",
    "Scrivere un programma che prende in ingresso due stringhe s1 ed s2 e, se la stringa s2 è contenuta in s1, calcola il numero di volte N in cui compare e poi stampa il messaggio:\n",
    "\n",
    "La stringa s2 compare N volte nella stringa s1\n",
    "\n",
    "dove s1, s2 ed N vanno sostituiti con il loro valore.\n",
    "Altrimenti stampa il messaggio:\n",
    "\n",
    "La stringa s2 non compare nella stringa s1"
   ]
  },
  {
   "cell_type": "code",
   "execution_count": 2,
   "metadata": {},
   "outputs": [
    {
     "name": "stdin",
     "output_type": "stream",
     "text": [
      "Inserisci la prima stringa:  tanto va la gatta al lardo gatta\n",
      "Inserisci la seconda stringa:  gatta\n"
     ]
    },
    {
     "name": "stdout",
     "output_type": "stream",
     "text": [
      "La stringa: gatta compare 2 volte nella stringa: tanto va la gatta al lardo gatta\n"
     ]
    }
   ],
   "source": [
    "s1 = input('Inserisci la prima stringa: ')\n",
    "s2 = input('Inserisci la seconda stringa: ')\n",
    "\n",
    "if s2 in s1: #la stringa s2 compare in s1\n",
    "    print('La stringa:',s2,'compare',s1.count(s2),'volte nella stringa:',s1)\n",
    "else:\n",
    "    print('La stringa:',s2,'non compare nella stringa:',s1)"
   ]
  },
  {
   "cell_type": "markdown",
   "metadata": {},
   "source": [
    "### Esercizio 3:\n",
    "Scrivere un programma che prende in ingresso una stringa s e stampa il valore True se la stringa s è palindroma. Suggerimento: usate (in modo creativo) lo slicing"
   ]
  },
  {
   "cell_type": "code",
   "execution_count": 3,
   "metadata": {},
   "outputs": [
    {
     "name": "stdin",
     "output_type": "stream",
     "text": [
      "Inserisci la stringa:  anna\n"
     ]
    },
    {
     "name": "stdout",
     "output_type": "stream",
     "text": [
      "la stringa è palindroma?: True\n"
     ]
    }
   ],
   "source": [
    "s = input('Inserisci la stringa: ')\n",
    "print('la stringa è palindroma?:',s==s[::-1])\n",
    "#s[::-1] prende tutti i caratteri della string dall'ultimo al primo, cioè la inverte.\n",
    "# se una stringa è uguale alla sua inversa allora è palindroma"
   ]
  },
  {
   "cell_type": "markdown",
   "metadata": {},
   "source": [
    "### Esercizio 4:\n",
    "Scrivere un programma che realizza un piccolo gioco in cui l'utente deve indovinare un numero \"pensato\" dal computer tra 1 ed N (compresi). Innanzitutto, l'utente deve inserire il valore di N, poi il computer \"pensa\" il numero (usando la funzione random.randint()) ed ora l'utente deve fare tre tentativi per indovinare il numero, ad ogni tentativo il programma risponderà con una delle tre risposte:\n",
    "- \"Bravo hai indovinato\"\n",
    "- \"Il Numero che hai detto è troppo grande\"\n",
    "- \"Il Numero che hai detto è troppo piccolo\"\n",
    "\n",
    "P.S. Come curiosità, sapete dire quale è il valore massimo di N per cui l'utente sarà sempre in grado di indovinare il numero in 3 tentativi ?"
   ]
  },
  {
   "cell_type": "code",
   "execution_count": 5,
   "metadata": {},
   "outputs": [
    {
     "name": "stdin",
     "output_type": "stream",
     "text": [
      "Inserisci numero massimo da pensare: 7\n",
      "Inserisci primo tentativo: 4\n"
     ]
    },
    {
     "name": "stdout",
     "output_type": "stream",
     "text": [
      "Il Numero che hai detto è troppo piccolo\n"
     ]
    },
    {
     "name": "stdin",
     "output_type": "stream",
     "text": [
      "Inserisci secondo tentativo: 6\n"
     ]
    },
    {
     "name": "stdout",
     "output_type": "stream",
     "text": [
      "Il Numero che hai detto è troppo grande\n"
     ]
    },
    {
     "name": "stdin",
     "output_type": "stream",
     "text": [
      "Inserisci terzo tentativo: 5\n"
     ]
    },
    {
     "name": "stdout",
     "output_type": "stream",
     "text": [
      "Bravo hai indovinato\n"
     ]
    }
   ],
   "source": [
    "# Se N <= 7 in 3 tentativi si può sempre indovinare.\n",
    "#Basta scegliere sempre il valore di mezzo tra quelli ancora possibili\n",
    "import random\n",
    "\n",
    "massimo = int(input('Inserisci numero massimo da pensare:'))\n",
    "nascosto = random.randint(1,massimo)\n",
    "finito = False #variabile booleana per memorizzare il fatto che l'utente abbia indovinato\n",
    "\n",
    "guess1 = int(input('Inserisci primo tentativo:'))\n",
    "if guess1 > nascosto:\n",
    "    print(\"Il Numero che hai detto è troppo grande\")\n",
    "elif guess1 == nascosto:\n",
    "    print(\"Bravo hai indovinato\")\n",
    "    finito = True #In questo caso il gioco deve concludersi senza chiedere altri numeri\n",
    "else:\n",
    "    print(\"Il Numero che hai detto è troppo piccolo\")\n",
    "\n",
    "if not finito: #Se l'utente non ha ancora indovinato\n",
    "    guess2 = int(input('Inserisci secondo tentativo:'))\n",
    "    if guess2 > nascosto:\n",
    "        print(\"Il Numero che hai detto è troppo grande\")\n",
    "    elif guess2 == nascosto:\n",
    "        print(\"Bravo hai indovinato\")\n",
    "        finito = True\n",
    "    else:\n",
    "        print(\"Il Numero che hai detto è troppo piccolo\")\n",
    "\n",
    "if not finito:\n",
    "    guess3 = int(input('Inserisci terzo tentativo:'))\n",
    "    if guess3 > nascosto:\n",
    "        print(\"Il Numero che hai detto è troppo grande\")\n",
    "    elif guess3 == nascosto:\n",
    "        print(\"Bravo hai indovinato\")\n",
    "        finito = True\n",
    "    else:\n",
    "        print(\"Il Numero che hai detto è troppo piccolo\")\n"
   ]
  },
  {
   "cell_type": "code",
   "execution_count": null,
   "metadata": {},
   "outputs": [],
   "source": []
  }
 ],
 "metadata": {
  "kernelspec": {
   "display_name": "Python 3",
   "language": "python",
   "name": "python3"
  },
  "language_info": {
   "codemirror_mode": {
    "name": "ipython",
    "version": 3
   },
   "file_extension": ".py",
   "mimetype": "text/x-python",
   "name": "python",
   "nbconvert_exporter": "python",
   "pygments_lexer": "ipython3",
   "version": "3.7.4"
  }
 },
 "nbformat": 4,
 "nbformat_minor": 4
}
