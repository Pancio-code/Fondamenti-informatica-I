{
 "cells": [
  {
   "cell_type": "markdown",
   "metadata": {
    "slideshow": {
     "slide_type": "slide"
    }
   },
   "source": [
    "#### Autori: Domenico Lembo, Giuseppe Santucci and Marco Schaerf\n",
    "\n",
    "[Dipartimento di Ingegneria informatica, automatica e gestionale](https://www.diag.uniroma1.it)\n",
    "\n",
    "<img src=\"https://mirrors.creativecommons.org/presskit/buttons/88x31/png/by-nc-sa.eu.png\"\n",
    "     alt=\"License\"\n",
    "     style=\"float: left;\"\n",
    "     height=\"40\" width=\"100\" />\n",
    "This notebook is distributed with license Creative Commons *CC BY-NC-SA*"
   ]
  },
  {
   "cell_type": "markdown",
   "metadata": {},
   "source": [
    "# Trivia: indovina città e attrazione da immagini\n",
    "1. Obiettivo del gioco\n",
    "2. Preparazione del gioco\n",
    "3. Creazione delle strutture dati\n",
    "4. Esecuzione del gioco\n",
    "5. Analisi dei dati"
   ]
  },
  {
   "cell_type": "markdown",
   "metadata": {},
   "source": [
    "### Obiettivo del gioco\n",
    "Dobbiamo implementare un semplice gioco a quiz su città e attrazioni. Il gioco consiste nel proporre all'utente una sequenza di immagini e chiedergli di riconoscere la città e l'attrazione a cui si riferiscono."
   ]
  },
  {
   "cell_type": "markdown",
   "metadata": {},
   "source": [
    "### Preparazione del gioco\n",
    "Selezioniamo (almeno) 3 città ed (almeno) 3 attrazioni per ogni città. Assegnamo a ogni città e ad ogni attrazione un nome univoco per evitare ambiguità. Creiamo la directory del progetto e salviamo lì questo notebook. Troviamo sul web (almeno) 2 immagini per ogni attrazione. Per ogni immagine copiamo l'indirizzo dell'immagine. Ad esempio, in questa pagina Wikipedia sul [Colosseo](https://it.wikipedia.org/wiki/Colosseo) selezioniamo l'immagine in alto a destra e copiamo il suo indirizzo immagine, che dovrebbe essere https://upload.wikimedia.org/wikipedia/commons/thumb/d/d8/Colosseum_in_Rome-April_2007-1-_copie_2B.jpg/390px-Colosseum_in_Rome-April_2007-1-_copie_2B.jpg. \n",
    "\n",
    "In Windows (Chrome o Firefox), premi il pulsante destro sull'immagine e quindi seleziona copia indirizzo immagine, in iOS (Safari) fai clic / tocca e tieni premuto sull'immagine e quindi selezionare copia. Creiamo un file CSV con una linea per ogni immagine (vedi formato sotto) e salviamo questo file come \"images.csv\" nella directory del progetto.\n",
    "\n",
    "Il file CSV deve avere il seguente formato:\n",
    "\n",
    "```\n",
    "Città,attrazione,image_address\n",
    "```\n",
    "\n",
    "Dove image_address è l'indirizzo web del file dell'immagine. Non inserire spazi vuoti prima e dopo le virgole. **Non inserire** una riga di intestazione nel file."
   ]
  },
  {
   "cell_type": "markdown",
   "metadata": {},
   "source": [
    "### Creazione delle strutture dati\n",
    "Leggiamo il file CSV e creiamo quattro strutture dati:\n",
    "1. Una lista **lcitta** (ordinata alfabeticamente) delle città\n",
    "2. Una lista **tutteImmagini** (ordinata alfabeticamente) degli indirizzi delle immagini.\n",
    "3. Un dizionario **attrazioni** con chiave la città e valore la lista (ordinata alfabeticamente) delle attrazioni (senza ripetizioni).\n",
    "4. Un dizionario **origini** con chiave l'indirizzo dell'immagine e valore la tupla (città,attrazione) corrispondente.\n",
    "\n",
    "Per maggiore pulizia e riusabilità del codice scriviamo una funzione che prende in input il nome del file e restituisce le strutture dati discusse sopra nell'ordine in cui sono elencate."
   ]
  },
  {
   "cell_type": "code",
   "execution_count": 1,
   "metadata": {},
   "outputs": [
    {
     "name": "stdout",
     "output_type": "stream",
     "text": [
      "Test funzione: creaStruttureDati \n",
      "\n",
      "Input funzione: 'images1.csv' \n",
      "\n",
      "Output atteso:\n",
      " (['Roma'], ['https://upload.wikimedia.org/wikipedia/commons/thumb/7/79/Colosseum-exterior-2007.JPG/390px-Colosseum-exterior-2007.JPG', 'https://upload.wikimedia.org/wikipedia/commons/thumb/d/d8/Colosseum_in_Rome-April_2007-1-_copie_2B.jpg/390px-Colosseum_in_Rome-April_2007-1-_copie_2B.jpg'], {'Roma': ['Colosseo']}, {'https://upload.wikimedia.org/wikipedia/commons/thumb/d/d8/Colosseum_in_Rome-April_2007-1-_copie_2B.jpg/390px-Colosseum_in_Rome-April_2007-1-_copie_2B.jpg': ('Roma', 'Colosseo'), 'https://upload.wikimedia.org/wikipedia/commons/thumb/7/79/Colosseum-exterior-2007.JPG/390px-Colosseum-exterior-2007.JPG': ('Roma', 'Colosseo')}) \n",
      "\n",
      "----- print interne funzione -----\n",
      "\n",
      "----------------------------------\n",
      "\n",
      "Output ottenuto:\n",
      " (['Roma'], ['https://upload.wikimedia.org/wikipedia/commons/thumb/7/79/Colosseum-exterior-2007.JPG/390px-Colosseum-exterior-2007.JPG', 'https://upload.wikimedia.org/wikipedia/commons/thumb/d/d8/Colosseum_in_Rome-April_2007-1-_copie_2B.jpg/390px-Colosseum_in_Rome-April_2007-1-_copie_2B.jpg'], {'Roma': ['Colosseo']}, {'https://upload.wikimedia.org/wikipedia/commons/thumb/d/d8/Colosseum_in_Rome-April_2007-1-_copie_2B.jpg/390px-Colosseum_in_Rome-April_2007-1-_copie_2B.jpg': ('Roma', 'Colosseo'), 'https://upload.wikimedia.org/wikipedia/commons/thumb/7/79/Colosseum-exterior-2007.JPG/390px-Colosseum-exterior-2007.JPG': ('Roma', 'Colosseo')}) \n",
      "\n",
      "Risultato Test: POSITIVO\n",
      "\n",
      "******************************\n",
      "\n",
      "Test funzione: creaStruttureDati \n",
      "\n",
      "Input funzione: 'images2.csv' \n",
      "\n",
      "Output atteso:\n",
      " (['Roma'], ['http://www.giovannirinaldi.it/page/rome/piazzadispagna/piazzadispagna0014.jpg', 'https://images.musement.com/cover/0002/23/thumb_122306_cover_header.jpeg', 'https://images.musement.com/default/0002/23/thumb_122314_default_header.jpeg', 'https://upload.wikimedia.org/wikipedia/commons/thumb/4/48/Piazza_di_Spagna.jpg/450px-Piazza_di_Spagna.jpg', 'https://upload.wikimedia.org/wikipedia/commons/thumb/7/79/Colosseum-exterior-2007.JPG/390px-Colosseum-exterior-2007.JPG', 'https://upload.wikimedia.org/wikipedia/commons/thumb/d/d8/Colosseum_in_Rome-April_2007-1-_copie_2B.jpg/390px-Colosseum_in_Rome-April_2007-1-_copie_2B.jpg'], {'Roma': ['Colosseo', 'Piazza Navona', 'Piazza di Spagna']}, {'https://upload.wikimedia.org/wikipedia/commons/thumb/d/d8/Colosseum_in_Rome-April_2007-1-_copie_2B.jpg/390px-Colosseum_in_Rome-April_2007-1-_copie_2B.jpg': ('Roma', 'Colosseo'), 'https://upload.wikimedia.org/wikipedia/commons/thumb/7/79/Colosseum-exterior-2007.JPG/390px-Colosseum-exterior-2007.JPG': ('Roma', 'Colosseo'), 'https://images.musement.com/cover/0002/23/thumb_122306_cover_header.jpeg': ('Roma', 'Piazza Navona'), 'https://images.musement.com/default/0002/23/thumb_122314_default_header.jpeg': ('Roma', 'Piazza Navona'), 'https://upload.wikimedia.org/wikipedia/commons/thumb/4/48/Piazza_di_Spagna.jpg/450px-Piazza_di_Spagna.jpg': ('Roma', 'Piazza di Spagna'), 'http://www.giovannirinaldi.it/page/rome/piazzadispagna/piazzadispagna0014.jpg': ('Roma', 'Piazza di Spagna')}) \n",
      "\n",
      "----- print interne funzione -----\n",
      "\n",
      "----------------------------------\n",
      "\n",
      "Output ottenuto:\n",
      " (['Roma'], ['http://www.giovannirinaldi.it/page/rome/piazzadispagna/piazzadispagna0014.jpg', 'https://images.musement.com/cover/0002/23/thumb_122306_cover_header.jpeg', 'https://images.musement.com/default/0002/23/thumb_122314_default_header.jpeg', 'https://upload.wikimedia.org/wikipedia/commons/thumb/4/48/Piazza_di_Spagna.jpg/450px-Piazza_di_Spagna.jpg', 'https://upload.wikimedia.org/wikipedia/commons/thumb/7/79/Colosseum-exterior-2007.JPG/390px-Colosseum-exterior-2007.JPG', 'https://upload.wikimedia.org/wikipedia/commons/thumb/d/d8/Colosseum_in_Rome-April_2007-1-_copie_2B.jpg/390px-Colosseum_in_Rome-April_2007-1-_copie_2B.jpg'], {'Roma': ['Colosseo', 'Piazza Navona', 'Piazza di Spagna']}, {'https://upload.wikimedia.org/wikipedia/commons/thumb/d/d8/Colosseum_in_Rome-April_2007-1-_copie_2B.jpg/390px-Colosseum_in_Rome-April_2007-1-_copie_2B.jpg': ('Roma', 'Colosseo'), 'https://upload.wikimedia.org/wikipedia/commons/thumb/7/79/Colosseum-exterior-2007.JPG/390px-Colosseum-exterior-2007.JPG': ('Roma', 'Colosseo'), 'https://images.musement.com/cover/0002/23/thumb_122306_cover_header.jpeg': ('Roma', 'Piazza Navona'), 'https://images.musement.com/default/0002/23/thumb_122314_default_header.jpeg': ('Roma', 'Piazza Navona'), 'https://upload.wikimedia.org/wikipedia/commons/thumb/4/48/Piazza_di_Spagna.jpg/450px-Piazza_di_Spagna.jpg': ('Roma', 'Piazza di Spagna'), 'http://www.giovannirinaldi.it/page/rome/piazzadispagna/piazzadispagna0014.jpg': ('Roma', 'Piazza di Spagna')}) \n",
      "\n",
      "Risultato Test: POSITIVO\n",
      "\n",
      "******************************\n",
      "\n",
      "Test funzione: creaStruttureDati \n",
      "\n",
      "Input funzione: 'images3.csv' \n",
      "\n",
      "Output atteso:\n",
      " (['Parigi'], ['https://upload.wikimedia.org/wikipedia/commons/thumb/0/00/Louvre_2007_02_24_c.jpg/330px-Louvre_2007_02_24_c.jpg', 'https://upload.wikimedia.org/wikipedia/commons/thumb/8/85/Tour_Eiffel_Wikimedia_Commons_%28cropped%29.jpg/360px-Tour_Eiffel_Wikimedia_Commons_%28cropped%29.jpg', 'https://upload.wikimedia.org/wikipedia/commons/thumb/b/bd/Sous_la_Tour_Eiffel_1.jpg/330px-Sous_la_Tour_Eiffel_1.jpg', 'https://upload.wikimedia.org/wikipedia/commons/thumb/e/e4/Paris_July_2011-27a.jpg/1218px-Paris_July_2011-27a.jpg'], {'Parigi': ['Louvre', 'Torre Eiffel']}, {'https://upload.wikimedia.org/wikipedia/commons/thumb/0/00/Louvre_2007_02_24_c.jpg/330px-Louvre_2007_02_24_c.jpg': ('Parigi', 'Louvre'), 'https://upload.wikimedia.org/wikipedia/commons/thumb/e/e4/Paris_July_2011-27a.jpg/1218px-Paris_July_2011-27a.jpg': ('Parigi', 'Louvre'), 'https://upload.wikimedia.org/wikipedia/commons/thumb/8/85/Tour_Eiffel_Wikimedia_Commons_%28cropped%29.jpg/360px-Tour_Eiffel_Wikimedia_Commons_%28cropped%29.jpg': ('Parigi', 'Torre Eiffel'), 'https://upload.wikimedia.org/wikipedia/commons/thumb/b/bd/Sous_la_Tour_Eiffel_1.jpg/330px-Sous_la_Tour_Eiffel_1.jpg': ('Parigi', 'Torre Eiffel')}) \n",
      "\n",
      "----- print interne funzione -----\n",
      "\n",
      "----------------------------------\n",
      "\n",
      "Output ottenuto:\n",
      " (['Parigi'], ['https://upload.wikimedia.org/wikipedia/commons/thumb/0/00/Louvre_2007_02_24_c.jpg/330px-Louvre_2007_02_24_c.jpg', 'https://upload.wikimedia.org/wikipedia/commons/thumb/8/85/Tour_Eiffel_Wikimedia_Commons_%28cropped%29.jpg/360px-Tour_Eiffel_Wikimedia_Commons_%28cropped%29.jpg', 'https://upload.wikimedia.org/wikipedia/commons/thumb/b/bd/Sous_la_Tour_Eiffel_1.jpg/330px-Sous_la_Tour_Eiffel_1.jpg', 'https://upload.wikimedia.org/wikipedia/commons/thumb/e/e4/Paris_July_2011-27a.jpg/1218px-Paris_July_2011-27a.jpg'], {'Parigi': ['Louvre', 'Torre Eiffel']}, {'https://upload.wikimedia.org/wikipedia/commons/thumb/0/00/Louvre_2007_02_24_c.jpg/330px-Louvre_2007_02_24_c.jpg': ('Parigi', 'Louvre'), 'https://upload.wikimedia.org/wikipedia/commons/thumb/e/e4/Paris_July_2011-27a.jpg/1218px-Paris_July_2011-27a.jpg': ('Parigi', 'Louvre'), 'https://upload.wikimedia.org/wikipedia/commons/thumb/8/85/Tour_Eiffel_Wikimedia_Commons_%28cropped%29.jpg/360px-Tour_Eiffel_Wikimedia_Commons_%28cropped%29.jpg': ('Parigi', 'Torre Eiffel'), 'https://upload.wikimedia.org/wikipedia/commons/thumb/b/bd/Sous_la_Tour_Eiffel_1.jpg/330px-Sous_la_Tour_Eiffel_1.jpg': ('Parigi', 'Torre Eiffel')}) \n",
      "\n",
      "Risultato Test: POSITIVO\n",
      "\n",
      "******************************\n",
      "\n"
     ]
    },
    {
     "data": {
      "text/plain": [
       "1"
      ]
     },
     "execution_count": 1,
     "metadata": {},
     "output_type": "execute_result"
    }
   ],
   "source": [
    "from tester import tester_fun_comp\n",
    "\n",
    "def creaStruttureDati(file):\n",
    "    #Inizializziamo le variabili\n",
    "    lcitta = []\n",
    "    tutteImmagini = []\n",
    "    origini = {}\n",
    "    attrazioni = {}\n",
    "    f = open(file,'r',encoding='UTF-8') # apro il file\n",
    "    for riga in f:\n",
    "        riga = riga.strip().split(',') # separo la riga nelle sue parti\n",
    "        citta = riga[0]\n",
    "        attrazione = riga[1]\n",
    "        url = riga[2]\n",
    "        tupla = (citta,attrazione)\n",
    "        if citta not in attrazioni:\n",
    "            attrazioni[citta] = []\n",
    "        if attrazione not in attrazioni[citta]:\n",
    "            # inserisco nella lista delle attrazioni della città (se non presente)\n",
    "            attrazioni[citta].append(attrazione)\n",
    "        if citta not in lcitta: # inserisco nella lista delle città (se non presente)\n",
    "            lcitta.append(citta)\n",
    "        if url not in tutteImmagini: # inserisco nella lista delle immagini (se non presente)\n",
    "            tutteImmagini.append(url)\n",
    "        origini[url] = tupla\n",
    "    f.close()\n",
    "    lcitta.sort()\n",
    "    tutteImmagini.sort()\n",
    "    return lcitta, tutteImmagini, attrazioni, origini\n",
    "\n",
    "tester_fun_comp(creaStruttureDati,['images1.csv'],(['Roma'], ['https://upload.wikimedia.org/wikipedia/commons/thumb/7/79/Colosseum-exterior-2007.JPG/390px-Colosseum-exterior-2007.JPG', 'https://upload.wikimedia.org/wikipedia/commons/thumb/d/d8/Colosseum_in_Rome-April_2007-1-_copie_2B.jpg/390px-Colosseum_in_Rome-April_2007-1-_copie_2B.jpg'], {'Roma': ['Colosseo']}, {'https://upload.wikimedia.org/wikipedia/commons/thumb/d/d8/Colosseum_in_Rome-April_2007-1-_copie_2B.jpg/390px-Colosseum_in_Rome-April_2007-1-_copie_2B.jpg': ('Roma', 'Colosseo'), 'https://upload.wikimedia.org/wikipedia/commons/thumb/7/79/Colosseum-exterior-2007.JPG/390px-Colosseum-exterior-2007.JPG': ('Roma', 'Colosseo')}) )\n",
    "tester_fun_comp(creaStruttureDati,['images2.csv'],(['Roma'], ['http://www.giovannirinaldi.it/page/rome/piazzadispagna/piazzadispagna0014.jpg', 'https://images.musement.com/cover/0002/23/thumb_122306_cover_header.jpeg', 'https://images.musement.com/default/0002/23/thumb_122314_default_header.jpeg', 'https://upload.wikimedia.org/wikipedia/commons/thumb/4/48/Piazza_di_Spagna.jpg/450px-Piazza_di_Spagna.jpg', 'https://upload.wikimedia.org/wikipedia/commons/thumb/7/79/Colosseum-exterior-2007.JPG/390px-Colosseum-exterior-2007.JPG', 'https://upload.wikimedia.org/wikipedia/commons/thumb/d/d8/Colosseum_in_Rome-April_2007-1-_copie_2B.jpg/390px-Colosseum_in_Rome-April_2007-1-_copie_2B.jpg'], {'Roma': ['Colosseo', 'Piazza Navona', 'Piazza di Spagna']}, {'https://upload.wikimedia.org/wikipedia/commons/thumb/d/d8/Colosseum_in_Rome-April_2007-1-_copie_2B.jpg/390px-Colosseum_in_Rome-April_2007-1-_copie_2B.jpg': ('Roma', 'Colosseo'), 'https://upload.wikimedia.org/wikipedia/commons/thumb/7/79/Colosseum-exterior-2007.JPG/390px-Colosseum-exterior-2007.JPG': ('Roma', 'Colosseo'), 'https://images.musement.com/cover/0002/23/thumb_122306_cover_header.jpeg': ('Roma', 'Piazza Navona'), 'https://images.musement.com/default/0002/23/thumb_122314_default_header.jpeg': ('Roma', 'Piazza Navona'), 'https://upload.wikimedia.org/wikipedia/commons/thumb/4/48/Piazza_di_Spagna.jpg/450px-Piazza_di_Spagna.jpg': ('Roma', 'Piazza di Spagna'), 'http://www.giovannirinaldi.it/page/rome/piazzadispagna/piazzadispagna0014.jpg': ('Roma', 'Piazza di Spagna')}) )\n",
    "tester_fun_comp(creaStruttureDati,['images3.csv'],(['Parigi'], ['https://upload.wikimedia.org/wikipedia/commons/thumb/0/00/Louvre_2007_02_24_c.jpg/330px-Louvre_2007_02_24_c.jpg', 'https://upload.wikimedia.org/wikipedia/commons/thumb/8/85/Tour_Eiffel_Wikimedia_Commons_%28cropped%29.jpg/360px-Tour_Eiffel_Wikimedia_Commons_%28cropped%29.jpg', 'https://upload.wikimedia.org/wikipedia/commons/thumb/b/bd/Sous_la_Tour_Eiffel_1.jpg/330px-Sous_la_Tour_Eiffel_1.jpg', 'https://upload.wikimedia.org/wikipedia/commons/thumb/e/e4/Paris_July_2011-27a.jpg/1218px-Paris_July_2011-27a.jpg'], {'Parigi': ['Louvre', 'Torre Eiffel']}, {'https://upload.wikimedia.org/wikipedia/commons/thumb/0/00/Louvre_2007_02_24_c.jpg/330px-Louvre_2007_02_24_c.jpg': ('Parigi', 'Louvre'), 'https://upload.wikimedia.org/wikipedia/commons/thumb/e/e4/Paris_July_2011-27a.jpg/1218px-Paris_July_2011-27a.jpg': ('Parigi', 'Louvre'), 'https://upload.wikimedia.org/wikipedia/commons/thumb/8/85/Tour_Eiffel_Wikimedia_Commons_%28cropped%29.jpg/360px-Tour_Eiffel_Wikimedia_Commons_%28cropped%29.jpg': ('Parigi', 'Torre Eiffel'), 'https://upload.wikimedia.org/wikipedia/commons/thumb/b/bd/Sous_la_Tour_Eiffel_1.jpg/330px-Sous_la_Tour_Eiffel_1.jpg': ('Parigi', 'Torre Eiffel')}) )"
   ]
  },
  {
   "cell_type": "markdown",
   "metadata": {},
   "source": [
    "Eseguiamo la funzione sul file che avete creato e generiamo tutte le strutture dati"
   ]
  },
  {
   "cell_type": "code",
   "execution_count": 2,
   "metadata": {},
   "outputs": [],
   "source": [
    "lcitta, tutteImmagini, attrazioni, origini = creaStruttureDati('images.csv')"
   ]
  },
  {
   "cell_type": "markdown",
   "metadata": {},
   "source": [
    "### Esecuzione del gioco\n",
    "Implementiamo il gioco nel seguente modo: chiediamo all'utente di inserire il suo nome (idealmente ogni esecuzione del gioco dovrebbe avere un utente diverso), quindi scegliamo in modo casuale 10 immagini dalla lista **tutteImmagini**. Mostriamo le immagini una alla volta all'utente e gli chiediamo di che città si tratti (l'utente può scegliere dall'elenco delle città possibili, cioè dalla lista **lcitta**).\n",
    "Quindi gli chiediamo di indovinare l'attrazione (l'utente può scegliere dall'elenco delle possibili attrazioni per la città che ha selezionato). In entrambi i casi l'utente può anche selezionare la risposta \"Non so\". Se risponde \"Non so\" alla domanda sulla città assegniamo \"Non so\" anche all'attrazione e passiamo alla prossima immagine. \n",
    "\n",
    "Per non obbligare l'utente ad inserire il nome per esteso della città o dell'attrazione conviene numerare le varie opzioni e poi chiedere di inserire il numero corrispondente.\n",
    "\n",
    "Salviamo tutti i risultati in un file CSV 'risposte.csv' con il seguente formato:\n",
    "\n",
    "```\n",
    "utente,cittàCorretta,attrazioneCorretta,indirizzoImmagine,cittàScelta,attrazioneScelta\n",
    "```\n",
    "\n",
    "Ogni esecuzione deve sempre aggiungere le nuove informazioni senza eliminare le risposte fornite dai giocatori precedenti.\n",
    "\n",
    "Per selezionare 10 immagini a caso, possiamo usare la funzione di NumPy **np.random.choice(dati,num,replace=False)**, dove dati è l'array dei dati tra cui scegliere, num è il numero di elementi da selezionare e replace=False specifica che NON bisogna mai selezionare 2 volte lo stesso elemento. Questa funzione restituisce l'array dei num elementi scelti casualmente.\n",
    "\n",
    "Per questa parte non è possibile definire dei tests, vi forniamo però uno scheletro della soluzione per aiutare nello sviluppo. "
   ]
  },
  {
   "cell_type": "code",
   "execution_count": null,
   "metadata": {},
   "outputs": [],
   "source": [
    "# importiamo le librerie necessarie per il gioco\n",
    "import numpy as np\n",
    "from IPython.display import display, Image, clear_output\n",
    "\n",
    "nonSo = \"Non so\" # Per poter poi cambiare questa frase, la salviamo in una variabile\n",
    "\n",
    "utente = input('Inserisci il tuo nome per iniziare: ') #salva il nome dell'utente che sta effettuando il gioco\n",
    "\n",
    "# Sceglie le 10 foto a caso\n",
    "scelta = np.random.choice(tutteImmagini,10,replace=False)\n",
    "\n",
    "# Apre il file per le risposte in modalità append\n",
    "f = open('risposte.csv','a',encoding = 'UTF-8')\n",
    "\n",
    "for foto in scelta:\n",
    "    immagine = Image(foto,width=512) # carica le immagini una per volta, imponendo a tutte la stessa\n",
    "                                     # larghezza (512 pixels) per una migliore visualizzazione\n",
    "    display(immagine)\n",
    "    cittaCorretta = origini[foto][0]\n",
    "    attrazioneCorretta = origini[foto][1]\n",
    "    print('Di quale città si tratta ?')\n",
    "    for i in range(len(lcitta)):\n",
    "        print(str(i+1)+') '+lcitta[i])\n",
    "    print(str(i+2)+') '+nonSo)\n",
    "    indiceRisposta1 = int(input('Inserisci il numero corrispondente alla risposta scelta')) - 1\n",
    "    if indiceRisposta1 == len(lcitta):\n",
    "        risposta1 = nonSo\n",
    "        # Ha risposto \"Non so\", assumo che non conosca neanche l'attrazione e smetto\n",
    "        risposta2 = nonSo\n",
    "    else:\n",
    "        risposta1 = lcitta[indiceRisposta1]\n",
    "        lattrazioni = attrazioni[risposta1]\n",
    "        print('Di quale attrazione si tratta ?')\n",
    "        for i in range(len(lattrazioni)):\n",
    "            print(str(i+1)+') '+lattrazioni[i])\n",
    "        print(str(i+2)+') '+nonSo)\n",
    "        indiceRisposta2 = int(input('Inserisci il numero corrispondente alla risposta scelta')) - 1\n",
    "    if indiceRisposta2 == len(lattrazioni):\n",
    "        risposta2 = nonSo\n",
    "    else:\n",
    "        risposta2 = lattrazioni[indiceRisposta2]\n",
    "    riga = utente+','+cittaCorretta+','+attrazioneCorretta+','+foto+','+risposta1+','+risposta2+'\\n'\n",
    "    f.write(riga)\n",
    "    clear_output()\n",
    "f.close()"
   ]
  },
  {
   "cell_type": "markdown",
   "metadata": {},
   "source": [
    "## Analisi dei dati\n",
    "Leggiamo il file 'risposte.csv' prodotto nel passaggio precedente e visualizziamo le seguenti informazioni:\n",
    "1. Creiamo la [matrice di confusione](https://it.wikipedia.org/wiki/Matrice_di_confusione) delle città\n",
    "2. Tracciamo con un istogramma il numero di risposte di città corrette per ogni esecuzione del gioco\n",
    "3. Tracciamo con un istogramma il numero di risposte di città/attrazione corrette per ogni esecuzione del gioco\n",
    "4. Tracciamo per ogni immagine la percentuale di risposte corrette di città e di città/attrazione\n",
    "\n",
    "Vediamo queste operazioni una per una. Ogni operazione aprirà il file delle risposte e calcolerà i dati che gli servono, questa soluzione non è ovviamente molto efficiente, ma permette di separare meglio il codice ed i grafici."
   ]
  },
  {
   "cell_type": "markdown",
   "metadata": {},
   "source": [
    "#### Punto 1:\n",
    "Creiamo la [matrice di confusione](https://it.wikipedia.org/wiki/Matrice_di_confusione) delle città. Questo vuol dire creare un array numpy **matConf** nx(n+1), dove n è il numero delle città, ed in ogni posizione (i,j) c'è il numero di volte in cui la risposta giusta era la città con indice i nella lista **lcitta** e l'utente ha risposto la città con indice j. Se l'utente ha risposto \"Non so\" inseriamo la risposta nella cella (i,n), cioè la colonna in più (quella di indice n, serve per contare le risposte \"Non so\" date ad immagini delle varie città). Definiamo una funzione che prende in ingresso il file delle risposte **file** e la lista delle città **lcitta** e restituisce la matrice di confusione."
   ]
  },
  {
   "cell_type": "code",
   "execution_count": 3,
   "metadata": {},
   "outputs": [
    {
     "name": "stdout",
     "output_type": "stream",
     "text": [
      "Test funzione: confusione \n",
      "\n",
      "Input funzione: 'risposte1.csv', ['New York', 'Parigi', 'Roma'] \n",
      "\n",
      "Output atteso:\n",
      " [[2 0 1 0]\n",
      " [2 0 0 0]\n",
      " [0 0 3 0]] \n",
      "\n",
      "----- print interne funzione -----\n",
      "\n",
      "----------------------------------\n",
      "\n",
      "Output ottenuto:\n",
      " [[2 0 1 0]\n",
      " [2 0 0 0]\n",
      " [0 0 3 0]] \n",
      "\n",
      "Risultato Test: POSITIVO\n",
      "\n",
      "******************************\n",
      "\n",
      "Test funzione: confusione \n",
      "\n",
      "Input funzione: 'risposte2.csv', ['New York', 'Parigi', 'Roma'] \n",
      "\n",
      "Output atteso:\n",
      " [[1 0 0 2]\n",
      " [0 0 0 2]\n",
      " [3 0 0 2]] \n",
      "\n",
      "----- print interne funzione -----\n",
      "\n",
      "----------------------------------\n",
      "\n",
      "Output ottenuto:\n",
      " [[1 0 0 2]\n",
      " [0 0 0 2]\n",
      " [3 0 0 2]] \n",
      "\n",
      "Risultato Test: POSITIVO\n",
      "\n",
      "******************************\n",
      "\n",
      "Test funzione: confusione \n",
      "\n",
      "Input funzione: 'risposte3.csv', ['New York', 'Parigi', 'Roma'] \n",
      "\n",
      "Output atteso:\n",
      " [[2 0 0 2]\n",
      " [7 0 0 1]\n",
      " [5 0 2 1]] \n",
      "\n",
      "----- print interne funzione -----\n",
      "\n",
      "----------------------------------\n",
      "\n",
      "Output ottenuto:\n",
      " [[2 0 0 2]\n",
      " [7 0 0 1]\n",
      " [5 0 2 1]] \n",
      "\n",
      "Risultato Test: POSITIVO\n",
      "\n",
      "******************************\n",
      "\n"
     ]
    },
    {
     "data": {
      "text/plain": [
       "1"
      ]
     },
     "execution_count": 3,
     "metadata": {},
     "output_type": "execute_result"
    }
   ],
   "source": [
    "from tester import tester_fun_comp\n",
    "import numpy as np\n",
    "\n",
    "def confusione(file,lcitta):\n",
    "    n = len(lcitta) # numero delle città\n",
    "    matConf = np.zeros((n,n+1),dtype=np.int16) # inizializzazione della matrice di confusione\n",
    "    f = open(file,'r',encoding='UTF-8')\n",
    "    for riga in f:\n",
    "        dati = riga.strip().split(',')\n",
    "        cittaCorretta = dati[1]\n",
    "        indice1 = lcitta.index(cittaCorretta)\n",
    "        risposta = dati[4]\n",
    "        if risposta == \"Non so\":\n",
    "            indice2 = n\n",
    "        else:\n",
    "            indice2 = lcitta.index(risposta)\n",
    "        matConf[indice1,indice2] += 1\n",
    "    f.close()\n",
    "    return matConf\n",
    "\n",
    "tester_fun_comp(confusione,['risposte1.csv',lcitta],np.array([[2, 0, 1, 0],[2, 0, 0, 0],[0, 0, 3, 0]]),np.array_equal)\n",
    "tester_fun_comp(confusione,['risposte2.csv',lcitta],np.array([[1, 0, 0, 2],[0, 0, 0, 2],[3, 0, 0, 2]]),np.array_equal)\n",
    "tester_fun_comp(confusione,['risposte3.csv',lcitta],np.array([[2, 0, 0, 2],[7, 0, 0, 1],[5, 0, 2, 1]]),np.array_equal)"
   ]
  },
  {
   "cell_type": "markdown",
   "metadata": {},
   "source": [
    "Possiamo ora creare e stampare la matrice di confusione sui vostri dati"
   ]
  },
  {
   "cell_type": "code",
   "execution_count": 4,
   "metadata": {},
   "outputs": [
    {
     "name": "stdout",
     "output_type": "stream",
     "text": [
      "la matrice di confusione per le città: ['New York', 'Parigi', 'Roma'] è:\n",
      "[[9 2 0 7]\n",
      " [9 7 1 5]\n",
      " [5 1 8 6]]\n"
     ]
    }
   ],
   "source": [
    "matConf = confusione('risposte.csv',lcitta)\n",
    "print('la matrice di confusione per le città:',lcitta,'è:')\n",
    "print(matConf)"
   ]
  },
  {
   "cell_type": "markdown",
   "metadata": {},
   "source": [
    "#### Punto 2:\n",
    "Tracciamo con un istogramma il numero di risposte di città corrette per ogni esecuzione del gioco (in altri termini, per ogni valore *n* l'istogramma mostra in quante esecuzioni ci sono state *n* risposte corrette). Assumendo che **ad ogni esecuzione del gioco venga usato un nome diverso**, dobbiamo contare per ogni utente quante risposte esatte sulla città ha fornito e metterle in un array. Per fare questo calcolo definiamo una funzione *cittaCorrette* che prende in ingresso il file delle risposte e restituisce la lista (ordinata in ordine crescente) del numero delle risposte corrette relative alle città date da ciascun utente."
   ]
  },
  {
   "cell_type": "code",
   "execution_count": 5,
   "metadata": {},
   "outputs": [
    {
     "name": "stdout",
     "output_type": "stream",
     "text": [
      "Test funzione: cittaCorrette \n",
      "\n",
      "Input funzione: 'risposte1.csv' \n",
      "\n",
      "Output atteso:\n",
      " [2, 3] \n",
      "\n",
      "----- print interne funzione -----\n",
      "\n",
      "----------------------------------\n",
      "\n",
      "Output ottenuto:\n",
      " [2, 3] \n",
      "\n",
      "Risultato Test: POSITIVO\n",
      "\n",
      "******************************\n",
      "\n",
      "Test funzione: cittaCorrette \n",
      "\n",
      "Input funzione: 'risposte2.csv' \n",
      "\n",
      "Output atteso:\n",
      " [0, 1] \n",
      "\n",
      "----- print interne funzione -----\n",
      "\n",
      "----------------------------------\n",
      "\n",
      "Output ottenuto:\n",
      " [0, 1] \n",
      "\n",
      "Risultato Test: POSITIVO\n",
      "\n",
      "******************************\n",
      "\n",
      "Test funzione: cittaCorrette \n",
      "\n",
      "Input funzione: 'risposte3.csv' \n",
      "\n",
      "Output atteso:\n",
      " [1, 3] \n",
      "\n",
      "----- print interne funzione -----\n",
      "\n",
      "----------------------------------\n",
      "\n",
      "Output ottenuto:\n",
      " [1, 3] \n",
      "\n",
      "Risultato Test: POSITIVO\n",
      "\n",
      "******************************\n",
      "\n"
     ]
    },
    {
     "data": {
      "text/plain": [
       "1"
      ]
     },
     "execution_count": 5,
     "metadata": {},
     "output_type": "execute_result"
    }
   ],
   "source": [
    "def cittaCorrette(file):\n",
    "    corrette = {}\n",
    "    f = open(file,'r',encoding='UTF-8')\n",
    "    for riga in f:\n",
    "        dati = riga.strip().split(',')\n",
    "        utente = dati[0]\n",
    "        cittaCorretta = dati[1]\n",
    "        risposta = dati[4]\n",
    "        if utente not in corrette:\n",
    "            corrette[utente] = 0\n",
    "        if risposta == cittaCorretta:\n",
    "            corrette[utente] += 1\n",
    "    f.close()\n",
    "    lista = list(corrette.values())\n",
    "    lista.sort()\n",
    "    return lista\n",
    "\n",
    "tester_fun_comp(cittaCorrette,['risposte1.csv'],[2,3])\n",
    "tester_fun_comp(cittaCorrette,['risposte2.csv'],[0,1])\n",
    "tester_fun_comp(cittaCorrette,['risposte3.csv'],[1,3])"
   ]
  },
  {
   "cell_type": "markdown",
   "metadata": {},
   "source": [
    "Usando la funzione sopra definita possiamo ora disegnare l'istogramma"
   ]
  },
  {
   "cell_type": "code",
   "execution_count": 6,
   "metadata": {},
   "outputs": [
    {
     "data": {
      "image/png": "[encoded data removed]",
      "text/plain": [
       "<Figure size 432x288 with 1 Axes>"
      ]
     },
     "metadata": {
      "needs_background": "light"
     },
     "output_type": "display_data"
    }
   ],
   "source": [
    "%matplotlib inline\n",
    "import matplotlib.pyplot as plt\n",
    "\n",
    "dati = cittaCorrette('risposte.csv')\n",
    "plt.hist(dati)\n",
    "plt.xlabel('Numero risposte corrette')\n",
    "plt.ylabel('Numero di utenti')\n",
    "plt.title('Istogramma risposte Città')\n",
    "plt.grid(True) # disegna la griglia per render più leggibile l'istogramma\n",
    "plt.show()"
   ]
  },
  {
   "cell_type": "markdown",
   "metadata": {},
   "source": [
    "#### Punto 3:\n",
    "Tracciamo con un istogramma il numero di risposte di città e attrazione corrette per ogni esecuzione del gioco. Assumendo che **ad ogni esecuzione del gioco venga usato un nome diverso**, dobbiamo contare per ogni utente quante risposte esatte su città e attrazione ha fornito e metterle in un array, poi disegnare l'istogramma corrispondente. Come prima, definiamo una funzione *rispCorrette* che prende in ingresso il file delle risposte e restituisce la lista (ordinata in ordine crescente) del numero delle risposte corrette (città e attrazione) per ogni utente."
   ]
  },
  {
   "cell_type": "code",
   "execution_count": 7,
   "metadata": {},
   "outputs": [
    {
     "name": "stdout",
     "output_type": "stream",
     "text": [
      "Test funzione: rispCorrette \n",
      "\n",
      "Input funzione: 'risposte1.csv' \n",
      "\n",
      "Output atteso:\n",
      " [1, 2] \n",
      "\n",
      "----- print interne funzione -----\n",
      "\n",
      "----------------------------------\n",
      "\n",
      "Output ottenuto:\n",
      " [1, 2] \n",
      "\n",
      "Risultato Test: POSITIVO\n",
      "\n",
      "******************************\n",
      "\n",
      "Test funzione: rispCorrette \n",
      "\n",
      "Input funzione: 'risposte2.csv' \n",
      "\n",
      "Output atteso:\n",
      " [0, 0] \n",
      "\n",
      "----- print interne funzione -----\n",
      "\n",
      "----------------------------------\n",
      "\n",
      "Output ottenuto:\n",
      " [0, 0] \n",
      "\n",
      "Risultato Test: POSITIVO\n",
      "\n",
      "******************************\n",
      "\n",
      "Test funzione: rispCorrette \n",
      "\n",
      "Input funzione: 'risposte3.csv' \n",
      "\n",
      "Output atteso:\n",
      " [0, 2] \n",
      "\n",
      "----- print interne funzione -----\n",
      "\n",
      "----------------------------------\n",
      "\n",
      "Output ottenuto:\n",
      " [0, 2] \n",
      "\n",
      "Risultato Test: POSITIVO\n",
      "\n",
      "******************************\n",
      "\n"
     ]
    },
    {
     "data": {
      "text/plain": [
       "1"
      ]
     },
     "execution_count": 7,
     "metadata": {},
     "output_type": "execute_result"
    }
   ],
   "source": [
    "def rispCorrette(file):\n",
    "    corrette = {}\n",
    "    f = open(file,'r',encoding='UTF-8')\n",
    "    for riga in f:\n",
    "        dati = riga.strip().split(',')\n",
    "        utente = dati[0]\n",
    "        cittaCorretta = dati[1]\n",
    "        attrazioneCorretta = dati[2]\n",
    "        risposta1 = dati[4]\n",
    "        risposta2 = dati[5]\n",
    "        if utente not in corrette:\n",
    "            corrette[utente] = 0\n",
    "        if risposta1 == cittaCorretta and risposta2 == attrazioneCorretta:\n",
    "            corrette[utente] += 1\n",
    "    f.close()\n",
    "    lista = list(corrette.values())\n",
    "    lista.sort()\n",
    "    return lista\n",
    "\n",
    "tester_fun_comp(rispCorrette,['risposte1.csv'],[1,2])\n",
    "tester_fun_comp(rispCorrette,['risposte2.csv'],[0,0])\n",
    "tester_fun_comp(rispCorrette,['risposte3.csv'],[0,2])"
   ]
  },
  {
   "cell_type": "markdown",
   "metadata": {},
   "source": [
    "Usando la funzione sopra definita possiamo ora disegnare l'istogramma"
   ]
  },
  {
   "cell_type": "code",
   "execution_count": 8,
   "metadata": {},
   "outputs": [
    {
     "data": {
      "image/png": "[encoded data removed]",
      "text/plain": [
       "<Figure size 432x288 with 1 Axes>"
      ]
     },
     "metadata": {
      "needs_background": "light"
     },
     "output_type": "display_data"
    }
   ],
   "source": [
    "dati = rispCorrette('risposte.csv')\n",
    "plt.hist(dati)\n",
    "plt.xlabel('Numero risposte corrette')\n",
    "plt.ylabel('Numero di utenti')\n",
    "plt.title('Istogramma risposte Città e Attrazione')\n",
    "plt.grid(True) # disegna la griglia per render più leggibile l'istogramma\n",
    "plt.show()"
   ]
  },
  {
   "cell_type": "markdown",
   "metadata": {},
   "source": [
    "#### Punto 4:\n",
    "Tracciamo per ogni immagine la percentuale di risposte corrette di città e di città/attrazione. Quindi dobbiamo fare un grafico con 2 plot, uno che mostra le risposte esatte sulla città dell'attrazione ed uno sul riconoscimento di città ed attrazione. L'asse x è quindi semplicemente l'indice delle immagini nella lista **tutteImmagini** e le 2 funzioni sono 2 array, della stessa dimensione della x, con il numero di risposte esatte nei 2 casi. Per prima cosa definiamo quindi una funzione che prende in ingresso il nome del file **file** con le risposte e la lista **lista** delle immagini e restituisce gli arrays x, y1 e y2."
   ]
  },
  {
   "cell_type": "code",
   "execution_count": 9,
   "metadata": {},
   "outputs": [
    {
     "name": "stdout",
     "output_type": "stream",
     "text": [
      "Test funzione: corretteImmagine \n",
      "\n",
      "Input funzione: 'risposte1.csv', ['http://www.giovannirinaldi.it/page/rome/piazzadispagna/piazzadispagna0014.jpg', 'https://images.musement.com/cover/0002/23/thumb_122306_cover_header.jpeg', 'https://images.musement.com/default/0002/23/thumb_122314_default_header.jpeg', 'https://upload.wikimedia.org/wikipedia/commons/f/f9/Centralpark_fg01.jpg', 'https://upload.wikimedia.org/wikipedia/commons/thumb/0/00/Louvre_2007_02_24_c.jpg/330px-Louvre_2007_02_24_c.jpg', 'https://upload.wikimedia.org/wikipedia/commons/thumb/1/10/Empire_State_Building_%28aerial_view%29.jpg/375px-Empire_State_Building_%28aerial_view%29.jpg', 'https://upload.wikimedia.org/wikipedia/commons/thumb/1/13/Central_Park_-_The_Pond_%2848377220157%29.jpg/450px-Central_Park_-_The_Pond_%2848377220157%29.jpg', 'https://upload.wikimedia.org/wikipedia/commons/thumb/4/47/New_york_times_square-terabass.jpg/450px-New_york_times_square-terabass.jpg', 'https://upload.wikimedia.org/wikipedia/commons/thumb/4/48/Piazza_di_Spagna.jpg/450px-Piazza_di_Spagna.jpg', 'https://upload.wikimedia.org/wikipedia/commons/thumb/6/6d/Avenue_des_Champs-%C3%89lys%C3%A9es_July_24%2C_2009_N1.jpg/345px-Avenue_des_Champs-%C3%89lys%C3%A9es_July_24%2C_2009_N1.jpg', 'https://upload.wikimedia.org/wikipedia/commons/thumb/7/79/Colosseum-exterior-2007.JPG/390px-Colosseum-exterior-2007.JPG', 'https://upload.wikimedia.org/wikipedia/commons/thumb/8/85/Tour_Eiffel_Wikimedia_Commons_%28cropped%29.jpg/360px-Tour_Eiffel_Wikimedia_Commons_%28cropped%29.jpg', 'https://upload.wikimedia.org/wikipedia/commons/thumb/b/bd/Sous_la_Tour_Eiffel_1.jpg/330px-Sous_la_Tour_Eiffel_1.jpg', 'https://upload.wikimedia.org/wikipedia/commons/thumb/c/c0/1_times_square_night_2013.jpg/450px-1_times_square_night_2013.jpg', 'https://upload.wikimedia.org/wikipedia/commons/thumb/c/c7/Empire_State_Building_by_David_Shankbone_crop.jpg/255px-Empire_State_Building_by_David_Shankbone_crop.jpg', 'https://upload.wikimedia.org/wikipedia/commons/thumb/d/d8/Colosseum_in_Rome-April_2007-1-_copie_2B.jpg/390px-Colosseum_in_Rome-April_2007-1-_copie_2B.jpg', 'https://upload.wikimedia.org/wikipedia/commons/thumb/e/e4/Paris_July_2011-27a.jpg/1218px-Paris_July_2011-27a.jpg', 'https://upload.wikimedia.org/wikipedia/commons/thumb/f/f4/Champs-%C3%89lys%C3%A9es_-_eastern_view_-_20111001.jpg/420px-Champs-%C3%89lys%C3%A9es_-_eastern_view_-_20111001.jpg'] \n",
      "\n",
      "Output atteso:\n",
      " (array([ 0,  1,  2,  3,  4,  5,  6,  7,  8,  9, 10, 11, 12, 13, 14, 15, 16,\n",
      "       17]), array([0., 2., 1., 0., 0., 2., 0., 0., 0., 0., 0., 0., 0., 0., 0., 0., 0.,\n",
      "       0.]), array([0., 2., 1., 0., 0., 0., 0., 0., 0., 0., 0., 0., 0., 0., 0., 0., 0.,\n",
      "       0.])) \n",
      "\n",
      "----- print interne funzione -----\n",
      "\n",
      "----------------------------------\n",
      "\n",
      "Output ottenuto:\n",
      " (array([ 0,  1,  2,  3,  4,  5,  6,  7,  8,  9, 10, 11, 12, 13, 14, 15, 16,\n",
      "       17]), array([0., 2., 1., 0., 0., 2., 0., 0., 0., 0., 0., 0., 0., 0., 0., 0., 0.,\n",
      "       0.]), array([0., 2., 1., 0., 0., 0., 0., 0., 0., 0., 0., 0., 0., 0., 0., 0., 0.,\n",
      "       0.])) \n",
      "\n",
      "Risultato Test: POSITIVO\n",
      "\n",
      "******************************\n",
      "\n",
      "Test funzione: corretteImmagine \n",
      "\n",
      "Input funzione: 'risposte2.csv', ['http://www.giovannirinaldi.it/page/rome/piazzadispagna/piazzadispagna0014.jpg', 'https://images.musement.com/cover/0002/23/thumb_122306_cover_header.jpeg', 'https://images.musement.com/default/0002/23/thumb_122314_default_header.jpeg', 'https://upload.wikimedia.org/wikipedia/commons/f/f9/Centralpark_fg01.jpg', 'https://upload.wikimedia.org/wikipedia/commons/thumb/0/00/Louvre_2007_02_24_c.jpg/330px-Louvre_2007_02_24_c.jpg', 'https://upload.wikimedia.org/wikipedia/commons/thumb/1/10/Empire_State_Building_%28aerial_view%29.jpg/375px-Empire_State_Building_%28aerial_view%29.jpg', 'https://upload.wikimedia.org/wikipedia/commons/thumb/1/13/Central_Park_-_The_Pond_%2848377220157%29.jpg/450px-Central_Park_-_The_Pond_%2848377220157%29.jpg', 'https://upload.wikimedia.org/wikipedia/commons/thumb/4/47/New_york_times_square-terabass.jpg/450px-New_york_times_square-terabass.jpg', 'https://upload.wikimedia.org/wikipedia/commons/thumb/4/48/Piazza_di_Spagna.jpg/450px-Piazza_di_Spagna.jpg', 'https://upload.wikimedia.org/wikipedia/commons/thumb/6/6d/Avenue_des_Champs-%C3%89lys%C3%A9es_July_24%2C_2009_N1.jpg/345px-Avenue_des_Champs-%C3%89lys%C3%A9es_July_24%2C_2009_N1.jpg', 'https://upload.wikimedia.org/wikipedia/commons/thumb/7/79/Colosseum-exterior-2007.JPG/390px-Colosseum-exterior-2007.JPG', 'https://upload.wikimedia.org/wikipedia/commons/thumb/8/85/Tour_Eiffel_Wikimedia_Commons_%28cropped%29.jpg/360px-Tour_Eiffel_Wikimedia_Commons_%28cropped%29.jpg', 'https://upload.wikimedia.org/wikipedia/commons/thumb/b/bd/Sous_la_Tour_Eiffel_1.jpg/330px-Sous_la_Tour_Eiffel_1.jpg', 'https://upload.wikimedia.org/wikipedia/commons/thumb/c/c0/1_times_square_night_2013.jpg/450px-1_times_square_night_2013.jpg', 'https://upload.wikimedia.org/wikipedia/commons/thumb/c/c7/Empire_State_Building_by_David_Shankbone_crop.jpg/255px-Empire_State_Building_by_David_Shankbone_crop.jpg', 'https://upload.wikimedia.org/wikipedia/commons/thumb/d/d8/Colosseum_in_Rome-April_2007-1-_copie_2B.jpg/390px-Colosseum_in_Rome-April_2007-1-_copie_2B.jpg', 'https://upload.wikimedia.org/wikipedia/commons/thumb/e/e4/Paris_July_2011-27a.jpg/1218px-Paris_July_2011-27a.jpg', 'https://upload.wikimedia.org/wikipedia/commons/thumb/f/f4/Champs-%C3%89lys%C3%A9es_-_eastern_view_-_20111001.jpg/420px-Champs-%C3%89lys%C3%A9es_-_eastern_view_-_20111001.jpg'] \n",
      "\n",
      "Output atteso:\n",
      " (array([ 0,  1,  2,  3,  4,  5,  6,  7,  8,  9, 10, 11, 12, 13, 14, 15, 16,\n",
      "       17]), array([1., 0., 0., 0., 0., 0., 0., 0., 0., 0., 0., 0., 0., 0., 0., 0., 0.,\n",
      "       0.]), array([0., 0., 0., 0., 0., 0., 0., 0., 0., 0., 0., 0., 0., 0., 0., 0., 0.,\n",
      "       0.])) \n",
      "\n",
      "----- print interne funzione -----\n",
      "\n",
      "----------------------------------\n",
      "\n",
      "Output ottenuto:\n",
      " (array([ 0,  1,  2,  3,  4,  5,  6,  7,  8,  9, 10, 11, 12, 13, 14, 15, 16,\n",
      "       17]), array([1., 0., 0., 0., 0., 0., 0., 0., 0., 0., 0., 0., 0., 0., 0., 0., 0.,\n",
      "       0.]), array([0., 0., 0., 0., 0., 0., 0., 0., 0., 0., 0., 0., 0., 0., 0., 0., 0.,\n",
      "       0.])) \n",
      "\n",
      "Risultato Test: POSITIVO\n",
      "\n",
      "******************************\n",
      "\n",
      "Test funzione: corretteImmagine \n",
      "\n",
      "Input funzione: 'risposte3.csv', ['http://www.giovannirinaldi.it/page/rome/piazzadispagna/piazzadispagna0014.jpg', 'https://images.musement.com/cover/0002/23/thumb_122306_cover_header.jpeg', 'https://images.musement.com/default/0002/23/thumb_122314_default_header.jpeg', 'https://upload.wikimedia.org/wikipedia/commons/f/f9/Centralpark_fg01.jpg', 'https://upload.wikimedia.org/wikipedia/commons/thumb/0/00/Louvre_2007_02_24_c.jpg/330px-Louvre_2007_02_24_c.jpg', 'https://upload.wikimedia.org/wikipedia/commons/thumb/1/10/Empire_State_Building_%28aerial_view%29.jpg/375px-Empire_State_Building_%28aerial_view%29.jpg', 'https://upload.wikimedia.org/wikipedia/commons/thumb/1/13/Central_Park_-_The_Pond_%2848377220157%29.jpg/450px-Central_Park_-_The_Pond_%2848377220157%29.jpg', 'https://upload.wikimedia.org/wikipedia/commons/thumb/4/47/New_york_times_square-terabass.jpg/450px-New_york_times_square-terabass.jpg', 'https://upload.wikimedia.org/wikipedia/commons/thumb/4/48/Piazza_di_Spagna.jpg/450px-Piazza_di_Spagna.jpg', 'https://upload.wikimedia.org/wikipedia/commons/thumb/6/6d/Avenue_des_Champs-%C3%89lys%C3%A9es_July_24%2C_2009_N1.jpg/345px-Avenue_des_Champs-%C3%89lys%C3%A9es_July_24%2C_2009_N1.jpg', 'https://upload.wikimedia.org/wikipedia/commons/thumb/7/79/Colosseum-exterior-2007.JPG/390px-Colosseum-exterior-2007.JPG', 'https://upload.wikimedia.org/wikipedia/commons/thumb/8/85/Tour_Eiffel_Wikimedia_Commons_%28cropped%29.jpg/360px-Tour_Eiffel_Wikimedia_Commons_%28cropped%29.jpg', 'https://upload.wikimedia.org/wikipedia/commons/thumb/b/bd/Sous_la_Tour_Eiffel_1.jpg/330px-Sous_la_Tour_Eiffel_1.jpg', 'https://upload.wikimedia.org/wikipedia/commons/thumb/c/c0/1_times_square_night_2013.jpg/450px-1_times_square_night_2013.jpg', 'https://upload.wikimedia.org/wikipedia/commons/thumb/c/c7/Empire_State_Building_by_David_Shankbone_crop.jpg/255px-Empire_State_Building_by_David_Shankbone_crop.jpg', 'https://upload.wikimedia.org/wikipedia/commons/thumb/d/d8/Colosseum_in_Rome-April_2007-1-_copie_2B.jpg/390px-Colosseum_in_Rome-April_2007-1-_copie_2B.jpg', 'https://upload.wikimedia.org/wikipedia/commons/thumb/e/e4/Paris_July_2011-27a.jpg/1218px-Paris_July_2011-27a.jpg', 'https://upload.wikimedia.org/wikipedia/commons/thumb/f/f4/Champs-%C3%89lys%C3%A9es_-_eastern_view_-_20111001.jpg/420px-Champs-%C3%89lys%C3%A9es_-_eastern_view_-_20111001.jpg'] \n",
      "\n",
      "Output atteso:\n",
      " (array([ 0,  1,  2,  3,  4,  5,  6,  7,  8,  9, 10, 11, 12, 13, 14, 15, 16,\n",
      "       17]), array([0., 1., 1., 0., 0., 1., 0., 0., 0., 0., 0., 0., 0., 0., 1., 0., 0.,\n",
      "       0.]), array([0., 1., 1., 0., 0., 0., 0., 0., 0., 0., 0., 0., 0., 0., 0., 0., 0.,\n",
      "       0.])) \n",
      "\n",
      "----- print interne funzione -----\n",
      "\n",
      "----------------------------------\n",
      "\n",
      "Output ottenuto:\n",
      " (array([ 0,  1,  2,  3,  4,  5,  6,  7,  8,  9, 10, 11, 12, 13, 14, 15, 16,\n",
      "       17]), array([0., 1., 1., 0., 0., 1., 0., 0., 0., 0., 0., 0., 0., 0., 1., 0., 0.,\n",
      "       0.]), array([0., 1., 1., 0., 0., 0., 0., 0., 0., 0., 0., 0., 0., 0., 0., 0., 0.,\n",
      "       0.])) \n",
      "\n",
      "Risultato Test: POSITIVO\n",
      "\n",
      "******************************\n",
      "\n"
     ]
    },
    {
     "data": {
      "text/plain": [
       "1"
      ]
     },
     "execution_count": 9,
     "metadata": {},
     "output_type": "execute_result"
    }
   ],
   "source": [
    "def corretteImmagine(file,lista):\n",
    "    n = len(lista)\n",
    "    x = np.arange(n)\n",
    "    y1 = np.zeros(n)\n",
    "    y2 = np.zeros(n)\n",
    "    f = open(file,'r',encoding='UTF-8')\n",
    "    for riga in f:\n",
    "        dati = riga.strip().split(',')\n",
    "        foto = dati[3]\n",
    "        indiceFoto = lista.index(foto)\n",
    "        cittaCorretta = dati[1]\n",
    "        attrazioneCorretta = dati[2]\n",
    "        risposta1 = dati[4]\n",
    "        risposta2 = dati[5]\n",
    "        if risposta1 == cittaCorretta:\n",
    "            y1[indiceFoto] += 1\n",
    "            if risposta2 == attrazioneCorretta:\n",
    "                y2[indiceFoto] += 1\n",
    "    f.close()\n",
    "    return x, y1, y2\n",
    "\n",
    "tester_fun_comp(corretteImmagine,['risposte1.csv',tutteImmagini],(np.array([ 0,  1,  2,  3,  4,  5,  6,  7,  8,  9, 10, 11, 12, 13, 14, 15, 16, 17]), np.array([0., 2., 1., 0., 0., 2., 0., 0., 0., 0., 0., 0., 0., 0., 0., 0., 0., 0.]), np.array([0., 2., 1., 0., 0., 0., 0., 0., 0., 0., 0., 0., 0., 0., 0., 0., 0., 0.])),np.array_equal)\n",
    "tester_fun_comp(corretteImmagine,['risposte2.csv',tutteImmagini],(np.array([ 0,  1,  2,  3,  4,  5,  6,  7,  8,  9, 10, 11, 12, 13, 14, 15, 16, 17]), np.array([1., 0., 0., 0., 0., 0., 0., 0., 0., 0., 0., 0., 0., 0., 0., 0., 0., 0.]), np.array([0., 0., 0., 0., 0., 0., 0., 0., 0., 0., 0., 0., 0., 0., 0., 0., 0., 0.])),np.array_equal)\n",
    "tester_fun_comp(corretteImmagine,['risposte3.csv',tutteImmagini],(np.array([ 0,  1,  2,  3,  4,  5,  6,  7,  8,  9, 10, 11, 12, 13, 14, 15, 16, 17]), np.array([0., 1., 1., 0., 0., 1., 0., 0., 0., 0., 0., 0., 0., 0., 1., 0., 0., 0.]), np.array([0., 1., 1., 0., 0., 0., 0., 0., 0., 0., 0., 0., 0., 0., 0., 0., 0., 0.])),np.array_equal)"
   ]
  },
  {
   "cell_type": "markdown",
   "metadata": {},
   "source": [
    "Usando la funzione appena definita possiamo ora disegnare le 2 funzioni"
   ]
  },
  {
   "cell_type": "code",
   "execution_count": 10,
   "metadata": {},
   "outputs": [
    {
     "data": {
      "image/png": "[encoded data removed]",
      "text/plain": [
       "<Figure size 432x288 with 1 Axes>"
      ]
     },
     "metadata": {
      "needs_background": "light"
     },
     "output_type": "display_data"
    }
   ],
   "source": [
    "x,y1,y2 = corretteImmagine('risposte.csv',tutteImmagini)\n",
    "plt.plot(x, y1, 'r--', x, y2, 'b--')\n",
    "plt.xlabel('indice della foto') # scritta per l'asse x\n",
    "plt.ylabel('risposte corrette (parzialmente o completamente)') # scritta per l'asse y\n",
    "plt.show()"
   ]
  }
 ],
 "metadata": {
  "kernelspec": {
   "display_name": "Python 3",
   "language": "python",
   "name": "python3"
  },
  "language_info": {
   "codemirror_mode": {
    "name": "ipython",
    "version": 3
   },
   "file_extension": ".py",
   "mimetype": "text/x-python",
   "name": "python",
   "nbconvert_exporter": "python",
   "pygments_lexer": "ipython3",
   "version": "3.8.0"
  }
 },
 "nbformat": 4,
 "nbformat_minor": 4
}
