{
 "cells": [
  {
   "cell_type": "markdown",
   "metadata": {
    "slideshow": {
     "slide_type": "slide"
    }
   },
   "source": [
    "#### Autori: Domenico Lembo, Giuseppe Santucci and Marco Schaerf\n",
    "\n",
    "[Dipartimento di Ingegneria informatica, automatica e gestionale](https://www.diag.uniroma1.it)\n",
    "\n",
    "<img src=\"https://mirrors.creativecommons.org/presskit/buttons/88x31/png/by-nc-sa.eu.png\"\n",
    "     alt=\"License\"\n",
    "     style=\"float: left;\"\n",
    "     height=\"40\" width=\"100\" />\n",
    "This notebook is distributed with license Creative Commons *CC BY-NC-SA*"
   ]
  },
  {
   "cell_type": "markdown",
   "metadata": {},
   "source": [
    "### Soluzioni degli esercizi della sezione 02Variabili,input_output"
   ]
  },
  {
   "cell_type": "markdown",
   "metadata": {},
   "source": [
    "#### Esercizio 1:\n",
    "Scrivete le istruzioni Python che chiedono all'utente di inserire il valore del raggio di un cerchio e stampa l'area"
   ]
  },
  {
   "cell_type": "code",
   "execution_count": 1,
   "metadata": {},
   "outputs": [
    {
     "name": "stdin",
     "output_type": "stream",
     "text": [
      "Inserisci il raggio del cerchio:  3\n"
     ]
    },
    {
     "name": "stdout",
     "output_type": "stream",
     "text": [
      "L'area del cerchio vale: 28.274333882308138\n"
     ]
    }
   ],
   "source": [
    "import math\n",
    "raggio = float(input('Inserisci il raggio del cerchio: '))\n",
    "print(\"L'area del cerchio è:\",(raggio**2)*math.pi)"
   ]
  },
  {
   "cell_type": "markdown",
   "metadata": {},
   "source": [
    "#### Exercise 2: \n",
    "Scrivete le istruzioni Python che chiedono all'utente di inserire il valore del raggio e stampa su due righe differenti l'area ed il diametro"
   ]
  },
  {
   "cell_type": "code",
   "execution_count": 2,
   "metadata": {},
   "outputs": [
    {
     "name": "stdin",
     "output_type": "stream",
     "text": [
      "Inserisci il raggio del cerchio:  4\n"
     ]
    },
    {
     "name": "stdout",
     "output_type": "stream",
     "text": [
      "L'area del cerchio è: 50.26548245743669\n",
      "Il diametro del cerchio è: 25.132741228718345\n"
     ]
    }
   ],
   "source": [
    "import math\n",
    "raggio = float(input('Inserisci il raggio del cerchio: '))\n",
    "print(\"L'area del cerchio è:\",(raggio**2)*math.pi)\n",
    "print(\"Il diametro del cerchio è:\",raggio*2*math.pi)"
   ]
  },
  {
   "cell_type": "markdown",
   "metadata": {},
   "source": [
    "#### Esercizio 3: \n",
    "Scrivete le istruzioni Python che chiedono all'utente il raggio e l'altezza di un cilindro e stampa il volume"
   ]
  },
  {
   "cell_type": "code",
   "execution_count": 3,
   "metadata": {},
   "outputs": [
    {
     "name": "stdin",
     "output_type": "stream",
     "text": [
      "Inserisci il raggio del cerchio di base del cilindro:  3\n",
      "Inserisci l'altezza del cilindro:  4\n"
     ]
    },
    {
     "name": "stdout",
     "output_type": "stream",
     "text": [
      "Il volume del cilindro è: 113.09733552923255\n"
     ]
    }
   ],
   "source": [
    "import math\n",
    "raggio = float(input('Inserisci il raggio del cerchio di base del cilindro: '))\n",
    "altezza = float(input(\"Inserisci l'altezza del cilindro: \"))\n",
    "\n",
    "print('Il volume del cilindro è:',(raggio**2)*math.pi*altezza)"
   ]
  }
 ],
 "metadata": {
  "kernelspec": {
   "display_name": "Python 3",
   "language": "python",
   "name": "python3"
  },
  "language_info": {
   "codemirror_mode": {
    "name": "ipython",
    "version": 3
   },
   "file_extension": ".py",
   "mimetype": "text/x-python",
   "name": "python",
   "nbconvert_exporter": "python",
   "pygments_lexer": "ipython3",
   "version": "3.7.4"
  }
 },
 "nbformat": 4,
 "nbformat_minor": 4
}
