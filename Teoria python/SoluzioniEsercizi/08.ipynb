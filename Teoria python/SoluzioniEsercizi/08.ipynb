{
 "cells": [
  {
   "cell_type": "markdown",
   "metadata": {
    "slideshow": {
     "slide_type": "slide"
    }
   },
   "source": [
    "#### Autori: Domenico Lembo, Giuseppe Santucci and Marco Schaerf\n",
    "\n",
    "[Dipartimento di Ingegneria informatica, automatica e gestionale](https://www.diag.uniroma1.it)\n",
    "\n",
    "<img src=\"https://mirrors.creativecommons.org/presskit/buttons/88x31/png/by-nc-sa.eu.png\"\n",
    "     alt=\"License\"\n",
    "     style=\"float: left;\"\n",
    "     height=\"40\" width=\"100\" />\n",
    "This notebook is distributed with license Creative Commons *CC BY-NC-SA*"
   ]
  },
  {
   "cell_type": "markdown",
   "metadata": {},
   "source": [
    "### Soluzioni degli esercizi della sezione 08Funzioni"
   ]
  },
  {
   "cell_type": "markdown",
   "metadata": {},
   "source": [
    "### Esercizio 1:\n",
    "Scrivere una funzione che prende in input un numero n e restituisce il suo fattoriale. Il fattoriale di 0 deve restituire 1."
   ]
  },
  {
   "cell_type": "code",
   "execution_count": 8,
   "metadata": {},
   "outputs": [
    {
     "name": "stdout",
     "output_type": "stream",
     "text": [
      "Test funzione: fattoriale \n",
      "\n",
      "Input funzione: 4 \n",
      "\n",
      "Output atteso:\n",
      " 24 \n",
      "\n",
      "Output ottenuto:\n",
      " 24 \n",
      "\n",
      "Risultato Test: POSITIVO\n",
      "\n",
      "******************************\n",
      "\n",
      "Test funzione: fattoriale \n",
      "\n",
      "Input funzione: 5 \n",
      "\n",
      "Output atteso:\n",
      " 120 \n",
      "\n",
      "Output ottenuto:\n",
      " 120 \n",
      "\n",
      "Risultato Test: POSITIVO\n",
      "\n",
      "******************************\n",
      "\n",
      "Test funzione: fattoriale \n",
      "\n",
      "Input funzione: 10 \n",
      "\n",
      "Output atteso:\n",
      " 3628800 \n",
      "\n",
      "Output ottenuto:\n",
      " 3628800 \n",
      "\n",
      "Risultato Test: POSITIVO\n",
      "\n",
      "******************************\n",
      "\n",
      "Test funzione: fattoriale \n",
      "\n",
      "Input funzione: 21 \n",
      "\n",
      "Output atteso:\n",
      " 51090942171709440000 \n",
      "\n",
      "Output ottenuto:\n",
      " 51090942171709440000 \n",
      "\n",
      "Risultato Test: POSITIVO\n",
      "\n",
      "******************************\n",
      "\n",
      "Test funzione: fattoriale \n",
      "\n",
      "Input funzione: 0 \n",
      "\n",
      "Output atteso:\n",
      " 1 \n",
      "\n",
      "Output ottenuto:\n",
      " 1 \n",
      "\n",
      "Risultato Test: POSITIVO\n",
      "\n",
      "******************************\n",
      "\n"
     ]
    },
    {
     "data": {
      "text/plain": [
       "1"
      ]
     },
     "execution_count": 8,
     "metadata": {},
     "output_type": "execute_result"
    }
   ],
   "source": [
    "from tester import tester_fun\n",
    "\n",
    "def fattoriale(n):\n",
    "    ris = 1\n",
    "    for i in range(1,n+1):\n",
    "        ris = ris * i\n",
    "    return ris\n",
    "\n",
    "tester_fun(fattoriale,[4],24)\n",
    "tester_fun(fattoriale,[5],120)\n",
    "tester_fun(fattoriale,[10],3628800)\n",
    "tester_fun(fattoriale,[21],51090942171709440000)\n",
    "tester_fun(fattoriale,[0],1)"
   ]
  },
  {
   "cell_type": "markdown",
   "metadata": {},
   "source": [
    "### Esercizio 2:\n",
    "Scrivere una funzione che prende in input un numero intero positivo n e restituisce il suo massimo divisore diverso da n. Se il numero è primo deve restituire 1."
   ]
  },
  {
   "cell_type": "code",
   "execution_count": 5,
   "metadata": {
    "scrolled": true
   },
   "outputs": [
    {
     "name": "stdout",
     "output_type": "stream",
     "text": [
      "Test funzione: maxdivisore \n",
      "\n",
      "Input funzione: 24 \n",
      "\n",
      "Output atteso:\n",
      " 12 \n",
      "\n",
      "Output ottenuto:\n",
      " 12 \n",
      "\n",
      "Risultato Test: POSITIVO\n",
      "\n",
      "******************************\n",
      "\n",
      "Test funzione: maxdivisore \n",
      "\n",
      "Input funzione: 9 \n",
      "\n",
      "Output atteso:\n",
      " 3 \n",
      "\n",
      "Output ottenuto:\n",
      " 3 \n",
      "\n",
      "Risultato Test: POSITIVO\n",
      "\n",
      "******************************\n",
      "\n",
      "Test funzione: maxdivisore \n",
      "\n",
      "Input funzione: 175 \n",
      "\n",
      "Output atteso:\n",
      " 35 \n",
      "\n",
      "Output ottenuto:\n",
      " 35 \n",
      "\n",
      "Risultato Test: POSITIVO\n",
      "\n",
      "******************************\n",
      "\n",
      "Test funzione: maxdivisore \n",
      "\n",
      "Input funzione: 231 \n",
      "\n",
      "Output atteso:\n",
      " 77 \n",
      "\n",
      "Output ottenuto:\n",
      " 77 \n",
      "\n",
      "Risultato Test: POSITIVO\n",
      "\n",
      "******************************\n",
      "\n",
      "Test funzione: maxdivisore \n",
      "\n",
      "Input funzione: 131 \n",
      "\n",
      "Output atteso:\n",
      " 1 \n",
      "\n",
      "Output ottenuto:\n",
      " 1 \n",
      "\n",
      "Risultato Test: POSITIVO\n",
      "\n",
      "******************************\n",
      "\n"
     ]
    },
    {
     "data": {
      "text/plain": [
       "1"
      ]
     },
     "execution_count": 5,
     "metadata": {},
     "output_type": "execute_result"
    }
   ],
   "source": [
    "from tester import tester_fun\n",
    "\n",
    "def maxdivisore(n):\n",
    "    for i in range(2,n+1):\n",
    "        if n%i == 0:\n",
    "            return n//i\n",
    "\n",
    "tester_fun(maxdivisore,[24],12)\n",
    "tester_fun(maxdivisore,[9],3)\n",
    "tester_fun(maxdivisore,[175],35)\n",
    "tester_fun(maxdivisore,[231],77)\n",
    "tester_fun(maxdivisore,[131],1)"
   ]
  },
  {
   "cell_type": "markdown",
   "metadata": {},
   "source": [
    "### Esercizio 3: \n",
    "Scrivere una funzione che prende in input una stringa e restuituisce il carattere più frequente. Se ci sono più caratteri con la stessa frequenza, restituisce il primo incontrato, se la stringa in input è vuota restituisce una stringa vuota."
   ]
  },
  {
   "cell_type": "code",
   "execution_count": 3,
   "metadata": {
    "scrolled": true
   },
   "outputs": [
    {
     "name": "stdout",
     "output_type": "stream",
     "text": [
      "Test funzione: maxfreq \n",
      "\n",
      "Input funzione: 'palla' \n",
      "\n",
      "Output atteso:\n",
      " a \n",
      "\n",
      "Output ottenuto:\n",
      " a \n",
      "\n",
      "Risultato Test: POSITIVO\n",
      "\n",
      "******************************\n",
      "\n",
      "Test funzione: maxfreq \n",
      "\n",
      "Input funzione: 'pallone' \n",
      "\n",
      "Output atteso:\n",
      " l \n",
      "\n",
      "Output ottenuto:\n",
      " l \n",
      "\n",
      "Risultato Test: POSITIVO\n",
      "\n",
      "******************************\n",
      "\n",
      "Test funzione: maxfreq \n",
      "\n",
      "Input funzione: 'casa bianca di piero e sergio' \n",
      "\n",
      "Output atteso:\n",
      "   \n",
      "\n",
      "Output ottenuto:\n",
      "   \n",
      "\n",
      "Risultato Test: POSITIVO\n",
      "\n",
      "******************************\n",
      "\n",
      "Test funzione: maxfreq \n",
      "\n",
      "Input funzione: 'palla casa pallone' \n",
      "\n",
      "Output atteso:\n",
      " a \n",
      "\n",
      "Output ottenuto:\n",
      " a \n",
      "\n",
      "Risultato Test: POSITIVO\n",
      "\n",
      "******************************\n",
      "\n",
      "Test funzione: maxfreq \n",
      "\n",
      "Input funzione: '' \n",
      "\n",
      "Output atteso:\n",
      "  \n",
      "\n",
      "Output ottenuto:\n",
      "  \n",
      "\n",
      "Risultato Test: POSITIVO\n",
      "\n",
      "******************************\n",
      "\n"
     ]
    },
    {
     "data": {
      "text/plain": [
       "1"
      ]
     },
     "execution_count": 3,
     "metadata": {},
     "output_type": "execute_result"
    }
   ],
   "source": [
    "from tester import tester_fun\n",
    "\n",
    "def maxfreq(s):\n",
    "    if len(s) == 0:\n",
    "        return ''\n",
    "    ris = s[0]\n",
    "    for c in s[1:]:\n",
    "        if s.count(c) > s.count(ris):\n",
    "            ris = c\n",
    "    return ris\n",
    "    \n",
    "\n",
    "tester_fun(maxfreq,['palla'],'a')\n",
    "tester_fun(maxfreq,['pallone'],'l')\n",
    "tester_fun(maxfreq,['casa bianca di piero e sergio'],' ')\n",
    "tester_fun(maxfreq,['palla casa pallone'],'a')\n",
    "tester_fun(maxfreq,[''],'')"
   ]
  },
  {
   "cell_type": "markdown",
   "metadata": {},
   "source": [
    "### Esercizio 4:\n",
    "Scrivete una funzione che prende in input due stringhe s1 ed s2 e restituisce una nuova stringa composta dai caratteri di s1 seguiti dai caratteri di s2, **MA SENZA RIPETIZIONI**."
   ]
  },
  {
   "cell_type": "code",
   "execution_count": 14,
   "metadata": {},
   "outputs": [
    {
     "name": "stdout",
     "output_type": "stream",
     "text": [
      "Test funzione: collegaNoRipetizioni \n",
      "\n",
      "Input funzione: 'casa', 'dolce casa' \n",
      "\n",
      "Output atteso:\n",
      "  \n",
      "\n",
      "Output ottenuto:\n",
      " casdole  \n",
      "\n",
      "Risultato Test: NEGATIVO\n",
      "\n",
      "******************************\n",
      "\n",
      "Test funzione: collegaNoRipetizioni \n",
      "\n",
      "Input funzione: 'pallina dentro', 'un cassetto bianco' \n",
      "\n",
      "Output atteso:\n",
      "  \n",
      "\n",
      "Output ottenuto:\n",
      " palin detroucsb \n",
      "\n",
      "Risultato Test: NEGATIVO\n",
      "\n",
      "******************************\n",
      "\n",
      "Test funzione: collegaNoRipetizioni \n",
      "\n",
      "Input funzione: 'pallina dentro un cassetto bianco estremamente pieno', '' \n",
      "\n",
      "Output atteso:\n",
      "  \n",
      "\n",
      "Output ottenuto:\n",
      " palin detroucsbm \n",
      "\n",
      "Risultato Test: NEGATIVO\n",
      "\n",
      "******************************\n",
      "\n",
      "Test funzione: collegaNoRipetizioni \n",
      "\n",
      "Input funzione: 'aaaaaaaaaaaaaaaaaaaaaaaaaaaaaab', 'bbbbbbbbbbbbbbbbbbbbbbbba' \n",
      "\n",
      "Output atteso:\n",
      " ab \n",
      "\n",
      "Output ottenuto:\n",
      " ab \n",
      "\n",
      "Risultato Test: POSITIVO\n",
      "\n",
      "******************************\n",
      "\n",
      "Test funzione: collegaNoRipetizioni \n",
      "\n",
      "Input funzione: '', '' \n",
      "\n",
      "Output atteso:\n",
      "  \n",
      "\n",
      "Output ottenuto:\n",
      "  \n",
      "\n",
      "Risultato Test: POSITIVO\n",
      "\n",
      "******************************\n",
      "\n"
     ]
    },
    {
     "data": {
      "text/plain": [
       "1"
      ]
     },
     "execution_count": 14,
     "metadata": {},
     "output_type": "execute_result"
    }
   ],
   "source": [
    "from tester import tester_fun\n",
    "\n",
    "def collegaNoRipetizioni(s1,s2):\n",
    "    ris = ''\n",
    "    for c in s1:\n",
    "        if c not in ris:\n",
    "            ris += c\n",
    "    for c in s2:\n",
    "        if c not in ris:\n",
    "            ris += c\n",
    "    return ris\n",
    "    \n",
    "\n",
    "tester_fun(collegaNoRipetizioni,['casa', 'dolce casa'],'casdole')\n",
    "tester_fun(collegaNoRipetizioni,['pallina dentro','un cassetto bianco'],'palin detroucsb')\n",
    "tester_fun(collegaNoRipetizioni,['pallina dentro un cassetto bianco estremamente pieno',''],'palin detroucsbm')\n",
    "tester_fun(collegaNoRipetizioni,['aaaaaaaaaaaaaaaaaaaaaaaaaaaaaab','bbbbbbbbbbbbbbbbbbbbbbbba'],'ab')\n",
    "tester_fun(collegaNoRipetizioni,['',''],'')"
   ]
  },
  {
   "cell_type": "markdown",
   "metadata": {},
   "source": [
    "### Esercizio 5:\n",
    "Scrivete una funzione che prende in input una stringa s, composta solo da caratteri alfabetici e spazi bianchi (' '), e restituisce la lunghezza della parola più lunga. Si assuma che le parole siano sempre separate da spazi. *Suggerimento* usate il metodo *find()* per trovare la posizione degli spazi bianche nella stringa."
   ]
  },
  {
   "cell_type": "code",
   "execution_count": 3,
   "metadata": {},
   "outputs": [
    {
     "name": "stdout",
     "output_type": "stream",
     "text": [
      "Test funzione: maxlung \n",
      "\n",
      "Input funzione: 'casa   dolce casa' \n",
      "\n",
      "Output atteso:\n",
      " 5 \n",
      "\n",
      "Output ottenuto:\n",
      " 5 \n",
      "\n",
      "Risultato Test: POSITIVO\n",
      "\n",
      "******************************\n",
      "\n"
     ]
    },
    {
     "data": {
      "text/plain": [
       "1"
      ]
     },
     "execution_count": 3,
     "metadata": {},
     "output_type": "execute_result"
    }
   ],
   "source": [
    "from tester import tester_fun\n",
    "\n",
    "def maxlung(s):\n",
    "    ris = 0\n",
    "    start = 0\n",
    "    position = s.find(' ',start) #posizione del prossimo spazio bianco a partire dalla posizione start\n",
    "                                 #(-1 se non ce ne sono)\n",
    "    while position != -1:\n",
    "        if position - start > ris: #se la lunghezza della parola (distanza tra il suo inizio ed il primo spazio bianco)\n",
    "                                   #è maggiore del massimo trovato finora (ris)\n",
    "            ris = position - start\n",
    "        start = position + 1 #cerco la prossima parola a partire dalla fine della precedente\n",
    "        position = s.find(' ',start) #cerco il prossimo spazio bianco a partire dalla posizione start\n",
    "    ultima = len(s) - start #Bisogna anche considerare l'ultima parola della frase che potrebbe NON avere uno spazio alla fine\n",
    "    if ultima > ris:        #In questo caso la sua lunghezza è la distanza tra l'inizio dell'ultima parola e la fine della stringa\n",
    "        ris = ultima\n",
    "    return ris\n",
    "\n",
    "tester_fun(maxlung,['casa dolce casa'],5)\n",
    "tester_fun(maxlung,['pallina dentro un cassetto bianco'],8)\n",
    "tester_fun(maxlung,['pallina dentro un cassetto bianco estremamente pieno'],12)\n",
    "tester_fun(maxlung,[''],0)\n",
    "tester_fun(maxlung,['pallina dentro un cassetto bianco estremamente'],12)"
   ]
  },
  {
   "cell_type": "markdown",
   "metadata": {},
   "source": [
    "### Esercizio 6:\n",
    "Scrivete una funzione `sostituisci` che si comporti come il metodo replace delle stringhe"
   ]
  },
  {
   "cell_type": "code",
   "execution_count": 1,
   "metadata": {},
   "outputs": [
    {
     "name": "stdout",
     "output_type": "stream",
     "text": [
      "Test funzione: sostituisci \n",
      "\n",
      "Input funzione: 'palla', 'a', 'e' \n",
      "\n",
      "Output atteso:\n",
      " pelle \n",
      "\n",
      "Output ottenuto:\n",
      " pelle \n",
      "\n",
      "Risultato Test: POSITIVO\n",
      "\n",
      "******************************\n",
      "\n",
      "Test funzione: sostituisci \n",
      "\n",
      "Input funzione: 'pallina', 'a', 'o' \n",
      "\n",
      "Output atteso:\n",
      " pollino \n",
      "\n",
      "Output ottenuto:\n",
      " pollino \n",
      "\n",
      "Risultato Test: POSITIVO\n",
      "\n",
      "******************************\n",
      "\n",
      "Test funzione: sostituisci \n",
      "\n",
      "Input funzione: 'pallina', 'a', 'o', 1 \n",
      "\n",
      "Output atteso:\n",
      " pollina \n",
      "\n",
      "Output ottenuto:\n",
      " pollina \n",
      "\n",
      "Risultato Test: POSITIVO\n",
      "\n",
      "******************************\n",
      "\n",
      "Test funzione: sostituisci \n",
      "\n",
      "Input funzione: 'pallina', 'al', 'er', 1 \n",
      "\n",
      "Output atteso:\n",
      " perlina \n",
      "\n",
      "Output ottenuto:\n",
      " perlina \n",
      "\n",
      "Risultato Test: POSITIVO\n",
      "\n",
      "******************************\n",
      "\n",
      "Test funzione: sostituisci \n",
      "\n",
      "Input funzione: 'palla casa pallone', 'll', 'l', 1 \n",
      "\n",
      "Output atteso:\n",
      " pala casa pallone \n",
      "\n",
      "Output ottenuto:\n",
      " pala casa pallone \n",
      "\n",
      "Risultato Test: POSITIVO\n",
      "\n",
      "******************************\n",
      "\n"
     ]
    },
    {
     "data": {
      "text/plain": [
       "1"
      ]
     },
     "execution_count": 1,
     "metadata": {},
     "output_type": "execute_result"
    }
   ],
   "source": [
    "from tester import tester_fun\n",
    "\n",
    "#implementa replace\n",
    "def sostituisci(s,c1,c2,count=None):\n",
    "    nuova = ''\n",
    "    num = 0\n",
    "    i = 0\n",
    "    if count==None:\n",
    "        count=len(s)\n",
    "    while i < len(s) + 1 - len(c1):\n",
    "        if num < count and s[i:i+len(c1)] == c1:\n",
    "            nuova = nuova + c2\n",
    "            num = num + 1\n",
    "            i = i + len(c1)\n",
    "        else:\n",
    "            nuova = nuova + s[i]\n",
    "            i = i + 1\n",
    "    if i < len(s):\n",
    "        nuova = nuova + s[i:len(s)]\n",
    "    return nuova\n",
    "\n",
    "tester_fun(sostituisci,['palla','a','e'],'pelle')\n",
    "tester_fun(sostituisci,['pallina','a','o'],'pollino')\n",
    "tester_fun(sostituisci,['pallina','a','o',1],'pollina')\n",
    "tester_fun(sostituisci,['pallina','al','er',1],'perlina')\n",
    "tester_fun(sostituisci,['palla casa pallone','ll','l',1],'pala casa pallone')"
   ]
  },
  {
   "cell_type": "code",
   "execution_count": null,
   "metadata": {},
   "outputs": [],
   "source": []
  }
 ],
 "metadata": {
  "kernelspec": {
   "display_name": "Python 3",
   "language": "python",
   "name": "python3"
  },
  "language_info": {
   "codemirror_mode": {
    "name": "ipython",
    "version": 3
   },
   "file_extension": ".py",
   "mimetype": "text/x-python",
   "name": "python",
   "nbconvert_exporter": "python",
   "pygments_lexer": "ipython3",
   "version": "3.6.5"
  }
 },
 "nbformat": 4,
 "nbformat_minor": 4
}
