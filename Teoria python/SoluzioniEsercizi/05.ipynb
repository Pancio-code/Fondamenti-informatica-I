{
 "cells": [
  {
   "cell_type": "markdown",
   "metadata": {
    "slideshow": {
     "slide_type": "slide"
    }
   },
   "source": [
    "#### Autori: Domenico Lembo, Giuseppe Santucci and Marco Schaerf\n",
    "\n",
    "[Dipartimento di Ingegneria informatica, automatica e gestionale](https://www.diag.uniroma1.it)\n",
    "\n",
    "<img src=\"https://mirrors.creativecommons.org/presskit/buttons/88x31/png/by-nc-sa.eu.png\"\n",
    "     alt=\"License\"\n",
    "     style=\"float: left;\"\n",
    "     height=\"40\" width=\"100\" />\n",
    "This notebook is distributed with license Creative Commons *CC BY-NC-SA*"
   ]
  },
  {
   "cell_type": "markdown",
   "metadata": {},
   "source": [
    "### Soluzioni degli esercizi della sezione 05While"
   ]
  },
  {
   "cell_type": "markdown",
   "metadata": {},
   "source": [
    "### Esercizio 1: \n",
    "Scrivere un programma che legge una sequenza di stringhe inserite da input (una alla volta) e termina all'inserimento di una stringa vuota (solo invio) stampando a schermo il numero di stringhe non vuote inserite. *Fornire una soluzione con prima lettura fuori dal ciclo, ed una soluzione con lettura solo nel ciclo"
   ]
  },
  {
   "cell_type": "code",
   "execution_count": null,
   "metadata": {},
   "outputs": [],
   "source": [
    "#Esercizio: conta stringhe (con prima lettura fuori dal ciclo)\n",
    "\n",
    "s = input(\"Inserire una stringa (solo invio per terminare): \") \n",
    "cont = 0\n",
    "while s != \"\" :\n",
    "    cont = cont+1\n",
    "    s = input(\"Inserire un'altra stringa (solo invio per terminare): \")\n",
    "print(\"il numero di stringhe inserite è\", cont)"
   ]
  },
  {
   "cell_type": "code",
   "execution_count": null,
   "metadata": {
    "scrolled": true
   },
   "outputs": [],
   "source": [
    "#Esercizio: conta stringhe (con lettura solo nel ciclo)\n",
    "\n",
    "s = 'a' # inizializzo ad un valore qualunque diverso dalla sentinella (stringa vuota)\n",
    "cont = 0\n",
    "while s != \"\" :\n",
    "    s = input(\"Inserire una stringa (solo invio per terminare): \")\n",
    "    if s != \"\":  # necessario altrimenti conterei anche la stringa vuota\n",
    "        cont = cont+1\n",
    "print(\"il numero di stringhe inserite è\", cont)\n"
   ]
  },
  {
   "cell_type": "markdown",
   "metadata": {},
   "source": [
    "### Esercizio 2:\n",
    "Scrivere un programma che legge una sequenza di n>0 interi (letta da input e terminata dall'introduzione di un asterisco), ne calcola il massimo e lo stampa a schermo."
   ]
  },
  {
   "cell_type": "code",
   "execution_count": null,
   "metadata": {},
   "outputs": [],
   "source": [
    "#max di una sequenza di n>0 interi \n",
    "s=input(\"inserici un intero (* per terminare): \")\n",
    "almenoUno =False\n",
    "if s != '*':\n",
    "    massimo=int(s) #valore massimo nella sequenza\n",
    "    almenoUno = True\n",
    "while s!=\"*\":   \n",
    "    #if int(s)>massimo:\n",
    "    #    massimo=int(s)\n",
    "    massimo=max(massimo,int(s))  # le due righe precedenti possono \n",
    "                                 # essere usate in alternativa a istruzione      \n",
    "    print(\"massimo parziale=\",massimo)    # stampa di controllo\n",
    "    s=input(\"inserici un intero (* per terminare): \")\n",
    "\n",
    "if almenoUno:\n",
    "    print(\"Il valore massimo letto è: \",massimo)\n",
    "\n",
    "#il ciclo while viene eseguito n volte"
   ]
  },
  {
   "cell_type": "markdown",
   "metadata": {},
   "source": [
    "### Esercizio 3:\n",
    "Scrivere un programma che legge da tastiera una stringa `s` ed un carattere `c` e stampa a schermo una nuova stringa uguale ad `s` ma senza la prima occorrenza del carattere `c`: 'casa','a'->> 'csa'.<br>Se il carattere `c` non compare in `s` il programma stampa la stringa `s`.\n",
    "\n",
    "*FORNIRE UNA SOLUZIONE CHE NON FA USO DEL while*"
   ]
  },
  {
   "cell_type": "code",
   "execution_count": null,
   "metadata": {},
   "outputs": [],
   "source": [
    "# Soluzione precisa, considera anche il caso che il carattere non sia presente\n",
    "s=input(\"Inserisci la stringa s: \")\n",
    "c=input(\"Inserisci il carattere c: \")\n",
    "\n",
    "indice_c= s.find(c)\n",
    "\n",
    "if (indice_c>=0):\n",
    "    s1=s[:indice_c]+s[indice_c+1:]\n",
    "else:\n",
    "    s1=s\n",
    "\n",
    "print(s1)"
   ]
  },
  {
   "cell_type": "markdown",
   "metadata": {},
   "source": [
    "### Esercizio 4:\n",
    "Scrivere un programma che calcola la media di una sequenza di n>=0 interi (letta da input e terminata dall'introduzione di un asterisco) e la stampa a schermo. Nel caso n=0, stampare un messaggio che avvisa che non sono stati immessi valori."
   ]
  },
  {
   "cell_type": "code",
   "execution_count": 3,
   "metadata": {},
   "outputs": [
    {
     "name": "stdout",
     "output_type": "stream",
     "text": [
      "inserisci un intero  (* per terminare): *\n",
      "non sono stati inseriti valori\n"
     ]
    }
   ],
   "source": [
    "\n",
    "#Scrivere un programma che calcola la media di una sequenza di n>=0 interi\n",
    "#media di una sequenza di n>=0 interi con lettura fuori ciclo\n",
    "\n",
    "somma=0 #contiene la somma degli interi\n",
    "n=0     #contiene il numero di interi letto\n",
    "\n",
    "s=input(\"inserisci un intero  (* per terminare): \")\n",
    "while s!=\"*\":\n",
    "    n=n+1\n",
    "    somma=somma+int(s)\n",
    "    s=input(\"inserisci un intero  (* per terminare): \")\n",
    "\n",
    "if n>0:\n",
    "    print(\"La media vale: \",somma/n)\n",
    "else:\n",
    "    print(\"non sono stati inseriti valori\")\n",
    "\n",
    "#il ciclo while viene eseguito n volte"
   ]
  },
  {
   "cell_type": "markdown",
   "metadata": {},
   "source": [
    "### Esercizio 5: \n",
    "Scrivere un programma che legge una sequenza di n>=0 interi (letta da input e terminata dall'introduzione di un asterisco), e stampa a schermo il numero di interi negativi inseriti."
   ]
  },
  {
   "cell_type": "code",
   "execution_count": null,
   "metadata": {},
   "outputs": [],
   "source": [
    "neg=0     #contiene il numero di interi negativi \n",
    "s=input(\"inserici un intero  (* per terminare): \")\n",
    "while s!=\"*\":\n",
    "    if int(s)<0:\n",
    "        neg=neg+1\n",
    "    s=input(\"inserici un intero  (* per terminare): \")\n",
    "\n",
    "print(\"Il numero di interi negativi letti è: \",neg)    \n",
    "    \n",
    "#il ciclo while viene eseguito n volte"
   ]
  },
  {
   "cell_type": "markdown",
   "metadata": {},
   "source": [
    "### Esercizio 6:\n",
    "Scrivere un programma che legge da tastiera una stringa `s` e ed un intero n>0 che rappresenta il passo e stampa a schermo, uno per riga, i caratteri di `s` separati da una distanza pari al passo `p`. Ad esempio, se `s=armadio` e`p=2`, il programma stampa<br>\n",
    "`carattere 0 = a`<br>\n",
    "`carattere 2 = m`<br>\n",
    "`carattere 4 = d`<br>\n",
    "`carattere 6 = o`<br>"
   ]
  },
  {
   "cell_type": "code",
   "execution_count": 3,
   "metadata": {},
   "outputs": [
    {
     "name": "stdout",
     "output_type": "stream",
     "text": [
      "carattere 0 = a\n",
      "carattere 3 = a\n",
      "carattere 6 = l\n"
     ]
    }
   ],
   "source": [
    "#stampa i singoli caratteri di una stringa distanziati di passo :\n",
    "# s[0], s[passo], s[2*passo], etc...\n",
    "\n",
    "#Prima soluzione\n",
    "\n",
    "s=input(\"inserisci una stringa: \")\n",
    "passo=int(input(\"inserisci il passo (maggiore di 0): \"))\n",
    "\n",
    "i=0\n",
    "while i<len(s):\n",
    "    if i%passo==0:\n",
    "        print(\"carattere\",i,\"=\",s[i])\n",
    "    i=i+1"
   ]
  }
 ],
 "metadata": {
  "kernelspec": {
   "display_name": "Python 3",
   "language": "python",
   "name": "python3"
  },
  "language_info": {
   "codemirror_mode": {
    "name": "ipython",
    "version": 3
   },
   "file_extension": ".py",
   "mimetype": "text/x-python",
   "name": "python",
   "nbconvert_exporter": "python",
   "pygments_lexer": "ipython3",
   "version": "3.6.5"
  }
 },
 "nbformat": 4,
 "nbformat_minor": 4
}
