{
 "cells": [
  {
   "cell_type": "markdown",
   "metadata": {
    "slideshow": {
     "slide_type": "slide"
    }
   },
   "source": [
    "#### Autori: Domenico Lembo, Giuseppe Santucci and Marco Schaerf\n",
    "\n",
    "[Dipartimento di Ingegneria informatica, automatica e gestionale](https://www.diag.uniroma1.it)\n",
    "\n",
    "<img src=\"https://mirrors.creativecommons.org/presskit/buttons/88x31/png/by-nc-sa.eu.png\"\n",
    "     alt=\"License\"\n",
    "     style=\"float: left;\"\n",
    "     height=\"40\" width=\"100\" />\n",
    "This notebook is distributed with license Creative Commons *CC BY-NC-SA*"
   ]
  },
  {
   "cell_type": "markdown",
   "metadata": {},
   "source": [
    "# Matrici come liste di liste\n",
    "1. Liste di liste e Matrici in Python\n",
    "2. Inizializzazione di una lista di liste\n",
    "3. Accesso e modifica degli elementi\n",
    "4. Esercizio: Ricerca dell'elemento massimo\n",
    "5. Esercizio: Ricerca della riga a somma massima\n",
    "6. Esercizio: Somma di matrici (stessa dimensione)\n",
    "7. Esercizio: Prodotto di matrici (dimensioni compatibili)"
   ]
  },
  {
   "cell_type": "markdown",
   "metadata": {},
   "source": [
    "### Liste di liste e Matrici in Python\n",
    "In Python le liste possono contenere come elementi qualunque altro tipo e quindi anche altre liste. In questo caso si tratta di liste di liste. Vediamo degli esempi:"
   ]
  },
  {
   "cell_type": "code",
   "execution_count": 1,
   "metadata": {
    "scrolled": true
   },
   "outputs": [
    {
     "name": "stdout",
     "output_type": "stream",
     "text": [
      "[['alba', 'mare'], ['pesce', 'sole', 3], [2, 3, 4]]\n",
      "alba\n"
     ]
    }
   ],
   "source": [
    "l = [['alba','mare'],['pesce', 'sole',3],[2,3,4]]\n",
    "print(l)\n",
    "print(l[0]) #l[0][0]== alba"
   ]
  },
  {
   "cell_type": "markdown",
   "metadata": {},
   "source": [
    "### Inizializzazione di una lista di liste\n",
    "In Python ci sono vari modi per inizializzare una lista (e quindi anche una lista di liste). Vediamo alcuni esempi:"
   ]
  },
  {
   "cell_type": "code",
   "execution_count": 2,
   "metadata": {},
   "outputs": [
    {
     "name": "stdout",
     "output_type": "stream",
     "text": [
      "l1= [0, 0, 0, 0, 0, 0, 0, 0, 0, 0]\n",
      "l2= [0, 0, 0, 0, 0, 0, 0, 0, 0, 0]\n",
      "l3= [0, 1, 2, 3, 4, 5, 6, 7, 8, 9]\n",
      "l4= [0, 1, 2, 3, 4, 5, 6, 7, 8, 9]\n"
     ]
    }
   ],
   "source": [
    "# creazione di una lista di 10 elementi tutti 0\n",
    "l1 = [0]*10\n",
    "print('l1=',l1)\n",
    "\n",
    "# in alternativa si può usare questa forma\n",
    "l2 = [0 for i in range(10)]\n",
    "print('l2=',l2)\n",
    "\n",
    "# questa seconda forma è più flessibile, per esempio\n",
    "l3 = [i for i in range(10)]\n",
    "print('l3=',l3)\n",
    "\n",
    "# la forma precedente è del tutto equivalente al codice seguente\n",
    "l4 = []\n",
    "for i in range(10):\n",
    "    l4.append(i)\n",
    "print('l4=',l4)    "
   ]
  },
  {
   "cell_type": "code",
   "execution_count": 3,
   "metadata": {},
   "outputs": [
    {
     "name": "stdout",
     "output_type": "stream",
     "text": [
      "l5= [[0, 0, 0], [0, 0, 0], [0, 0, 0], [0, 0, 0]]\n",
      "l6= [[0, 0, 0], [0, 0, 0], [0, 0, 0], [0, 0, 0]]\n",
      "l7= [[0, 0, 0], [0, 0, 0], [0, 0, 0], [0, 0, 0]]\n"
     ]
    }
   ],
   "source": [
    "# Creazione di una lista di liste, tutte della stessa lunghezza. \n",
    "# Attenzione: il codice che segue crea una sola\n",
    "# lista di 3 zeri e 4 riferimenti a questa stessa lista\n",
    "l5 = [[0]*3]*4\n",
    "print('l5=',l5)\n",
    "\n",
    "# in alternativa per creare una lista di liste tutte della stessa lunghezza\n",
    "# nota: in questo caso vengono prodotte 4 liste \"diverse\" di 3 zeri \n",
    "l6 = [[0 for i in range(3)] for i in range(4)]\n",
    "print('l6=',l6)\n",
    "\n",
    "# in alternativa usando due parametri\n",
    "m=4   #numero di sottoliste   \n",
    "n=3   #nunero di elementi in ciascuna sottolista\n",
    "l7 = [[0 for i in range(n)] for i in range(m)]\n",
    "print('l7=',l7)\n",
    "\n",
    "#len(l7) --> numero di sottoliste\n",
    "#len(l7[0]) ---> nunero di elementi in ciascuna sottolista"
   ]
  },
  {
   "cell_type": "markdown",
   "metadata": {},
   "source": [
    "#### Differenza tra  [[0]\\*3]\\*4 e [[0 for i in range(3)] for i in range(4)]\n",
    "Per meglio capire le differenze vediamo una simulazione su [PythonTutor](http://www.pythontutor.com) (effettuabile anche direttamente dentro questo Notebook grazie al codice seguente - è comunque necessaria una connessione internet attiva)."
   ]
  },
  {
   "cell_type": "code",
   "execution_count": 3,
   "metadata": {},
   "outputs": [
    {
     "data": {
      "text/html": [
       "\n",
       "        <iframe\n",
       "            width=\"800\"\n",
       "            height=\"500\"\n",
       "            src=\"https://pythontutor.com/iframe-embed.html#code=m%20%3D%20%5B%5B0%5D*4%5D*3%0Am1%20%3D%20%5B%5B0%20for%20i%20in%20range%284%29%5D%20for%20j%20in%20range%283%29%5D%0Am%5B1%5D%5B1%5D%20%3D%205%0Am1%5B1%5D%5B1%5D%20%3D%205%0Aprint%28m%29%0Aprint%28m1%29&codeDivHeight=400&codeDivWidth=350&cumulative=false&curInstr=0&heapPrimitives=nevernest&origin=opt-frontend.js&py=3&rawInputLstJSON=%5B%5D&textReferences=false?frameborder=0\"\n",
       "            frameborder=\"0\"\n",
       "            allowfullscreen\n",
       "        ></iframe>\n",
       "        "
      ],
      "text/plain": [
       "<IPython.lib.display.IFrame at 0x1116589d0>"
      ]
     },
     "execution_count": 3,
     "metadata": {},
     "output_type": "execute_result"
    }
   ],
   "source": [
    "from IPython.display import IFrame\n",
    "url = \"https://pythontutor.com/iframe-embed.html#code=m%20%3D%20%5B%5B0%5D*4%5D*3%0Am1%20%3D%20%5B%5B0%20for%20i%20in%20range%284%29%5D%20for%20j%20in%20range%283%29%5D%0Am%5B1%5D%5B1%5D%20%3D%205%0Am1%5B1%5D%5B1%5D%20%3D%205%0Aprint%28m%29%0Aprint%28m1%29&codeDivHeight=400&codeDivWidth=350&cumulative=false&curInstr=0&heapPrimitives=nevernest&origin=opt-frontend.js&py=3&rawInputLstJSON=%5B%5D&textReferences=false\"\n",
    "IFrame(url, width = 800, height = 500, frameborder=0)"
   ]
  },
  {
   "cell_type": "markdown",
   "metadata": {},
   "source": [
    "### Matrici come lista di liste\n",
    "\n",
    "In Python una matrice si può rappresentare come una lista di liste. In pratica si considera una matrice `mxn` come una sequenza ordinata di `m` righe, ciascuna delle quali è a sua volta una sequenza ordinata di `n` valori semplici (tipicamente numeri interi o frazionari). Ogni riga può quindi essere rappresentata con una lista di `n` numeri, mentre l’intera matrice sarà rappresentata da una lista di `m` liste (righe della matrice).\n",
    "In questo modo l’elemento della matrice nella i-esima riga e nella j-esima colonna corrisponderà all’elemento della lista avente indici `i−1` e `j−1`.\n",
    "\n",
    "Ad esempio, la matice \n",
    "\n",
    "\\begin{array}{ccc}\n",
    " -3 & 1 & 4\\\\\n",
    " 2 & 5 & -1 \n",
    "\\end{array} \n",
    "  \n",
    "sarà rappresentata come\n",
    "\n",
    "`[ [-3, 1, 4], [2, 5, -1] ]`\n",
    "\n",
    "**Nota:** per semplicità, da ora in poi assumiamo che le righe e le colonne di una matrice (vista come oggetto matematico) siano indicizzate a partire dallo `0` (mentre usualmente sono indicizzate a partire da `1`) . In questo modo non ci sarà differenza fra gli indici della matrice e gli indici della sua rappresentazione come lista di liste in Python."
   ]
  },
  {
   "cell_type": "markdown",
   "metadata": {},
   "source": [
    "### Accesso e modifica degli elementi\n",
    "Vediamo ora come si possano accedere e modificare i singoli elementi delle matrici"
   ]
  },
  {
   "cell_type": "code",
   "execution_count": 4,
   "metadata": {},
   "outputs": [
    {
     "name": "stdout",
     "output_type": "stream",
     "text": [
      "[[0, 1, 2, 3], [4, 5, 6, 7], [8, 9, 10, 11], [12, 13, 14, 15]]\n",
      "11\n",
      "[4, 5, 6, 7]\n"
     ]
    }
   ],
   "source": [
    "# accesso e modifica degli elementi\n",
    "# creo una matrice di dimensione nxn\n",
    "# con numeri progressivi per riga\n",
    "\n",
    "n = 4 # fisso la dimensione della matrice\n",
    "\n",
    "mat = [[i+(j*n) for i in range(n)] for j in range(n)]\n",
    "print(mat)\n",
    "\n",
    "# Per accedere all'elemento nella riga 2 colonna 3\n",
    "print(mat[2][3])\n",
    "\n",
    "# Per accedere ad una riga\n",
    "print(mat[1])"
   ]
  },
  {
   "cell_type": "code",
   "execution_count": 7,
   "metadata": {},
   "outputs": [
    {
     "name": "stdout",
     "output_type": "stream",
     "text": [
      "[1, 5, 9, 13]\n"
     ]
    }
   ],
   "source": [
    "# Non si può immediatamente estrarre una colonna\n",
    "# serve del codice come questo che estrae la colonna 1\n",
    "col = []\n",
    "for i in range(n):\n",
    "    col.append(mat[i][1])\n",
    "print(col)"
   ]
  },
  {
   "cell_type": "code",
   "execution_count": 5,
   "metadata": {},
   "outputs": [
    {
     "name": "stdout",
     "output_type": "stream",
     "text": [
      "0\t1\t2\t3\t\n",
      "4\t5\t6\t7\t\n",
      "8\t9\t10\t11\t\n",
      "12\t13\t14\t15\t\n",
      "\n",
      "[0, 1, 2, 3]\n",
      "[4, 5, 6, 7]\n",
      "[8, 9, 10, 11]\n",
      "[12, 13, 14, 15]\n"
     ]
    }
   ],
   "source": [
    "# Per stampare l'intera matrice elemento per elemento servono 2 cicli for\n",
    "for i in range(n):\n",
    "    for j in range(n):\n",
    "        print(mat[i][j], end = '\\t') # stampa la riga separando con tab (\\t) ogni elemento\n",
    "    print() # vado a riga nuova prima di stampare la nuova riga\n",
    "\n",
    "print()\n",
    "    \n",
    "# Un risultato simile, ma non uguale, si poteva ottenere con un solo ciclo così:\n",
    "for i in range(n):\n",
    "    print(mat[i]) # stampa la lista che rappresenta la riga"
   ]
  },
  {
   "cell_type": "markdown",
   "metadata": {},
   "source": [
    "#### Esempio di lettura matrice da file\n",
    "Vogliamo scrivere una funzione che legge un file contenente una matrice di numeri interi nel formato:\n",
    "\n",
    "```\n",
    "2 3\n",
    "2 3 4\n",
    "5 -2 9\n",
    "```\n",
    "Dove la prima riga contiene le dimensioni, cioè numero di righe e numero di colonne e le altre righe contengono i valori scritti per riga (separati da uno spazio). Vediamo 2 possibili soluzioni:"
   ]
  },
  {
   "cell_type": "code",
   "execution_count": 1,
   "metadata": {
    "jupyter": {
     "outputs_hidden": true
    }
   },
   "outputs": [],
   "source": [
    "def leggiMatriceFile(file):\n",
    "    f = open(file, 'r', encoding = 'UTF-8')\n",
    "    mat = []                        # inizializzo la matrice\n",
    "    dim = f.readline().split()      # leggo le dimensioni\n",
    "    righe = int(dim[0])\n",
    "    colonne = int(dim[1])\n",
    "    for i in range(righe):\n",
    "        riga = f.readline().split() # leggo una riga\n",
    "        for j in range(colonne):\n",
    "            riga[j] = int(riga[j])  # converto le stringhe in numeri\n",
    "        mat.append(riga)            # inserisco la riga nella matrice\n",
    "    return mat"
   ]
  },
  {
   "cell_type": "code",
   "execution_count": 3,
   "metadata": {
    "jupyter": {
     "outputs_hidden": true
    }
   },
   "outputs": [],
   "source": [
    "def leggiMatriceFile1(file):\n",
    "    f = open(file, 'r', encoding = 'UTF-8')\n",
    "    dim = f.readline().split()      # leggo le dimensioni ['2','3']\n",
    "    righe = int(dim[0])\n",
    "    colonne = int(dim[1])\n",
    "    mat = [[0 for i in range(colonne)] for j in range(righe)] # inizializzo la matrice\n",
    "    for i in range(righe):\n",
    "        riga = f.readline().split()   # leggo una riga\n",
    "        for j in range(colonne):\n",
    "            mat[i][j] = int(riga[j])  # converto le stringhe in numeri e li assegno alla matrice\n",
    "    return mat "
   ]
  },
  {
   "cell_type": "code",
   "execution_count": 4,
   "metadata": {},
   "outputs": [
    {
     "name": "stdout",
     "output_type": "stream",
     "text": [
      "4 6\n",
      "12 3 0 4 1 7\n",
      "3 -2 3 7 11 0\n",
      "6 8 9 11 2 -11\n",
      "0 11 34 -1 9 -3\n",
      "\n",
      "[[12, 3, 0, 4, 1, 7], [3, -2, 3, 7, 11, 0], [6, 8, 9, 11, 2, -11], [0, 11, 34, -1, 9, -3]]\n",
      "[[12, 3, 0, 4, 1, 7], [3, -2, 3, 7, 11, 0], [6, 8, 9, 11, 2, -11], [0, 11, 34, -1, 9, -3]]\n"
     ]
    }
   ],
   "source": [
    "# Stampiamo il contenuto del file\n",
    "print(open('matrice.txt',encoding='UTF-8').read())\n",
    "#Stampiamo la matrice ottenuta con la prima funzione\n",
    "print(leggiMatriceFile('matrice.txt'))\n",
    "#Stampiamo la matrice ottenuta con la seconda funzione\n",
    "print(leggiMatriceFile1('matrice.txt'))        "
   ]
  },
  {
   "cell_type": "markdown",
   "metadata": {},
   "source": [
    "#### Esempio di scrittura matrice su file\n",
    "Scriviamo una funzione che scrive su file il contenuto della matrice nel formato visto in precedenza"
   ]
  },
  {
   "cell_type": "code",
   "execution_count": 31,
   "metadata": {
    "collapsed": true,
    "jupyter": {
     "outputs_hidden": true
    }
   },
   "outputs": [],
   "source": [
    "def scriviMatriceFile(m,file):\n",
    "    fout = open(file,'w')\n",
    "    righe = len(m)\n",
    "    colonne = len(m[0])\n",
    "    s = str(righe) + ' ' + str(colonne) + '\\n'\n",
    "    fout.write(s)\n",
    "    for i in range(righe):\n",
    "        for j in range(colonne):\n",
    "            if j == colonne - 1:\n",
    "                fout.write(str(m[i][j]))\n",
    "            else:\n",
    "                fout.write(str(m[i][j])+' ')\n",
    "        fout.write('\\n')\n",
    "    fout.close()\n",
    "\n",
    "m1 = leggiMatriceFile('matrice.txt')\n",
    "scriviMatriceFile(m1,'copia_matrice.txt')"
   ]
  },
  {
   "cell_type": "markdown",
   "metadata": {},
   "source": [
    "### Esercizio: Ricerca dell'elemento massimo\n",
    "Funzione che prende in input una matrice e restituisce il valore massimo presente, assume che la matrice non sia vuota"
   ]
  },
  {
   "cell_type": "code",
   "execution_count": 32,
   "metadata": {
    "scrolled": true
   },
   "outputs": [
    {
     "name": "stdout",
     "output_type": "stream",
     "text": [
      "Matrice: [[12, 3, 0, 4, 1, 7], [3, -2, 3, 7, 11, 0], [6, 8, 9, 11, 2, -11], [0, 11, 34, -1, 9, -3]]\n",
      "Valore massimo: 34\n",
      "Valore massimo e sua posizione: (34, 3, 2)\n",
      "Funzione max() applicata alla matrice: [12, 3, 0, 4, 1, 7]\n"
     ]
    }
   ],
   "source": [
    "# Calcola il massimo dei valori della matrice mat\n",
    "def maxMatrice(mat):\n",
    "    massimo = max(mat[0])\n",
    "    for riga in mat:\n",
    "        if max(riga) > massimo:\n",
    "            massimo = max(riga)\n",
    "    return massimo\n",
    "\n",
    "# Calcola il massimo, ma anche la sua posizione (riga e colonna)\n",
    "def maxMatrice1(mat):\n",
    "    massimo = mat[0][0]\n",
    "    maxi=0\n",
    "    maxj=0\n",
    "    for i in range(len(mat)):\n",
    "        for j in range(len(mat[0])):\n",
    "            if mat[i][j] > massimo:\n",
    "                massimo = mat[i][j]\n",
    "                maxi=i\n",
    "                maxj=j\n",
    "    return massimo,maxi,maxj\n",
    "\n",
    "m = leggiMatriceFile('matrice.txt')\n",
    "print('Matrice:',m)\n",
    "print('Valore massimo:',maxMatrice(m))\n",
    "print('Valore massimo e sua posizione:',maxMatrice1(m))\n",
    "# Notate che la funzione max() applicata all'intera matrice restituisce la riga massima, cioè\n",
    "# la riga il cui primo elemento è massimo (in caso di parità si guarda il secondo e così via)\n",
    "print('Funzione max() applicata alla matrice:',max(m))"
   ]
  },
  {
   "cell_type": "markdown",
   "metadata": {},
   "source": [
    "### Esercizio: Ricerca della riga a somma massima\n",
    "Funzione che prende in input una matrice e restituisce l'indice della riga di somma massima presente, assume che la matrice non sia vuota"
   ]
  },
  {
   "cell_type": "code",
   "execution_count": 5,
   "metadata": {},
   "outputs": [
    {
     "name": "stdout",
     "output_type": "stream",
     "text": [
      "3\n"
     ]
    }
   ],
   "source": [
    "def rigaMaxMatrice(mat):\n",
    "    massimo = sum(mat[0]) #inizializzo il massimo alla somma della prima riga\n",
    "    rigamax  = 0\n",
    "    for i in range(len(mat)):\n",
    "        somma = sum(mat[i])\n",
    "        if somma > massimo:\n",
    "            massimo = somma\n",
    "            rigamax = i\n",
    "    return rigamax\n",
    "\n",
    "m = leggiMatriceFile('matrice.txt')\n",
    "print(rigaMaxMatrice(m))"
   ]
  },
  {
   "cell_type": "markdown",
   "metadata": {},
   "source": [
    "### Esercizio: Somma di matrici (stessa dimensione)\n",
    "Funzione che prende in input due matrici (mxn) della stessa dimensione e restituisce una nuova matrice che è la somma delle due. Vediamo due diverse soluzioni, nella prima la soluzione viene costruita da 0, nella seconda prima si inizializza la matrice risultato e poi si calcolano i valori. Vediamo anche un esempio errato in cui l'inizializzazione viene fatta in modo non corretto."
   ]
  },
  {
   "cell_type": "code",
   "execution_count": 6,
   "metadata": {
    "jupyter": {
     "outputs_hidden": true
    }
   },
   "outputs": [],
   "source": [
    "def sommaMatrici(mat1,mat2):\n",
    "    ris = [] # inizializzo la matrice risultato\n",
    "    for i in range(len(mat1)):\n",
    "        riga = [] # inizializzo la riga della matrice risultato\n",
    "        for j in range(len(mat1[i])):\n",
    "            riga.append(mat1[i][j] + mat2[i][j]) # calcolo la riga\n",
    "        ris.append(riga) # completata la riga la inserisco nel risultato\n",
    "    return ris"
   ]
  },
  {
   "cell_type": "code",
   "execution_count": 7,
   "metadata": {
    "jupyter": {
     "outputs_hidden": true
    }
   },
   "outputs": [],
   "source": [
    "def sommaMatrici1(mat1,mat2):\n",
    "    m=len(mat1)    #righe\n",
    "    n=len(mat1[0]) #colonne\n",
    "    ris = [[0 for j in range(n)] for i in range(m)]# inizializzo la matrice risultato\n",
    "    for i in range(len(ris)):\n",
    "         for j in range(len(ris[0])):\n",
    "            ris[i][j]=mat1[i][j] + mat2[i][j] # calcolo elemento [i][j]\n",
    "    return ris"
   ]
  },
  {
   "cell_type": "code",
   "execution_count": 8,
   "metadata": {
    "jupyter": {
     "outputs_hidden": true
    }
   },
   "outputs": [],
   "source": [
    "def sommaMatrici2(mat1,mat2):\n",
    "    m=len(mat1)    #righe\n",
    "    n=len(mat1[0]) #colonne\n",
    "    ris = [[0]*n]*m # inizializzo la matrice risultato in MODO SCORRETTO.\n",
    "    for i in range(len(ris)):\n",
    "         for j in range(len(ris[0])):\n",
    "            ris[i][j]=mat1[i][j] + mat2[i][j] # calcolo elemento [i][j]\n",
    "    return ris"
   ]
  },
  {
   "cell_type": "code",
   "execution_count": 9,
   "metadata": {},
   "outputs": [
    {
     "name": "stdout",
     "output_type": "stream",
     "text": [
      "[[13, 6, 0, 0, 0, 15], [5, -4, 6, 14, 22, 0], [12, 16, 14, 17, 4, -13], [0, 13, 38, -2, 18, -6]]\n",
      "[[13, 6, 0, 0, 0, 15], [5, -4, 6, 14, 22, 0], [12, 16, 14, 17, 4, -13], [0, 13, 38, -2, 18, -6]]\n",
      "[[0, 13, 38, -2, 18, -6], [0, 13, 38, -2, 18, -6], [0, 13, 38, -2, 18, -6], [0, 13, 38, -2, 18, -6]]\n"
     ]
    }
   ],
   "source": [
    "m1 = leggiMatriceFile('matrice.txt')\n",
    "m2 = leggiMatriceFile('matrice2.txt')\n",
    "print(sommaMatrici(m1,m2))\n",
    "print(sommaMatrici1(m1,m2))\n",
    "print(sommaMatrici2(m1,m2))"
   ]
  },
  {
   "cell_type": "markdown",
   "metadata": {},
   "source": [
    "### Esercizio: Prodotto di matrici (dimensioni compatibili)\n",
    "Funzione che prende in input due matrici di dimensioni compatibili (nxm e mxp) e restituisce una nuova matrice che è il prodotto delle due. Vediamo come al solito due soluzioni, nella prima la soluzione viene costruita man mano, mentre nella seconda la matrice soluzione viene prima inizializzata e poi rimepita con i valori corretti. Ecco la prima soluzione:"
   ]
  },
  {
   "cell_type": "code",
   "execution_count": 38,
   "metadata": {},
   "outputs": [
    {
     "name": "stdout",
     "output_type": "stream",
     "text": [
      "[[43, 28, 9], [33, 22, 7]]\n"
     ]
    }
   ],
   "source": [
    "def moltiplicaMatrici(mat1,mat2):\n",
    "    n = len(mat1) # calcolo il numero di righe delle prima matrice\n",
    "    m = len(mat1[0]) # calcolo il numero di colonne delle prima matrice\n",
    "    if len(mat2) != m: # in questo caso non si possono moltiplicare\n",
    "        return 'Errore, dimensioni non corrette'\n",
    "    p = len(mat2[0]) # calcolo il numero di colonne della seconda matrice\n",
    "    #print(n,m,p)\n",
    "    \n",
    "    ris = [] # inizializzo la matrice risultato\n",
    "    for i in range(n):\n",
    "        riga = [] # inizializzo la riga della matrice risultato\n",
    "        for k in range(p):\n",
    "            somma = 0\n",
    "            for j in range(m):\n",
    "                somma = somma + mat1[i][j]*mat2[j][k]\n",
    "            riga.append(somma) # aggiungo somma nella riga risultato\n",
    "        ris.append(riga) # completata la riga la inserisco nel risultato\n",
    "    return ris\n",
    "\n",
    "m1 = leggiMatriceFile('matrice3.txt')\n",
    "m2 = leggiMatriceFile('matrice4.txt')\n",
    "print(moltiplicaMatrici(m1,m2))"
   ]
  },
  {
   "cell_type": "markdown",
   "metadata": {},
   "source": [
    "#### Seconda soluzione\n",
    "Qui la matrice risultato (ris) viene subito costruita ed inizializzata e poi gli vengono assegnati (uno per volta) i valori corretti."
   ]
  },
  {
   "cell_type": "code",
   "execution_count": 39,
   "metadata": {},
   "outputs": [
    {
     "name": "stdout",
     "output_type": "stream",
     "text": [
      "[[43, 28, 9], [33, 22, 7]]\n"
     ]
    }
   ],
   "source": [
    "def moltiplicaMatrici2(mat1,mat2):\n",
    "    n = len(mat1) # calcolo il numero di righe delle prima matrice\n",
    "    m = len(mat1[0]) # calcolo il numero di colonne delle prima matrice\n",
    "    if len(mat2) != m: # in questo caso non si possono moltiplicare\n",
    "        return 'Errore, dimensioni non corrette'\n",
    "    p = len(mat2[0]) # calcolo il numero di colonne della seconda matrice\n",
    "    #print(n,m,p)\n",
    "    \n",
    "    ris = [[0 for i in range(p)] for j in range(n)] # inizializzo la matrice risultato\n",
    "    for i in range(n):\n",
    "        #riga = [] # inizializzo la riga della matrice risultato\n",
    "        for k in range(p):\n",
    "            somma = 0\n",
    "            for j in range(m):\n",
    "                somma = somma + mat1[i][j]*mat2[j][k]\n",
    "            ris[i][k] = somma # aggiungo somma nella riga risultato\n",
    "        #ris.append(riga) # completata la riga la inserisco nel risultato\n",
    "    return ris\n",
    "\n",
    "m1 = leggiMatriceFile('matrice3.txt')\n",
    "m2 = leggiMatriceFile('matrice4.txt')\n",
    "print(moltiplicaMatrici2(m1,m2))"
   ]
  },
  {
   "cell_type": "markdown",
   "metadata": {},
   "source": [
    "### Vantaggi e svantaggi della rappresentazione come liste di liste\n",
    "La rappresentazione delle matrici come lista di liste ha numerosi vantaggi:\n",
    "1. Permette di avere sia elementi omogenei che disomogenei\n",
    "2. Le liste possono cambiare dinamicamente dimensione\n",
    "3. Si possono modificare gli elementi ed anche inserire nuovi elementi\n",
    "\n",
    "A fronte di questi vantaggi ci sono però diversi svantaggi, tra cui:\n",
    "1. Le operazioni sulle matrici come lista di liste sono poco efficienti\n",
    "2. Non è possibile accedere direttamente alle colonne di una matrice\n",
    "3. Non sono definite operazioni su matrici, ma tutto deve essere realizzato opernado sui singoli elementi\n",
    "Per superare alcune di queste limitazioni, in Python sono state definite varie classi, tra cui la classe *array* definita in un modulo standard. Anche se la classe array risolve effettivamente molte limitazioni, in questo corso vedremo il modulo *NumPy* che risolve queste limitazioni ed offre tantissime funzionalità aggiuntive."
   ]
  },
  {
   "cell_type": "markdown",
   "metadata": {},
   "source": [
    "### Esercizi\n",
    "Completate questi esercizi prima di cominciare il prossimo argomento\n",
    "\n",
    "#### Esercizio 1: \n",
    "Scrivere un programma che prende in ingresso una matrice m di numeri interi rappresentata come lista di liste e calcola quante colonne hanno la somma maggiore o uguale a 0. Ad esempio, se m vale \\[\\[2,-3,-4\\],\\[1,1,2\\],\\[-2,0,-1\\]\\], allora la funzione deve restituire 1, poichè solo la colonna di indice 0 ha somma >= 0."
   ]
  },
  {
   "cell_type": "code",
   "execution_count": null,
   "metadata": {},
   "outputs": [],
   "source": [
    "from tester import tester_fun\n",
    "\n",
    "def contaColPos(m):\n",
    "    return None\n",
    "\n",
    "tester_fun(contaColPos,[[[2,-3,-4],[1,1,2],[-2,0,-1]]],1)\n",
    "tester_fun(contaColPos,[[[2,-3,-4,0],[1,1,2,0],[-2,0,-1,0]]],2)\n",
    "tester_fun(contaColPos,[[[2,-3,-4],[1,1,2],[-2,0,-1],[-2,3,-1]]],1)\n",
    "tester_fun(contaColPos,[[[2,-3,-4],[1,1,2],[-2,0,-1],[-2,1,1]]],0)\n",
    "tester_fun(contaColPos,[[[2,-3,-4],[1,1,2],[-2,0,-1],[-1,2,3]]],3)"
   ]
  },
  {
   "cell_type": "markdown",
   "metadata": {},
   "source": [
    "#### Esercizio 2:\n",
    "Scrivere un programma che prende in ingresso una matrice m di caratteri ed una stringa s e conta quante volte la stringa s compare orizzontalmente (da sinistra a destra e da destra a sinistra) nella matrice di caratteri. Ad esempio, se m vale \\[\\['r','c','a','s','a','p'\\],\\['r','c','o','s','a','p'\\],\\['r','f','a','s','a','c'\\]\\] e s vale 'casa', allora la funzione deve restituire 2, poiché 'casa' compare nella riga 0 da sinistra a destra e nella riga 2 da destra a sinistra."
   ]
  },
  {
   "cell_type": "code",
   "execution_count": null,
   "metadata": {},
   "outputs": [],
   "source": [
    "from tester import tester_fun\n",
    "\n",
    "def contaParole(m,s):\n",
    "    #completa il codice\n",
    "\n",
    "tester_fun(contaParole,[[['r','c','a','s','a','p'],['r','c','o','s','a','p'],['r','f','a','s','a','c']],'casa'],2)\n",
    "tester_fun(contaParole,[[['r','c','a','s','a','p'],['r','c','o','s','a','p'],['r','f','a','s','a','c'],['c','a','s','a','c','f']],'casa'],3)"
   ]
  },
  {
   "cell_type": "markdown",
   "metadata": {},
   "source": [
    "#### Esercizio 3:\n",
    "Scrivere un programma che prende in ingresso una matrice m di caratteri ed una stringa s e conta quante volte la stringa s compare verticalmente (dall'alto verso il basso e dal basso verso l'alto) nella matrice di caratteri. Ad esempio, se m vale \\[\\['r','c','a','s','a','p'\\],\\['r','a','o','s','a','p'\\],\\['r','s','a','s','a','c'\\],\\['r','a','a','s','a','c'\\]\\]\n",
    "e s vale 'casa', allora la funzione deve restituire 1, poiché 'casa' compare solo nella colonna 1."
   ]
  },
  {
   "cell_type": "code",
   "execution_count": null,
   "metadata": {},
   "outputs": [],
   "source": [
    "from tester import tester_fun\n",
    "\n",
    "def contaParoleV(m,s):\n",
    "    #completa il codice\n",
    "\n",
    "tester_fun(contaParoleV,[[['r','c','a','s','a','p'],['r','a','o','s','a','p'],['r','s','a','s','a','c'],['r','a','a','s','a','c']],'casa'],1)\n",
    "tester_fun(contaParoleV,[[['r','c','a','s','a','p'],['r','a','o','s','s','p'],['r','s','a','s','a','c'],['c','a','s','a','c','f']],'casa'],2)"
   ]
  },
  {
   "cell_type": "markdown",
   "metadata": {},
   "source": [
    "#### Esercizio 4:\n",
    "Scrivere un programma che prende in ingresso una matrice m di stringhe e conta quante righe hanno la proprietà che tutte le stringhe della riga hanno almeno un carattere in comune. Ad esempio, se m vale \\[\\['casa','collo','paese'\\],\\['ramo','ancora','orto'\\],\\['remo','sella','palco'\\]\\] allora la funzione deve restituire 1, poiché solo la riga 1 ha almeno un carattere comune, cioè la 'o'.\n",
    "**Suggerimento:** possono essere molto comodi gli insiemi e le loro operazioni."
   ]
  },
  {
   "cell_type": "code",
   "execution_count": null,
   "metadata": {},
   "outputs": [],
   "source": [
    "from tester import tester_fun\n",
    "\n",
    "def contaRigheCom(m):\n",
    "    # Inserite il vostro codice      \n",
    "\n",
    "tester_fun(contaRigheCom,[[['casa','collo','paese'],['ramo','ancora','orto'],['remo','sella','palco']]],1)\n",
    "tester_fun(contaRigheCom,[[['casa','collo','paese'],['ramo','ancora','orto'],['remo','sella','palco'],['palla','sella','pollo']]],2)"
   ]
  }
 ],
 "metadata": {
  "kernelspec": {
   "display_name": "Python 3",
   "language": "python",
   "name": "python3"
  },
  "language_info": {
   "codemirror_mode": {
    "name": "ipython",
    "version": 3
   },
   "file_extension": ".py",
   "mimetype": "text/x-python",
   "name": "python",
   "nbconvert_exporter": "python",
   "pygments_lexer": "ipython3",
   "version": "3.7.4"
  }
 },
 "nbformat": 4,
 "nbformat_minor": 4
}
