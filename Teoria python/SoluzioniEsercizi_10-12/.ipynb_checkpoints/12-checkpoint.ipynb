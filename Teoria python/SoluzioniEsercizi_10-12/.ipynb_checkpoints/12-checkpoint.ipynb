{
 "cells": [
  {
   "cell_type": "markdown",
   "metadata": {
    "slideshow": {
     "slide_type": "slide"
    }
   },
   "source": [
    "#### Autori: Domenico Lembo, Giuseppe Santucci and Marco Schaerf\n",
    "\n",
    "[Dipartimento di Ingegneria informatica, automatica e gestionale](https://www.diag.uniroma1.it)\n",
    "\n",
    "<img src=\"https://mirrors.creativecommons.org/presskit/buttons/88x31/png/by-nc-sa.eu.png\"\n",
    "     alt=\"License\"\n",
    "     style=\"float: left;\"\n",
    "     height=\"40\" width=\"100\" />\n",
    "This notebook is distributed with license Creative Commons *CC BY-NC-SA*"
   ]
  },
  {
   "cell_type": "markdown",
   "metadata": {},
   "source": [
    "### Soluzioni degli esercizi della sezione 12Dizionari"
   ]
  },
  {
   "cell_type": "markdown",
   "metadata": {},
   "source": [
    "### Esercizio 1:\n",
    "Scrivere una funzione che riceve in input il nome di un file csv contenente informazioni sulle persone e su gli importi (interi) che hanno guadagnato nell'ultimo trimestre (cioè ogni riga contiene una coppia nel formato Nome,Importo) e restituisce un dizionario contenente per ogni persona il totale guadagnato nel trimestre. Assumere che il file sia ben formato (non ci sono righe con meno di due elementi e gli importi sono sempre intepretabili come interi) oppure sia vuoto. In questo caso al funzione deve restituire un dizionario vuoto."
   ]
  },
  {
   "cell_type": "code",
   "execution_count": 1,
   "metadata": {
    "scrolled": true
   },
   "outputs": [
    {
     "name": "stdout",
     "output_type": "stream",
     "text": [
      "Test funzione: sommaImporti \n",
      "\n",
      "Input funzione: 'importi1.csv' \n",
      "\n",
      "Output atteso:\n",
      " {'Mario': 23, 'Giorgio': 15, 'Michela': 37} \n",
      "\n",
      "----- print interne funzione -----\n",
      "\n",
      "----------------------------------\n",
      "\n",
      "Output ottenuto:\n",
      " {'Mario': 23, 'Giorgio': 15, 'Michela': 37} \n",
      "\n",
      "Risultato Test: POSITIVO\n",
      "\n",
      "******************************\n",
      "\n",
      "Test funzione: sommaImporti \n",
      "\n",
      "Input funzione: 'importi2.csv' \n",
      "\n",
      "Output atteso:\n",
      " {'Alberto': 45, 'Mario': 13, 'Giorgio': 15, 'Michela': 37} \n",
      "\n",
      "----- print interne funzione -----\n",
      "\n",
      "----------------------------------\n",
      "\n",
      "Output ottenuto:\n",
      " {'Alberto': 45, 'Mario': 13, 'Giorgio': 15, 'Michela': 37} \n",
      "\n",
      "Risultato Test: POSITIVO\n",
      "\n",
      "******************************\n",
      "\n",
      "Test funzione: sommaImporti \n",
      "\n",
      "Input funzione: 'vuoto.csv' \n",
      "\n",
      "Output atteso:\n",
      " {} \n",
      "\n",
      "----- print interne funzione -----\n",
      "\n",
      "----------------------------------\n",
      "\n",
      "Output ottenuto:\n",
      " {} \n",
      "\n",
      "Risultato Test: POSITIVO\n",
      "\n",
      "******************************\n",
      "\n"
     ]
    },
    {
     "data": {
      "text/plain": [
       "1"
      ]
     },
     "execution_count": 1,
     "metadata": {},
     "output_type": "execute_result"
    }
   ],
   "source": [
    "from tester import tester_fun\n",
    "\n",
    "def sommaImporti(file):\n",
    "    f=open(file,\"r\",encoding=\"UTF-8\")\n",
    "    d ={}\n",
    "    f.readline()\n",
    "    for riga in f:\n",
    "        riga=riga.strip().split(',')\n",
    "        d[riga[0]]=d.get(riga[0],0)+int(riga[1])\n",
    "    return d\n",
    "\n",
    "tester_fun(sommaImporti,[\"importi1.csv\"],{'Mario': 23, 'Giorgio': 15, 'Michela': 37} )\n",
    "tester_fun(sommaImporti,[\"importi2.csv\"],{'Alberto': 45, 'Mario': 13, 'Giorgio': 15, 'Michela': 37})\n",
    "tester_fun(sommaImporti,[\"vuoto.csv\"],{} )"
   ]
  },
  {
   "cell_type": "markdown",
   "metadata": {},
   "source": [
    "### Esercizio 2: \n",
    "Scrivere una funzione che prende in ingresso il nome di un file con le indicazioni delle altezze di un gruppo di persone misurate in vari momenti di tempo e restituisce un dizionario con chiavi i nomi delle persone e valori le liste delle loro altezze (nell'ordine in cui sono trovate nel file). Se il file letto in input è vuoto, la funzione deve restituire un dizionario vuoto."
   ]
  },
  {
   "cell_type": "code",
   "execution_count": 2,
   "metadata": {
    "scrolled": true
   },
   "outputs": [
    {
     "name": "stdout",
     "output_type": "stream",
     "text": [
      "Test funzione: creaDizionarioAltezze \n",
      "\n",
      "Input funzione: 'altezze.csv' \n",
      "\n",
      "Output atteso:\n",
      " {'Marco': ['1.50', '1.55', '1.66', '1.74'], 'Lucio': ['1.60', '1.65', '1.75', '1.76'], 'Giovanni': ['1.45', '1.49', '1.58', '1.70']} \n",
      "\n",
      "----- print interne funzione -----\n",
      "\n",
      "----------------------------------\n",
      "\n",
      "Output ottenuto:\n",
      " {'Marco': ['1.50', '1.55', '1.66', '1.74'], 'Lucio': ['1.60', '1.65', '1.75', '1.76'], 'Giovanni': ['1.45', '1.49', '1.58', '1.70']} \n",
      "\n",
      "Risultato Test: POSITIVO\n",
      "\n",
      "******************************\n",
      "\n",
      "Test funzione: creaDizionarioAltezze \n",
      "\n",
      "Input funzione: 'vuoto.csv' \n",
      "\n",
      "Output atteso:\n",
      " {} \n",
      "\n",
      "----- print interne funzione -----\n",
      "\n",
      "----------------------------------\n",
      "\n",
      "Output ottenuto:\n",
      " {} \n",
      "\n",
      "Risultato Test: POSITIVO\n",
      "\n",
      "******************************\n",
      "\n",
      "La funzione creaDizionarioAltezze ha superato 2 test\n"
     ]
    }
   ],
   "source": [
    "from tester import tester_fun\n",
    "\n",
    "def creaDizionarioAltezze(file):\n",
    "    f=open(file,encoding=\"UTF-8\")\n",
    "    d={}\n",
    "    nomi=f.readline().strip() \n",
    "    if len(nomi)==0:            \n",
    "         return d # file vuoto    \n",
    "    primariga=nomi.split(',')\n",
    "    for e in primariga: #inizializzo il dizionario (i valori sono tutti [])\n",
    "        d[e]=[]\n",
    "    for riga in f:\n",
    "        riga=riga.strip().split(',')\n",
    "        for i in range(len(riga)):\n",
    "            d[primariga[i]].append(riga[i])\n",
    "    f.close()\n",
    "    return d\n",
    "\n",
    "counter_test_positivi = 0\n",
    "\n",
    "counter_test_positivi += tester_fun(creaDizionarioAltezze, ['altezze.csv'],{'Marco': ['1.50', '1.55', '1.66', '1.74'], 'Lucio': ['1.60', '1.65', '1.75', '1.76'], 'Giovanni': ['1.45', '1.49', '1.58', '1.70']})\n",
    "counter_test_positivi += tester_fun(creaDizionarioAltezze, ['vuoto.csv'],{})\n",
    "\n",
    "print('La funzione',creaDizionarioAltezze.__name__,'ha superato',counter_test_positivi,'test')\n"
   ]
  },
  {
   "cell_type": "markdown",
   "metadata": {},
   "source": [
    "### Esercizio 3: \n",
    "Scrivere un funzione che prende in ingresso il nome del file con tutti i voti presi agli esami da un gruppo di studenti e calcola l'elenco di tutti gli studenti che hanno preso almeno 27 a tutti i loro esami. L'elenco restituito deve essere in ordine alfabetico. Si può assumere che righe ben formate (sempre 3 valori separati da virgole - il terzo valore è sempre interpretabile come intero)."
   ]
  },
  {
   "cell_type": "code",
   "execution_count": 3,
   "metadata": {},
   "outputs": [
    {
     "name": "stdout",
     "output_type": "stream",
     "text": [
      "Test funzione: voti \n",
      "\n",
      "Input funzione: 'esami1.csv' \n",
      "\n",
      "Output atteso:\n",
      " ['Giovanni', 'Maria'] \n",
      "\n",
      "----- print interne funzione -----\n",
      "\n",
      "----------------------------------\n",
      "\n",
      "Output ottenuto:\n",
      " ['Giovanni', 'Maria'] \n",
      "\n",
      "Risultato Test: POSITIVO\n",
      "\n",
      "******************************\n",
      "\n",
      "Test funzione: voti \n",
      "\n",
      "Input funzione: 'esami2.csv' \n",
      "\n",
      "Output atteso:\n",
      " ['Giovanni', 'Maria', 'Mario'] \n",
      "\n",
      "----- print interne funzione -----\n",
      "\n",
      "----------------------------------\n",
      "\n",
      "Output ottenuto:\n",
      " ['Giovanni', 'Maria', 'Mario'] \n",
      "\n",
      "Risultato Test: POSITIVO\n",
      "\n",
      "******************************\n",
      "\n"
     ]
    },
    {
     "data": {
      "text/plain": [
       "1"
      ]
     },
     "execution_count": 3,
     "metadata": {},
     "output_type": "execute_result"
    }
   ],
   "source": [
    "from tester import tester_fun\n",
    "\n",
    "def voti(file):\n",
    "    f = open(file,\"r\",encoding=\"UTF-8\")\n",
    "    f.readline() # consuma la prima riga\n",
    "    d = {}\n",
    "    for riga in f:\n",
    "        tripla = riga.strip().split(',')\n",
    "        nome = tripla[0].strip()\n",
    "        esame = tripla[1].strip()\n",
    "        voto = int(tripla[2])\n",
    "        if nome in d:\n",
    "            d[nome].append([esame,voto])\n",
    "        else:\n",
    "            d[nome] = [[esame,voto]]\n",
    "    l = []\n",
    "    for n in d:\n",
    "        listaEsami = d[n]\n",
    "        ok = True\n",
    "        for esame in listaEsami:\n",
    "            if esame[1] < 27: # \n",
    "                ok = False\n",
    "        if ok:\n",
    "            l.append(n)\n",
    "    l.sort()\n",
    "    return l\n",
    "\n",
    "tester_fun(voti,['esami1.csv'],['Giovanni', 'Maria'])\n",
    "tester_fun(voti,['esami2.csv'],['Giovanni', 'Maria', 'Mario'] )"
   ]
  },
  {
   "cell_type": "markdown",
   "metadata": {},
   "source": [
    "### Esercizio 4\n",
    "**Gestione di una rubrica telefonica** (esercizio complesso) Data una rubrica dei propri contatti nel formato usato da Google (vedi esempio [rubricaGoogle.csv](rubricaGoogle.csv)), discutere come sia meglio memorizzarla e poi scrivere una funzione che preso in ingresso il nome del file in cui è memorizzata la rubrica, una stringa `s` (parte del nome) ed il nome `n` di un campo, restituisce la lista di coppie [nome completo, valore del campo `n`] per tutti i contatti il cui nome contiene la stringa `s`."
   ]
  },
  {
   "cell_type": "code",
   "execution_count": 4,
   "metadata": {},
   "outputs": [
    {
     "name": "stdout",
     "output_type": "stream",
     "text": [
      "Test funzione: infoContatto \n",
      "\n",
      "Input funzione: 'rubricaGoogle.csv', 'Stilton', 'Given Name' \n",
      "\n",
      "Output atteso:\n",
      " [['Geronimo Stilton', 'Geronimo'], ['Tea Stilton', 'Tea']] \n",
      "\n",
      "----- print interne funzione -----\n",
      "\n",
      "----------------------------------\n",
      "\n",
      "Output ottenuto:\n",
      " [['Geronimo Stilton', 'Geronimo'], ['Tea Stilton', 'Tea']] \n",
      "\n",
      "Risultato Test: POSITIVO\n",
      "\n",
      "******************************\n",
      "\n",
      "Test funzione: infoContatto \n",
      "\n",
      "Input funzione: 'rubricaGoogle.csv', 'Mouse', 'Given Name' \n",
      "\n",
      "Output atteso:\n",
      " [['Mickey Mouse', 'Mickey'], ['Minnie Mouse', 'Minnie']] \n",
      "\n",
      "----- print interne funzione -----\n",
      "\n",
      "----------------------------------\n",
      "\n",
      "Output ottenuto:\n",
      " [['Mickey Mouse', 'Mickey'], ['Minnie Mouse', 'Minnie']] \n",
      "\n",
      "Risultato Test: POSITIVO\n",
      "\n",
      "******************************\n",
      "\n",
      "Test funzione: infoContatto \n",
      "\n",
      "Input funzione: 'rubricaGoogle.csv', 'paperino', 'Phone 1 - Value' \n",
      "\n",
      "Output atteso:\n",
      " [['paolino paperino', '+1 1111111']] \n",
      "\n",
      "----- print interne funzione -----\n",
      "\n",
      "----------------------------------\n",
      "\n",
      "Output ottenuto:\n",
      " [['paolino paperino', '+1 1111111']] \n",
      "\n",
      "Risultato Test: POSITIVO\n",
      "\n",
      "******************************\n",
      "\n"
     ]
    },
    {
     "data": {
      "text/plain": [
       "1"
      ]
     },
     "execution_count": 4,
     "metadata": {},
     "output_type": "execute_result"
    }
   ],
   "source": [
    "from tester import tester_fun\n",
    "\n",
    "def infoContatto(file,nome,campo):\n",
    "    f=open(file,\"r\",encoding=\"UTF-8\")\n",
    "    d={}\n",
    "    l=[]  # lista da restituire\n",
    "    campi=f.readline().strip()\n",
    "    if len(campi)==0: \n",
    "        return l\n",
    "    campi=campi.split(',')\n",
    "    riga=f.readline().strip()\n",
    "    while len(riga)>0:\n",
    "        riga=riga.split(',')\n",
    "        if len(riga)==len(campi): #processo solo righe ben formate\n",
    "                d1={} # creo un dizionario per ogni riga con elementi <campo_rubrica:valore_campo_nella riga>\n",
    "                for i in range(1,len(campi)):\n",
    "                    d1[campi[i]]=riga[i]\n",
    "        d[riga[0]]=d1\n",
    "        riga=f.readline().strip()\n",
    "    \n",
    "    for contatto in d: #cerco la chiave che \"contiene\" il nome\n",
    "        if contatto.find(nome)!=-1:\n",
    "            l.append([contatto,d[contatto][campo]])\n",
    "    return l\n",
    "\n",
    "# soluzione che non crea un dizionario per la rubrica\n",
    "# meno generalizzabile, ma più semplice\n",
    "\n",
    "def infoContatto(file,nome,campo):\n",
    "    f=open(file,\"r\",encoding=\"UTF-8\")\n",
    "    l=[]\n",
    "    campi=f.readline().strip()\n",
    "    if len(campi)==0: \n",
    "        return l\n",
    "    campi=campi.split(',')\n",
    "    riga=f.readline().strip()\n",
    "    while len(riga)>0:\n",
    "        riga=riga.split(',')\n",
    "        if len(riga)==len(campi): #processo solo righe ben formate\n",
    "            if riga[0].find(nome)!=-1: # ho trovato il nome\n",
    "                index = campi.index(campo) # i campi hanno tutti nomi diversi\n",
    "                l.append([riga[0],riga[index]])\n",
    "        riga=f.readline().strip()\n",
    "    return l\n",
    "\n",
    "\n",
    "\n",
    "tester_fun(infoContatto,[\"rubricaGoogle.csv\",\"Stilton\",\"Given Name\"],[['Geronimo Stilton', 'Geronimo'], ['Tea Stilton', 'Tea']])\n",
    "tester_fun(infoContatto,[\"rubricaGoogle.csv\",\"Mouse\",\"Given Name\"],[['Mickey Mouse', 'Mickey'], ['Minnie Mouse', 'Minnie']])\n",
    "tester_fun(infoContatto,[\"rubricaGoogle.csv\",\"paperino\",\"Phone 1 - Value\"],[['paolino paperino', '+1 1111111']])\n"
   ]
  },
  {
   "cell_type": "code",
   "execution_count": null,
   "metadata": {},
   "outputs": [],
   "source": []
  }
 ],
 "metadata": {
  "kernelspec": {
   "display_name": "Python 3",
   "language": "python",
   "name": "python3"
  },
  "language_info": {
   "codemirror_mode": {
    "name": "ipython",
    "version": 3
   },
   "file_extension": ".py",
   "mimetype": "text/x-python",
   "name": "python",
   "nbconvert_exporter": "python",
   "pygments_lexer": "ipython3",
   "version": "3.7.4"
  }
 },
 "nbformat": 4,
 "nbformat_minor": 4
}
