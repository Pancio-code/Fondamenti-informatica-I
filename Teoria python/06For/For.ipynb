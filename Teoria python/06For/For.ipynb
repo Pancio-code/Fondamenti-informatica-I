{
 "cells": [
  {
   "cell_type": "markdown",
   "metadata": {
    "slideshow": {
     "slide_type": "slide"
    }
   },
   "source": [
    "#### Autori: Domenico Lembo, Giuseppe Santucci and Marco Schaerf\n",
    "\n",
    "[Dipartimento di Ingegneria informatica, automatica e gestionale](https://www.diag.uniroma1.it)\n",
    "\n",
    "<img src=\"https://mirrors.creativecommons.org/presskit/buttons/88x31/png/by-nc-sa.eu.png\"\n",
    "     alt=\"License\"\n",
    "     style=\"float: left;\"\n",
    "     height=\"40\" width=\"100\" />\n",
    "This notebook is distributed with license Creative Commons *CC BY-NC-SA*"
   ]
  },
  {
   "cell_type": "markdown",
   "metadata": {},
   "source": [
    "# Ciclo For\n",
    "1. Istruzione For\n",
    "2. Funzione `range()`\n",
    "3. Primi esempi di ciclo for\n",
    "    + 3.1. Esempio: uso for per stampa mesi dell'anno\n",
    "    + 3.2. Esempio: leggere stringa e calcolare la somma dei codici Unicode dei caratteri\n",
    "4. Conversioni di base\n",
    "    + 4.1. Conversione da binario a decimale\n",
    "    + 4.2. Esempio: conversione da base 2-10 a base 10\n",
    "5. Ciclo sui caratteri di una stringa (indice o carattere)\n",
    "    + 5.1. Esempio: stampa dei caratteri di una stringa in ordine inverso\n",
    "6. Disegni di semplici figure geometriche    \n",
    "    + 6.2. Esempio: Disegno di un quadrato pieno\n",
    "    + 6.3. Esempio: Disegno di un triangolo rettangolo isoscele\n",
    "7. Doppi cicli\n",
    "    + 6.1. Esempio: Disegno di un quadrato pieno con un doppio ciclo\n",
    "8. Esercizi"
   ]
  },
  {
   "cell_type": "markdown",
   "metadata": {},
   "source": [
    "### Istruzione For\n",
    "Python mette a disposizione un'altra istruzione di ciclo oltre al `while` per effettuare una ripetizione di istruzioni, l'istruzione `for`. La differenza fondamentale tra il `for` ed il `while` è che il `for` è più adatto quando sappiamo a priori quante ripetizioni del ciclo faremo (cioè quando il ciclo è definito), mentre il `while` è più adatto quando non sappiamo il numero di ripetizioni.\n",
    "\n",
    "L'istruzione `for` ha la seguente struttura in Python, dove `i` è una variabile, detta variabile di ciclo. Il nome della variabile non è fisso, lo scegliamo noi:\n",
    "\n",
    "```python\n",
    "for i in sequenza_di_valori:\n",
    "    istruzione1\n",
    "    istruzione2\n",
    "    ..\n",
    "    istruzionen\n",
    "```\n",
    "L'esecuzione avviene nel seguente modo: La variabile `i` assume il primo valore della sequenza_di_valori e vengono eseguite tutte le istruzioni da 1 a n. Poi la variabile `i` assume il secondo valore della sequenza_di_valori e vengono eseguite tutte le istruzioni da 1 a n, e così via fino a che la `i` assume l'ultimo valore della sequenza_di_valori, vengono eseguite un'ultima volte tutte le istruzioni ed il ciclo `for` termina."
   ]
  },
  {
   "cell_type": "markdown",
   "metadata": {},
   "source": [
    "### Funzione `range()` ed elenchi valori\n",
    "Prima di vedere un'esempio di ciclo `for`, vediamo quali sono i modi più comuni di definire un insieme di valori da poter poi usare nel `for`. La funzione più frequentemente usata è la funzione `range()` che permette di generare insiemi di numeri. Se usiamo la funzione con un solo parametro  `n` (`range(n)`) esso genera l'insieme di tutti i numeri naturali da `0` (incluso) ad `n` (escluso). `range(n1,n2)` invece genera l'insieme di tutti i numeri naturali da `n1` (incluso) ad `n2` (escluso). Un'ultima variante prevede di specificare 3 parametri, in cui il primo è il valore iniziale (incluso), il secondo il valore finale (escluso) ed il terzo è il passo (step) usato per andare dal valore inziale a quello finale.\n",
    "\n",
    "L'insieme dei valori in Python può anche essere una stringa oppure essere esplicitamente indicato con la notazione `[valore1, valore2, valore3, ... valoren]`. Questa in Python si chiama lista e la vedremo in dettaglio più avanti nel corso. Ci sono anche altri modi in Python di denotare un insieme di valori. Anche questi li vedremo più avanti nel corso.\n",
    "\n",
    "Per visualizzare in modo più intuitivo l'insieme di valori generato dalla funzione `range()` lo convertiremo in una lista con la funzione `list()`"
   ]
  },
  {
   "cell_type": "code",
   "execution_count": null,
   "metadata": {},
   "outputs": [],
   "source": [
    "print(range(5))\n",
    "print(list(range(5)))\n",
    "print(list(range(2,7)))\n",
    "print(list(range(2,9,2)))\n",
    "x = [2, 3, 5 , 'casa']\n",
    "print(x)\n",
    "print(list(range(9,2,-1)))"
   ]
  },
  {
   "cell_type": "markdown",
   "metadata": {},
   "source": [
    "### Primi esempi di ciclo for\n",
    "Vediamo ora alcuni esempi per capire come usare il ciclo `for` su diversi insiemi di valori"
   ]
  },
  {
   "cell_type": "code",
   "execution_count": null,
   "metadata": {},
   "outputs": [],
   "source": [
    "s=\"pasta\"\n",
    "\n",
    "for i in range(len(s)):\n",
    "    print(s[i])\n"
   ]
  },
  {
   "cell_type": "markdown",
   "metadata": {},
   "source": [
    "#### Esempio: uso for per stampa mesi dell'anno\n"
   ]
  },
  {
   "cell_type": "code",
   "execution_count": null,
   "metadata": {},
   "outputs": [],
   "source": [
    "for s in [\"gennaio\", \"febbraio\", \"marzo\", \"aprile\",\"maggio\",\n",
    "          \"giugno\",\"luglio\",\"agosto\",\"settembre\",\"ottobre\",\n",
    "          \"novembre\",\"dicembre\"]:\n",
    "    print(s)"
   ]
  },
  {
   "cell_type": "markdown",
   "metadata": {},
   "source": [
    "#### Esempio: leggere stringa e calcolare la somma dei codici Unicode dei caratteri\n"
   ]
  },
  {
   "cell_type": "code",
   "execution_count": null,
   "metadata": {},
   "outputs": [],
   "source": [
    "s=input(\"inserisci una stringa: \")\n",
    "somma=0\n",
    "for i in range(len(s)):\n",
    "    somma=somma+ord(s[i])\n",
    "    print(s[i],ord(s[i]))\n",
    "print(\"somma=\",somma) "
   ]
  },
  {
   "cell_type": "markdown",
   "metadata": {},
   "source": [
    "### Conversioni di base"
   ]
  },
  {
   "cell_type": "markdown",
   "metadata": {},
   "source": [
    "#### Conversione da binario a decimale\n",
    "Il seguente programma legge una stringa composta dai caratteri '0' e '1' e calcola il numero decimale corrispondente"
   ]
  },
  {
   "cell_type": "code",
   "execution_count": null,
   "metadata": {},
   "outputs": [],
   "source": [
    "s=input(\"inserisci una stringa corrispondente a un binario: \")\n",
    "valore=0\n",
    "potenza=len(s)-1\n",
    "for c in s:\n",
    "    valore=valore+int(c)*2**potenza\n",
    "    potenza=potenza-1\n",
    "print(s,\"vale\",valore)"
   ]
  },
  {
   "cell_type": "markdown",
   "metadata": {},
   "source": [
    "#### Esempio: conversione da base 2-16 a base 10\n",
    "Scrivere un programma che prende in input una base (tra 2 e 16) ed un numerale in quella base e restituisce il numero decimale corrispondente. Usare il ciclo while per ripetere il programma. "
   ]
  },
  {
   "cell_type": "code",
   "execution_count": null,
   "metadata": {},
   "outputs": [],
   "source": [
    "finito=False\n",
    "while not finito:\n",
    "    \n",
    "    #-----------\n",
    "    base=int(input(\"inserisci la base (2..16): \"))\n",
    "    s=input(\"inserisci un numerale in base \"+str(base)+\": \")\n",
    "    valore=0\n",
    "    potenza=len(s)-1\n",
    "    for c in s:\n",
    "        if c in \"ABCDEF\":\n",
    "            valore=valore+(ord(c)-ord(\"A\")+10)*base**potenza\n",
    "        else:    \n",
    "            valore=valore+int(c)*base**potenza\n",
    "        potenza=potenza-1\n",
    "    print(s,\"vale\",valore)\n",
    "    #------------\n",
    "    s1=input(\"----Finisco (si/no)? \")\n",
    "    finito=s1.lower()==\"si\""
   ]
  },
  {
   "cell_type": "markdown",
   "metadata": {},
   "source": [
    "### Ciclo sui caratteri di una stringa (indice o carattere)\n",
    "Come abbiamo già visto, è possibile effettuare un ciclo `for` che scandisce tutti i caratteri di una stringa in 2 modi diversi, con un ciclo sugli indici oppure con un ciclo sui caratteri. Vediamo differenze, vantaggi e svantaggi delle 2 soluzioni.\n",
    "\n",
    "Vantaggi del ciclo sui caratteri:\n",
    "1. Codice più semplice ed immediato\n",
    "2. Accesso diretto ai caratteri\n",
    "\n",
    "Svantaggi:\n",
    "1. Non conoscenza della posizione dei caratteri\n",
    "2. Difficoltà a scandire in ordine diverso da quello standard"
   ]
  },
  {
   "cell_type": "code",
   "execution_count": null,
   "metadata": {},
   "outputs": [],
   "source": [
    "#scansione stringa tramite accesso diretto ai suoi elementi\n",
    "#ovvero la stringa è una \"sequenza\" di caratteri\n",
    "s=input(\"Inserisci una stringa: \")\n",
    "\n",
    "for c in s:\n",
    "    print(c,\"=\",ord(c))\n",
    "\n",
    "print()\n",
    "    \n",
    "for i in range(len(s)):\n",
    "    print(s[i],\"=\",ord(s[i]))"
   ]
  },
  {
   "cell_type": "markdown",
   "metadata": {},
   "source": [
    "#### Esempio: stampa dei caratteri di una stringa in ordine inverso\n",
    "Scrivere un programma che legge una stringa e stampa i suoi caratteri in ordine inverso"
   ]
  },
  {
   "cell_type": "code",
   "execution_count": null,
   "metadata": {},
   "outputs": [],
   "source": [
    "#stampa dei caratteri di una stringa in ordine inverso\n",
    "#tramite indice. \n",
    "s=input('Inserisci la stringa: ')\n",
    "\n",
    "for i in range(len(s)-1,-1,-1):\n",
    "#genera l'insieme dei valori da len(s) - 1 fino a 0 (-1 escluso)\n",
    "#in ordine decrescente (con passo -1)\n",
    "    print(s[i])"
   ]
  },
  {
   "cell_type": "markdown",
   "metadata": {},
   "source": [
    "### Disegni di semplici figure geometriche"
   ]
  },
  {
   "cell_type": "markdown",
   "metadata": {},
   "source": [
    "#### Esempio: Disegno di un quadrato pieno\n",
    "Scrivere un programma che prende in input un numero positivo n e stampa sullo schermo un quadrato di lato n di caratteri $*$"
   ]
  },
  {
   "cell_type": "code",
   "execution_count": null,
   "metadata": {},
   "outputs": [],
   "source": [
    "#stampa quadrato\n",
    "l=int(input(\"inserisci lato del quadrato: \"))\n",
    "\n",
    "for i in range(l):\n",
    "    print(\"*\"*l)\n",
    "    \n",
    "# versione senza uso del ciclo\n",
    "# print(('*'*l+'\\n')*l)"
   ]
  },
  {
   "cell_type": "markdown",
   "metadata": {},
   "source": [
    "#### Esempio: disegno triangolo isoscele\n",
    "Scrivere un programma che prende in input un numero positivo n e stampa sullo schermo un triangolo rettangolo isoscele con i cateti di lunghezza n e riempito con il carattere $*$"
   ]
  },
  {
   "cell_type": "code",
   "execution_count": null,
   "metadata": {},
   "outputs": [],
   "source": [
    "#stampa triangolo rettangolo\n",
    "ht=int(input(\"inserisci altezza triangolo: \"))\n",
    "\n",
    "for i in range(ht):  \n",
    "    print(\"*\"*(i+1))"
   ]
  },
  {
   "cell_type": "markdown",
   "metadata": {},
   "source": [
    "### Cicli annidati\n",
    "In molte situazioni abbiamo bisogno che un'istruzione di ciclo (`while` o `for`) venga a sua volta ripetuta più volte. Questo è chiaramente possibile ed in questo caso si parla di cicli annidati. Si possono annidare i cicli quante volte si vuole ed i cicli possono essere di tipi diversi, ad esempio un ciclo `while` all'interno di un ciclo `for` all'interno di un altro ciclo `for` (notate che un primo esempio di ciclo (for) annidato (in un while) lo abbiamo visto nell'esempio conversione da base 2-16 a base 10). Vediamo ora come esempio la stampa a schermo della tabellina delle moltiplicazioni dei numeri da 1 a 10."
   ]
  },
  {
   "cell_type": "code",
   "execution_count": null,
   "metadata": {
    "scrolled": true
   },
   "outputs": [],
   "source": [
    "for i in range(1,11):\n",
    "    for j in range(1,11):\n",
    "        print(i*j, end='\\t') # In questo modo, dopo aver stampato un numero invece di andare a riga nuova inserisce un tab ('\\t')\n",
    "    print() # Dopo aver completato ogni ciclo della variabile j va a riga nuova"
   ]
  },
  {
   "cell_type": "markdown",
   "metadata": {},
   "source": [
    "#### Esempio: Disegno di un quadrato pieno con un doppio ciclo\n",
    "Risolviamo l'esercizio visto in precedenza usando un doppio ciclo for, in cui ad ogni passo stampiamo un solo carattere"
   ]
  },
  {
   "cell_type": "code",
   "execution_count": null,
   "metadata": {},
   "outputs": [],
   "source": [
    "#stampa quadrato\n",
    "l=int(input(\"inserisci lato del quadrato: \"))\n",
    "\n",
    "for i in range(l):\n",
    "    for j in range(l):\n",
    "        print(\"*\",end='') # Dopo aver stampato un carattere non va a riga nuova ma continua di seguito (inserisce una stringa vuota)\n",
    "    print() # Dopo aver completato una riga va a riga nuova"
   ]
  },
  {
   "cell_type": "markdown",
   "metadata": {},
   "source": [
    "### Esercizi\n",
    "Completate questi esercizi prima di cominciare il prossimo argomento"
   ]
  },
  {
   "cell_type": "markdown",
   "metadata": {},
   "source": [
    "### Esercizio 1: \n",
    "Scrivere un programma che la somma dei primi m termini della serie armonica, per un dato valore di m letto da input. Si ricorda che la serie armonica ha la seguente formula $\\displaystyle\\sum_{k}^m 1/k$"
   ]
  },
  {
   "cell_type": "code",
   "execution_count": null,
   "metadata": {
    "scrolled": true
   },
   "outputs": [],
   "source": [
    "m=int(input('inserisci un valore: '))\n",
    "\n",
    "for i in range(1,m):\n",
    "      print(1/i)"
   ]
  },
  {
   "cell_type": "markdown",
   "metadata": {},
   "source": [
    "### Esercizio 2:\n",
    "Scrivere un programma Python che stampa a schermo la tabellina di un numero compreso fra 1 e 10 inserito in input dall'utente. Ad esempio, se il numero inserito è 4, il programma deve stampare\n",
    "\n",
    "4 x 1 = 4<br>\n",
    "4 x 2 = 8<br>\n",
    "4 x 3 = 12<br>\n",
    "..."
   ]
  },
  {
   "cell_type": "code",
   "execution_count": null,
   "metadata": {
    "scrolled": true
   },
   "outputs": [],
   "source": [
    "a=int(input('inserire un intero: '))\n",
    "b=1\n",
    "for i in range(1,n):\n",
    "    print(a,'x',i,'=',a*i)\n",
    "   "
   ]
  },
  {
   "cell_type": "markdown",
   "metadata": {},
   "source": [
    "### Esercizio 3:\n",
    "Scrivere un programma che calcoli il valore di un polinomio di grado qualsiasi, $a_nx^n + a_{n-1}x^{n−1} + . . . + a_1 x + a_0$, per un dato valore della variabile $x$. Il programma legge da tastiera il grado del polinomio, il valore di $x$, e i valori dei coefficienti, richiesti all'utente uno alla volta.\n",
    "\n",
    "*Suggerimento*: scrivere un ciclo che chiede un coefficiente alla volta a partire dal termine di grado inferiore ($a_0$) e calcola il risultato parziale del valore del polinomio, accumulandolo in una variabile (che viene incrementata ad ogni iterazione). "
   ]
  },
  {
   "cell_type": "code",
   "execution_count": null,
   "metadata": {},
   "outputs": [],
   "source": []
  },
  {
   "cell_type": "markdown",
   "metadata": {},
   "source": [
    "### Esercizio 4:\n",
    "Scrivere un programma che legge da tastiera un numero in base 2, lo converte in base 8 e stampa a schermo il risultato"
   ]
  },
  {
   "cell_type": "code",
   "execution_count": null,
   "metadata": {},
   "outputs": [],
   "source": [
    "# Si ricorda che per convertire un numero n da base 2 a base 8 \n",
    "# si divide n in gruppi da 3 cifre e si converte ogni gruppo\n",
    "# separatemente. Se in numero non ha un numero di cifre divisibile per 3\n",
    "# si aggiungono degli 0 iniziali, fino ad arrivare ad un numero \n",
    "# di cifre divisibile per 3\n"
   ]
  },
  {
   "cell_type": "markdown",
   "metadata": {},
   "source": [
    "### Esercizio 5:\n",
    "Scrivere un programma che legge una stringa e trova il carattere della stringa il cui codice Unicode sia minimo e lo stampa a schermo. Fornire una soluzione sia con ciclo sui caratteri che sulle posizioni"
   ]
  },
  {
   "cell_type": "code",
   "execution_count": null,
   "metadata": {},
   "outputs": [],
   "source": []
  },
  {
   "cell_type": "markdown",
   "metadata": {},
   "source": [
    "### Esercizio 6:\n",
    "Scrivere un programma che stampa di seguito più quadrati, ognuno con la sua dimensione letta da input. Il programma deve terminare quando viene inserito come dimensione il valore 0 (in altri termini, il programma acquisisce ripetutamente da input la dimensione n e stampa il quadrato di dimensione n. Se n=0, il programma termina)"
   ]
  },
  {
   "cell_type": "code",
   "execution_count": null,
   "metadata": {},
   "outputs": [],
   "source": []
  },
  {
   "cell_type": "code",
   "execution_count": null,
   "metadata": {},
   "outputs": [],
   "source": []
  }
 ],
 "metadata": {
  "kernelspec": {
   "display_name": "Python 3",
   "language": "python",
   "name": "python3"
  },
  "language_info": {
   "codemirror_mode": {
    "name": "ipython",
    "version": 3
   },
   "file_extension": ".py",
   "mimetype": "text/x-python",
   "name": "python",
   "nbconvert_exporter": "python",
   "pygments_lexer": "ipython3",
   "version": "3.7.4"
  }
 },
 "nbformat": 4,
 "nbformat_minor": 4
}
