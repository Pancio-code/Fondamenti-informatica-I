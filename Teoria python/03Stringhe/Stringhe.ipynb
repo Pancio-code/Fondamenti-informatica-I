{
 "cells": [
  {
   "cell_type": "markdown",
   "metadata": {
    "slideshow": {
     "slide_type": "slide"
    }
   },
   "source": [
    "#### Autori: Domenico Lembo, Giuseppe Santucci and Marco Schaerf\n",
    "\n",
    "[Dipartimento di Ingegneria informatica, automatica e gestionale](https://www.diag.uniroma1.it)\n",
    "\n",
    "<img src=\"https://mirrors.creativecommons.org/presskit/buttons/88x31/png/by-nc-sa.eu.png\"\n",
    "     alt=\"License\"\n",
    "     style=\"float: left;\"\n",
    "     height=\"40\" width=\"100\" />\n",
    "This notebook is distributed with license Creative Commons *CC BY-NC-SA*"
   ]
  },
  {
   "cell_type": "markdown",
   "metadata": {},
   "source": [
    "# Stringhe\n",
    "1. Caratteri speciali (Escape characters)\n",
    "5. Accesso al singolo carattere di una stringa\n",
    "6. Funzioni e metodi su stringhe (`len()`, `lower()`, `upper()`, `count()`, `find()`, `rfind()`, `replace()`, `str()`)\n",
    "7. Funzioni `ord()` e `chr()`\n",
    "1. Slicing di stringhe\n",
    "2. Uso avanzato di replace\n",
    "3. Non modificabilità delle stringhe"
   ]
  },
  {
   "cell_type": "markdown",
   "metadata": {},
   "source": [
    "### Caratteri speciali in Python (escape characters)\n",
    "In Python ci sono alcuni caratteri speciali *non stampabili* ma che corrispondono a comandi di impaginazione. Essi sono rappresentati internamente come singoli caratteri, ma vengono denotati da una sequenza che inizia con il simbolo \\ (backslash). I più comunemente utilizzati sono:\n",
    "\n",
    "* `\\n` Newline, quando stampato provoca l'andata a riga nuova\n",
    "* `\\t` Tab, quando stampato provoca l'inserimento di spazi (tabulazione)\n",
    "* `\\b` Backspace, quando stampato provoca la cancellazione del carattere precedente, denotato anche come `\\x08` \n",
    "\n",
    "Ci sono poi delle sequenze particolari che servono per denotare caratteri o situazioni speciali, ma che NON sono rappresentati come caratteri nella tabella UNICODE:\n",
    "\n",
    "* `\\`  Indica la continuazione della riga, quando si va a capo\n",
    "* `\\'` Serve per stampare il carattere ' (che altrimenti verrebbe interpretato come inizio stringa)\n",
    "* `\\\"` Serve per stampare il carattere \" (che altrimenti verrebbe interpretato come inizio stringa)\n",
    "* `\\\\` Serve per stampare il carattere \\ (che altrimenti verrebbe interpretato come inizio carattere speciale)"
   ]
  },
  {
   "cell_type": "code",
   "execution_count": null,
   "metadata": {},
   "outputs": [],
   "source": [
    "x = 'prima \\\n",
    "prova\\b \\n\\n\\t riga nuova con tabulazione e caratteri speciali \\', \\\" e \\\\'\n",
    "x"
   ]
  },
  {
   "cell_type": "markdown",
   "metadata": {},
   "source": [
    "Notate che per queste stringhe, si ottiene un risultato diverso se visualizziamo il valore della variabile (come sopra) oppure lo stampiamo con la funzione print(), come sotto. Nel primo caso i caratteri speciali sono presenti nella stringa, nel secondo vengono eseguiti, ma non compaiono più."
   ]
  },
  {
   "cell_type": "code",
   "execution_count": null,
   "metadata": {},
   "outputs": [],
   "source": [
    "x = 'prima \\\n",
    "prova\\b \\n\\n\\t riga nuova con tabulazione e caratteri speciali \\', \\\" e \\\\'\n",
    "print(x)"
   ]
  },
  {
   "cell_type": "markdown",
   "metadata": {},
   "source": [
    "### Accesso al singolo carattere di una stringa\n",
    "In Python le stringhe sono delle sequenze di caratteri ed ogni carattere della stringa è caratterizzato dalla sua posizione nella stringa. Ad esempio, nel caso della stringa s = 'palla':\n",
    "\n",
    "p|a|l|l|a\n",
    "---|---|---|---|---\n",
    "0|1|2|3|4\n",
    "\n",
    "abbiamo una stringa composta di 5 caratteri, le cui posizioni vanno da 0 a 4. Se si vuole accedere ad un singolo carattere (ad esempio in posizione 1) della stringa la notazione è s[1]."
   ]
  },
  {
   "cell_type": "code",
   "execution_count": null,
   "metadata": {},
   "outputs": [],
   "source": [
    "s = 'palla'\n",
    "s[1]"
   ]
  },
  {
   "cell_type": "markdown",
   "metadata": {},
   "source": [
    "Se proviamo ad accedere ad una posizione non presente nella stringa otteniamo un errore"
   ]
  },
  {
   "cell_type": "code",
   "execution_count": null,
   "metadata": {},
   "outputs": [],
   "source": [
    "s = 'palla'\n",
    "s[5]"
   ]
  },
  {
   "cell_type": "markdown",
   "metadata": {},
   "source": [
    "### Funzioni e metodi su stringhe\n",
    "Sulle stringhe ci sono molte funzioni (e metodi) già definite. I metodi sono funzioni speciali (funzioni delle classi) che si usano in modo leggermente diverso, come vedremo negli esempi successivi.\n",
    "\n",
    "#### funzione `len()`\n",
    "La funzione `len()` applicata ad una stringa restituisce la lunghezza della stringa (numero di caratteri, i caratteri speciali contano anche loro 1). Ad esempio, l'istruzione\n",
    "\n",
    "`len('palla')`\n",
    "\n",
    "restituisce `5`. Ovviamente, se la stringa in input è vuota, cioè eseguiamo `len('')`, la funzione restituisce `0`"
   ]
  },
  {
   "cell_type": "code",
   "execution_count": null,
   "metadata": {},
   "outputs": [],
   "source": [
    "s = 'Pallone\\tBianco\\nrotto!'\n",
    "print('La stringa vale:',s)\n",
    "print('La sua lunghezza è:',len(s))\n",
    "s = 'Pallone \\t Bianco \\n rotto!'\n",
    "print('La stringa vale:',s)\n",
    "print('La sua lunghezza è:',len(s))"
   ]
  },
  {
   "cell_type": "markdown",
   "metadata": {},
   "source": [
    "#### metodo `lower()`\n",
    "Il metodo `lower()` serve per convertire in minuscolo tutti i caratteri alfabetici della stringa. Essendo un metodo, non una funzione, si usa in modo leggermente diverso, cioè se vogliamo applicarlo ad una variabile di tipo stringa `s`, scriviamo `s.lower()`. *Notate che questa istruzione NON modifica il valore di `s`*, ma costruisce una nuova stringa. Infatti, se stampate il valore di `s` dopo aver eseguito l'istruzione `s.lower()` vedete che `s` NON è cambiata. \n",
    "\n",
    "#### metodo `upper()`\n",
    "il metodo `upper()` converte in maiuscolo tutti i caratteri alfabetici della stringa. Anche lui NON modifica il valore di `s`"
   ]
  },
  {
   "cell_type": "code",
   "execution_count": null,
   "metadata": {},
   "outputs": [],
   "source": [
    "s = 'Pallone bianco di Paolo'\n",
    "print('La stringa vale:',s)\n",
    "print('La sua lunghezza è:',len(s))\n",
    "print('La stringa in minuscolo è:',s.lower())\n",
    "print('La stringa vale:',s)\n",
    "print('La stringa in maiuscolo è:',s.upper())"
   ]
  },
  {
   "cell_type": "markdown",
   "metadata": {},
   "source": [
    "#### metodo `count()`\n",
    "Il metodo `count()` conta quante volte un carattere (o più in generale un'altra stringa) compare nella stringa. Ad esempio, se voglio sapere quante `'a'` compaiono nella stringa `s` scrivo `s.count('a')`"
   ]
  },
  {
   "cell_type": "code",
   "execution_count": null,
   "metadata": {},
   "outputs": [],
   "source": [
    "s = 'Pallone bianco di Paolo'\n",
    "print('La stringa vale:',s)\n",
    "print('Il numero di volte che il carattere \\'a\\' compare nella stringa è:',s.count('a'))\n",
    "print('Il numero di volte che il carattere \\' \\' compare nella stringa è:',s.count(' '))\n",
    "print('Il numero di volte che la stringa \\'lo\\' compare nella stringa è:',s.count('lo'))\n",
    "print('Il numero di volte che la stringa \\'ca\\' compare nella stringa è:',s.count('ca'))"
   ]
  },
  {
   "cell_type": "markdown",
   "metadata": {},
   "source": [
    "#### metodi `find()` e `rfind()`\n",
    "Il metodo `find()` trova la *prima posizione* in cui si trova un carattere (o più in generale un'altra stringa) all'interno della stringa. Ad esempio, se nella stringa `s = 'palla'` cerchiamo il carattere `'a'` (l'istruzione è `s.find('a')`) otteniamo come risultato `1` (posizione della prima `'a'` in `'palla'`). Se il carattere non compare nella stringa, il metodo restituisce il valore `-1`. Il metodo `rfind()` funziona come il metodo `find()`, ma trova la prima occorrenza *partendo dalla fine della stringa* (`rfind()` vuol dire right find, ricerca da destra)"
   ]
  },
  {
   "cell_type": "code",
   "execution_count": null,
   "metadata": {},
   "outputs": [],
   "source": [
    "s = 'Pallone bianco di Paolo'\n",
    "print('La stringa vale:',s)\n",
    "print('La prima volta che il carattere \\'o\\' compare nella stringa è in posizione:',s.find('o'))\n",
    "print('L\\'ultima volta che il carattere \\'o\\' compare nella stringa è in posizione:',s.rfind('o'))"
   ]
  },
  {
   "cell_type": "markdown",
   "metadata": {},
   "source": [
    "#### metodo `replace()`\n",
    "Il metodo replace sostituisce all'interno della stringa un carattere (o più in generale un'altra stringa) con un altro carattere (o più in generale un'altra stringa). Ad esempio, sostituendo nella stringa `s = 'palla'` le `'a'` con `'e'` (l'istruzione è `s.replace('a','e')`) otteniamo come risultato `'pelle'`. *Notate che anche questa istruzione NON modifica il valore di s*, ma costruisce una nuova stringa. Infatti, se stampate il valore di `s` dopo aver eseguito il metodo replace vedete che s NON è cambiata. Notiamo infine che se il carattere (o stringa) da sostituire non occorre nella stringa iniziale, la stringa restituita è uguale alla stringa iniziale."
   ]
  },
  {
   "cell_type": "code",
   "execution_count": null,
   "metadata": {},
   "outputs": [],
   "source": [
    "s = 'Pallone bianco di Paolo'\n",
    "print('La stringa vale:',s)\n",
    "print('La stringa ottenuta sostituendo le \\'n\\' con \\'r\\' è:',s.replace('n','r'))\n",
    "print('La stringa vale:',s)\n",
    "print('La stringa ottenuta sostituendo \\'Pa\\' con \\'Ma\\' è:',s.replace('Pa','Ma'))\n",
    "print('La stringa vale:',s)"
   ]
  },
  {
   "cell_type": "markdown",
   "metadata": {},
   "source": [
    "#### funzione `str()`\n",
    "Quando si ha l'esigenza di trasformare un dato in stringa, bisogna usare la funzione `str()` che trasforma in stringa un dato di qualunque tipo. La funzione `str()` è spesso utile, ad esempio, all'interno della funzione `print()` per stampare un'unica stringa composta da molte informazioni anche di tipo diverso."
   ]
  },
  {
   "cell_type": "code",
   "execution_count": null,
   "metadata": {},
   "outputs": [],
   "source": [
    "giorno = 12\n",
    "mese = 10\n",
    "anno = 2010\n",
    "print(str(giorno)+'/'+str(mese)+'/'+str(anno))"
   ]
  },
  {
   "cell_type": "markdown",
   "metadata": {},
   "source": [
    "### Funzione `ord()`\n",
    "La funzione `ord()` serve per calcolare, dato un carattere, la sua posizione nella tabella Unicode. Ad esempio, `ord('a')` restituisce 97 (la posizione del carattere `'a'`nella tabella Unicode)."
   ]
  },
  {
   "cell_type": "code",
   "execution_count": null,
   "metadata": {
    "scrolled": true
   },
   "outputs": [],
   "source": [
    "print('La posizione del carattere \\'a\\' è:',ord('a'))\n",
    "print('La posizione del carattere \\'ù\\' è:',ord('ù'))\n",
    "print('La posizione del carattere \\'字\\' è:',ord('字'))"
   ]
  },
  {
   "cell_type": "markdown",
   "metadata": {},
   "source": [
    "### Funzione `chr()`\n",
    "La funzione `chr()` esegue l'operazione inversa della `ord()`, cioè data una posizione della tabella Unicode restituisce il carattere in quella posizione. Notate che la tabella Unicode 2.0 (quella attualmente usata) ha `1114112` posizioni, se inserite un valore superiore otterrete un errore. Per molte posizioni con valori 'molto grandi' ottenete un carattere che probabilmente il vostro computer *non è in grado di stampare* poiché non ha un font installato che includa quel carattere. In questo caso viene stampato sullo schermo un piccolo quadratino."
   ]
  },
  {
   "cell_type": "code",
   "execution_count": null,
   "metadata": {},
   "outputs": [],
   "source": [
    "print('Il carattere in posizione 99 è:',chr(99))\n",
    "print('Il carattere in posizione 233 è:',chr(233))\n",
    "print('Il carattere in posizione 27112 è:',chr(27112))\n",
    "print('Il carattere in posizione 207112 è:',chr(207112))\n",
    "print('Il carattere in posizione 1207112 è:',chr(1207112))"
   ]
  },
  {
   "cell_type": "markdown",
   "metadata": {},
   "source": [
    "### Slicing di stringhe\n",
    "In Python è possibile selezionare (tagliare una fetta, in inglese slicing) una parte di una stringa. Come vedremo più avanti nel corso, lo stesso si può fare anche di altre strutture dati come liste e tuple. Per selezionare una parte di una stringa `s` si usa la notazione `s[i:j]` dove `i` denota la *prima posizione* da selezionare e `j` la *prima posizione* da escludere. In altre parole, con la notazione `s[i:j]` si denota la parte di `s` che va dalla posizione di indice `i` *inclusa* alla posizione di indice `j` *esclusa*. Qualora manchi la `i` (`s[:j]`) si intende implicitamente che si parte dall'inizio della stringa (come se la `i` valesse 0), mentre se manca la `j` (`s[i:]`) si intende implicitamente che arriva alla fine della stringa (come se la `j` valesse `len(s)`). Si noti anche che se mancano entrambi gli indici (coè se scriviamo `s[:]`), lo slicing restituisce una copia della stringa, mentre se in uno slicing `s[i:j]` abbiamo che `i >= j`, lo slicing restituirà una stringa vuota."
   ]
  },
  {
   "cell_type": "code",
   "execution_count": null,
   "metadata": {
    "scrolled": true
   },
   "outputs": [],
   "source": [
    "s=\"paperopoli\"\n",
    "print(s,'s[1:3]',s[1:3])\n",
    "print(s,'s[:3]',s[:3],'s[0:3]',s[0:3])\n",
    "print(s,'s[1:]',s[1:],'s[1:len(s)]',s[1:len(s)])\n",
    "print(s,'s[4:3]',s[4:3])"
   ]
  },
  {
   "cell_type": "markdown",
   "metadata": {},
   "source": [
    "#### Versione completa\n",
    "Una versione più generale dello slicing prevede un terzo valore, con la notazione `s[i:j:n]` dove `n` indica il *passo*, cioè non si prendono *tutti* i caratteri da `i` a `j`, ma solo uno ogni `n` di questi."
   ]
  },
  {
   "cell_type": "code",
   "execution_count": null,
   "metadata": {},
   "outputs": [],
   "source": [
    "s=\"paperopoli\"\n",
    "print(s,'s[1:7:2]',s[1:7:2])\n",
    "print(s,'s[0:10:3]',s[0:10:3])"
   ]
  },
  {
   "cell_type": "markdown",
   "metadata": {},
   "source": [
    "#### Nota: indici negativi per le posizioni dei caratteri in una stringa\n",
    "\n",
    "Le posizioni dei caratteri di una stringa `s` hanno anche una indicizzazione \"inversa\", che usa interi negativi partendo da `-1`, associato all'ultimo carattere di `s`, fino al numero `-len(s)`, associato al primo carattere di `s` (in altri termini, l'indice negativo va inteso come il numero che bisogna sottrarre a `len(s)` per ottenere la posizione voluta).\n",
    "\n",
    "Esempio:\n",
    "\n",
    "|||||||\n",
    "|:---:|:---:|:---:|:---:|:---:|:---:|\n",
    "|indici positivi (da sinistra a destra) | 0   | 1  |  2  |  3 |  4|\n",
    "|                                       | p  | i  | p   | p  | o|\n",
    "|indici negativi (da destra a sinistra) | -5 | -4 |  -3 | -2 | -1 |\n",
    "\n",
    "\n",
    "\n",
    "Quindi, ad esempio \n",
    "\n",
    "`'pippo'[4]=='pippo'[-1]`\n",
    "\n",
    "più in generale, per una stringa s qualunque vale\n",
    "\n",
    "`s[len(s)-1] == s[-1]`\n",
    "\n",
    "e\n",
    "\n",
    "`s[0] == s[-len(s)]`\n",
    "\n",
    "* Esercizio: alla luce di questa considerazione riscrivete la soluzione dell'esercizio 4 dell'Esercitazione02 in laboratorio.\n",
    "\n",
    "Gli indici negativi possono essere usati anche nello slicing.\n"
   ]
  },
  {
   "cell_type": "code",
   "execution_count": null,
   "metadata": {},
   "outputs": [],
   "source": [
    "s=\"pippo\"\n",
    "print(s,'s[1:3]',s[-4:-2])\n",
    "print(s,'s[:3]',s[:-2],'s[0:3]',s[0:-2])\n",
    "print(s,'s[1:]',s[-4:]) # si noti che 's[1:len(s)]' NON è uguale a s[-4:-1]\n",
    "print(s,'s[-3:-4]',s[-3:-4]) # caso di i > j: restituisce stringa vuota (lo stesso se i=j)"
   ]
  },
  {
   "cell_type": "markdown",
   "metadata": {},
   "source": [
    "### Uso avanzato di replace\n",
    "Grazie allo slicing possiamo effettuare anche forme più avanzate di `replace()` dove la sostituzione avviene solo su una parte della stringa (si ricoda che il metodo replace sostituisce all'interno della stringa una sottostringa con un'altra sottostringa; se c'è un terzo parametro, questo è un intero che indica il numero di volte, iniziando a contare da sinistra, che verrà fatta la sostituzione). Esempi:"
   ]
  },
  {
   "cell_type": "code",
   "execution_count": null,
   "metadata": {},
   "outputs": [],
   "source": [
    "#esempi avanzati di replace\n",
    "s=\"pippo\"\n",
    "\n",
    "print(\"s.replace('p','k',1)\",s.replace('p','k',1))\n",
    "\n",
    "print(\"s[1:].replace('p','k',1)\",s[1:].replace('p','k',1))\n",
    "\n",
    "print(s[0]+s[1:].replace('p','k',1))\n",
    "\n"
   ]
  },
  {
   "cell_type": "markdown",
   "metadata": {},
   "source": [
    "### Non modificabilità delle stringhe\n",
    "In Python, le stringhe sono oggetti *immutabili*. Questo vuol dire che non è possibile modificare il valore di una variabili di tipo stringa e che tutti i metodi sulle stringhe (incluso lo slicing) *non modificano la stringa* ma creano nuove stringhe. Per mantenere in memoria queste nuove stringhe è necessario assegnarne il valore a variabili."
   ]
  },
  {
   "cell_type": "code",
   "execution_count": null,
   "metadata": {},
   "outputs": [],
   "source": [
    "s1 = s.replace('p','k',1)\n",
    "print(\"s.replace('p','k',1)\",s1,\" - la stringa s vale invece:\", s)\n",
    "\n",
    "print(s[1:4])\n",
    "print(s) # la stringa s non è stata modificata"
   ]
  },
  {
   "cell_type": "markdown",
   "metadata": {},
   "source": [
    "### Esercizi\n",
    "Completate questi esercizi prima di cominciare il prossimo argomento"
   ]
  },
  {
   "cell_type": "markdown",
   "metadata": {},
   "source": [
    "#### Esercizio 1: \n",
    "Scrivete le istruzioni Python che chiedono a un utente una stringa `s` ed un carattere `x` e stampa:\n",
    "\n",
    "- la posizione della prima occorrenza di `x` in `s`\n",
    "- il numero di volte in cui `x` appare in `s`\n",
    "- la stringa ottenuta sostituendo `x` in `s` con la stringa '!!!'"
   ]
  },
  {
   "cell_type": "code",
   "execution_count": null,
   "metadata": {},
   "outputs": [],
   "source": []
  },
  {
   "cell_type": "markdown",
   "metadata": {},
   "source": [
    "#### Esercizio 2: \n",
    "Scrivete le istruzioni Python che chiedono a un utente di inserire una stringa `s` e due caratteri `x` e `y` e stampa:\n",
    "\n",
    "- la stringa ottenuta sostituendo `x` con `y` in `s`\n",
    "- il numero di volte in cui la stringa `xy` appare in `s`"
   ]
  },
  {
   "cell_type": "code",
   "execution_count": null,
   "metadata": {},
   "outputs": [],
   "source": []
  },
  {
   "cell_type": "markdown",
   "metadata": {},
   "source": [
    "#### Esercizio 3:\n",
    "Scrivete le istruzioni Python che chiedono a un utente di inserire una stringa `s`, un carattere `x` ed un'altra stringa `s1` e stampa:\n",
    "\n",
    "- la stringa ottenuta sostituendo `x` in `s` con la stringa '!!!'\n",
    "- il numero di volte in cui `s1` appare in `s`\n",
    "- la stringa ottenuta sostituendo `s1` in `s` con `x`"
   ]
  },
  {
   "cell_type": "code",
   "execution_count": null,
   "metadata": {},
   "outputs": [],
   "source": []
  },
  {
   "cell_type": "markdown",
   "metadata": {},
   "source": [
    "#### Esercizio 4:\n",
    "Scrivete le istruzioni Python che chiedono ad un utente di inserire una stringa `s` ed un passo `n` e stampa i caratteri di `s` uno ogni `n`. Ad esempio, se vengono inseriti 'linguaggio di programmazione' e 4, dovete stampare 'luiiomi'"
   ]
  },
  {
   "cell_type": "code",
   "execution_count": null,
   "metadata": {},
   "outputs": [],
   "source": []
  }
 ],
 "metadata": {
  "kernelspec": {
   "display_name": "Python 3",
   "language": "python",
   "name": "python3"
  },
  "language_info": {
   "codemirror_mode": {
    "name": "ipython",
    "version": 3
   },
   "file_extension": ".py",
   "mimetype": "text/x-python",
   "name": "python",
   "nbconvert_exporter": "python",
   "pygments_lexer": "ipython3",
   "version": "3.6.5"
  }
 },
 "nbformat": 4,
 "nbformat_minor": 4
}
