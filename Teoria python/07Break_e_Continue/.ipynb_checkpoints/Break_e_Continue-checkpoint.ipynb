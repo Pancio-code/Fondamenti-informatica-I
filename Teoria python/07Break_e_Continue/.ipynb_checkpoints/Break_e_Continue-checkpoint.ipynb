{
 "cells": [
  {
   "cell_type": "markdown",
   "metadata": {
    "slideshow": {
     "slide_type": "slide"
    }
   },
   "source": [
    "#### Autori: Domenico Lembo, Giuseppe Santucci and Marco Schaerf\n",
    "\n",
    "[Dipartimento di Ingegneria informatica, automatica e gestionale](https://www.diag.uniroma1.it)\n",
    "\n",
    "<img src=\"https://mirrors.creativecommons.org/presskit/buttons/88x31/png/by-nc-sa.eu.png\"\n",
    "     alt=\"License\"\n",
    "     style=\"float: left;\"\n",
    "     height=\"40\" width=\"100\" />\n",
    "This notebook is distributed with license Creative Commons *CC BY-NC-SA*"
   ]
  },
  {
   "cell_type": "markdown",
   "metadata": {},
   "source": [
    "# Le istruzioni break e continue\n",
    "1. Istruzione `break`\n",
    "2. Istruzione `continue`\n",
    "3. uso di `break` ed il `continue` nel ciclo `for`"
   ]
  },
  {
   "cell_type": "markdown",
   "metadata": {},
   "source": [
    "### Istruzione `break`\n",
    "\n",
    "Si è visto che l’esecuzione di un’istruzione iterativa termina quando, all’inizio di un’iterazione, l’espressione condizionale risulta falsa.\n",
    "\n",
    "Per concludere l’esecuzione di un’istruzione iterativa è anche possibile usare l’istruzione **break**. \n",
    "\n",
    "Questa istruzione **può essere usata solo all’interno di un’istruzione iterativa**, in un qualsiasi punto della sequenza di istruzioni da ripetere.\n",
    "\n",
    "Di norma l’istruzione break *viene scritta all’interno di un’istruzione condizionale nidificata in un’istruzione iterativa*, per concludere l’esecuzione di quest’ultima nel caso in cui si verifichi una data condizione.\n",
    "\n",
    "Quando l’interprete incontra l’istruzione break conclude immediatamente l’esecuzione dell’istruzione iterativa, e passa a eseguire l’istruzione successiva."
   ]
  },
  {
   "cell_type": "code",
   "execution_count": null,
   "metadata": {},
   "outputs": [],
   "source": [
    "# Programma che riceve in input un numero intero\n",
    "# positivo e verifica se è un numero primo\n",
    "\n",
    "# versione che usa il break\n",
    "\n",
    "n = int(input(\"Inserire un intero positivo: \"))\n",
    "divisore = 2\n",
    "while divisore <= n/2:  \n",
    "    if n % divisore == 0 :\n",
    "        print (\"Il numero\", n, \"non è primo\")\n",
    "        break\n",
    "    divisore = divisore + 1  \n",
    "if divisore > n/2 and n!=1:\n",
    "    print (\"Il numero\", n, \"è primo\")\n",
    "if n==1:\n",
    "    print(\"Il numero\", n, \"non è primo\")\n"
   ]
  },
  {
   "cell_type": "markdown",
   "metadata": {},
   "source": [
    "Notate che il break non aggiunge potere espressivo al linguaggio, ma in alcuni casi consente di scrivere un codice più compatto o efficiente. E' comunque sempre possibile riscrivere un ciclo in cui compare il break in modo che il break non sia usato."
   ]
  },
  {
   "cell_type": "code",
   "execution_count": null,
   "metadata": {},
   "outputs": [],
   "source": [
    "# Programma che riceve in input un numero intero\n",
    "# positivo e verifica se è un numero primo\n",
    "\n",
    "# versione senza break\n",
    "\n",
    "n = int(input(\"Inserire un intero positivo: \"))\n",
    "primo = True\n",
    "divisore = 2\n",
    "while divisore <= n / 2 and primo:  # rimuovendo 'and primo' il programma\n",
    "                                    # è corretto ma meno efficiente\n",
    "    if n % divisore == 0 :\n",
    "        primo = False\n",
    "    divisore = divisore + 1  \n",
    "if primo and n!=1:\n",
    "    print (\"Il numero\", n, \"è primo\")\n",
    "else:\n",
    "    print (\"Il numero\", n, \"non è primo\")"
   ]
  },
  {
   "cell_type": "markdown",
   "metadata": {},
   "source": [
    "### Istruzione `continue`\n",
    "\n",
    "Analogamente all’istruzione break, l’istruzione **continue può essere solo usata all’interno di un ciclo**, e normalmente è scritta all’interno di un’istruzione condizionale presente nel ciclo **per concludere l’esecuzione di UNA iterazione** nel caso in cui si verifichi una data condizione.\n",
    "\n",
    "Quindi, diversamente dal break, l’istruzione continue non causa l’interruzione del ciclo, spostando quindi il controllo alla istruzione immediatamente dopo il ciclo (se presente),  ma interrompe solo l’esecuzione dell’iterazione in corso, e sposta il controllo all’inizio del ciclo stesso. \n",
    "\n",
    "Dopo l’esecuzione dell’istruzione continue l’iterazione sarà quindi valutata nuovamente."
   ]
  },
  {
   "cell_type": "code",
   "execution_count": 1,
   "metadata": {},
   "outputs": [
    {
     "name": "stdout",
     "output_type": "stream",
     "text": [
      "valore variabile corrente: 9\n",
      "valore variabile corrente: 8\n",
      "valore variabile corrente: 7\n",
      "valore variabile corrente: 6\n",
      "valore variabile corrente: 4\n",
      "valore variabile corrente: 3\n",
      "valore variabile corrente: 2\n",
      "valore variabile corrente: 1\n",
      "valore variabile corrente: 0\n",
      "fine!\n"
     ]
    }
   ],
   "source": [
    "# Programma che stampa tutti i numeri da 9 a 0 tranne il 5\n",
    "\n",
    "var = 10\n",
    "while var > 0:              \n",
    "    var = var -1\n",
    "    if var == 5:\n",
    "        continue\n",
    "    print(\"valore variabile corrente:\", var)\n",
    "print(\"fine!\")\n"
   ]
  },
  {
   "cell_type": "code",
   "execution_count": 2,
   "metadata": {},
   "outputs": [
    {
     "name": "stdout",
     "output_type": "stream",
     "text": [
      "valore variabile corrente: 8\n",
      "valore variabile corrente: 6\n",
      "valore variabile corrente: 4\n",
      "valore variabile corrente: 2\n",
      "valore variabile corrente: 0\n",
      "fine!\n"
     ]
    }
   ],
   "source": [
    "# Programma che stampa tutti i numeri pari fra da 9 a 0\n",
    "\n",
    "var = 10\n",
    "while var > 0:              \n",
    "    var = var -1\n",
    "    if var % 2 != 0:\n",
    "        continue\n",
    "    print(\"valore variabile corrente:\", var)\n",
    "print(\"fine!\")\n"
   ]
  },
  {
   "cell_type": "markdown",
   "metadata": {},
   "source": [
    "### Uso di break e continue nel ciclo for\n",
    "\n",
    "Analogamente al ciclo while, anche nel ciclo for è possibile usare l’istruzione break e/o l’istruzione continue, con lo stesso significato visto per il while"
   ]
  },
  {
   "cell_type": "code",
   "execution_count": 3,
   "metadata": {},
   "outputs": [
    {
     "name": "stdin",
     "output_type": "stream",
     "text": [
      "Inserire un intero positivo:  53\n"
     ]
    },
    {
     "name": "stdout",
     "output_type": "stream",
     "text": [
      "Il numero 53 è primo\n"
     ]
    }
   ],
   "source": [
    "# Programma che riceve in input un numero intero\n",
    "# positivo e verifica se è un numero primo\n",
    "\n",
    "# versione con for e break\n",
    "\n",
    "n = int(input(\"Inserire un intero positivo: \"))\n",
    "\n",
    "for divisore in range(2,(n//2)+1) :\n",
    "    if n % divisore == 0 :\n",
    "        print (\"Il numero\", n, \"non è primo\")\n",
    "        break\n",
    "if n==2 or n==3 or (n!=1 and n % divisore != 0):\n",
    "    print (\"Il numero\", n, \"è primo\")\n",
    "elif n==1:\n",
    "    print (\"Il numero\", n, \"non è primo\")\n",
    "    \n",
    "# notiamo che se non si entra nel ciclo (casi di n \n",
    "# uguale a 1, 2 o 3) la variabile divisore non viene \n",
    "# inizializzata e pertanto questi casi vanno trattati \n",
    "# esplicitamente dopo il ciclo."
   ]
  },
  {
   "cell_type": "markdown",
   "metadata": {},
   "source": [
    "### Esempio complesso con uso del break\n",
    "\n",
    "Riprendiamo l'esercizio per la conversione di un numerale da base 2-16 a base 10, presente nelle note sul for, e inseriamo dei controlli per verificare che l'input inserito da utente sia corretto. Aiutiamoci con il `break` all'interno del ciclo `for` interno."
   ]
  },
  {
   "cell_type": "code",
   "execution_count": 4,
   "metadata": {},
   "outputs": [
    {
     "name": "stdin",
     "output_type": "stream",
     "text": [
      "inserisci la base (2..16):  6\n",
      "numerale in base 6:  \n"
     ]
    },
    {
     "name": "stdout",
     "output_type": "stream",
     "text": [
      " vale 0\n"
     ]
    },
    {
     "name": "stdin",
     "output_type": "stream",
     "text": [
      "----Finisco (si/no)?  no\n",
      "inserisci la base (2..16):  9\n",
      "numerale in base 9:  244526420\n"
     ]
    },
    {
     "name": "stdout",
     "output_type": "stream",
     "text": [
      "244526420 vale 107664165\n"
     ]
    },
    {
     "name": "stdin",
     "output_type": "stream",
     "text": [
      "----Finisco (si/no)?  si\n"
     ]
    }
   ],
   "source": [
    "finito=False\n",
    "while not finito:\n",
    "    \n",
    "    #-----------\n",
    "    base=input(\"inserisci la base (2..16): \")\n",
    "    if not (base.isdecimal() and (2<=int(base)<=16)):\n",
    "        print('inserito un input errato per la base')\n",
    "    else:\n",
    "        base=int(base)\n",
    "        s=input(\"numerale in base \"+str(base)+\": \")\n",
    "        valore=0\n",
    "        potenza=len(s)-1\n",
    "        errore = False\n",
    "        for c in s:\n",
    "            if not (c.isdecimal() or c in \"ABCDEF\"):\n",
    "                print('inserito un numerale errato per la base')\n",
    "                errore=True\n",
    "                break\n",
    "            if c in \"ABCDEF\":\n",
    "                c = ord(c)-ord(\"A\")+10\n",
    "            else:\n",
    "                c=int(c)\n",
    "            if not (0<=c<base):\n",
    "                print('inserito un numerale errato per la base')\n",
    "                errore = True\n",
    "                break\n",
    "            valore=valore+c*base**potenza\n",
    "            potenza=potenza-1\n",
    "        if not errore:\n",
    "            print(s,\"vale\",valore)\n",
    "    #------------\n",
    "    s1=input(\"----Finisco (si/no)? \")\n",
    "    finito=s1.lower()==\"si\""
   ]
  },
  {
   "cell_type": "markdown",
   "metadata": {},
   "source": [
    "### Esercizi\n",
    "Completate questi esercizi prima di cominciare il prossimo argomento"
   ]
  },
  {
   "cell_type": "markdown",
   "metadata": {},
   "source": [
    "### Esercizio 1: \n",
    "Scrivete un programma (usando il break per efficienza) che legge in input una stringa s ed un numero intero n e stampa il primo carattere di s il cui codice Unicode sia un multiplo di n."
   ]
  },
  {
   "cell_type": "code",
   "execution_count": null,
   "metadata": {},
   "outputs": [],
   "source": []
  },
  {
   "cell_type": "markdown",
   "metadata": {},
   "source": [
    "### Esercizio 2:\n",
    "Scrivete un programma (usando il break) che legge in input due interi positivi calcola il loro massimo comun divisore e lo stampa a schermo."
   ]
  },
  {
   "cell_type": "code",
   "execution_count": null,
   "metadata": {},
   "outputs": [],
   "source": []
  },
  {
   "cell_type": "markdown",
   "metadata": {},
   "source": [
    "### Esercizio 3:\n",
    "Scrivere un programma (usando il break ed il for) che legge in input una stringa e verifica se ci sia una doppia, cioè due lettere alfabetiche uguali consecutive. In caso positivo stampa 'SI', in caso negativo 'NO'"
   ]
  },
  {
   "cell_type": "code",
   "execution_count": null,
   "metadata": {},
   "outputs": [],
   "source": []
  }
 ],
 "metadata": {
  "kernelspec": {
   "display_name": "Python 3",
   "language": "python",
   "name": "python3"
  },
  "language_info": {
   "codemirror_mode": {
    "name": "ipython",
    "version": 3
   },
   "file_extension": ".py",
   "mimetype": "text/x-python",
   "name": "python",
   "nbconvert_exporter": "python",
   "pygments_lexer": "ipython3",
   "version": "3.7.4"
  }
 },
 "nbformat": 4,
 "nbformat_minor": 4
}
